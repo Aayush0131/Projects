{
 "cells": [
  {
   "cell_type": "markdown",
   "metadata": {},
   "source": [
    "# Delhi Weather Data"
   ]
  },
  {
   "cell_type": "markdown",
   "metadata": {},
   "source": [
    "Delhi Weather data 1997 to 2016 December "
   ]
  },
  {
   "cell_type": "markdown",
   "metadata": {},
   "source": [
    "# Attribute information"
   ]
  },
  {
   "cell_type": "markdown",
   "metadata": {},
   "source": [
    "0. datetime_utc\n",
    "1. _conds\n",
    "2. _dewptm\n",
    "3. dewpoint in C\n",
    "4. _fog\n",
    "5. _hail\n",
    "6. _heatindexm\n",
    "7. _hum\n",
    "8. humidity   \n",
    "9. _precipm\n",
    "10. _pressurem\n",
    "11. _rain\n",
    "12. _snow\n",
    "13. _tempm\n",
    "14. _thunder\n",
    "15. _tornado\n",
    "16. _vism\n",
    "17. _wdird\n",
    "18. _wdire\n",
    "19. _wgustm\n",
    "20. _windchillm\n",
    "21. _wspdm\n"
   ]
  },
  {
   "cell_type": "markdown",
   "metadata": {},
   "source": [
    "Importing libraries that are required for visualisation"
   ]
  },
  {
   "cell_type": "code",
   "execution_count": 1,
   "metadata": {},
   "outputs": [],
   "source": [
    "import numpy as np # linear algebra\n",
    "import pandas as pd # data processing, CSV file I/O (e.g. pd.read_csv)\n",
    "import pandas as pd \n",
    "import datetime as dt\n",
    "import matplotlib.pyplot as plt\n",
    "import scipy.stats\n",
    "import seaborn as sns\n",
    "import datetime\n",
    "from pylab import rcParams\n",
    "%matplotlib inline\n",
    "# Input data files are available in the \"../input/\" directory.\n",
    "# For example, running this (by clicking run or pressing Shift+Enter) will list the files in the input directory"
   ]
  },
  {
   "cell_type": "markdown",
   "metadata": {},
   "source": [
    "Reading the Data"
   ]
  },
  {
   "cell_type": "code",
   "execution_count": 2,
   "metadata": {},
   "outputs": [],
   "source": [
    "data=pd.read_csv(\"testset.csv\")"
   ]
  },
  {
   "cell_type": "markdown",
   "metadata": {},
   "source": [
    "# EDA"
   ]
  },
  {
   "cell_type": "code",
   "execution_count": 3,
   "metadata": {},
   "outputs": [
    {
     "name": "stdout",
     "output_type": "stream",
     "text": [
      "<class 'pandas.core.frame.DataFrame'>\n",
      "RangeIndex: 100990 entries, 0 to 100989\n",
      "Data columns (total 20 columns):\n",
      " #   Column        Non-Null Count   Dtype  \n",
      "---  ------        --------------   -----  \n",
      " 0   datetime_utc  100990 non-null  object \n",
      " 1    _conds       100918 non-null  object \n",
      " 2    _dewptm      100369 non-null  float64\n",
      " 3    _fog         100990 non-null  int64  \n",
      " 4    _hail        100990 non-null  int64  \n",
      " 5    _heatindexm  29155 non-null   float64\n",
      " 6    _hum         100233 non-null  float64\n",
      " 7    _precipm     0 non-null       float64\n",
      " 8    _pressurem   100758 non-null  float64\n",
      " 9    _rain        100990 non-null  int64  \n",
      " 10   _snow        100990 non-null  int64  \n",
      " 11   _tempm       100317 non-null  float64\n",
      " 12   _thunder     100990 non-null  int64  \n",
      " 13   _tornado     100990 non-null  int64  \n",
      " 14   _vism        96562 non-null   float64\n",
      " 15   _wdird       86235 non-null   float64\n",
      " 16   _wdire       86235 non-null   object \n",
      " 17   _wgustm      1072 non-null    float64\n",
      " 18   _windchillm  579 non-null     float64\n",
      " 19   _wspdm       98632 non-null   float64\n",
      "dtypes: float64(11), int64(6), object(3)\n",
      "memory usage: 15.4+ MB\n"
     ]
    }
   ],
   "source": [
    "data.info()"
   ]
  },
  {
   "cell_type": "code",
   "execution_count": 4,
   "metadata": {},
   "outputs": [
    {
     "data": {
      "text/plain": [
       "Index(['datetime_utc', ' _conds', ' _dewptm', ' _fog', ' _hail',\n",
       "       ' _heatindexm', ' _hum', ' _precipm', ' _pressurem', ' _rain', ' _snow',\n",
       "       ' _tempm', ' _thunder', ' _tornado', ' _vism', ' _wdird', ' _wdire',\n",
       "       ' _wgustm', ' _windchillm', ' _wspdm'],\n",
       "      dtype='object')"
      ]
     },
     "execution_count": 4,
     "metadata": {},
     "output_type": "execute_result"
    }
   ],
   "source": [
    "data.columns"
   ]
  },
  {
   "cell_type": "code",
   "execution_count": 5,
   "metadata": {},
   "outputs": [
    {
     "data": {
      "text/html": [
       "<div>\n",
       "<style scoped>\n",
       "    .dataframe tbody tr th:only-of-type {\n",
       "        vertical-align: middle;\n",
       "    }\n",
       "\n",
       "    .dataframe tbody tr th {\n",
       "        vertical-align: top;\n",
       "    }\n",
       "\n",
       "    .dataframe thead th {\n",
       "        text-align: right;\n",
       "    }\n",
       "</style>\n",
       "<table border=\"1\" class=\"dataframe\">\n",
       "  <thead>\n",
       "    <tr style=\"text-align: right;\">\n",
       "      <th></th>\n",
       "      <th>datetime_utc</th>\n",
       "      <th>_conds</th>\n",
       "      <th>_dewptm</th>\n",
       "      <th>_fog</th>\n",
       "      <th>_hail</th>\n",
       "      <th>_heatindexm</th>\n",
       "      <th>_hum</th>\n",
       "      <th>_precipm</th>\n",
       "      <th>_pressurem</th>\n",
       "      <th>_rain</th>\n",
       "      <th>_snow</th>\n",
       "      <th>_tempm</th>\n",
       "      <th>_thunder</th>\n",
       "      <th>_tornado</th>\n",
       "      <th>_vism</th>\n",
       "      <th>_wdird</th>\n",
       "      <th>_wdire</th>\n",
       "      <th>_wgustm</th>\n",
       "      <th>_windchillm</th>\n",
       "      <th>_wspdm</th>\n",
       "    </tr>\n",
       "  </thead>\n",
       "  <tbody>\n",
       "    <tr>\n",
       "      <th>0</th>\n",
       "      <td>19961101-11:00</td>\n",
       "      <td>Smoke</td>\n",
       "      <td>9.0</td>\n",
       "      <td>0</td>\n",
       "      <td>0</td>\n",
       "      <td>NaN</td>\n",
       "      <td>27.0</td>\n",
       "      <td>NaN</td>\n",
       "      <td>1010.0</td>\n",
       "      <td>0</td>\n",
       "      <td>0</td>\n",
       "      <td>30.0</td>\n",
       "      <td>0</td>\n",
       "      <td>0</td>\n",
       "      <td>5.0</td>\n",
       "      <td>280.0</td>\n",
       "      <td>West</td>\n",
       "      <td>NaN</td>\n",
       "      <td>NaN</td>\n",
       "      <td>7.4</td>\n",
       "    </tr>\n",
       "    <tr>\n",
       "      <th>1</th>\n",
       "      <td>19961101-12:00</td>\n",
       "      <td>Smoke</td>\n",
       "      <td>10.0</td>\n",
       "      <td>0</td>\n",
       "      <td>0</td>\n",
       "      <td>NaN</td>\n",
       "      <td>32.0</td>\n",
       "      <td>NaN</td>\n",
       "      <td>-9999.0</td>\n",
       "      <td>0</td>\n",
       "      <td>0</td>\n",
       "      <td>28.0</td>\n",
       "      <td>0</td>\n",
       "      <td>0</td>\n",
       "      <td>NaN</td>\n",
       "      <td>0.0</td>\n",
       "      <td>North</td>\n",
       "      <td>NaN</td>\n",
       "      <td>NaN</td>\n",
       "      <td>NaN</td>\n",
       "    </tr>\n",
       "    <tr>\n",
       "      <th>2</th>\n",
       "      <td>19961101-13:00</td>\n",
       "      <td>Smoke</td>\n",
       "      <td>11.0</td>\n",
       "      <td>0</td>\n",
       "      <td>0</td>\n",
       "      <td>NaN</td>\n",
       "      <td>44.0</td>\n",
       "      <td>NaN</td>\n",
       "      <td>-9999.0</td>\n",
       "      <td>0</td>\n",
       "      <td>0</td>\n",
       "      <td>24.0</td>\n",
       "      <td>0</td>\n",
       "      <td>0</td>\n",
       "      <td>NaN</td>\n",
       "      <td>0.0</td>\n",
       "      <td>North</td>\n",
       "      <td>NaN</td>\n",
       "      <td>NaN</td>\n",
       "      <td>NaN</td>\n",
       "    </tr>\n",
       "    <tr>\n",
       "      <th>3</th>\n",
       "      <td>19961101-14:00</td>\n",
       "      <td>Smoke</td>\n",
       "      <td>10.0</td>\n",
       "      <td>0</td>\n",
       "      <td>0</td>\n",
       "      <td>NaN</td>\n",
       "      <td>41.0</td>\n",
       "      <td>NaN</td>\n",
       "      <td>1010.0</td>\n",
       "      <td>0</td>\n",
       "      <td>0</td>\n",
       "      <td>24.0</td>\n",
       "      <td>0</td>\n",
       "      <td>0</td>\n",
       "      <td>2.0</td>\n",
       "      <td>0.0</td>\n",
       "      <td>North</td>\n",
       "      <td>NaN</td>\n",
       "      <td>NaN</td>\n",
       "      <td>NaN</td>\n",
       "    </tr>\n",
       "    <tr>\n",
       "      <th>4</th>\n",
       "      <td>19961101-16:00</td>\n",
       "      <td>Smoke</td>\n",
       "      <td>11.0</td>\n",
       "      <td>0</td>\n",
       "      <td>0</td>\n",
       "      <td>NaN</td>\n",
       "      <td>47.0</td>\n",
       "      <td>NaN</td>\n",
       "      <td>1011.0</td>\n",
       "      <td>0</td>\n",
       "      <td>0</td>\n",
       "      <td>23.0</td>\n",
       "      <td>0</td>\n",
       "      <td>0</td>\n",
       "      <td>1.2</td>\n",
       "      <td>0.0</td>\n",
       "      <td>North</td>\n",
       "      <td>NaN</td>\n",
       "      <td>NaN</td>\n",
       "      <td>0.0</td>\n",
       "    </tr>\n",
       "  </tbody>\n",
       "</table>\n",
       "</div>"
      ],
      "text/plain": [
       "     datetime_utc  _conds   _dewptm   _fog   _hail   _heatindexm   _hum  \\\n",
       "0  19961101-11:00   Smoke       9.0      0       0           NaN   27.0   \n",
       "1  19961101-12:00   Smoke      10.0      0       0           NaN   32.0   \n",
       "2  19961101-13:00   Smoke      11.0      0       0           NaN   44.0   \n",
       "3  19961101-14:00   Smoke      10.0      0       0           NaN   41.0   \n",
       "4  19961101-16:00   Smoke      11.0      0       0           NaN   47.0   \n",
       "\n",
       "    _precipm   _pressurem   _rain   _snow   _tempm   _thunder   _tornado  \\\n",
       "0        NaN       1010.0       0       0     30.0          0          0   \n",
       "1        NaN      -9999.0       0       0     28.0          0          0   \n",
       "2        NaN      -9999.0       0       0     24.0          0          0   \n",
       "3        NaN       1010.0       0       0     24.0          0          0   \n",
       "4        NaN       1011.0       0       0     23.0          0          0   \n",
       "\n",
       "    _vism   _wdird  _wdire   _wgustm   _windchillm   _wspdm  \n",
       "0     5.0    280.0    West       NaN           NaN      7.4  \n",
       "1     NaN      0.0   North       NaN           NaN      NaN  \n",
       "2     NaN      0.0   North       NaN           NaN      NaN  \n",
       "3     2.0      0.0   North       NaN           NaN      NaN  \n",
       "4     1.2      0.0   North       NaN           NaN      0.0  "
      ]
     },
     "execution_count": 5,
     "metadata": {},
     "output_type": "execute_result"
    }
   ],
   "source": [
    "data.head()"
   ]
  },
  {
   "cell_type": "markdown",
   "metadata": {},
   "source": [
    "Our data has an attribute datetime_utc. We are now wxtracting date, year, onth,day and hour"
   ]
  },
  {
   "cell_type": "code",
   "execution_count": 6,
   "metadata": {},
   "outputs": [],
   "source": [
    "data['Date'] = pd.to_datetime(data['datetime_utc'])\n",
    "data['year'] = data['Date'].dt.year\n",
    "data['month'] = data['Date'].dt.month\n",
    "data['day'] = data['Date'].dt.day\n",
    "data['hour'] = data['Date'].dt.hour"
   ]
  },
  {
   "cell_type": "code",
   "execution_count": 7,
   "metadata": {},
   "outputs": [
    {
     "data": {
      "text/html": [
       "<div>\n",
       "<style scoped>\n",
       "    .dataframe tbody tr th:only-of-type {\n",
       "        vertical-align: middle;\n",
       "    }\n",
       "\n",
       "    .dataframe tbody tr th {\n",
       "        vertical-align: top;\n",
       "    }\n",
       "\n",
       "    .dataframe thead th {\n",
       "        text-align: right;\n",
       "    }\n",
       "</style>\n",
       "<table border=\"1\" class=\"dataframe\">\n",
       "  <thead>\n",
       "    <tr style=\"text-align: right;\">\n",
       "      <th></th>\n",
       "      <th>datetime_utc</th>\n",
       "      <th>_conds</th>\n",
       "      <th>_dewptm</th>\n",
       "      <th>_fog</th>\n",
       "      <th>_hail</th>\n",
       "      <th>_heatindexm</th>\n",
       "      <th>_hum</th>\n",
       "      <th>_precipm</th>\n",
       "      <th>_pressurem</th>\n",
       "      <th>_rain</th>\n",
       "      <th>...</th>\n",
       "      <th>_wdird</th>\n",
       "      <th>_wdire</th>\n",
       "      <th>_wgustm</th>\n",
       "      <th>_windchillm</th>\n",
       "      <th>_wspdm</th>\n",
       "      <th>Date</th>\n",
       "      <th>year</th>\n",
       "      <th>month</th>\n",
       "      <th>day</th>\n",
       "      <th>hour</th>\n",
       "    </tr>\n",
       "  </thead>\n",
       "  <tbody>\n",
       "    <tr>\n",
       "      <th>0</th>\n",
       "      <td>19961101-11:00</td>\n",
       "      <td>Smoke</td>\n",
       "      <td>9.0</td>\n",
       "      <td>0</td>\n",
       "      <td>0</td>\n",
       "      <td>NaN</td>\n",
       "      <td>27.0</td>\n",
       "      <td>NaN</td>\n",
       "      <td>1010.0</td>\n",
       "      <td>0</td>\n",
       "      <td>...</td>\n",
       "      <td>280.0</td>\n",
       "      <td>West</td>\n",
       "      <td>NaN</td>\n",
       "      <td>NaN</td>\n",
       "      <td>7.4</td>\n",
       "      <td>1996-11-01 11:00:00</td>\n",
       "      <td>1996</td>\n",
       "      <td>11</td>\n",
       "      <td>1</td>\n",
       "      <td>11</td>\n",
       "    </tr>\n",
       "    <tr>\n",
       "      <th>1</th>\n",
       "      <td>19961101-12:00</td>\n",
       "      <td>Smoke</td>\n",
       "      <td>10.0</td>\n",
       "      <td>0</td>\n",
       "      <td>0</td>\n",
       "      <td>NaN</td>\n",
       "      <td>32.0</td>\n",
       "      <td>NaN</td>\n",
       "      <td>-9999.0</td>\n",
       "      <td>0</td>\n",
       "      <td>...</td>\n",
       "      <td>0.0</td>\n",
       "      <td>North</td>\n",
       "      <td>NaN</td>\n",
       "      <td>NaN</td>\n",
       "      <td>NaN</td>\n",
       "      <td>1996-11-01 12:00:00</td>\n",
       "      <td>1996</td>\n",
       "      <td>11</td>\n",
       "      <td>1</td>\n",
       "      <td>12</td>\n",
       "    </tr>\n",
       "    <tr>\n",
       "      <th>2</th>\n",
       "      <td>19961101-13:00</td>\n",
       "      <td>Smoke</td>\n",
       "      <td>11.0</td>\n",
       "      <td>0</td>\n",
       "      <td>0</td>\n",
       "      <td>NaN</td>\n",
       "      <td>44.0</td>\n",
       "      <td>NaN</td>\n",
       "      <td>-9999.0</td>\n",
       "      <td>0</td>\n",
       "      <td>...</td>\n",
       "      <td>0.0</td>\n",
       "      <td>North</td>\n",
       "      <td>NaN</td>\n",
       "      <td>NaN</td>\n",
       "      <td>NaN</td>\n",
       "      <td>1996-11-01 13:00:00</td>\n",
       "      <td>1996</td>\n",
       "      <td>11</td>\n",
       "      <td>1</td>\n",
       "      <td>13</td>\n",
       "    </tr>\n",
       "    <tr>\n",
       "      <th>3</th>\n",
       "      <td>19961101-14:00</td>\n",
       "      <td>Smoke</td>\n",
       "      <td>10.0</td>\n",
       "      <td>0</td>\n",
       "      <td>0</td>\n",
       "      <td>NaN</td>\n",
       "      <td>41.0</td>\n",
       "      <td>NaN</td>\n",
       "      <td>1010.0</td>\n",
       "      <td>0</td>\n",
       "      <td>...</td>\n",
       "      <td>0.0</td>\n",
       "      <td>North</td>\n",
       "      <td>NaN</td>\n",
       "      <td>NaN</td>\n",
       "      <td>NaN</td>\n",
       "      <td>1996-11-01 14:00:00</td>\n",
       "      <td>1996</td>\n",
       "      <td>11</td>\n",
       "      <td>1</td>\n",
       "      <td>14</td>\n",
       "    </tr>\n",
       "    <tr>\n",
       "      <th>4</th>\n",
       "      <td>19961101-16:00</td>\n",
       "      <td>Smoke</td>\n",
       "      <td>11.0</td>\n",
       "      <td>0</td>\n",
       "      <td>0</td>\n",
       "      <td>NaN</td>\n",
       "      <td>47.0</td>\n",
       "      <td>NaN</td>\n",
       "      <td>1011.0</td>\n",
       "      <td>0</td>\n",
       "      <td>...</td>\n",
       "      <td>0.0</td>\n",
       "      <td>North</td>\n",
       "      <td>NaN</td>\n",
       "      <td>NaN</td>\n",
       "      <td>0.0</td>\n",
       "      <td>1996-11-01 16:00:00</td>\n",
       "      <td>1996</td>\n",
       "      <td>11</td>\n",
       "      <td>1</td>\n",
       "      <td>16</td>\n",
       "    </tr>\n",
       "  </tbody>\n",
       "</table>\n",
       "<p>5 rows × 25 columns</p>\n",
       "</div>"
      ],
      "text/plain": [
       "     datetime_utc  _conds   _dewptm   _fog   _hail   _heatindexm   _hum  \\\n",
       "0  19961101-11:00   Smoke       9.0      0       0           NaN   27.0   \n",
       "1  19961101-12:00   Smoke      10.0      0       0           NaN   32.0   \n",
       "2  19961101-13:00   Smoke      11.0      0       0           NaN   44.0   \n",
       "3  19961101-14:00   Smoke      10.0      0       0           NaN   41.0   \n",
       "4  19961101-16:00   Smoke      11.0      0       0           NaN   47.0   \n",
       "\n",
       "    _precipm   _pressurem   _rain  ...   _wdird   _wdire   _wgustm  \\\n",
       "0        NaN       1010.0       0  ...    280.0     West       NaN   \n",
       "1        NaN      -9999.0       0  ...      0.0    North       NaN   \n",
       "2        NaN      -9999.0       0  ...      0.0    North       NaN   \n",
       "3        NaN       1010.0       0  ...      0.0    North       NaN   \n",
       "4        NaN       1011.0       0  ...      0.0    North       NaN   \n",
       "\n",
       "    _windchillm   _wspdm                Date  year  month  day  hour  \n",
       "0           NaN      7.4 1996-11-01 11:00:00  1996     11    1    11  \n",
       "1           NaN      NaN 1996-11-01 12:00:00  1996     11    1    12  \n",
       "2           NaN      NaN 1996-11-01 13:00:00  1996     11    1    13  \n",
       "3           NaN      NaN 1996-11-01 14:00:00  1996     11    1    14  \n",
       "4           NaN      0.0 1996-11-01 16:00:00  1996     11    1    16  \n",
       "\n",
       "[5 rows x 25 columns]"
      ]
     },
     "execution_count": 7,
     "metadata": {},
     "output_type": "execute_result"
    }
   ],
   "source": [
    "data.head()"
   ]
  },
  {
   "cell_type": "code",
   "execution_count": 8,
   "metadata": {},
   "outputs": [
    {
     "data": {
      "text/plain": [
       "array([1996, 1997, 1998, 1999, 2000, 2001, 2002, 2003, 2004, 2005, 2006,\n",
       "       2007, 2008, 2009, 2010, 2011, 2012, 2013, 2014, 2015, 2016, 2017],\n",
       "      dtype=int64)"
      ]
     },
     "execution_count": 8,
     "metadata": {},
     "output_type": "execute_result"
    }
   ],
   "source": [
    "data['year'].unique()"
   ]
  },
  {
   "cell_type": "code",
   "execution_count": 9,
   "metadata": {},
   "outputs": [],
   "source": [
    "import scipy.stats"
   ]
  },
  {
   "cell_type": "code",
   "execution_count": 10,
   "metadata": {},
   "outputs": [
    {
     "data": {
      "text/plain": [
       "Text(0.5, 0, 'year')"
      ]
     },
     "execution_count": 10,
     "metadata": {},
     "output_type": "execute_result"
    },
    {
     "data": {
      "image/png": "[encoded data removed]",
      "text/plain": [
       "<Figure size 432x288 with 1 Axes>"
      ]
     },
     "metadata": {
      "needs_background": "light"
     },
     "output_type": "display_data"
    }
   ],
   "source": [
    "year_data = data.groupby(data.year).mean()\n",
    "plt.plot(year_data[' _hum'])\n",
    "plt.title('Delh Average Humidity by year')\n",
    "plt.xlabel('year')"
   ]
  },
  {
   "cell_type": "markdown",
   "metadata": {},
   "source": [
    "Average humidity in delhi by year. We can see that the humidity is varying continuously over the years and is on the rise from 2015"
   ]
  },
  {
   "cell_type": "code",
   "execution_count": 11,
   "metadata": {},
   "outputs": [
    {
     "data": {
      "text/plain": [
       "Text(0.5, 0, 'year')"
      ]
     },
     "execution_count": 11,
     "metadata": {},
     "output_type": "execute_result"
    },
    {
     "data": {
      "image/png": "[encoded data removed]",
      "text/plain": [
       "<Figure size 432x288 with 1 Axes>"
      ]
     },
     "metadata": {
      "needs_background": "light"
     },
     "output_type": "display_data"
    }
   ],
   "source": [
    "year_rain = data.groupby(data.year).mean()\n",
    "year_rain[' _rain'].plot(linewidth=1)\n",
    "plt.title('Delhi Average Rain by year')\n",
    "plt.xlabel('year')"
   ]
  },
  {
   "cell_type": "code",
   "execution_count": 12,
   "metadata": {},
   "outputs": [
    {
     "data": {
      "text/plain": [
       "[[Text(0, 0, '1996'),\n",
       "  Text(0, 0, ''),\n",
       "  Text(0, 0, ''),\n",
       "  Text(0, 0, ''),\n",
       "  Text(0, 0, ''),\n",
       "  Text(0, 0, ''),\n",
       "  Text(0, 0, ''),\n",
       "  Text(0, 0, ''),\n",
       "  Text(0, 0, ''),\n",
       "  Text(0, 0, ''),\n",
       "  Text(0, 0, ''),\n",
       "  Text(0, 0, ''),\n",
       "  Text(0, 0, ''),\n",
       "  Text(0, 0, ''),\n",
       "  Text(0, 0, ''),\n",
       "  Text(0, 0, ''),\n",
       "  Text(0, 0, ''),\n",
       "  Text(0, 0, ''),\n",
       "  Text(0, 0, ''),\n",
       "  Text(0, 0, ''),\n",
       "  Text(0, 0, '2016'),\n",
       "  Text(0, 0, '')]]"
      ]
     },
     "execution_count": 12,
     "metadata": {},
     "output_type": "execute_result"
    },
    {
     "data": {
      "image/png": "[encoded data removed]",
      "text/plain": [
       "<Figure size 1296x576 with 1 Axes>"
      ]
     },
     "metadata": {
      "needs_background": "light"
     },
     "output_type": "display_data"
    }
   ],
   "source": [
    "plt.figure(figsize=(18,8))\n",
    "p = sns.stripplot(data=data, x='year', y=' _heatindexm');\n",
    "p.set(title='Delhi Heat')\n",
    "dec_ticks = [y if not x%20 else '' for x,y in enumerate(p.get_xticklabels())]\n",
    "p.set(xticklabels=dec_ticks)"
   ]
  },
  {
   "cell_type": "markdown",
   "metadata": {},
   "source": [
    "Strip plot between heatindex and year"
   ]
  },
  {
   "cell_type": "code",
   "execution_count": 13,
   "metadata": {},
   "outputs": [
    {
     "data": {
      "text/plain": [
       "<matplotlib.axes._subplots.AxesSubplot at 0x19aef129708>"
      ]
     },
     "execution_count": 13,
     "metadata": {},
     "output_type": "execute_result"
    },
    {
     "data": {
      "image/png": "[encoded data removed]",
      "text/plain": [
       "<Figure size 432x288 with 1 Axes>"
      ]
     },
     "metadata": {
      "needs_background": "light"
     },
     "output_type": "display_data"
    }
   ],
   "source": [
    "sns.distplot(year_data[' _hum'])"
   ]
  },
  {
   "cell_type": "markdown",
   "metadata": {},
   "source": [
    "Distance plot of humidity"
   ]
  },
  {
   "cell_type": "code",
   "execution_count": 14,
   "metadata": {},
   "outputs": [
    {
     "data": {
      "text/html": [
       "<div>\n",
       "<style scoped>\n",
       "    .dataframe tbody tr th:only-of-type {\n",
       "        vertical-align: middle;\n",
       "    }\n",
       "\n",
       "    .dataframe tbody tr th {\n",
       "        vertical-align: top;\n",
       "    }\n",
       "\n",
       "    .dataframe thead th {\n",
       "        text-align: right;\n",
       "    }\n",
       "</style>\n",
       "<table border=\"1\" class=\"dataframe\">\n",
       "  <thead>\n",
       "    <tr style=\"text-align: right;\">\n",
       "      <th></th>\n",
       "      <th>_dewptm</th>\n",
       "      <th>_fog</th>\n",
       "      <th>_hail</th>\n",
       "      <th>_heatindexm</th>\n",
       "      <th>_hum</th>\n",
       "      <th>_precipm</th>\n",
       "      <th>_pressurem</th>\n",
       "      <th>_rain</th>\n",
       "      <th>_snow</th>\n",
       "      <th>_tempm</th>\n",
       "      <th>...</th>\n",
       "      <th>_tornado</th>\n",
       "      <th>_vism</th>\n",
       "      <th>_wdird</th>\n",
       "      <th>_wgustm</th>\n",
       "      <th>_windchillm</th>\n",
       "      <th>_wspdm</th>\n",
       "      <th>year</th>\n",
       "      <th>month</th>\n",
       "      <th>day</th>\n",
       "      <th>hour</th>\n",
       "    </tr>\n",
       "    <tr>\n",
       "      <th>year</th>\n",
       "      <th></th>\n",
       "      <th></th>\n",
       "      <th></th>\n",
       "      <th></th>\n",
       "      <th></th>\n",
       "      <th></th>\n",
       "      <th></th>\n",
       "      <th></th>\n",
       "      <th></th>\n",
       "      <th></th>\n",
       "      <th></th>\n",
       "      <th></th>\n",
       "      <th></th>\n",
       "      <th></th>\n",
       "      <th></th>\n",
       "      <th></th>\n",
       "      <th></th>\n",
       "      <th></th>\n",
       "      <th></th>\n",
       "      <th></th>\n",
       "      <th></th>\n",
       "    </tr>\n",
       "  </thead>\n",
       "  <tbody>\n",
       "    <tr>\n",
       "      <th>1996</th>\n",
       "      <td>5.992851</td>\n",
       "      <td>0.064945</td>\n",
       "      <td>0.000000</td>\n",
       "      <td>27.200000</td>\n",
       "      <td>53.676728</td>\n",
       "      <td>NaN</td>\n",
       "      <td>653.453052</td>\n",
       "      <td>0.000000</td>\n",
       "      <td>0.0</td>\n",
       "      <td>16.518636</td>\n",
       "      <td>...</td>\n",
       "      <td>0.000000</td>\n",
       "      <td>2.198981</td>\n",
       "      <td>106.666667</td>\n",
       "      <td>NaN</td>\n",
       "      <td>4.957143</td>\n",
       "      <td>5.052735</td>\n",
       "      <td>1996.0</td>\n",
       "      <td>11.521909</td>\n",
       "      <td>15.970266</td>\n",
       "      <td>11.747261</td>\n",
       "    </tr>\n",
       "    <tr>\n",
       "      <th>1997</th>\n",
       "      <td>17.052394</td>\n",
       "      <td>0.085828</td>\n",
       "      <td>0.000000</td>\n",
       "      <td>36.610203</td>\n",
       "      <td>68.217885</td>\n",
       "      <td>NaN</td>\n",
       "      <td>731.160755</td>\n",
       "      <td>0.030861</td>\n",
       "      <td>0.0</td>\n",
       "      <td>24.444635</td>\n",
       "      <td>...</td>\n",
       "      <td>0.000000</td>\n",
       "      <td>3.019983</td>\n",
       "      <td>138.686320</td>\n",
       "      <td>36.697647</td>\n",
       "      <td>5.730000</td>\n",
       "      <td>9.351890</td>\n",
       "      <td>1997.0</td>\n",
       "      <td>6.061569</td>\n",
       "      <td>15.716567</td>\n",
       "      <td>11.405497</td>\n",
       "    </tr>\n",
       "    <tr>\n",
       "      <th>1998</th>\n",
       "      <td>17.711256</td>\n",
       "      <td>0.095557</td>\n",
       "      <td>0.000000</td>\n",
       "      <td>36.446695</td>\n",
       "      <td>69.775042</td>\n",
       "      <td>NaN</td>\n",
       "      <td>804.928360</td>\n",
       "      <td>0.039396</td>\n",
       "      <td>0.0</td>\n",
       "      <td>24.847371</td>\n",
       "      <td>...</td>\n",
       "      <td>0.000000</td>\n",
       "      <td>2.461202</td>\n",
       "      <td>127.001397</td>\n",
       "      <td>40.994444</td>\n",
       "      <td>5.484211</td>\n",
       "      <td>7.112116</td>\n",
       "      <td>1998.0</td>\n",
       "      <td>6.662196</td>\n",
       "      <td>15.561609</td>\n",
       "      <td>11.075161</td>\n",
       "    </tr>\n",
       "    <tr>\n",
       "      <th>1999</th>\n",
       "      <td>14.609585</td>\n",
       "      <td>0.060159</td>\n",
       "      <td>0.000000</td>\n",
       "      <td>34.400058</td>\n",
       "      <td>49.845674</td>\n",
       "      <td>NaN</td>\n",
       "      <td>16987.102000</td>\n",
       "      <td>0.016190</td>\n",
       "      <td>0.0</td>\n",
       "      <td>27.335731</td>\n",
       "      <td>...</td>\n",
       "      <td>0.000159</td>\n",
       "      <td>2.836702</td>\n",
       "      <td>138.841429</td>\n",
       "      <td>37.489815</td>\n",
       "      <td>6.240000</td>\n",
       "      <td>7.717482</td>\n",
       "      <td>1999.0</td>\n",
       "      <td>7.504444</td>\n",
       "      <td>15.910159</td>\n",
       "      <td>11.334286</td>\n",
       "    </tr>\n",
       "    <tr>\n",
       "      <th>2000</th>\n",
       "      <td>15.346326</td>\n",
       "      <td>0.076980</td>\n",
       "      <td>0.000185</td>\n",
       "      <td>34.823648</td>\n",
       "      <td>62.598992</td>\n",
       "      <td>NaN</td>\n",
       "      <td>934.518086</td>\n",
       "      <td>0.020033</td>\n",
       "      <td>0.0</td>\n",
       "      <td>23.865647</td>\n",
       "      <td>...</td>\n",
       "      <td>0.000000</td>\n",
       "      <td>2.498489</td>\n",
       "      <td>143.721017</td>\n",
       "      <td>37.132787</td>\n",
       "      <td>6.326531</td>\n",
       "      <td>8.046553</td>\n",
       "      <td>2000.0</td>\n",
       "      <td>7.589687</td>\n",
       "      <td>15.309405</td>\n",
       "      <td>11.429048</td>\n",
       "    </tr>\n",
       "  </tbody>\n",
       "</table>\n",
       "<p>5 rows × 21 columns</p>\n",
       "</div>"
      ],
      "text/plain": [
       "        _dewptm      _fog     _hail   _heatindexm       _hum   _precipm  \\\n",
       "year                                                                      \n",
       "1996   5.992851  0.064945  0.000000     27.200000  53.676728        NaN   \n",
       "1997  17.052394  0.085828  0.000000     36.610203  68.217885        NaN   \n",
       "1998  17.711256  0.095557  0.000000     36.446695  69.775042        NaN   \n",
       "1999  14.609585  0.060159  0.000000     34.400058  49.845674        NaN   \n",
       "2000  15.346326  0.076980  0.000185     34.823648  62.598992        NaN   \n",
       "\n",
       "        _pressurem     _rain   _snow     _tempm  ...   _tornado     _vism  \\\n",
       "year                                             ...                        \n",
       "1996    653.453052  0.000000     0.0  16.518636  ...   0.000000  2.198981   \n",
       "1997    731.160755  0.030861     0.0  24.444635  ...   0.000000  3.019983   \n",
       "1998    804.928360  0.039396     0.0  24.847371  ...   0.000000  2.461202   \n",
       "1999  16987.102000  0.016190     0.0  27.335731  ...   0.000159  2.836702   \n",
       "2000    934.518086  0.020033     0.0  23.865647  ...   0.000000  2.498489   \n",
       "\n",
       "          _wdird    _wgustm   _windchillm    _wspdm    year      month  \\\n",
       "year                                                                     \n",
       "1996  106.666667        NaN      4.957143  5.052735  1996.0  11.521909   \n",
       "1997  138.686320  36.697647      5.730000  9.351890  1997.0   6.061569   \n",
       "1998  127.001397  40.994444      5.484211  7.112116  1998.0   6.662196   \n",
       "1999  138.841429  37.489815      6.240000  7.717482  1999.0   7.504444   \n",
       "2000  143.721017  37.132787      6.326531  8.046553  2000.0   7.589687   \n",
       "\n",
       "            day       hour  \n",
       "year                        \n",
       "1996  15.970266  11.747261  \n",
       "1997  15.716567  11.405497  \n",
       "1998  15.561609  11.075161  \n",
       "1999  15.910159  11.334286  \n",
       "2000  15.309405  11.429048  \n",
       "\n",
       "[5 rows x 21 columns]"
      ]
     },
     "execution_count": 14,
     "metadata": {},
     "output_type": "execute_result"
    }
   ],
   "source": [
    "year_data.head()"
   ]
  },
  {
   "cell_type": "code",
   "execution_count": 15,
   "metadata": {},
   "outputs": [
    {
     "data": {
      "text/plain": [
       "<seaborn.axisgrid.PairGrid at 0x19aef227c88>"
      ]
     },
     "execution_count": 15,
     "metadata": {},
     "output_type": "execute_result"
    },
    {
     "data": {
      "image/png": "[encoded data removed]",
      "text/plain": [
       "<Figure size 720x720 with 20 Axes>"
      ]
     },
     "metadata": {
      "needs_background": "light"
     },
     "output_type": "display_data"
    }
   ],
   "source": [
    "year_data1=pd.DataFrame(year_data.iloc[:,[0,1,4,9]])\n",
    "sns.pairplot(year_data1)"
   ]
  },
  {
   "cell_type": "code",
   "execution_count": 16,
   "metadata": {},
   "outputs": [
    {
     "data": {
      "text/plain": [
       "<seaborn.axisgrid.JointGrid at 0x19af1694348>"
      ]
     },
     "execution_count": 16,
     "metadata": {},
     "output_type": "execute_result"
    },
    {
     "data": {
      "image/png": "[encoded data removed]",
      "text/plain": [
       "<Figure size 432x432 with 3 Axes>"
      ]
     },
     "metadata": {
      "needs_background": "light"
     },
     "output_type": "display_data"
    }
   ],
   "source": [
    "sns.jointplot(x=' _dewptm',y=' _hum',data=year_data1,kind='reg')"
   ]
  },
  {
   "cell_type": "code",
   "execution_count": 17,
   "metadata": {},
   "outputs": [
    {
     "data": {
      "text/html": [
       "<div>\n",
       "<style scoped>\n",
       "    .dataframe tbody tr th:only-of-type {\n",
       "        vertical-align: middle;\n",
       "    }\n",
       "\n",
       "    .dataframe tbody tr th {\n",
       "        vertical-align: top;\n",
       "    }\n",
       "\n",
       "    .dataframe thead th {\n",
       "        text-align: right;\n",
       "    }\n",
       "</style>\n",
       "<table border=\"1\" class=\"dataframe\">\n",
       "  <thead>\n",
       "    <tr style=\"text-align: right;\">\n",
       "      <th></th>\n",
       "      <th>_dewptm</th>\n",
       "      <th>_fog</th>\n",
       "      <th>_hail</th>\n",
       "      <th>_heatindexm</th>\n",
       "      <th>_hum</th>\n",
       "      <th>_precipm</th>\n",
       "      <th>_pressurem</th>\n",
       "      <th>_rain</th>\n",
       "      <th>_snow</th>\n",
       "      <th>_tempm</th>\n",
       "      <th>...</th>\n",
       "      <th>_tornado</th>\n",
       "      <th>_vism</th>\n",
       "      <th>_wdird</th>\n",
       "      <th>_wgustm</th>\n",
       "      <th>_windchillm</th>\n",
       "      <th>_wspdm</th>\n",
       "      <th>year</th>\n",
       "      <th>month</th>\n",
       "      <th>day</th>\n",
       "      <th>hour</th>\n",
       "    </tr>\n",
       "    <tr>\n",
       "      <th>year</th>\n",
       "      <th></th>\n",
       "      <th></th>\n",
       "      <th></th>\n",
       "      <th></th>\n",
       "      <th></th>\n",
       "      <th></th>\n",
       "      <th></th>\n",
       "      <th></th>\n",
       "      <th></th>\n",
       "      <th></th>\n",
       "      <th></th>\n",
       "      <th></th>\n",
       "      <th></th>\n",
       "      <th></th>\n",
       "      <th></th>\n",
       "      <th></th>\n",
       "      <th></th>\n",
       "      <th></th>\n",
       "      <th></th>\n",
       "      <th></th>\n",
       "      <th></th>\n",
       "    </tr>\n",
       "  </thead>\n",
       "  <tbody>\n",
       "    <tr>\n",
       "      <th>1996</th>\n",
       "      <td>5.992851</td>\n",
       "      <td>0.064945</td>\n",
       "      <td>0.000000</td>\n",
       "      <td>27.200000</td>\n",
       "      <td>53.676728</td>\n",
       "      <td>NaN</td>\n",
       "      <td>653.453052</td>\n",
       "      <td>0.000000</td>\n",
       "      <td>0.0</td>\n",
       "      <td>16.518636</td>\n",
       "      <td>...</td>\n",
       "      <td>0.000000</td>\n",
       "      <td>2.198981</td>\n",
       "      <td>106.666667</td>\n",
       "      <td>NaN</td>\n",
       "      <td>4.957143</td>\n",
       "      <td>5.052735</td>\n",
       "      <td>1996.0</td>\n",
       "      <td>11.521909</td>\n",
       "      <td>15.970266</td>\n",
       "      <td>11.747261</td>\n",
       "    </tr>\n",
       "    <tr>\n",
       "      <th>1997</th>\n",
       "      <td>17.052394</td>\n",
       "      <td>0.085828</td>\n",
       "      <td>0.000000</td>\n",
       "      <td>36.610203</td>\n",
       "      <td>68.217885</td>\n",
       "      <td>NaN</td>\n",
       "      <td>731.160755</td>\n",
       "      <td>0.030861</td>\n",
       "      <td>0.0</td>\n",
       "      <td>24.444635</td>\n",
       "      <td>...</td>\n",
       "      <td>0.000000</td>\n",
       "      <td>3.019983</td>\n",
       "      <td>138.686320</td>\n",
       "      <td>36.697647</td>\n",
       "      <td>5.730000</td>\n",
       "      <td>9.351890</td>\n",
       "      <td>1997.0</td>\n",
       "      <td>6.061569</td>\n",
       "      <td>15.716567</td>\n",
       "      <td>11.405497</td>\n",
       "    </tr>\n",
       "    <tr>\n",
       "      <th>1998</th>\n",
       "      <td>17.711256</td>\n",
       "      <td>0.095557</td>\n",
       "      <td>0.000000</td>\n",
       "      <td>36.446695</td>\n",
       "      <td>69.775042</td>\n",
       "      <td>NaN</td>\n",
       "      <td>804.928360</td>\n",
       "      <td>0.039396</td>\n",
       "      <td>0.0</td>\n",
       "      <td>24.847371</td>\n",
       "      <td>...</td>\n",
       "      <td>0.000000</td>\n",
       "      <td>2.461202</td>\n",
       "      <td>127.001397</td>\n",
       "      <td>40.994444</td>\n",
       "      <td>5.484211</td>\n",
       "      <td>7.112116</td>\n",
       "      <td>1998.0</td>\n",
       "      <td>6.662196</td>\n",
       "      <td>15.561609</td>\n",
       "      <td>11.075161</td>\n",
       "    </tr>\n",
       "    <tr>\n",
       "      <th>1999</th>\n",
       "      <td>14.609585</td>\n",
       "      <td>0.060159</td>\n",
       "      <td>0.000000</td>\n",
       "      <td>34.400058</td>\n",
       "      <td>49.845674</td>\n",
       "      <td>NaN</td>\n",
       "      <td>16987.102000</td>\n",
       "      <td>0.016190</td>\n",
       "      <td>0.0</td>\n",
       "      <td>27.335731</td>\n",
       "      <td>...</td>\n",
       "      <td>0.000159</td>\n",
       "      <td>2.836702</td>\n",
       "      <td>138.841429</td>\n",
       "      <td>37.489815</td>\n",
       "      <td>6.240000</td>\n",
       "      <td>7.717482</td>\n",
       "      <td>1999.0</td>\n",
       "      <td>7.504444</td>\n",
       "      <td>15.910159</td>\n",
       "      <td>11.334286</td>\n",
       "    </tr>\n",
       "    <tr>\n",
       "      <th>2000</th>\n",
       "      <td>15.346326</td>\n",
       "      <td>0.076980</td>\n",
       "      <td>0.000185</td>\n",
       "      <td>34.823648</td>\n",
       "      <td>62.598992</td>\n",
       "      <td>NaN</td>\n",
       "      <td>934.518086</td>\n",
       "      <td>0.020033</td>\n",
       "      <td>0.0</td>\n",
       "      <td>23.865647</td>\n",
       "      <td>...</td>\n",
       "      <td>0.000000</td>\n",
       "      <td>2.498489</td>\n",
       "      <td>143.721017</td>\n",
       "      <td>37.132787</td>\n",
       "      <td>6.326531</td>\n",
       "      <td>8.046553</td>\n",
       "      <td>2000.0</td>\n",
       "      <td>7.589687</td>\n",
       "      <td>15.309405</td>\n",
       "      <td>11.429048</td>\n",
       "    </tr>\n",
       "  </tbody>\n",
       "</table>\n",
       "<p>5 rows × 21 columns</p>\n",
       "</div>"
      ],
      "text/plain": [
       "        _dewptm      _fog     _hail   _heatindexm       _hum   _precipm  \\\n",
       "year                                                                      \n",
       "1996   5.992851  0.064945  0.000000     27.200000  53.676728        NaN   \n",
       "1997  17.052394  0.085828  0.000000     36.610203  68.217885        NaN   \n",
       "1998  17.711256  0.095557  0.000000     36.446695  69.775042        NaN   \n",
       "1999  14.609585  0.060159  0.000000     34.400058  49.845674        NaN   \n",
       "2000  15.346326  0.076980  0.000185     34.823648  62.598992        NaN   \n",
       "\n",
       "        _pressurem     _rain   _snow     _tempm  ...   _tornado     _vism  \\\n",
       "year                                             ...                        \n",
       "1996    653.453052  0.000000     0.0  16.518636  ...   0.000000  2.198981   \n",
       "1997    731.160755  0.030861     0.0  24.444635  ...   0.000000  3.019983   \n",
       "1998    804.928360  0.039396     0.0  24.847371  ...   0.000000  2.461202   \n",
       "1999  16987.102000  0.016190     0.0  27.335731  ...   0.000159  2.836702   \n",
       "2000    934.518086  0.020033     0.0  23.865647  ...   0.000000  2.498489   \n",
       "\n",
       "          _wdird    _wgustm   _windchillm    _wspdm    year      month  \\\n",
       "year                                                                     \n",
       "1996  106.666667        NaN      4.957143  5.052735  1996.0  11.521909   \n",
       "1997  138.686320  36.697647      5.730000  9.351890  1997.0   6.061569   \n",
       "1998  127.001397  40.994444      5.484211  7.112116  1998.0   6.662196   \n",
       "1999  138.841429  37.489815      6.240000  7.717482  1999.0   7.504444   \n",
       "2000  143.721017  37.132787      6.326531  8.046553  2000.0   7.589687   \n",
       "\n",
       "            day       hour  \n",
       "year                        \n",
       "1996  15.970266  11.747261  \n",
       "1997  15.716567  11.405497  \n",
       "1998  15.561609  11.075161  \n",
       "1999  15.910159  11.334286  \n",
       "2000  15.309405  11.429048  \n",
       "\n",
       "[5 rows x 21 columns]"
      ]
     },
     "execution_count": 17,
     "metadata": {},
     "output_type": "execute_result"
    }
   ],
   "source": [
    "year_data.head()"
   ]
  },
  {
   "cell_type": "code",
   "execution_count": 18,
   "metadata": {},
   "outputs": [
    {
     "data": {
      "text/plain": [
       "'\\nAccent, Accent_r, Blues, Blues_r, BrBG, BrBG_r, BuGn, BuGn_r, BuPu, BuPu_r, CMRmap, CMRmap_r, Dark2, Dark2_r, GnBu, GnBu_r, \\nGreens, Greens_r, Greys, Greys_r, OrRd, OrRd_r, Oranges, Oranges_r, PRGn, PRGn_r, Paired, Paired_r, Pastel1, Pastel1_r, \\nPastel2, Pastel2_r, PiYG, PiYG_r, PuBu, PuBuGn, PuBuGn_r, PuBu_r, PuOr, PuOr_r, PuRd, PuRd_r, Purples, Purples_r, RdBu, RdBu_r,\\nRdGy, RdGy_r, RdPu, RdPu_r, RdYlBu, RdYlBu_r, RdYlGn, RdYlGn_r, Reds, Reds_r, Set1, Set1_r, Set2, Set2_r, Set3, Set3_r,\\nSpectral, Spectral_r, Wistia, Wistia_r, YlGn, YlGnBu, YlGnBu_r, YlGn_r, YlOrBr, YlOrBr_r, YlOrRd, YlOrRd_r, afmhot, afmhot_r, \\nautumn, autumn_r, binary, binary_r, bone, bone_r, brg, brg_r, bwr, bwr_r, cividis, cividis_r, cool, cool_r, coolwarm, \\ncoolwarm_r, copper, copper_r, cubehelix, cubehelix_r, flag, flag_r, gist_earth, gist_earth_r, gist_gray, gist_gray_r, \\ngist_heat, gist_heat_r, gist_ncar, gist_ncar_r, gist_rainbow, gist_rainbow_r, gist_stern, gist_stern_r, gist_yarg, \\ngist_yarg_r, gnuplot, gnuplot2, gnuplot2_r, gnuplot_r, gray, gray_r, hot, hot_r, hsv, hsv_r, icefire, icefire_r, inferno, \\ninferno_r, jet, jet_r, magma, magma_r, mako, mako_r, nipy_spectral, nipy_spectral_r, ocean, ocean_r, pink, pink_r, plasma,\\nplasma_r, prism, prism_r, rainbow, rainbow_r, rocket, rocket_r, seismic, seismic_r, spring, spring_r, summer, summer_r, tab10,\\ntab10_r, tab20, tab20_r, tab20b, tab20b_r, tab20c, tab20c_r, terrain, terrain_r, twilight, twilight_r, twilight_shifted, \\ntwilight_shifted_r, viridis, viridis_r, vlag, vlag_r, winter, winter_r\\n'"
      ]
     },
     "execution_count": 18,
     "metadata": {},
     "output_type": "execute_result"
    }
   ],
   "source": [
    "'''\n",
    "Accent, Accent_r, Blues, Blues_r, BrBG, BrBG_r, BuGn, BuGn_r, BuPu, BuPu_r, CMRmap, CMRmap_r, Dark2, Dark2_r, GnBu, GnBu_r, \n",
    "Greens, Greens_r, Greys, Greys_r, OrRd, OrRd_r, Oranges, Oranges_r, PRGn, PRGn_r, Paired, Paired_r, Pastel1, Pastel1_r, \n",
    "Pastel2, Pastel2_r, PiYG, PiYG_r, PuBu, PuBuGn, PuBuGn_r, PuBu_r, PuOr, PuOr_r, PuRd, PuRd_r, Purples, Purples_r, RdBu, RdBu_r,\n",
    "RdGy, RdGy_r, RdPu, RdPu_r, RdYlBu, RdYlBu_r, RdYlGn, RdYlGn_r, Reds, Reds_r, Set1, Set1_r, Set2, Set2_r, Set3, Set3_r,\n",
    "Spectral, Spectral_r, Wistia, Wistia_r, YlGn, YlGnBu, YlGnBu_r, YlGn_r, YlOrBr, YlOrBr_r, YlOrRd, YlOrRd_r, afmhot, afmhot_r, \n",
    "autumn, autumn_r, binary, binary_r, bone, bone_r, brg, brg_r, bwr, bwr_r, cividis, cividis_r, cool, cool_r, coolwarm, \n",
    "coolwarm_r, copper, copper_r, cubehelix, cubehelix_r, flag, flag_r, gist_earth, gist_earth_r, gist_gray, gist_gray_r, \n",
    "gist_heat, gist_heat_r, gist_ncar, gist_ncar_r, gist_rainbow, gist_rainbow_r, gist_stern, gist_stern_r, gist_yarg, \n",
    "gist_yarg_r, gnuplot, gnuplot2, gnuplot2_r, gnuplot_r, gray, gray_r, hot, hot_r, hsv, hsv_r, icefire, icefire_r, inferno, \n",
    "inferno_r, jet, jet_r, magma, magma_r, mako, mako_r, nipy_spectral, nipy_spectral_r, ocean, ocean_r, pink, pink_r, plasma,\n",
    "plasma_r, prism, prism_r, rainbow, rainbow_r, rocket, rocket_r, seismic, seismic_r, spring, spring_r, summer, summer_r, tab10,\n",
    "tab10_r, tab20, tab20_r, tab20b, tab20b_r, tab20c, tab20c_r, terrain, terrain_r, twilight, twilight_r, twilight_shifted, \n",
    "twilight_shifted_r, viridis, viridis_r, vlag, vlag_r, winter, winter_r\n",
    "'''\n"
   ]
  },
  {
   "cell_type": "code",
   "execution_count": 19,
   "metadata": {},
   "outputs": [],
   "source": [
    "data1= data[[' _rain',' _fog']]"
   ]
  },
  {
   "cell_type": "code",
   "execution_count": 20,
   "metadata": {},
   "outputs": [
    {
     "data": {
      "image/png": "[encoded data removed]",
      "text/plain": [
       "<Figure size 576x576 with 1 Axes>"
      ]
     },
     "metadata": {
      "needs_background": "light"
     },
     "output_type": "display_data"
    }
   ],
   "source": [
    "plt.figure(figsize=(8,8))\n",
    "sns.countplot(x=\"variable\", hue=\"value\", data=pd.melt(data1))\n",
    "plt.xlabel(\"0 -Not Present, 1- present\");\n",
    "plt.ylabel(\"COUNT\");"
   ]
  },
  {
   "cell_type": "markdown",
   "metadata": {},
   "source": [
    "Count plot of Rain and fog which shows whether rain is present or not. We can see that maximum count in both rain and fog is not present wheras only small amount is of rain present"
   ]
  },
  {
   "cell_type": "code",
   "execution_count": 21,
   "metadata": {},
   "outputs": [
    {
     "data": {
      "text/plain": [
       "<matplotlib.axes._subplots.AxesSubplot at 0x19af1bdb088>"
      ]
     },
     "execution_count": 21,
     "metadata": {},
     "output_type": "execute_result"
    },
    {
     "data": {
      "image/png": "[encoded data removed]",
      "text/plain": [
       "<Figure size 1296x576 with 1 Axes>"
      ]
     },
     "metadata": {
      "needs_background": "light"
     },
     "output_type": "display_data"
    }
   ],
   "source": [
    "plt.figure(figsize=(18,8))\n",
    "ax = data[' _conds'].value_counts().sort_values(ascending=False).head(10)\n",
    "sns.barplot(x=ax.index, y=ax.values)"
   ]
  },
  {
   "cell_type": "markdown",
   "metadata": {},
   "source": [
    "This bar plot shows top 10 conditions in delhi over 20 years. Haze is most common condition in the national capital"
   ]
  },
  {
   "cell_type": "code",
   "execution_count": 22,
   "metadata": {},
   "outputs": [
    {
     "data": {
      "text/plain": [
       "<matplotlib.axes._subplots.AxesSubplot at 0x19af1c57348>"
      ]
     },
     "execution_count": 22,
     "metadata": {},
     "output_type": "execute_result"
    },
    {
     "data": {
      "image/png": "[encoded data removed]",
      "text/plain": [
       "<Figure size 1296x576 with 1 Axes>"
      ]
     },
     "metadata": {
      "needs_background": "light"
     },
     "output_type": "display_data"
    }
   ],
   "source": [
    "plt.figure(figsize=(18,8))\n",
    "sns.barplot(data[' _tempm'],data[' _dewptm'])"
   ]
  },
  {
   "cell_type": "markdown",
   "metadata": {},
   "source": [
    "# Machine Learning Models"
   ]
  },
  {
   "cell_type": "code",
   "execution_count": 23,
   "metadata": {},
   "outputs": [],
   "source": [
    "from sklearn import metrics\n",
    "dataset=pd.read_csv('testset.csv')"
   ]
  },
  {
   "cell_type": "markdown",
   "metadata": {},
   "source": [
    "Heatmap showing null values in the data. We can see that 4 attributes contain only null or most of null values. So it is preferable to delete them from our dataset"
   ]
  },
  {
   "cell_type": "code",
   "execution_count": 24,
   "metadata": {},
   "outputs": [
    {
     "data": {
      "text/plain": [
       "<matplotlib.axes._subplots.AxesSubplot at 0x19af19e4848>"
      ]
     },
     "execution_count": 24,
     "metadata": {},
     "output_type": "execute_result"
    },
    {
     "data": {
      "image/png": "[encoded data removed]",
      "text/plain": [
       "<Figure size 432x288 with 1 Axes>"
      ]
     },
     "metadata": {
      "needs_background": "light"
     },
     "output_type": "display_data"
    }
   ],
   "source": [
    "sns.heatmap(data.isnull(),yticklabels=False,cbar=False,cmap='viridis')"
   ]
  },
  {
   "cell_type": "code",
   "execution_count": 25,
   "metadata": {},
   "outputs": [],
   "source": [
    "dataset=dataset.drop(columns=[' _heatindexm',' _precipm',' _wgustm', ' _windchillm'])"
   ]
  },
  {
   "cell_type": "markdown",
   "metadata": {},
   "source": [
    "dropping useless data"
   ]
  },
  {
   "cell_type": "code",
   "execution_count": 26,
   "metadata": {},
   "outputs": [],
   "source": [
    "corr1=dataset.corr()"
   ]
  },
  {
   "cell_type": "code",
   "execution_count": 27,
   "metadata": {},
   "outputs": [
    {
     "data": {
      "text/plain": [
       "<matplotlib.axes._subplots.AxesSubplot at 0x19af3df9f08>"
      ]
     },
     "execution_count": 27,
     "metadata": {},
     "output_type": "execute_result"
    },
    {
     "data": {
      "image/png": "[encoded data removed]",
      "text/plain": [
       "<Figure size 1296x576 with 2 Axes>"
      ]
     },
     "metadata": {
      "needs_background": "light"
     },
     "output_type": "display_data"
    }
   ],
   "source": [
    "plt.figure(figsize=(18,8))\n",
    "sns.heatmap(corr1,annot=True)"
   ]
  },
  {
   "cell_type": "markdown",
   "metadata": {},
   "source": [
    "Heatmap showing correlation between atributes in our dataset. We can see that maximum correlation is between temperature and dew and that too 0.53. So our data is not highly correlated and thus highly difficuilt to work upon"
   ]
  },
  {
   "cell_type": "markdown",
   "metadata": {},
   "source": [
    "# Linear Regression"
   ]
  },
  {
   "cell_type": "markdown",
   "metadata": {},
   "source": [
    "Linear regression is a linear approach to modeling the relationship between a scalar response (or dependent variable) and one or more explanatory variables (or independent variables)."
   ]
  },
  {
   "cell_type": "code",
   "execution_count": 28,
   "metadata": {},
   "outputs": [
    {
     "data": {
      "text/html": [
       "<div>\n",
       "<style scoped>\n",
       "    .dataframe tbody tr th:only-of-type {\n",
       "        vertical-align: middle;\n",
       "    }\n",
       "\n",
       "    .dataframe tbody tr th {\n",
       "        vertical-align: top;\n",
       "    }\n",
       "\n",
       "    .dataframe thead th {\n",
       "        text-align: right;\n",
       "    }\n",
       "</style>\n",
       "<table border=\"1\" class=\"dataframe\">\n",
       "  <thead>\n",
       "    <tr style=\"text-align: right;\">\n",
       "      <th></th>\n",
       "      <th>datetime_utc</th>\n",
       "      <th>_conds</th>\n",
       "      <th>_dewptm</th>\n",
       "      <th>_fog</th>\n",
       "      <th>_hail</th>\n",
       "      <th>_hum</th>\n",
       "      <th>_pressurem</th>\n",
       "      <th>_rain</th>\n",
       "      <th>_snow</th>\n",
       "      <th>_tempm</th>\n",
       "      <th>_thunder</th>\n",
       "      <th>_tornado</th>\n",
       "      <th>_vism</th>\n",
       "      <th>_wdird</th>\n",
       "      <th>_wdire</th>\n",
       "      <th>_wspdm</th>\n",
       "    </tr>\n",
       "  </thead>\n",
       "  <tbody>\n",
       "    <tr>\n",
       "      <th>0</th>\n",
       "      <td>19961101-11:00</td>\n",
       "      <td>Smoke</td>\n",
       "      <td>9.0</td>\n",
       "      <td>0</td>\n",
       "      <td>0</td>\n",
       "      <td>27.0</td>\n",
       "      <td>1010.0</td>\n",
       "      <td>0</td>\n",
       "      <td>0</td>\n",
       "      <td>30.0</td>\n",
       "      <td>0</td>\n",
       "      <td>0</td>\n",
       "      <td>5.0</td>\n",
       "      <td>280.0</td>\n",
       "      <td>West</td>\n",
       "      <td>7.4</td>\n",
       "    </tr>\n",
       "    <tr>\n",
       "      <th>1</th>\n",
       "      <td>19961101-12:00</td>\n",
       "      <td>Smoke</td>\n",
       "      <td>10.0</td>\n",
       "      <td>0</td>\n",
       "      <td>0</td>\n",
       "      <td>32.0</td>\n",
       "      <td>-9999.0</td>\n",
       "      <td>0</td>\n",
       "      <td>0</td>\n",
       "      <td>28.0</td>\n",
       "      <td>0</td>\n",
       "      <td>0</td>\n",
       "      <td>NaN</td>\n",
       "      <td>0.0</td>\n",
       "      <td>North</td>\n",
       "      <td>NaN</td>\n",
       "    </tr>\n",
       "    <tr>\n",
       "      <th>2</th>\n",
       "      <td>19961101-13:00</td>\n",
       "      <td>Smoke</td>\n",
       "      <td>11.0</td>\n",
       "      <td>0</td>\n",
       "      <td>0</td>\n",
       "      <td>44.0</td>\n",
       "      <td>-9999.0</td>\n",
       "      <td>0</td>\n",
       "      <td>0</td>\n",
       "      <td>24.0</td>\n",
       "      <td>0</td>\n",
       "      <td>0</td>\n",
       "      <td>NaN</td>\n",
       "      <td>0.0</td>\n",
       "      <td>North</td>\n",
       "      <td>NaN</td>\n",
       "    </tr>\n",
       "    <tr>\n",
       "      <th>3</th>\n",
       "      <td>19961101-14:00</td>\n",
       "      <td>Smoke</td>\n",
       "      <td>10.0</td>\n",
       "      <td>0</td>\n",
       "      <td>0</td>\n",
       "      <td>41.0</td>\n",
       "      <td>1010.0</td>\n",
       "      <td>0</td>\n",
       "      <td>0</td>\n",
       "      <td>24.0</td>\n",
       "      <td>0</td>\n",
       "      <td>0</td>\n",
       "      <td>2.0</td>\n",
       "      <td>0.0</td>\n",
       "      <td>North</td>\n",
       "      <td>NaN</td>\n",
       "    </tr>\n",
       "    <tr>\n",
       "      <th>4</th>\n",
       "      <td>19961101-16:00</td>\n",
       "      <td>Smoke</td>\n",
       "      <td>11.0</td>\n",
       "      <td>0</td>\n",
       "      <td>0</td>\n",
       "      <td>47.0</td>\n",
       "      <td>1011.0</td>\n",
       "      <td>0</td>\n",
       "      <td>0</td>\n",
       "      <td>23.0</td>\n",
       "      <td>0</td>\n",
       "      <td>0</td>\n",
       "      <td>1.2</td>\n",
       "      <td>0.0</td>\n",
       "      <td>North</td>\n",
       "      <td>0.0</td>\n",
       "    </tr>\n",
       "  </tbody>\n",
       "</table>\n",
       "</div>"
      ],
      "text/plain": [
       "     datetime_utc  _conds   _dewptm   _fog   _hail   _hum   _pressurem  \\\n",
       "0  19961101-11:00   Smoke       9.0      0       0   27.0       1010.0   \n",
       "1  19961101-12:00   Smoke      10.0      0       0   32.0      -9999.0   \n",
       "2  19961101-13:00   Smoke      11.0      0       0   44.0      -9999.0   \n",
       "3  19961101-14:00   Smoke      10.0      0       0   41.0       1010.0   \n",
       "4  19961101-16:00   Smoke      11.0      0       0   47.0       1011.0   \n",
       "\n",
       "    _rain   _snow   _tempm   _thunder   _tornado   _vism   _wdird  _wdire  \\\n",
       "0       0       0     30.0          0          0     5.0    280.0    West   \n",
       "1       0       0     28.0          0          0     NaN      0.0   North   \n",
       "2       0       0     24.0          0          0     NaN      0.0   North   \n",
       "3       0       0     24.0          0          0     2.0      0.0   North   \n",
       "4       0       0     23.0          0          0     1.2      0.0   North   \n",
       "\n",
       "    _wspdm  \n",
       "0      7.4  \n",
       "1      NaN  \n",
       "2      NaN  \n",
       "3      NaN  \n",
       "4      0.0  "
      ]
     },
     "execution_count": 28,
     "metadata": {},
     "output_type": "execute_result"
    }
   ],
   "source": [
    "dataset.head()"
   ]
  },
  {
   "cell_type": "markdown",
   "metadata": {},
   "source": [
    "Storing the data in our variables, filling the null values, encoding our data, Training and testing our data and calculating rmse and r-square "
   ]
  },
  {
   "cell_type": "code",
   "execution_count": 31,
   "metadata": {},
   "outputs": [
    {
     "name": "stderr",
     "output_type": "stream",
     "text": [
      "C:\\Users\\admin\\Anaconda3\\lib\\site-packages\\sklearn\\preprocessing\\_encoders.py:415: FutureWarning: The handling of integer data will change in version 0.22. Currently, the categories are determined based on the range [0, max(values)], while in the future they will be determined based on the unique values.\n",
      "If you want the future behaviour and silence this warning, you can specify \"categories='auto'\".\n",
      "In case you used a LabelEncoder before this OneHotEncoder to convert the categories to integers, then you can now use the OneHotEncoder directly.\n",
      "  warnings.warn(msg, FutureWarning)\n",
      "C:\\Users\\admin\\Anaconda3\\lib\\site-packages\\sklearn\\preprocessing\\_encoders.py:451: DeprecationWarning: The 'categorical_features' keyword is deprecated in version 0.20 and will be removed in 0.22. You can use the ColumnTransformer instead.\n",
      "  \"use the ColumnTransformer instead.\", DeprecationWarning)\n",
      "C:\\Users\\admin\\Anaconda3\\lib\\site-packages\\sklearn\\preprocessing\\label.py:235: DataConversionWarning: A column-vector y was passed when a 1d array was expected. Please change the shape of y to (n_samples, ), for example using ravel().\n",
      "  y = column_or_1d(y, warn=True)\n"
     ]
    },
    {
     "name": "stdout",
     "output_type": "stream",
     "text": [
      "coefficent\n",
      " [-2.04680347e+10 -2.04680347e+10 -2.04680347e+10 -2.04680347e+10\n",
      " -2.04680347e+10 -2.04680347e+10 -2.04680347e+10 -2.04680347e+10\n",
      " -2.04680347e+10 -2.04680347e+10 -2.04680347e+10 -2.04680347e+10\n",
      " -2.04680347e+10 -2.04680347e+10 -2.04680347e+10 -2.04680347e+10\n",
      " -2.04680347e+10 -2.04680347e+10 -2.04680347e+10 -2.04680347e+10\n",
      " -2.04680347e+10 -2.04680347e+10 -2.04680347e+10 -2.04680347e+10\n",
      " -2.04680347e+10 -2.04680347e+10 -2.04680347e+10 -2.04680347e+10\n",
      " -2.04680347e+10 -2.04680347e+10 -2.04680347e+10 -2.04680347e+10\n",
      " -2.04680347e+10 -2.04680347e+10 -2.04680347e+10 -2.04680347e+10\n",
      " -2.04680347e+10 -2.04680347e+10 -2.04680347e+10 -2.04680347e+10\n",
      "  9.66854406e-01 -3.09338509e-01]\n",
      "intercept 20468034746.285385\n",
      "mean squared error::: 5.487703229733653\n",
      "r2 score: 0.9227694599742586\n",
      "1.2689751130563058\n"
     ]
    }
   ],
   "source": [
    "x=pd.DataFrame(dataset.iloc[:,[1,2,5]])\n",
    "y=pd.DataFrame(dataset.iloc[:,9])\n",
    "\n",
    "\n",
    "\n",
    "from sklearn.impute import SimpleImputer\n",
    "\n",
    "imputer = SimpleImputer(missing_values=np.nan, strategy='median')\n",
    "imputer = imputer.fit(x.iloc[:,[1,2]])\n",
    "x.iloc[:,[1,2]] = imputer.transform(x.iloc[:,[1,2]])\n",
    "\n",
    "\n",
    "\n",
    "imputer = SimpleImputer(missing_values=np.nan, strategy='median')\n",
    "imputer = imputer.fit(y.iloc[:,])\n",
    "y.iloc[:,] = imputer.transform(y.iloc[:,])\n",
    "\n",
    "\n",
    "\n",
    "x.iloc[:,0]= x.iloc[:,0].str.replace(' ', '')\n",
    "from sklearn import preprocessing\n",
    "le = preprocessing.LabelEncoder()\n",
    "\n",
    "x.iloc[:,0] = le.fit_transform(x.iloc[:,0].astype(str))\n",
    "\n",
    "from sklearn.preprocessing import LabelEncoder, OneHotEncoder\n",
    "labelEncoder_x=LabelEncoder()\n",
    "x.iloc[:,0]=labelEncoder_x.fit_transform(x.iloc[:,0])\n",
    "\n",
    "\n",
    "\n",
    "oneHotEncoder=OneHotEncoder(categorical_features=[0])\n",
    "x=oneHotEncoder.fit_transform(x).toarray()\n",
    "\n",
    "labelEncoder_y=LabelEncoder()\n",
    "y=labelEncoder_y.fit_transform(y)\n",
    "\n",
    "from sklearn.model_selection import train_test_split # x ke correspoding y aayega test mein. x jaise random le liye fir y uske corresponding hi aayega\n",
    "x_train,x_test,y_train,y_test=train_test_split(x,y,test_size=0.2)\n",
    "\n",
    "from sklearn.linear_model import LinearRegression\n",
    "regressor = LinearRegression()\n",
    "regressor.fit(x_train , y_train)\n",
    "\n",
    "\n",
    "print('coefficent\\n' , regressor.coef_)\n",
    "\n",
    "print('intercept' , regressor.intercept_)\n",
    "\n",
    "\n",
    "\n",
    "y_pred = regressor.predict(x_test)\n",
    "from sklearn.metrics import mean_squared_error , r2_score\n",
    "print(\"mean squared error::: {}\".format(mean_squared_error(y_test,y_pred)))\n",
    "print(\"r2 score: {}\".format(r2_score(y_test,y_pred)))\n",
    "print(np.sqrt(metrics.mean_absolute_error(y_test, y_pred)))\n"
   ]
  },
  {
   "cell_type": "markdown",
   "metadata": {},
   "source": [
    "We used variable predictor to store the predicted value for each value of x.\n",
    "Mean Squared Error and R2 score are used to calculate the accuracy of our model. The mean Squared Error for our model came out to be 5.48 and r2 score for our model came out to be 0.92. Hence we got 92.27% accuracy for our trained model. Its not underfitting and as well as its not overfitting as well.The array which is ued here is used to store the values of all the results we will get from other models."
   ]
  },
  {
   "cell_type": "code",
   "execution_count": 33,
   "metadata": {},
   "outputs": [
    {
     "data": {
      "text/plain": [
       "\"\\nplt.scatter(X_train, y_train, color = 'blue')\\nplt.plot(X_train, lin_reg.predict(X_train), color = 'black')\\nplt.show()\\n\""
      ]
     },
     "execution_count": 33,
     "metadata": {},
     "output_type": "execute_result"
    }
   ],
   "source": [
    "'''\n",
    "plt.scatter(X_train, y_train, color = 'blue')\n",
    "plt.plot(X_train, lin_reg.predict(X_train), color = 'black')\n",
    "plt.show()\n",
    "'''"
   ]
  },
  {
   "cell_type": "code",
   "execution_count": 32,
   "metadata": {},
   "outputs": [],
   "source": [
    "import array\n",
    "reg_arr=array.array('f',)"
   ]
  },
  {
   "cell_type": "code",
   "execution_count": 33,
   "metadata": {},
   "outputs": [],
   "source": [
    "reg_arr.append(r2_score(y_test,y_pred))"
   ]
  },
  {
   "cell_type": "markdown",
   "metadata": {},
   "source": [
    "# Polynomial Regression"
   ]
  },
  {
   "cell_type": "markdown",
   "metadata": {},
   "source": [
    "Now after linear regression , we are using polynomial features to train our model.Polynomial features consists of degree 2 and more and hence best fits the data."
   ]
  },
  {
   "cell_type": "code",
   "execution_count": 34,
   "metadata": {},
   "outputs": [
    {
     "name": "stdout",
     "output_type": "stream",
     "text": [
      "1.6468290349665167\n",
      "0.9620305906078755\n"
     ]
    }
   ],
   "source": [
    "from sklearn.preprocessing import PolynomialFeatures\n",
    "pf=PolynomialFeatures(degree=2)\n",
    "\n",
    "X_pf=pf.fit_transform(x)\n",
    "\n",
    "lr=LinearRegression()\n",
    "\n",
    "lr.fit(X_pf,y)\n",
    "\n",
    "pred=lr.predict(X_pf)\n",
    "\n",
    "rmse =np.sqrt(mean_squared_error(y,pred))\n",
    "r2 = r2_score(y,pred)\n",
    "print(rmse)\n",
    "print(r2)"
   ]
  },
  {
   "cell_type": "markdown",
   "metadata": {},
   "source": [
    "We can see by using polynomial regression our accuracy has been increased to 96.20% from 92.27%"
   ]
  },
  {
   "cell_type": "code",
   "execution_count": 35,
   "metadata": {},
   "outputs": [],
   "source": [
    "reg_arr.append(r2_score(y,pred))"
   ]
  },
  {
   "cell_type": "markdown",
   "metadata": {},
   "source": [
    "# Decision Tree Regressor "
   ]
  },
  {
   "cell_type": "code",
   "execution_count": 36,
   "metadata": {},
   "outputs": [
    {
     "data": {
      "text/plain": [
       "DecisionTreeRegressor(criterion='mse', max_depth=None, max_features=None,\n",
       "                      max_leaf_nodes=None, min_impurity_decrease=0.0,\n",
       "                      min_impurity_split=None, min_samples_leaf=1,\n",
       "                      min_samples_split=2, min_weight_fraction_leaf=0.0,\n",
       "                      presort=False, random_state=42, splitter='best')"
      ]
     },
     "execution_count": 36,
     "metadata": {},
     "output_type": "execute_result"
    }
   ],
   "source": [
    "from sklearn.tree import DecisionTreeRegressor\n",
    "\n",
    "tree_reg = DecisionTreeRegressor(random_state=42)\n",
    "tree_reg.fit(x_train, y_train)"
   ]
  },
  {
   "cell_type": "code",
   "execution_count": 37,
   "metadata": {},
   "outputs": [
    {
     "name": "stdout",
     "output_type": "stream",
     "text": [
      "Mean Square error:  1.6458566879834644\n",
      "R2 score:  0.9768372312611171\n"
     ]
    }
   ],
   "source": [
    "y_pred=tree_reg.predict(x_test)\n",
    "print(\"Mean Square error: \",mean_squared_error(y_test,y_pred))\n",
    "print(\"R2 score: \",r2_score(y_test,y_pred))\n",
    "reg_arr.append(r2_score(y_test,y_pred))"
   ]
  },
  {
   "cell_type": "code",
   "execution_count": 38,
   "metadata": {},
   "outputs": [
    {
     "name": "stdout",
     "output_type": "stream",
     "text": [
      "0.9764452198033968\n",
      "0.0011043945900411985\n"
     ]
    }
   ],
   "source": [
    "from sklearn.model_selection import cross_val_score\n",
    "accuracies = cross_val_score(estimator=tree_reg, X=x_train, y=y_train, cv=10)\n",
    "print(accuracies.mean())\n",
    "print(accuracies.std())"
   ]
  },
  {
   "cell_type": "code",
   "execution_count": 39,
   "metadata": {
    "scrolled": true
   },
   "outputs": [
    {
     "name": "stdout",
     "output_type": "stream",
     "text": [
      "[0.97723807 0.9761052  0.97886348 0.97587659 0.97520439 0.97613967\n",
      " 0.97761047 0.97657477 0.97512766 0.97571191]\n"
     ]
    }
   ],
   "source": [
    "print(accuracies)"
   ]
  },
  {
   "cell_type": "markdown",
   "metadata": {},
   "source": [
    "# Random Forest Regressor"
   ]
  },
  {
   "cell_type": "code",
   "execution_count": 40,
   "metadata": {},
   "outputs": [
    {
     "name": "stdout",
     "output_type": "stream",
     "text": [
      "Mean Squared Error:  1.6283563762828828\n",
      "R2 Score:  0.977083519820588\n"
     ]
    }
   ],
   "source": [
    "from sklearn.ensemble import RandomForestRegressor\n",
    "\n",
    "forest_reg = RandomForestRegressor(n_estimators=10, random_state=42)\n",
    "forest_reg.fit(x_train, y_train)\n",
    "y_pred = forest_reg.predict(x_test)\n",
    "forest_mse = mean_squared_error(y_test, y_pred)\n",
    "print(\"Mean Squared Error: \",forest_mse)\n",
    "print(\"R2 Score: \",r2_score(y_test,y_pred))\n",
    "reg_arr.append(r2_score(y_test,y_pred))"
   ]
  },
  {
   "cell_type": "markdown",
   "metadata": {},
   "source": [
    "# Using Cross Vlidation"
   ]
  },
  {
   "cell_type": "code",
   "execution_count": 41,
   "metadata": {},
   "outputs": [
    {
     "data": {
      "text/html": [
       "<div>\n",
       "<style scoped>\n",
       "    .dataframe tbody tr th:only-of-type {\n",
       "        vertical-align: middle;\n",
       "    }\n",
       "\n",
       "    .dataframe tbody tr th {\n",
       "        vertical-align: top;\n",
       "    }\n",
       "\n",
       "    .dataframe thead th {\n",
       "        text-align: right;\n",
       "    }\n",
       "</style>\n",
       "<table border=\"1\" class=\"dataframe\">\n",
       "  <thead>\n",
       "    <tr style=\"text-align: right;\">\n",
       "      <th></th>\n",
       "      <th>datetime_utc</th>\n",
       "      <th>_conds</th>\n",
       "      <th>_dewptm</th>\n",
       "      <th>_fog</th>\n",
       "      <th>_hail</th>\n",
       "      <th>_hum</th>\n",
       "      <th>_pressurem</th>\n",
       "      <th>_rain</th>\n",
       "      <th>_snow</th>\n",
       "      <th>_tempm</th>\n",
       "      <th>_thunder</th>\n",
       "      <th>_tornado</th>\n",
       "      <th>_vism</th>\n",
       "      <th>_wdird</th>\n",
       "      <th>_wdire</th>\n",
       "      <th>_wspdm</th>\n",
       "    </tr>\n",
       "  </thead>\n",
       "  <tbody>\n",
       "    <tr>\n",
       "      <th>0</th>\n",
       "      <td>19961101-11:00</td>\n",
       "      <td>Smoke</td>\n",
       "      <td>9.0</td>\n",
       "      <td>0</td>\n",
       "      <td>0</td>\n",
       "      <td>27.0</td>\n",
       "      <td>1010.0</td>\n",
       "      <td>0</td>\n",
       "      <td>0</td>\n",
       "      <td>30.0</td>\n",
       "      <td>0</td>\n",
       "      <td>0</td>\n",
       "      <td>5.0</td>\n",
       "      <td>280.0</td>\n",
       "      <td>West</td>\n",
       "      <td>7.4</td>\n",
       "    </tr>\n",
       "    <tr>\n",
       "      <th>1</th>\n",
       "      <td>19961101-12:00</td>\n",
       "      <td>Smoke</td>\n",
       "      <td>10.0</td>\n",
       "      <td>0</td>\n",
       "      <td>0</td>\n",
       "      <td>32.0</td>\n",
       "      <td>-9999.0</td>\n",
       "      <td>0</td>\n",
       "      <td>0</td>\n",
       "      <td>28.0</td>\n",
       "      <td>0</td>\n",
       "      <td>0</td>\n",
       "      <td>NaN</td>\n",
       "      <td>0.0</td>\n",
       "      <td>North</td>\n",
       "      <td>NaN</td>\n",
       "    </tr>\n",
       "    <tr>\n",
       "      <th>2</th>\n",
       "      <td>19961101-13:00</td>\n",
       "      <td>Smoke</td>\n",
       "      <td>11.0</td>\n",
       "      <td>0</td>\n",
       "      <td>0</td>\n",
       "      <td>44.0</td>\n",
       "      <td>-9999.0</td>\n",
       "      <td>0</td>\n",
       "      <td>0</td>\n",
       "      <td>24.0</td>\n",
       "      <td>0</td>\n",
       "      <td>0</td>\n",
       "      <td>NaN</td>\n",
       "      <td>0.0</td>\n",
       "      <td>North</td>\n",
       "      <td>NaN</td>\n",
       "    </tr>\n",
       "    <tr>\n",
       "      <th>3</th>\n",
       "      <td>19961101-14:00</td>\n",
       "      <td>Smoke</td>\n",
       "      <td>10.0</td>\n",
       "      <td>0</td>\n",
       "      <td>0</td>\n",
       "      <td>41.0</td>\n",
       "      <td>1010.0</td>\n",
       "      <td>0</td>\n",
       "      <td>0</td>\n",
       "      <td>24.0</td>\n",
       "      <td>0</td>\n",
       "      <td>0</td>\n",
       "      <td>2.0</td>\n",
       "      <td>0.0</td>\n",
       "      <td>North</td>\n",
       "      <td>NaN</td>\n",
       "    </tr>\n",
       "    <tr>\n",
       "      <th>4</th>\n",
       "      <td>19961101-16:00</td>\n",
       "      <td>Smoke</td>\n",
       "      <td>11.0</td>\n",
       "      <td>0</td>\n",
       "      <td>0</td>\n",
       "      <td>47.0</td>\n",
       "      <td>1011.0</td>\n",
       "      <td>0</td>\n",
       "      <td>0</td>\n",
       "      <td>23.0</td>\n",
       "      <td>0</td>\n",
       "      <td>0</td>\n",
       "      <td>1.2</td>\n",
       "      <td>0.0</td>\n",
       "      <td>North</td>\n",
       "      <td>0.0</td>\n",
       "    </tr>\n",
       "  </tbody>\n",
       "</table>\n",
       "</div>"
      ],
      "text/plain": [
       "     datetime_utc  _conds   _dewptm   _fog   _hail   _hum   _pressurem  \\\n",
       "0  19961101-11:00   Smoke       9.0      0       0   27.0       1010.0   \n",
       "1  19961101-12:00   Smoke      10.0      0       0   32.0      -9999.0   \n",
       "2  19961101-13:00   Smoke      11.0      0       0   44.0      -9999.0   \n",
       "3  19961101-14:00   Smoke      10.0      0       0   41.0       1010.0   \n",
       "4  19961101-16:00   Smoke      11.0      0       0   47.0       1011.0   \n",
       "\n",
       "    _rain   _snow   _tempm   _thunder   _tornado   _vism   _wdird  _wdire  \\\n",
       "0       0       0     30.0          0          0     5.0    280.0    West   \n",
       "1       0       0     28.0          0          0     NaN      0.0   North   \n",
       "2       0       0     24.0          0          0     NaN      0.0   North   \n",
       "3       0       0     24.0          0          0     2.0      0.0   North   \n",
       "4       0       0     23.0          0          0     1.2      0.0   North   \n",
       "\n",
       "    _wspdm  \n",
       "0      7.4  \n",
       "1      NaN  \n",
       "2      NaN  \n",
       "3      NaN  \n",
       "4      0.0  "
      ]
     },
     "execution_count": 41,
     "metadata": {},
     "output_type": "execute_result"
    }
   ],
   "source": [
    "dataset.head()"
   ]
  },
  {
   "cell_type": "markdown",
   "metadata": {},
   "source": [
    "Saving dew and temperature in varibles e and d respectively and preprocessing the data"
   ]
  },
  {
   "cell_type": "code",
   "execution_count": 42,
   "metadata": {},
   "outputs": [],
   "source": [
    "e=dataset[' _dewptm'].values.reshape(-1,1)\n",
    "d=dataset[' _tempm'].values.reshape(-1,1)\n",
    "\n",
    "imputer = SimpleImputer(missing_values=np.nan, strategy='mean')\n",
    "imputer = imputer.fit(d)\n",
    "d = imputer.transform(d)\n",
    "\n",
    "\n",
    "\n",
    "imputer = SimpleImputer(missing_values=np.nan, strategy='mean')\n",
    "imputer = imputer.fit(e)\n",
    "e = imputer.transform(e)"
   ]
  },
  {
   "cell_type": "code",
   "execution_count": 43,
   "metadata": {},
   "outputs": [],
   "source": [
    "from sklearn.model_selection import train_test_split\n",
    "d_train, d_test, e_train, e_test = train_test_split(d,e, test_size = 0.2)"
   ]
  },
  {
   "cell_type": "markdown",
   "metadata": {},
   "source": [
    "### When Spliting the sample into 10 folds"
   ]
  },
  {
   "cell_type": "code",
   "execution_count": 44,
   "metadata": {},
   "outputs": [
    {
     "name": "stdout",
     "output_type": "stream",
     "text": [
      "0.2775900759466424\n",
      "0.01226967551304729\n"
     ]
    }
   ],
   "source": [
    "from sklearn.model_selection import cross_val_score\n",
    "accuracies = cross_val_score(estimator=regressor, X=d_train, y=e_train, cv=10)\n",
    "print(accuracies.mean())\n",
    "print(accuracies.std())"
   ]
  },
  {
   "cell_type": "markdown",
   "metadata": {},
   "source": [
    "### When Spliting the sample into 50 folds"
   ]
  },
  {
   "cell_type": "code",
   "execution_count": 45,
   "metadata": {},
   "outputs": [
    {
     "name": "stdout",
     "output_type": "stream",
     "text": [
      "0.2772080894183134\n",
      "0.021665289678002426\n"
     ]
    }
   ],
   "source": [
    "from sklearn.model_selection import cross_val_score\n",
    "accuracies = cross_val_score(estimator=regressor, X=d_train, y=e_train, cv=50)\n",
    "print(accuracies.mean())\n",
    "print(accuracies.std())"
   ]
  },
  {
   "cell_type": "markdown",
   "metadata": {},
   "source": [
    "### When Spliting the sample into 100 folds"
   ]
  },
  {
   "cell_type": "code",
   "execution_count": 46,
   "metadata": {},
   "outputs": [
    {
     "name": "stdout",
     "output_type": "stream",
     "text": [
      "0.2766349816796926\n",
      "0.02995621227736045\n"
     ]
    }
   ],
   "source": [
    "from sklearn.model_selection import cross_val_score\n",
    "accuracies = cross_val_score(estimator=regressor, X=d_train, y=e_train, cv=100)\n",
    "print(accuracies.mean())\n",
    "print(accuracies.std())"
   ]
  },
  {
   "cell_type": "markdown",
   "metadata": {},
   "source": [
    "# KNN Regressor"
   ]
  },
  {
   "cell_type": "code",
   "execution_count": 47,
   "metadata": {},
   "outputs": [
    {
     "data": {
      "text/plain": [
       "KNeighborsRegressor(algorithm='auto', leaf_size=30, metric='minkowski',\n",
       "                    metric_params=None, n_jobs=None, n_neighbors=3, p=2,\n",
       "                    weights='uniform')"
      ]
     },
     "execution_count": 47,
     "metadata": {},
     "output_type": "execute_result"
    }
   ],
   "source": [
    "from sklearn.neighbors import KNeighborsRegressor\n",
    "reg = KNeighborsRegressor(n_neighbors=3)\n",
    "reg.fit(x_train,y_train)"
   ]
  },
  {
   "cell_type": "code",
   "execution_count": 48,
   "metadata": {},
   "outputs": [
    {
     "name": "stdout",
     "output_type": "stream",
     "text": [
      "Mean Squred Error:  2.025376549933437\n",
      "R2 score:  0.9714961035321102\n"
     ]
    }
   ],
   "source": [
    "y_pred=reg.predict(x_test)\n",
    "print(\"Mean Squred Error: \",mean_squared_error(y_test,y_pred))\n",
    "print(\"R2 score: \",r2_score(y_test,y_pred))\n",
    "reg_arr.append(r2_score(y_test,y_pred))"
   ]
  },
  {
   "cell_type": "markdown",
   "metadata": {},
   "source": [
    "By using Knn regressor our accuracy is improved even further to 97%"
   ]
  },
  {
   "cell_type": "markdown",
   "metadata": {},
   "source": [
    "# SVM"
   ]
  },
  {
   "cell_type": "markdown",
   "metadata": {},
   "source": [
    "Our SVM model for x,y was taking a lot of time(after 7 hrs not working so we have performed svm on another model)"
   ]
  },
  {
   "cell_type": "code",
   "execution_count": 51,
   "metadata": {},
   "outputs": [],
   "source": [
    "# Logistic Regression\n",
    "i=dataset[' _fog'].values.reshape(-1,1)\n",
    "h=dataset[' _hum'].values.reshape(-1,1)\n",
    "\n",
    "imputer = SimpleImputer(missing_values=np.nan, strategy='mean')\n",
    "imputer = imputer.fit(h)\n",
    "h = imputer.transform(h)\n",
    "\n",
    "\n",
    "# Feature Scaling\n",
    "from sklearn.preprocessing import StandardScaler\n",
    "sc = StandardScaler()\n",
    "h = sc.fit_transform(h)\n",
    "\n",
    "from sklearn.model_selection import train_test_split\n",
    "h_train , h_test , i_train, i_test = train_test_split(h, i, test_size = 0.2, random_state = 22 )\n",
    "\n"
   ]
  },
  {
   "cell_type": "code",
   "execution_count": 52,
   "metadata": {},
   "outputs": [
    {
     "name": "stderr",
     "output_type": "stream",
     "text": [
      "C:\\Users\\admin\\Anaconda3\\lib\\site-packages\\sklearn\\utils\\validation.py:724: DataConversionWarning: A column-vector y was passed when a 1d array was expected. Please change the shape of y to (n_samples, ), for example using ravel().\n",
      "  y = column_or_1d(y, warn=True)\n"
     ]
    },
    {
     "name": "stdout",
     "output_type": "stream",
     "text": [
      "R2 Score:  -0.013862114512909862\n"
     ]
    }
   ],
   "source": [
    "from sklearn.svm import SVR\n",
    "\n",
    "svm_reg = SVR(kernel=\"linear\")\n",
    "svm_reg.fit(h_train, i_train)\n",
    "i_pred = svm_reg.predict(h_test)\n",
    "svm_mse = mean_squared_error(i_test, i_pred)\n",
    "svm_rmse = np.sqrt(svm_mse)\n",
    "svm_rmse\n",
    "print(\"R2 Score: \",r2_score(i_test,i_pred))\n",
    "reg_arr.append(r2_score(i_test,i_pred))"
   ]
  },
  {
   "cell_type": "markdown",
   "metadata": {},
   "source": [
    "Using SVM as regressor for our dataset is a bad choice as we get our accuracy in negative. Hence we are going to ignore it."
   ]
  },
  {
   "cell_type": "code",
   "execution_count": 133,
   "metadata": {},
   "outputs": [
    {
     "data": {
      "text/html": [
       "<div>\n",
       "<style scoped>\n",
       "    .dataframe tbody tr th:only-of-type {\n",
       "        vertical-align: middle;\n",
       "    }\n",
       "\n",
       "    .dataframe tbody tr th {\n",
       "        vertical-align: top;\n",
       "    }\n",
       "\n",
       "    .dataframe thead th {\n",
       "        text-align: right;\n",
       "    }\n",
       "</style>\n",
       "<table border=\"1\" class=\"dataframe\">\n",
       "  <thead>\n",
       "    <tr style=\"text-align: right;\">\n",
       "      <th></th>\n",
       "      <th>0</th>\n",
       "    </tr>\n",
       "  </thead>\n",
       "  <tbody>\n",
       "    <tr>\n",
       "      <th>Linear Regression</th>\n",
       "      <td>0.922769</td>\n",
       "    </tr>\n",
       "    <tr>\n",
       "      <th>Polynomial Featues</th>\n",
       "      <td>0.962031</td>\n",
       "    </tr>\n",
       "    <tr>\n",
       "      <th>Decision tree Regressor</th>\n",
       "      <td>0.976837</td>\n",
       "    </tr>\n",
       "    <tr>\n",
       "      <th>Random Forest Regressor</th>\n",
       "      <td>0.977084</td>\n",
       "    </tr>\n",
       "    <tr>\n",
       "      <th>KNN Regressor</th>\n",
       "      <td>0.971496</td>\n",
       "    </tr>\n",
       "  </tbody>\n",
       "</table>\n",
       "</div>"
      ],
      "text/plain": [
       "                                0\n",
       "Linear Regression        0.922769\n",
       "Polynomial Featues       0.962031\n",
       "Decision tree Regressor  0.976837\n",
       "Random Forest Regressor  0.977084\n",
       "KNN Regressor            0.971496"
      ]
     },
     "execution_count": 133,
     "metadata": {},
     "output_type": "execute_result"
    }
   ],
   "source": [
    "\n",
    "list=['Linear Regression','Polynomial Featues','Decision tree Regressor','Random Forest Regressor','KNN Regressor']\n",
    "comp=pd.DataFrame(reg_arr,index=list)\n",
    "comp\n"
   ]
  },
  {
   "cell_type": "markdown",
   "metadata": {},
   "source": [
    "In the above table, the first column contains all the algorithms we have applied on our data and second column consists of R2 score which we got from each model. We can clearly see that R2 score for Random forest regression is highest with r2 score of around 97.7%. Hence we can use Random Forest regression for our model predictions instead of any other model."
   ]
  },
  {
   "cell_type": "code",
   "execution_count": 110,
   "metadata": {},
   "outputs": [
    {
     "data": {
      "text/html": [
       "<table class=\"simpletable\">\n",
       "<caption>OLS Regression Results</caption>\n",
       "<tr>\n",
       "  <th>Dep. Variable:</th>            <td>y</td>        <th>  R-squared:         </th> <td>   0.142</td> \n",
       "</tr>\n",
       "<tr>\n",
       "  <th>Model:</th>                   <td>OLS</td>       <th>  Adj. R-squared:    </th> <td>   0.142</td> \n",
       "</tr>\n",
       "<tr>\n",
       "  <th>Method:</th>             <td>Least Squares</td>  <th>  F-statistic:       </th> <td>1.334e+04</td>\n",
       "</tr>\n",
       "<tr>\n",
       "  <th>Date:</th>             <td>Mon, 20 Apr 2020</td> <th>  Prob (F-statistic):</th>  <td>  0.00</td>  \n",
       "</tr>\n",
       "<tr>\n",
       "  <th>Time:</th>                 <td>15:07:13</td>     <th>  Log-Likelihood:    </th> <td>  2162.6</td> \n",
       "</tr>\n",
       "<tr>\n",
       "  <th>No. Observations:</th>      <td> 80792</td>      <th>  AIC:               </th> <td>  -4321.</td> \n",
       "</tr>\n",
       "<tr>\n",
       "  <th>Df Residuals:</th>          <td> 80790</td>      <th>  BIC:               </th> <td>  -4303.</td> \n",
       "</tr>\n",
       "<tr>\n",
       "  <th>Df Model:</th>              <td>     1</td>      <th>                     </th>     <td> </td>    \n",
       "</tr>\n",
       "<tr>\n",
       "  <th>Covariance Type:</th>      <td>nonrobust</td>    <th>                     </th>     <td> </td>    \n",
       "</tr>\n",
       "</table>\n",
       "<table class=\"simpletable\">\n",
       "<tr>\n",
       "    <td></td>       <th>coef</th>     <th>std err</th>      <th>t</th>      <th>P>|t|</th>  <th>[0.025</th>    <th>0.975]</th>  \n",
       "</tr>\n",
       "<tr>\n",
       "  <th>const</th> <td>    0.0696</td> <td>    0.001</td> <td>   83.923</td> <td> 0.000</td> <td>    0.068</td> <td>    0.071</td>\n",
       "</tr>\n",
       "<tr>\n",
       "  <th>x1</th>    <td>    0.0957</td> <td>    0.001</td> <td>  115.481</td> <td> 0.000</td> <td>    0.094</td> <td>    0.097</td>\n",
       "</tr>\n",
       "</table>\n",
       "<table class=\"simpletable\">\n",
       "<tr>\n",
       "  <th>Omnibus:</th>       <td>42277.676</td> <th>  Durbin-Watson:     </th>  <td>   2.008</td> \n",
       "</tr>\n",
       "<tr>\n",
       "  <th>Prob(Omnibus):</th>  <td> 0.000</td>   <th>  Jarque-Bera (JB):  </th> <td>229973.875</td>\n",
       "</tr>\n",
       "<tr>\n",
       "  <th>Skew:</th>           <td> 2.607</td>   <th>  Prob(JB):          </th>  <td>    0.00</td> \n",
       "</tr>\n",
       "<tr>\n",
       "  <th>Kurtosis:</th>       <td> 9.413</td>   <th>  Cond. No.          </th>  <td>    1.00</td> \n",
       "</tr>\n",
       "</table><br/><br/>Warnings:<br/>[1] Standard Errors assume that the covariance matrix of the errors is correctly specified."
      ],
      "text/plain": [
       "<class 'statsmodels.iolib.summary.Summary'>\n",
       "\"\"\"\n",
       "                            OLS Regression Results                            \n",
       "==============================================================================\n",
       "Dep. Variable:                      y   R-squared:                       0.142\n",
       "Model:                            OLS   Adj. R-squared:                  0.142\n",
       "Method:                 Least Squares   F-statistic:                 1.334e+04\n",
       "Date:                Mon, 20 Apr 2020   Prob (F-statistic):               0.00\n",
       "Time:                        15:07:13   Log-Likelihood:                 2162.6\n",
       "No. Observations:               80792   AIC:                            -4321.\n",
       "Df Residuals:                   80790   BIC:                            -4303.\n",
       "Df Model:                           1                                         \n",
       "Covariance Type:            nonrobust                                         \n",
       "==============================================================================\n",
       "                 coef    std err          t      P>|t|      [0.025      0.975]\n",
       "------------------------------------------------------------------------------\n",
       "const          0.0696      0.001     83.923      0.000       0.068       0.071\n",
       "x1             0.0957      0.001    115.481      0.000       0.094       0.097\n",
       "==============================================================================\n",
       "Omnibus:                    42277.676   Durbin-Watson:                   2.008\n",
       "Prob(Omnibus):                  0.000   Jarque-Bera (JB):           229973.875\n",
       "Skew:                           2.607   Prob(JB):                         0.00\n",
       "Kurtosis:                       9.413   Cond. No.                         1.00\n",
       "==============================================================================\n",
       "\n",
       "Warnings:\n",
       "[1] Standard Errors assume that the covariance matrix of the errors is correctly specified.\n",
       "\"\"\""
      ]
     },
     "execution_count": 110,
     "metadata": {},
     "output_type": "execute_result"
    }
   ],
   "source": [
    "import statsmodels.api as sm\n",
    "l=sm.add_constant(h_train)\n",
    "model=sm.OLS(i_train,l).fit()\n",
    "model.summary()"
   ]
  },
  {
   "cell_type": "markdown",
   "metadata": {},
   "source": [
    "# Feature Selection"
   ]
  },
  {
   "cell_type": "code",
   "execution_count": 54,
   "metadata": {},
   "outputs": [
    {
     "data": {
      "text/html": [
       "<div>\n",
       "<style scoped>\n",
       "    .dataframe tbody tr th:only-of-type {\n",
       "        vertical-align: middle;\n",
       "    }\n",
       "\n",
       "    .dataframe tbody tr th {\n",
       "        vertical-align: top;\n",
       "    }\n",
       "\n",
       "    .dataframe thead th {\n",
       "        text-align: right;\n",
       "    }\n",
       "</style>\n",
       "<table border=\"1\" class=\"dataframe\">\n",
       "  <thead>\n",
       "    <tr style=\"text-align: right;\">\n",
       "      <th></th>\n",
       "      <th>datetime_utc</th>\n",
       "      <th>_conds</th>\n",
       "      <th>_dewptm</th>\n",
       "      <th>_fog</th>\n",
       "      <th>_hail</th>\n",
       "      <th>_hum</th>\n",
       "      <th>_pressurem</th>\n",
       "      <th>_rain</th>\n",
       "      <th>_snow</th>\n",
       "      <th>_tempm</th>\n",
       "      <th>_thunder</th>\n",
       "      <th>_tornado</th>\n",
       "      <th>_vism</th>\n",
       "      <th>_wdird</th>\n",
       "      <th>_wdire</th>\n",
       "      <th>_wspdm</th>\n",
       "    </tr>\n",
       "  </thead>\n",
       "  <tbody>\n",
       "    <tr>\n",
       "      <th>0</th>\n",
       "      <td>19961101-11:00</td>\n",
       "      <td>Smoke</td>\n",
       "      <td>9.0</td>\n",
       "      <td>0</td>\n",
       "      <td>0</td>\n",
       "      <td>27.0</td>\n",
       "      <td>1010.0</td>\n",
       "      <td>0</td>\n",
       "      <td>0</td>\n",
       "      <td>30.0</td>\n",
       "      <td>0</td>\n",
       "      <td>0</td>\n",
       "      <td>5.0</td>\n",
       "      <td>280.0</td>\n",
       "      <td>West</td>\n",
       "      <td>7.4</td>\n",
       "    </tr>\n",
       "    <tr>\n",
       "      <th>1</th>\n",
       "      <td>19961101-12:00</td>\n",
       "      <td>Smoke</td>\n",
       "      <td>10.0</td>\n",
       "      <td>0</td>\n",
       "      <td>0</td>\n",
       "      <td>32.0</td>\n",
       "      <td>-9999.0</td>\n",
       "      <td>0</td>\n",
       "      <td>0</td>\n",
       "      <td>28.0</td>\n",
       "      <td>0</td>\n",
       "      <td>0</td>\n",
       "      <td>NaN</td>\n",
       "      <td>0.0</td>\n",
       "      <td>North</td>\n",
       "      <td>NaN</td>\n",
       "    </tr>\n",
       "    <tr>\n",
       "      <th>2</th>\n",
       "      <td>19961101-13:00</td>\n",
       "      <td>Smoke</td>\n",
       "      <td>11.0</td>\n",
       "      <td>0</td>\n",
       "      <td>0</td>\n",
       "      <td>44.0</td>\n",
       "      <td>-9999.0</td>\n",
       "      <td>0</td>\n",
       "      <td>0</td>\n",
       "      <td>24.0</td>\n",
       "      <td>0</td>\n",
       "      <td>0</td>\n",
       "      <td>NaN</td>\n",
       "      <td>0.0</td>\n",
       "      <td>North</td>\n",
       "      <td>NaN</td>\n",
       "    </tr>\n",
       "    <tr>\n",
       "      <th>3</th>\n",
       "      <td>19961101-14:00</td>\n",
       "      <td>Smoke</td>\n",
       "      <td>10.0</td>\n",
       "      <td>0</td>\n",
       "      <td>0</td>\n",
       "      <td>41.0</td>\n",
       "      <td>1010.0</td>\n",
       "      <td>0</td>\n",
       "      <td>0</td>\n",
       "      <td>24.0</td>\n",
       "      <td>0</td>\n",
       "      <td>0</td>\n",
       "      <td>2.0</td>\n",
       "      <td>0.0</td>\n",
       "      <td>North</td>\n",
       "      <td>NaN</td>\n",
       "    </tr>\n",
       "    <tr>\n",
       "      <th>4</th>\n",
       "      <td>19961101-16:00</td>\n",
       "      <td>Smoke</td>\n",
       "      <td>11.0</td>\n",
       "      <td>0</td>\n",
       "      <td>0</td>\n",
       "      <td>47.0</td>\n",
       "      <td>1011.0</td>\n",
       "      <td>0</td>\n",
       "      <td>0</td>\n",
       "      <td>23.0</td>\n",
       "      <td>0</td>\n",
       "      <td>0</td>\n",
       "      <td>1.2</td>\n",
       "      <td>0.0</td>\n",
       "      <td>North</td>\n",
       "      <td>0.0</td>\n",
       "    </tr>\n",
       "  </tbody>\n",
       "</table>\n",
       "</div>"
      ],
      "text/plain": [
       "     datetime_utc  _conds   _dewptm   _fog   _hail   _hum   _pressurem  \\\n",
       "0  19961101-11:00   Smoke       9.0      0       0   27.0       1010.0   \n",
       "1  19961101-12:00   Smoke      10.0      0       0   32.0      -9999.0   \n",
       "2  19961101-13:00   Smoke      11.0      0       0   44.0      -9999.0   \n",
       "3  19961101-14:00   Smoke      10.0      0       0   41.0       1010.0   \n",
       "4  19961101-16:00   Smoke      11.0      0       0   47.0       1011.0   \n",
       "\n",
       "    _rain   _snow   _tempm   _thunder   _tornado   _vism   _wdird  _wdire  \\\n",
       "0       0       0     30.0          0          0     5.0    280.0    West   \n",
       "1       0       0     28.0          0          0     NaN      0.0   North   \n",
       "2       0       0     24.0          0          0     NaN      0.0   North   \n",
       "3       0       0     24.0          0          0     2.0      0.0   North   \n",
       "4       0       0     23.0          0          0     1.2      0.0   North   \n",
       "\n",
       "    _wspdm  \n",
       "0      7.4  \n",
       "1      NaN  \n",
       "2      NaN  \n",
       "3      NaN  \n",
       "4      0.0  "
      ]
     },
     "execution_count": 54,
     "metadata": {},
     "output_type": "execute_result"
    }
   ],
   "source": [
    "dataset.head()"
   ]
  },
  {
   "cell_type": "code",
   "execution_count": 55,
   "metadata": {},
   "outputs": [],
   "source": [
    "from sklearn.feature_selection import SelectKBest\n",
    "from sklearn.feature_selection import chi2"
   ]
  },
  {
   "cell_type": "code",
   "execution_count": 56,
   "metadata": {},
   "outputs": [
    {
     "name": "stdout",
     "output_type": "stream",
     "text": [
      "       Specs          Score\n",
      "2       _hum  197731.887224\n",
      "5     _tempm  100655.988218\n",
      "0       _fog    6789.586941\n",
      "3      _rain    2636.961320\n",
      "6   _thunder     532.224072\n",
      "1      _hail      26.081630\n",
      "7   _tornado      21.319379\n",
      "4      _snow      17.108302\n"
     ]
    }
   ],
   "source": [
    "\n",
    "R=dataset.iloc[:,[3,4,5,7,8,9,10,11]]\n",
    "t=dataset.iloc[:,2]\n",
    "R=R.fillna(0)\n",
    "t=t.fillna(0)\n",
    "\n",
    "\n",
    "bestfeatures = SelectKBest(score_func=chi2, k='all')\n",
    "fit = bestfeatures.fit(R,t)\n",
    "dfscores = pd.DataFrame(fit.scores_)\n",
    "dfcolumns = pd.DataFrame(R.columns)\n",
    "featureScores = pd.concat([dfcolumns,dfscores],axis=1)\n",
    "featureScores.columns = ['Specs','Score']  \n",
    "print(featureScores.nlargest(10,'Score').sort_values(by='Score',ascending=False))  "
   ]
  },
  {
   "cell_type": "markdown",
   "metadata": {},
   "source": [
    "Using the feature selection, we come to know which features are best suited for our model training. As we can see _hum have highest score and _tempm feature have second highest score. So these two features will provide good accuracy for classifying the currencies."
   ]
  },
  {
   "cell_type": "markdown",
   "metadata": {},
   "source": [
    "# Classification Techniques"
   ]
  },
  {
   "cell_type": "markdown",
   "metadata": {},
   "source": [
    "# 1) Decision Tree 1"
   ]
  },
  {
   "cell_type": "markdown",
   "metadata": {},
   "source": [
    "A decision tree is a decision support tool that uses a tree-like model of decisions and their possible consequences, including chance event outcomes, resource costs, and utility. It is one way to display an algorithm that only contains conditional control statements."
   ]
  },
  {
   "cell_type": "markdown",
   "metadata": {},
   "source": [
    "For our decision tree 1 model we have taken features similar to our regression model. For decision tree model we do not need feature selection as in decision tree optimum features are taken and hence their is no need for feature selection in this case."
   ]
  },
  {
   "cell_type": "code",
   "execution_count": 57,
   "metadata": {},
   "outputs": [],
   "source": [
    "# Decision tree\n",
    "from sklearn.tree import DecisionTreeClassifier\n",
    "classifier = DecisionTreeClassifier(criterion = 'entropy')\n",
    "classifier.fit(x_train, y_train)\n",
    "\n",
    "# Predicting the Test set results\n",
    "y_pred = classifier.predict(x_test)\n",
    "\n",
    "# Making the Confusion Matrix\n",
    "from sklearn.metrics import confusion_matrix\n",
    "cm = confusion_matrix(y_test, y_pred)\n",
    "\n"
   ]
  },
  {
   "cell_type": "code",
   "execution_count": 58,
   "metadata": {},
   "outputs": [
    {
     "name": "stdout",
     "output_type": "stream",
     "text": [
      "Accuracy:  0.826467967125458\n"
     ]
    }
   ],
   "source": [
    "score = classifier.score(x_test, y_test)\n",
    "print(\"Accuracy: \",score)"
   ]
  },
  {
   "cell_type": "markdown",
   "metadata": {},
   "source": [
    "# Decision Tree 2"
   ]
  },
  {
   "cell_type": "code",
   "execution_count": 59,
   "metadata": {},
   "outputs": [
    {
     "name": "stdout",
     "output_type": "stream",
     "text": [
      "Accuracy:  0.9369739578176057\n"
     ]
    }
   ],
   "source": [
    "# Decision tree\n",
    "from sklearn.tree import DecisionTreeClassifier\n",
    "classifier = DecisionTreeClassifier(criterion = 'entropy')\n",
    "classifier.fit(h_train, i_train)\n",
    "\n",
    "# Predicting the Test set results\n",
    "i_pred = classifier.predict(h_test)\n",
    "\n",
    "# Making the Confusion Matrix\n",
    "from sklearn.metrics import confusion_matrix\n",
    "cm = confusion_matrix(i_test, i_pred)\n",
    "\n",
    "score = classifier.score(h_test, i_test)\n",
    "print(\"Accuracy: \",score)"
   ]
  },
  {
   "cell_type": "markdown",
   "metadata": {},
   "source": [
    "Using accuracy_score function for calculating the accuracy for our trained model. With the help of decision tree classifier the accuracy comes out to be around 93.69% which is good for our data and we do not need to make any improvements to make a better model."
   ]
  },
  {
   "cell_type": "code",
   "execution_count": 60,
   "metadata": {},
   "outputs": [
    {
     "name": "stdout",
     "output_type": "stream",
     "text": [
      "[[18401   373]\n",
      " [  900   524]]\n"
     ]
    }
   ],
   "source": [
    "print(cm)"
   ]
  },
  {
   "cell_type": "code",
   "execution_count": 61,
   "metadata": {},
   "outputs": [],
   "source": [
    "def accuracy(cm):\n",
    "    return (cm[0][0]+cm[1][1])/(cm[0][0]+cm[0][1]+cm[1][0]+cm[1][1])\n",
    "def error_rate(cm):\n",
    "    return (cm[0][1]+cm[1][0])/(cm[0][0]+cm[0][1]+cm[1][0]+cm[1][1])\n",
    "def sensitivity(cm):\n",
    "    return cm[0][0]/(cm[0][0]+cm[0][1])\n",
    "def specificity(cm):\n",
    "    return cm[1][1]/(cm[1][0]+cm[1][1])\n",
    "def precision(cm):\n",
    "    return cm[0][0]/(cm[0][0]+cm[1][0])\n",
    "def recall(cm):\n",
    "    return cm[0][0]/(cm[0][0]+cm[0][1])\n",
    "def f(cm):\n",
    "    return (2*precision(cm)*recall(cm))/(precision(cm)+recall(cm))"
   ]
  },
  {
   "cell_type": "code",
   "execution_count": 62,
   "metadata": {},
   "outputs": [
    {
     "name": "stdout",
     "output_type": "stream",
     "text": [
      "0.9369739578176057\n",
      "0.0630260421823943\n",
      "0.980132097581762\n",
      "0.36797752808988765\n",
      "0.9533702916947309\n",
      "0.980132097581762\n",
      "0.9665659881812213\n"
     ]
    }
   ],
   "source": [
    "print(accuracy(cm))\n",
    "print(error_rate(cm))\n",
    "print(sensitivity(cm))\n",
    "print(specificity(cm))\n",
    "print(precision(cm))\n",
    "print(recall(cm))\n",
    "print(f(cm))"
   ]
  },
  {
   "cell_type": "code",
   "execution_count": 64,
   "metadata": {},
   "outputs": [],
   "source": [
    "clf_arr=array.array('f',)\n",
    "clf_arr.append(score)"
   ]
  },
  {
   "cell_type": "code",
   "execution_count": 65,
   "metadata": {},
   "outputs": [
    {
     "name": "stdout",
     "output_type": "stream",
     "text": [
      "              precision    recall  f1-score   support\n",
      "\n",
      "           0       0.95      0.98      0.97     18774\n",
      "           1       0.58      0.37      0.45      1424\n",
      "\n",
      "    accuracy                           0.94     20198\n",
      "   macro avg       0.77      0.67      0.71     20198\n",
      "weighted avg       0.93      0.94      0.93     20198\n",
      "\n"
     ]
    }
   ],
   "source": [
    "from sklearn.metrics import classification_report\n",
    "report=classification_report(i_test,i_pred)\n",
    "print(report)"
   ]
  },
  {
   "cell_type": "markdown",
   "metadata": {},
   "source": [
    "# KNN Classification"
   ]
  },
  {
   "cell_type": "markdown",
   "metadata": {},
   "source": [
    "The Seconf model we are going to use is KNN. It is lazy learner and it can be used for both regression and classification."
   ]
  },
  {
   "cell_type": "markdown",
   "metadata": {},
   "source": [
    "We have deploye our KNN models for 3 models of which 2 are trained aand tested before and one we have made another model for better accuracy from our KNN classification"
   ]
  },
  {
   "cell_type": "code",
   "execution_count": 66,
   "metadata": {},
   "outputs": [],
   "source": [
    "from sklearn.neighbors import KNeighborsClassifier"
   ]
  },
  {
   "cell_type": "code",
   "execution_count": 67,
   "metadata": {},
   "outputs": [],
   "source": [
    "knn = KNeighborsClassifier(n_neighbors=1)"
   ]
  },
  {
   "cell_type": "code",
   "execution_count": 68,
   "metadata": {},
   "outputs": [
    {
     "data": {
      "text/plain": [
       "KNeighborsClassifier(algorithm='auto', leaf_size=30, metric='minkowski',\n",
       "                     metric_params=None, n_jobs=None, n_neighbors=1, p=2,\n",
       "                     weights='uniform')"
      ]
     },
     "execution_count": 68,
     "metadata": {},
     "output_type": "execute_result"
    }
   ],
   "source": [
    "knn.fit(x_train,y_train)"
   ]
  },
  {
   "cell_type": "code",
   "execution_count": 69,
   "metadata": {},
   "outputs": [],
   "source": [
    "pred = knn.predict(x_test)"
   ]
  },
  {
   "cell_type": "code",
   "execution_count": 70,
   "metadata": {},
   "outputs": [],
   "source": [
    "from sklearn.metrics import classification_report,confusion_matrix"
   ]
  },
  {
   "cell_type": "code",
   "execution_count": 71,
   "metadata": {},
   "outputs": [
    {
     "name": "stdout",
     "output_type": "stream",
     "text": [
      "[[ 1  1  0 ...  0  0  0]\n",
      " [ 0  7  0 ...  0  0  0]\n",
      " [ 0  2 36 ...  0  0  0]\n",
      " ...\n",
      " [ 0  0  0 ...  1  0  0]\n",
      " [ 0  0  0 ...  2  1  0]\n",
      " [ 0  0  0 ...  0  0  0]]\n"
     ]
    }
   ],
   "source": [
    "print(confusion_matrix(y_test,pred))"
   ]
  },
  {
   "cell_type": "code",
   "execution_count": 72,
   "metadata": {},
   "outputs": [
    {
     "name": "stdout",
     "output_type": "stream",
     "text": [
      "              precision    recall  f1-score   support\n",
      "\n",
      "           1       1.00      0.50      0.67         2\n",
      "           2       0.70      1.00      0.82         7\n",
      "           3       0.86      0.84      0.85        43\n",
      "           4       0.88      0.84      0.86        88\n",
      "           5       0.88      0.91      0.89       132\n",
      "           6       0.91      0.91      0.91       200\n",
      "           7       0.89      0.85      0.87       253\n",
      "           8       0.80      0.85      0.82       304\n",
      "           9       0.87      0.89      0.88       366\n",
      "          10       0.90      0.89      0.90       384\n",
      "          11       0.89      0.87      0.88       453\n",
      "          12       0.84      0.87      0.85       456\n",
      "          13       0.85      0.84      0.84       533\n",
      "          14       0.86      0.78      0.82       482\n",
      "          15       0.84      0.83      0.84       533\n",
      "          16       0.82      0.84      0.83       479\n",
      "          17       0.86      0.83      0.84       535\n",
      "          18       0.75      0.80      0.77       487\n",
      "          19       0.75      0.77      0.76       549\n",
      "          20       0.76      0.75      0.75       492\n",
      "          21       0.76      0.76      0.76       566\n",
      "          22       0.75      0.76      0.76       569\n",
      "          23       0.71      0.77      0.74       670\n",
      "          24       0.67      0.75      0.71       786\n",
      "          25       0.77      0.77      0.77      1156\n",
      "          26       0.75      0.74      0.75      1142\n",
      "          27       0.75      0.73      0.74      1226\n",
      "          28       0.75      0.69      0.72      1085\n",
      "          29       0.74      0.68      0.71      1020\n",
      "          30       0.69      0.73      0.71       919\n",
      "          31       0.74      0.76      0.75       897\n",
      "          32       0.64      0.72      0.68       739\n",
      "          33       0.70      0.63      0.66       686\n",
      "          34       0.57      0.49      0.53       424\n",
      "          35       0.69      0.64      0.66       424\n",
      "          36       0.60      0.61      0.61       287\n",
      "          37       0.64      0.65      0.65       257\n",
      "          38       0.58      0.53      0.56       174\n",
      "          39       0.45      0.60      0.51       129\n",
      "          40       0.58      0.60      0.59       117\n",
      "          41       0.53      0.69      0.60        72\n",
      "          42       0.69      0.43      0.53        46\n",
      "          43       0.59      0.50      0.54        20\n",
      "          44       0.25      0.25      0.25         4\n",
      "          45       1.00      0.25      0.40         4\n",
      "          49       0.00      0.00      0.00         1\n",
      "\n",
      "    accuracy                           0.75     20198\n",
      "   macro avg       0.73      0.70      0.71     20198\n",
      "weighted avg       0.75      0.75      0.75     20198\n",
      "\n"
     ]
    },
    {
     "name": "stderr",
     "output_type": "stream",
     "text": [
      "C:\\Users\\admin\\Anaconda3\\lib\\site-packages\\sklearn\\metrics\\classification.py:1437: UndefinedMetricWarning: Precision and F-score are ill-defined and being set to 0.0 in labels with no predicted samples.\n",
      "  'precision', 'predicted', average, warn_for)\n"
     ]
    }
   ],
   "source": [
    "print(classification_report(y_test,pred))"
   ]
  },
  {
   "cell_type": "code",
   "execution_count": 74,
   "metadata": {},
   "outputs": [],
   "source": [
    "error_rate = []\n",
    "\n",
    "# Will take some time\n",
    "for i in range(1,40):\n",
    "    \n",
    "    knn = KNeighborsClassifier(n_neighbors=i)\n",
    "    knn.fit(x_train,y_train)\n",
    "    pred_i = knn.predict(x_test)\n",
    "    error_rate.append(np.mean(pred_i != y_test))"
   ]
  },
  {
   "cell_type": "code",
   "execution_count": 75,
   "metadata": {},
   "outputs": [
    {
     "data": {
      "text/plain": [
       "Text(0, 0.5, 'Error Rate')"
      ]
     },
     "execution_count": 75,
     "metadata": {},
     "output_type": "execute_result"
    },
    {
     "data": {
      "image/png": "[encoded data removed]",
      "text/plain": [
       "<Figure size 720x432 with 1 Axes>"
      ]
     },
     "metadata": {
      "needs_background": "light"
     },
     "output_type": "display_data"
    }
   ],
   "source": [
    "plt.figure(figsize=(10,6))\n",
    "plt.plot(range(1,40),error_rate,color='blue', linestyle='dashed', marker='o',\n",
    "         markerfacecolor='red', markersize=10)\n",
    "plt.title('Error Rate vs. K Value')\n",
    "plt.xlabel('K')\n",
    "plt.ylabel('Error Rate')"
   ]
  },
  {
   "cell_type": "code",
   "execution_count": 76,
   "metadata": {
    "scrolled": true
   },
   "outputs": [
    {
     "name": "stdout",
     "output_type": "stream",
     "text": [
      "WITH K=1\n",
      "\n",
      "\n",
      "[[ 1  1  0 ...  0  0  0]\n",
      " [ 0  7  0 ...  0  0  0]\n",
      " [ 0  2 36 ...  0  0  0]\n",
      " ...\n",
      " [ 0  0  0 ...  1  0  0]\n",
      " [ 0  0  0 ...  2  1  0]\n",
      " [ 0  0  0 ...  0  0  0]]\n",
      "\n",
      "\n",
      "              precision    recall  f1-score   support\n",
      "\n",
      "           1       1.00      0.50      0.67         2\n",
      "           2       0.70      1.00      0.82         7\n",
      "           3       0.86      0.84      0.85        43\n",
      "           4       0.88      0.84      0.86        88\n",
      "           5       0.88      0.91      0.89       132\n",
      "           6       0.91      0.91      0.91       200\n",
      "           7       0.89      0.85      0.87       253\n",
      "           8       0.80      0.85      0.82       304\n",
      "           9       0.87      0.89      0.88       366\n",
      "          10       0.90      0.89      0.90       384\n",
      "          11       0.89      0.87      0.88       453\n",
      "          12       0.84      0.87      0.85       456\n",
      "          13       0.85      0.84      0.84       533\n",
      "          14       0.86      0.78      0.82       482\n",
      "          15       0.84      0.83      0.84       533\n",
      "          16       0.82      0.84      0.83       479\n",
      "          17       0.86      0.83      0.84       535\n",
      "          18       0.75      0.80      0.77       487\n",
      "          19       0.75      0.77      0.76       549\n",
      "          20       0.76      0.75      0.75       492\n",
      "          21       0.76      0.76      0.76       566\n",
      "          22       0.75      0.76      0.76       569\n",
      "          23       0.71      0.77      0.74       670\n",
      "          24       0.67      0.75      0.71       786\n",
      "          25       0.77      0.77      0.77      1156\n",
      "          26       0.75      0.74      0.75      1142\n",
      "          27       0.75      0.73      0.74      1226\n",
      "          28       0.75      0.69      0.72      1085\n",
      "          29       0.74      0.68      0.71      1020\n",
      "          30       0.69      0.73      0.71       919\n",
      "          31       0.74      0.76      0.75       897\n",
      "          32       0.64      0.72      0.68       739\n",
      "          33       0.70      0.63      0.66       686\n",
      "          34       0.57      0.49      0.53       424\n",
      "          35       0.69      0.64      0.66       424\n",
      "          36       0.60      0.61      0.61       287\n",
      "          37       0.64      0.65      0.65       257\n",
      "          38       0.58      0.53      0.56       174\n",
      "          39       0.45      0.60      0.51       129\n",
      "          40       0.58      0.60      0.59       117\n",
      "          41       0.53      0.69      0.60        72\n",
      "          42       0.69      0.43      0.53        46\n",
      "          43       0.59      0.50      0.54        20\n",
      "          44       0.25      0.25      0.25         4\n",
      "          45       1.00      0.25      0.40         4\n",
      "          49       0.00      0.00      0.00         1\n",
      "\n",
      "    accuracy                           0.75     20198\n",
      "   macro avg       0.73      0.70      0.71     20198\n",
      "weighted avg       0.75      0.75      0.75     20198\n",
      "\n"
     ]
    },
    {
     "name": "stderr",
     "output_type": "stream",
     "text": [
      "C:\\Users\\admin\\Anaconda3\\lib\\site-packages\\sklearn\\metrics\\classification.py:1437: UndefinedMetricWarning: Precision and F-score are ill-defined and being set to 0.0 in labels with no predicted samples.\n",
      "  'precision', 'predicted', average, warn_for)\n"
     ]
    }
   ],
   "source": [
    "# FIRST A QUICK COMPARISON TO OUR ORIGINAL K=1\n",
    "knn = KNeighborsClassifier(n_neighbors=1)\n",
    "\n",
    "knn.fit(x_train,y_train)\n",
    "pred = knn.predict(x_test)\n",
    "\n",
    "print('WITH K=1')\n",
    "print('\\n')\n",
    "print(confusion_matrix(y_test,pred))\n",
    "print('\\n')\n",
    "print(classification_report(y_test,pred))"
   ]
  },
  {
   "cell_type": "code",
   "execution_count": 77,
   "metadata": {},
   "outputs": [
    {
     "name": "stdout",
     "output_type": "stream",
     "text": [
      "WITH K=23\n",
      "\n",
      "\n",
      "[[ 0  0  1 ...  0  0  0]\n",
      " [ 0  4  1 ...  0  0  0]\n",
      " [ 0  0 26 ...  0  0  0]\n",
      " ...\n",
      " [ 0  0  0 ...  0  0  0]\n",
      " [ 0  0  0 ...  0  0  0]\n",
      " [ 0  0  0 ...  0  0  0]]\n",
      "\n",
      "\n",
      "              precision    recall  f1-score   support\n",
      "\n",
      "           1       0.00      0.00      0.00         2\n",
      "           2       1.00      0.57      0.73         7\n",
      "           3       0.87      0.60      0.71        43\n",
      "           4       0.77      0.58      0.66        88\n",
      "           5       0.68      0.83      0.75       132\n",
      "           6       0.79      0.80      0.79       200\n",
      "           7       0.84      0.76      0.80       253\n",
      "           8       0.83      0.86      0.84       304\n",
      "           9       0.83      0.84      0.84       366\n",
      "          10       0.83      0.84      0.84       384\n",
      "          11       0.86      0.84      0.85       453\n",
      "          12       0.83      0.76      0.79       456\n",
      "          13       0.78      0.81      0.79       533\n",
      "          14       0.74      0.70      0.72       482\n",
      "          15       0.79      0.72      0.75       533\n",
      "          16       0.81      0.77      0.79       479\n",
      "          17       0.81      0.77      0.79       535\n",
      "          18       0.73      0.70      0.71       487\n",
      "          19       0.77      0.73      0.75       549\n",
      "          20       0.77      0.70      0.73       492\n",
      "          21       0.81      0.78      0.79       566\n",
      "          22       0.75      0.71      0.73       569\n",
      "          23       0.79      0.73      0.76       670\n",
      "          24       0.78      0.74      0.76       786\n",
      "          25       0.80      0.79      0.79      1156\n",
      "          26       0.79      0.78      0.79      1142\n",
      "          27       0.80      0.79      0.80      1226\n",
      "          28       0.79      0.76      0.77      1085\n",
      "          29       0.79      0.78      0.78      1020\n",
      "          30       0.74      0.77      0.76       919\n",
      "          31       0.73      0.78      0.75       897\n",
      "          32       0.71      0.74      0.72       739\n",
      "          33       0.65      0.77      0.70       686\n",
      "          34       0.56      0.72      0.63       424\n",
      "          35       0.60      0.67      0.63       424\n",
      "          36       0.51      0.70      0.59       287\n",
      "          37       0.53      0.54      0.53       257\n",
      "          38       0.37      0.41      0.39       174\n",
      "          39       0.36      0.48      0.41       129\n",
      "          40       0.48      0.25      0.33       117\n",
      "          41       0.50      0.40      0.45        72\n",
      "          42       0.51      0.43      0.47        46\n",
      "          43       0.31      0.20      0.24        20\n",
      "          44       0.00      0.00      0.00         4\n",
      "          45       0.00      0.00      0.00         4\n",
      "          49       0.00      0.00      0.00         1\n",
      "\n",
      "    accuracy                           0.75     20198\n",
      "   macro avg       0.65      0.63      0.64     20198\n",
      "weighted avg       0.75      0.75      0.75     20198\n",
      "\n"
     ]
    },
    {
     "name": "stderr",
     "output_type": "stream",
     "text": [
      "C:\\Users\\admin\\Anaconda3\\lib\\site-packages\\sklearn\\metrics\\classification.py:1437: UndefinedMetricWarning: Precision and F-score are ill-defined and being set to 0.0 in labels with no predicted samples.\n",
      "  'precision', 'predicted', average, warn_for)\n"
     ]
    }
   ],
   "source": [
    "# NOW WITH K=23\n",
    "knn = KNeighborsClassifier(n_neighbors=23)\n",
    "\n",
    "knn.fit(x_train,y_train)\n",
    "pred = knn.predict(x_test)\n",
    "\n",
    "print('WITH K=23')\n",
    "print('\\n')\n",
    "print(confusion_matrix(y_test,pred))\n",
    "print('\\n')\n",
    "print(classification_report(y_test,pred))"
   ]
  },
  {
   "cell_type": "markdown",
   "metadata": {},
   "source": [
    "# KNN 2"
   ]
  },
  {
   "cell_type": "code",
   "execution_count": 78,
   "metadata": {},
   "outputs": [],
   "source": [
    "A=pd.DataFrame(dataset.iloc[:,[9,5]])\n",
    "\n",
    "b=pd.DataFrame(dataset.iloc[:,14])\n",
    "\n",
    "\n",
    "from sklearn.impute import SimpleImputer\n",
    "imputer = SimpleImputer(missing_values=np.nan, strategy='median')\n",
    "imputer = imputer.fit(A.iloc[:,])\n",
    "A.iloc[:,] = imputer.transform(A.iloc[:,])\n",
    "\n",
    "imputer = SimpleImputer(missing_values=np.nan, strategy='most_frequent')\n",
    "imputer = imputer.fit(b.iloc[:,])\n",
    "b.iloc[:,] = imputer.transform(b.iloc[:,])\n",
    "\n",
    "\n",
    "from sklearn.model_selection import train_test_split\n",
    "A_train,A_test,b_train,b_test=train_test_split(A,b,test_size=0.3)\n"
   ]
  },
  {
   "cell_type": "code",
   "execution_count": 79,
   "metadata": {},
   "outputs": [
    {
     "name": "stderr",
     "output_type": "stream",
     "text": [
      "C:\\Users\\admin\\Anaconda3\\lib\\site-packages\\ipykernel_launcher.py:1: DataConversionWarning: A column-vector y was passed when a 1d array was expected. Please change the shape of y to (n_samples, ), for example using ravel().\n",
      "  \"\"\"Entry point for launching an IPython kernel.\n"
     ]
    },
    {
     "name": "stdout",
     "output_type": "stream",
     "text": [
      "[[  34   50  112    0    3   11   32  710   16    3    0    1    1    0\n",
      "    46    9   77]\n",
      " [  35   75  235    0    1   19   56  963   41    8    0    2    0    0\n",
      "    40    7  134]\n",
      " [  42  103  262    0    2   13   40 1377   39    9    0    4    0    0\n",
      "    64   18  139]\n",
      " [  15   35   57    1    2    5   33  474    5    3    0    4    0    0\n",
      "    30    8   75]\n",
      " [   7   15   36    1    2   11   35  321   11    0    0    4    0    0\n",
      "    33    6   70]\n",
      " [  11   15   37    1    2   28  134  314    4    0    0    4    0    0\n",
      "    72   14  128]\n",
      " [  10   32   73    1    9   44  388  973    8    6    0    5    1    0\n",
      "   191   35  340]\n",
      " [  56  157  410    2    6   60  256 8386   59   19    0   18    0    0\n",
      "   172   50  513]\n",
      " [  15   64  141    0    0   11   31  655   24    6    0    0    3    0\n",
      "    24   12   90]\n",
      " [  12   31   74    1    0    9   18  379   15    9    0    2    0    0\n",
      "    18    4   55]\n",
      " [   4   11   43    1    0    2   21  353    8    1    0    2    1    0\n",
      "    12   10   57]\n",
      " [  11   27   55    0    0   11   48  631   13    3    0    4    0    0\n",
      "    44   13   92]\n",
      " [   5   20   53    0    2    6   23  253    9    0    0    1    0    0\n",
      "    20   10   43]\n",
      " [   0    0    0    0    0    0    0    3    0    0    0    0    0    0\n",
      "     0    0    0]\n",
      " [  31   59   95    1    3   34  317 1152   12    2    0    8    0    0\n",
      "   194   34  297]\n",
      " [  14   35   86    1    1   15  105 1028   10    1    0    2    0    0\n",
      "    77   28  217]\n",
      " [  31   98  163    2    4   41  287 2122   26    6    0    6    3    0\n",
      "   262   49  533]]\n"
     ]
    }
   ],
   "source": [
    "knn.fit(A_train,b_train)\n",
    "pred = knn.predict(A_test)\n",
    "print(confusion_matrix(b_test,pred))"
   ]
  },
  {
   "cell_type": "code",
   "execution_count": 80,
   "metadata": {},
   "outputs": [
    {
     "name": "stderr",
     "output_type": "stream",
     "text": [
      "C:\\Users\\admin\\Anaconda3\\lib\\site-packages\\sklearn\\metrics\\classification.py:1437: UndefinedMetricWarning: Precision and F-score are ill-defined and being set to 0.0 in labels with no predicted samples.\n",
      "  'precision', 'predicted', average, warn_for)\n"
     ]
    },
    {
     "name": "stdout",
     "output_type": "stream",
     "text": [
      "              precision    recall  f1-score   support\n",
      "\n",
      "         ENE       0.10      0.03      0.05      1105\n",
      "         ESE       0.09      0.05      0.06      1616\n",
      "        East       0.14      0.12      0.13      2112\n",
      "          NE       0.08      0.00      0.00       747\n",
      "         NNE       0.05      0.00      0.01       552\n",
      "         NNW       0.09      0.04      0.05       764\n",
      "          NW       0.21      0.18      0.20      2116\n",
      "       North       0.42      0.83      0.55     10164\n",
      "          SE       0.08      0.02      0.03      1076\n",
      "         SSE       0.12      0.01      0.03       627\n",
      "         SSW       0.00      0.00      0.00       526\n",
      "          SW       0.06      0.00      0.01       952\n",
      "       South       0.00      0.00      0.00       445\n",
      "    Variable       0.00      0.00      0.00         3\n",
      "         WNW       0.15      0.09      0.11      2239\n",
      "         WSW       0.09      0.02      0.03      1620\n",
      "        West       0.19      0.15      0.16      3633\n",
      "\n",
      "    accuracy                           0.33     30297\n",
      "   macro avg       0.11      0.09      0.08     30297\n",
      "weighted avg       0.22      0.33      0.25     30297\n",
      "\n"
     ]
    }
   ],
   "source": [
    "print(classification_report(b_test,pred))"
   ]
  },
  {
   "cell_type": "markdown",
   "metadata": {},
   "source": [
    "# KNN 3"
   ]
  },
  {
   "cell_type": "code",
   "execution_count": 81,
   "metadata": {},
   "outputs": [
    {
     "name": "stderr",
     "output_type": "stream",
     "text": [
      "C:\\Users\\admin\\Anaconda3\\lib\\site-packages\\ipykernel_launcher.py:1: DataConversionWarning: A column-vector y was passed when a 1d array was expected. Please change the shape of y to (n_samples, ), for example using ravel().\n",
      "  \"\"\"Entry point for launching an IPython kernel.\n"
     ]
    },
    {
     "name": "stdout",
     "output_type": "stream",
     "text": [
      "[[18307   467]\n",
      " [  856   568]]\n"
     ]
    }
   ],
   "source": [
    "knn.fit(h_train,i_train)\n",
    "pred = knn.predict(h_test)\n",
    "print(confusion_matrix(i_test,pred))"
   ]
  },
  {
   "cell_type": "code",
   "execution_count": 82,
   "metadata": {},
   "outputs": [
    {
     "name": "stdout",
     "output_type": "stream",
     "text": [
      "              precision    recall  f1-score   support\n",
      "\n",
      "           0       0.96      0.98      0.97     18774\n",
      "           1       0.55      0.40      0.46      1424\n",
      "\n",
      "    accuracy                           0.93     20198\n",
      "   macro avg       0.75      0.69      0.71     20198\n",
      "weighted avg       0.93      0.93      0.93     20198\n",
      "\n"
     ]
    }
   ],
   "source": [
    "print(classification_report(i_test,pred))"
   ]
  },
  {
   "cell_type": "code",
   "execution_count": 83,
   "metadata": {},
   "outputs": [],
   "source": [
    "from sklearn.neighbors import KNeighborsClassifier\n",
    "knn = KNeighborsClassifier(n_neighbors=1)"
   ]
  },
  {
   "cell_type": "code",
   "execution_count": 84,
   "metadata": {},
   "outputs": [],
   "source": [
    "import warnings\n",
    "warnings.filterwarnings('ignore')\n",
    "\n",
    "error_rate = []\n",
    "\n",
    "# Will take some time\n",
    "for i in range(1,40):\n",
    "    \n",
    "    knn = KNeighborsClassifier(n_neighbors=i)\n",
    "    knn.fit(h_train,i_train)\n",
    "    pred_i = knn.predict(h_test)\n",
    "    error_rate.append(np.mean(pred_i != i_test))\n"
   ]
  },
  {
   "cell_type": "code",
   "execution_count": 85,
   "metadata": {},
   "outputs": [
    {
     "data": {
      "text/plain": [
       "Text(0, 0.5, 'Error Rate')"
      ]
     },
     "execution_count": 85,
     "metadata": {},
     "output_type": "execute_result"
    },
    {
     "data": {
      "image/png": "[encoded data removed]",
      "text/plain": [
       "<Figure size 720x432 with 1 Axes>"
      ]
     },
     "metadata": {
      "needs_background": "light"
     },
     "output_type": "display_data"
    }
   ],
   "source": [
    "plt.figure(figsize=(10,6))\n",
    "plt.plot(range(1,40),error_rate,color='blue', linestyle='dashed', marker='o',\n",
    "         markerfacecolor='red', markersize=10)\n",
    "plt.title('Error Rate vs. K Value')\n",
    "plt.xlabel('K')\n",
    "plt.ylabel('Error Rate')"
   ]
  },
  {
   "cell_type": "code",
   "execution_count": 86,
   "metadata": {},
   "outputs": [
    {
     "name": "stdout",
     "output_type": "stream",
     "text": [
      "WITH K=1\n",
      "\n",
      "\n",
      "[[17216  1558]\n",
      " [  581   843]]\n",
      "\n",
      "\n",
      "              precision    recall  f1-score   support\n",
      "\n",
      "           0       0.97      0.92      0.94     18774\n",
      "           1       0.35      0.59      0.44      1424\n",
      "\n",
      "    accuracy                           0.89     20198\n",
      "   macro avg       0.66      0.75      0.69     20198\n",
      "weighted avg       0.92      0.89      0.91     20198\n",
      "\n"
     ]
    }
   ],
   "source": [
    "# FIRST A QUICK COMPARISON TO OUR ORIGINAL K=1\n",
    "knn = KNeighborsClassifier(n_neighbors=1)\n",
    "\n",
    "knn.fit(h_train,i_train)\n",
    "pred = knn.predict(h_test)\n",
    "\n",
    "print('WITH K=1')\n",
    "print('\\n')\n",
    "print(confusion_matrix(i_test,pred))\n",
    "print('\\n')\n",
    "print(classification_report(i_test,pred))\n"
   ]
  },
  {
   "cell_type": "code",
   "execution_count": 87,
   "metadata": {},
   "outputs": [
    {
     "name": "stdout",
     "output_type": "stream",
     "text": [
      "WITH K=1\n",
      "\n",
      "\n",
      "[[18307   467]\n",
      " [  856   568]]\n",
      "\n",
      "\n",
      "              precision    recall  f1-score   support\n",
      "\n",
      "           0       0.96      0.98      0.97     18774\n",
      "           1       0.55      0.40      0.46      1424\n",
      "\n",
      "    accuracy                           0.93     20198\n",
      "   macro avg       0.75      0.69      0.71     20198\n",
      "weighted avg       0.93      0.93      0.93     20198\n",
      "\n"
     ]
    }
   ],
   "source": [
    "# FIRST A QUICK COMPARISON TO OUR ORIGINAL K=1\n",
    "knn = KNeighborsClassifier(n_neighbors=23)\n",
    "\n",
    "knn.fit(h_train,i_train)\n",
    "pred = knn.predict(h_test)\n",
    "\n",
    "print('WITH K=1')\n",
    "print('\\n')\n",
    "print(confusion_matrix(i_test,pred))\n",
    "print('\\n')\n",
    "print(classification_report(i_test,pred))\n"
   ]
  },
  {
   "cell_type": "code",
   "execution_count": 88,
   "metadata": {},
   "outputs": [
    {
     "name": "stdout",
     "output_type": "stream",
     "text": [
      "Accuracy:  0.9344984651945737\n"
     ]
    }
   ],
   "source": [
    "from sklearn.metrics import accuracy_score\n",
    "acc = accuracy_score(i_test, pred)\n",
    "print(\"Accuracy: \",acc)\n",
    "clf_arr.append(accuracy_score(i_test, pred))"
   ]
  },
  {
   "cell_type": "markdown",
   "metadata": {},
   "source": [
    "We can see that out of 3 models last model has greatest accuracy of approx 93.5%"
   ]
  },
  {
   "cell_type": "markdown",
   "metadata": {},
   "source": [
    "# Logistic regression "
   ]
  },
  {
   "cell_type": "markdown",
   "metadata": {},
   "source": [
    "After training our model we moved to logistic regression.The logistic model is used to model the probability of a certain class or event existing such as pass/fail, win/lose, alive/dead or healthy/sick. This can be extended to model several classes of events such as determining whether an image contains a cat, dog, lion, etc.\n",
    "\n",
    "Now we are going to import Logistic regression from scikitlearn to begin with our model training."
   ]
  },
  {
   "cell_type": "code",
   "execution_count": 89,
   "metadata": {},
   "outputs": [
    {
     "name": "stdout",
     "output_type": "stream",
     "text": [
      "              precision    recall  f1-score   support\n",
      "\n",
      "           0       0.95      0.98      0.97     18774\n",
      "           1       0.59      0.30      0.40      1424\n",
      "\n",
      "    accuracy                           0.94     20198\n",
      "   macro avg       0.77      0.64      0.68     20198\n",
      "weighted avg       0.92      0.94      0.93     20198\n",
      "\n"
     ]
    }
   ],
   "source": [
    "from sklearn.linear_model import LogisticRegression\n",
    "classifier = LogisticRegression()\n",
    "classifier.fit(h_train, i_train)\n",
    "\n",
    "\n",
    "i_pred_test = classifier.predict(h_test)\n",
    "\n",
    "from sklearn.metrics import classification_report\n",
    "print(classification_report(i_test, i_pred_test))\n"
   ]
  },
  {
   "cell_type": "code",
   "execution_count": 90,
   "metadata": {},
   "outputs": [
    {
     "data": {
      "text/plain": [
       "<matplotlib.axes._subplots.AxesSubplot at 0x19a866e03c8>"
      ]
     },
     "execution_count": 90,
     "metadata": {},
     "output_type": "execute_result"
    },
    {
     "data": {
      "image/png": "[encoded data removed]",
      "text/plain": [
       "<Figure size 432x288 with 2 Axes>"
      ]
     },
     "metadata": {
      "needs_background": "light"
     },
     "output_type": "display_data"
    }
   ],
   "source": [
    "cm = confusion_matrix(i_test, i_pred_test)\n",
    "sns.heatmap(cm , annot = True ,fmt = \"d\")"
   ]
  },
  {
   "cell_type": "code",
   "execution_count": 91,
   "metadata": {},
   "outputs": [
    {
     "name": "stdout",
     "output_type": "stream",
     "text": [
      "Accuracy:  0.9356867016536291\n"
     ]
    }
   ],
   "source": [
    "accuracy= (cm[0][0]+cm[1][1])/(cm[0][0]+cm[0][1]+cm[1][0]+cm[1][1])\n",
    "print(\"Accuracy: \",accuracy)\n",
    "clf_arr.append(accuracy)"
   ]
  },
  {
   "cell_type": "markdown",
   "metadata": {},
   "source": [
    "Our logistic regression model also give accuracy = 93.56%"
   ]
  },
  {
   "cell_type": "code",
   "execution_count": 92,
   "metadata": {},
   "outputs": [
    {
     "data": {
      "text/plain": [
       "array([0, 0, 0, ..., 0, 0, 0], dtype=int64)"
      ]
     },
     "execution_count": 92,
     "metadata": {},
     "output_type": "execute_result"
    }
   ],
   "source": [
    "i_predict_train = classifier.predict(h_train)\n",
    "i_predict_train"
   ]
  },
  {
   "cell_type": "code",
   "execution_count": 93,
   "metadata": {},
   "outputs": [
    {
     "data": {
      "text/plain": [
       "<matplotlib.axes._subplots.AxesSubplot at 0x19a870498c8>"
      ]
     },
     "execution_count": 93,
     "metadata": {},
     "output_type": "execute_result"
    },
    {
     "data": {
      "image/png": "[encoded data removed]",
      "text/plain": [
       "<Figure size 432x288 with 2 Axes>"
      ]
     },
     "metadata": {
      "needs_background": "light"
     },
     "output_type": "display_data"
    }
   ],
   "source": [
    "from sklearn.metrics import confusion_matrix\n",
    "cm = confusion_matrix(i_train, i_predict_train)\n",
    "sns.heatmap(cm , annot = True, fmt = \"d\")"
   ]
  },
  {
   "cell_type": "code",
   "execution_count": 94,
   "metadata": {},
   "outputs": [
    {
     "name": "stdout",
     "output_type": "stream",
     "text": [
      "Accuracy:  0.9376423408258243\n"
     ]
    }
   ],
   "source": [
    "accuracy= (cm[0][0]+cm[1][1])/(cm[0][0]+cm[0][1]+cm[1][0]+cm[1][1])\n",
    "print(\"Accuracy: \",accuracy)"
   ]
  },
  {
   "cell_type": "code",
   "execution_count": 95,
   "metadata": {},
   "outputs": [
    {
     "name": "stdout",
     "output_type": "stream",
     "text": [
      "              precision    recall  f1-score   support\n",
      "\n",
      "           0       0.95      0.99      0.97     75178\n",
      "           1       0.61      0.30      0.40      5614\n",
      "\n",
      "    accuracy                           0.94     80792\n",
      "   macro avg       0.78      0.64      0.68     80792\n",
      "weighted avg       0.93      0.94      0.93     80792\n",
      "\n"
     ]
    }
   ],
   "source": [
    "from sklearn.metrics import classification_report\n",
    "print(classification_report(i_train, i_predict_train))"
   ]
  },
  {
   "cell_type": "markdown",
   "metadata": {},
   "source": [
    "# SVM"
   ]
  },
  {
   "cell_type": "code",
   "execution_count": 96,
   "metadata": {},
   "outputs": [
    {
     "data": {
      "text/plain": [
       "SVC(C=1, cache_size=200, class_weight=None, coef0=0.0,\n",
       "    decision_function_shape='ovr', degree=3, gamma='auto', kernel='rbf',\n",
       "    max_iter=-1, probability=False, random_state=None, shrinking=True,\n",
       "    tol=0.001, verbose=False)"
      ]
     },
     "execution_count": 96,
     "metadata": {},
     "output_type": "execute_result"
    }
   ],
   "source": [
    "from sklearn import svm\n",
    "svm_model=svm.SVC(kernel='rbf', C=1,gamma=\"auto\")\n",
    "svm_model.fit(h_train,i_train)"
   ]
  },
  {
   "cell_type": "code",
   "execution_count": 97,
   "metadata": {},
   "outputs": [],
   "source": [
    "svm_model_pred=svm_model.predict(h_test)"
   ]
  },
  {
   "cell_type": "code",
   "execution_count": 98,
   "metadata": {},
   "outputs": [
    {
     "data": {
      "text/plain": [
       "array([[18472,   302],\n",
       "       [  997,   427]], dtype=int64)"
      ]
     },
     "execution_count": 98,
     "metadata": {},
     "output_type": "execute_result"
    }
   ],
   "source": [
    "cm=confusion_matrix(i_test,svm_model_pred)\n",
    "cm"
   ]
  },
  {
   "cell_type": "code",
   "execution_count": 99,
   "metadata": {},
   "outputs": [
    {
     "name": "stdout",
     "output_type": "stream",
     "text": [
      "              precision    recall  f1-score   support\n",
      "\n",
      "           0       0.95      0.98      0.97     18774\n",
      "           1       0.59      0.30      0.40      1424\n",
      "\n",
      "    accuracy                           0.94     20198\n",
      "   macro avg       0.77      0.64      0.68     20198\n",
      "weighted avg       0.92      0.94      0.93     20198\n",
      "\n"
     ]
    }
   ],
   "source": [
    "report=classification_report(i_test,svm_model_pred)\n",
    "print(report)\n"
   ]
  },
  {
   "cell_type": "code",
   "execution_count": 100,
   "metadata": {},
   "outputs": [
    {
     "name": "stdout",
     "output_type": "stream",
     "text": [
      "Accuracy:  0.9356867016536291\n"
     ]
    }
   ],
   "source": [
    "acc=accuracy_score(i_test,svm_model_pred)\n",
    "print(\"Accuracy: \",acc)\n",
    "clf_arr.append(accuracy_score(i_test,svm_model_pred))"
   ]
  },
  {
   "cell_type": "markdown",
   "metadata": {},
   "source": [
    "SVM gives almost the same result as logistic regression. We get only 93% accuracy. But we are going to fine tune this model as it is one of the best model for predictions."
   ]
  },
  {
   "cell_type": "markdown",
   "metadata": {},
   "source": [
    "# Random Forest Classifier"
   ]
  },
  {
   "cell_type": "code",
   "execution_count": 101,
   "metadata": {},
   "outputs": [
    {
     "data": {
      "text/plain": [
       "RandomForestClassifier(bootstrap=True, class_weight=None, criterion='gini',\n",
       "                       max_depth=None, max_features='auto', max_leaf_nodes=None,\n",
       "                       min_impurity_decrease=0.0, min_impurity_split=None,\n",
       "                       min_samples_leaf=1, min_samples_split=2,\n",
       "                       min_weight_fraction_leaf=0.0, n_estimators=10,\n",
       "                       n_jobs=None, oob_score=False, random_state=None,\n",
       "                       verbose=0, warm_start=False)"
      ]
     },
     "execution_count": 101,
     "metadata": {},
     "output_type": "execute_result"
    }
   ],
   "source": [
    "from sklearn.ensemble import RandomForestClassifier\n",
    "rfc= RandomForestClassifier()\n",
    "rfc.fit(h_train,i_train)"
   ]
  },
  {
   "cell_type": "code",
   "execution_count": 102,
   "metadata": {},
   "outputs": [
    {
     "name": "stdout",
     "output_type": "stream",
     "text": [
      "[[18401   373]\n",
      " [  900   524]]\n"
     ]
    }
   ],
   "source": [
    "rfc_pred=rfc.predict(h_test)\n",
    "rfc_cm=confusion_matrix(i_test,rfc_pred)\n",
    "print(rfc_cm)"
   ]
  },
  {
   "cell_type": "code",
   "execution_count": 103,
   "metadata": {},
   "outputs": [
    {
     "name": "stdout",
     "output_type": "stream",
     "text": [
      "Accuracy:  0.9369739578176057\n"
     ]
    }
   ],
   "source": [
    "acc = accuracy_score(i_test, rfc_pred)\n",
    "print(\"Accuracy: \",acc)\n",
    "clf_arr.append( accuracy_score(i_test, rfc_pred))"
   ]
  },
  {
   "cell_type": "markdown",
   "metadata": {},
   "source": [
    "Random forest classifier is the good choice to use. It is giving almost same accuracy as decision tree. It is an esemble method and it forms decision tree during its calculations. Hence we will fine tune this model insted of decision tree."
   ]
  },
  {
   "cell_type": "code",
   "execution_count": 104,
   "metadata": {},
   "outputs": [
    {
     "name": "stdout",
     "output_type": "stream",
     "text": [
      "              precision    recall  f1-score   support\n",
      "\n",
      "           0       0.95      0.98      0.97     18774\n",
      "           1       0.58      0.37      0.45      1424\n",
      "\n",
      "    accuracy                           0.94     20198\n",
      "   macro avg       0.77      0.67      0.71     20198\n",
      "weighted avg       0.93      0.94      0.93     20198\n",
      "\n"
     ]
    }
   ],
   "source": [
    "print(classification_report(i_test, rfc_pred))"
   ]
  },
  {
   "cell_type": "code",
   "execution_count": 105,
   "metadata": {},
   "outputs": [
    {
     "data": {
      "text/html": [
       "<div>\n",
       "<style scoped>\n",
       "    .dataframe tbody tr th:only-of-type {\n",
       "        vertical-align: middle;\n",
       "    }\n",
       "\n",
       "    .dataframe tbody tr th {\n",
       "        vertical-align: top;\n",
       "    }\n",
       "\n",
       "    .dataframe thead th {\n",
       "        text-align: right;\n",
       "    }\n",
       "</style>\n",
       "<table border=\"1\" class=\"dataframe\">\n",
       "  <thead>\n",
       "    <tr style=\"text-align: right;\">\n",
       "      <th></th>\n",
       "      <th>0</th>\n",
       "    </tr>\n",
       "  </thead>\n",
       "  <tbody>\n",
       "    <tr>\n",
       "      <th>Decision Tree</th>\n",
       "      <td>0.936974</td>\n",
       "    </tr>\n",
       "    <tr>\n",
       "      <th>Random Forest</th>\n",
       "      <td>0.936974</td>\n",
       "    </tr>\n",
       "    <tr>\n",
       "      <th>Logistic Regression</th>\n",
       "      <td>0.935687</td>\n",
       "    </tr>\n",
       "    <tr>\n",
       "      <th>SVM</th>\n",
       "      <td>0.935687</td>\n",
       "    </tr>\n",
       "    <tr>\n",
       "      <th>KNN</th>\n",
       "      <td>0.934498</td>\n",
       "    </tr>\n",
       "  </tbody>\n",
       "</table>\n",
       "</div>"
      ],
      "text/plain": [
       "                            0\n",
       "Decision Tree        0.936974\n",
       "Random Forest        0.936974\n",
       "Logistic Regression  0.935687\n",
       "SVM                  0.935687\n",
       "KNN                  0.934498"
      ]
     },
     "execution_count": 105,
     "metadata": {},
     "output_type": "execute_result"
    }
   ],
   "source": [
    "\n",
    "clf_List=['Decision Tree','KNN','Logistic Regression','SVM','Random Forest']\n",
    "normal_clf=pd.DataFrame(clf_arr,index=clf_List)\n",
    "normal_clf.sort_values(by=0,ascending=False)\n"
   ]
  },
  {
   "cell_type": "markdown",
   "metadata": {},
   "source": [
    "From the table we can see that all classification models have almost equal accuracy i.e. 93.5%"
   ]
  },
  {
   "cell_type": "markdown",
   "metadata": {},
   "source": [
    "# HYPERPARAMETERS AND FINE TUNING"
   ]
  },
  {
   "cell_type": "markdown",
   "metadata": {},
   "source": [
    "After performing and seeing the results of our models, its time to fine tune them to give even more accurate result."
   ]
  },
  {
   "cell_type": "markdown",
   "metadata": {},
   "source": [
    "# GRID SEARCHCV"
   ]
  },
  {
   "cell_type": "markdown",
   "metadata": {},
   "source": [
    "Grid search is the process of performing hyper parameter tuning in order to determine the optimal values for a given model. This is significant as the performance of the entire model is based on the hyper parameter values specified."
   ]
  },
  {
   "cell_type": "markdown",
   "metadata": {},
   "source": [
    "# SVM USING GRID SEARCHCV"
   ]
  },
  {
   "cell_type": "code",
   "execution_count": 119,
   "metadata": {},
   "outputs": [],
   "source": [
    "from sklearn.model_selection import GridSearchCV"
   ]
  },
  {
   "cell_type": "code",
   "execution_count": 159,
   "metadata": {},
   "outputs": [
    {
     "data": {
      "text/plain": [
       "GridSearchCV(cv=5, error_score='raise-deprecating',\n",
       "             estimator=SVC(C=1.0, cache_size=200, class_weight=None, coef0=0.0,\n",
       "                           decision_function_shape='ovr', degree=3,\n",
       "                           gamma='auto', kernel='rbf', max_iter=-1,\n",
       "                           probability=True, random_state=None, shrinking=True,\n",
       "                           tol=0.001, verbose=False),\n",
       "             iid='warn', n_jobs=None,\n",
       "             param_grid={'C': [1, 5, 10], 'kernel': ['rbf']},\n",
       "             pre_dispatch='2*n_jobs', refit=True, return_train_score=False,\n",
       "             scoring=None, verbose=0)"
      ]
     },
     "execution_count": 159,
     "metadata": {},
     "output_type": "execute_result"
    }
   ],
   "source": [
    "svm_clf=GridSearchCV(estimator=svm.SVC(gamma=\"auto\",probability=True),param_grid={\n",
    "    'C':[1,5,10],\n",
    "    'kernel':['rbf']\n",
    "},cv=5,return_train_score=False)\n",
    "svm_clf.fit(h_train,i_train)"
   ]
  },
  {
   "cell_type": "code",
   "execution_count": 160,
   "metadata": {},
   "outputs": [],
   "source": [
    "svm_clf_df=pd.DataFrame(svm_clf.cv_results_)"
   ]
  },
  {
   "cell_type": "code",
   "execution_count": 161,
   "metadata": {},
   "outputs": [
    {
     "data": {
      "text/html": [
       "<div>\n",
       "<style scoped>\n",
       "    .dataframe tbody tr th:only-of-type {\n",
       "        vertical-align: middle;\n",
       "    }\n",
       "\n",
       "    .dataframe tbody tr th {\n",
       "        vertical-align: top;\n",
       "    }\n",
       "\n",
       "    .dataframe thead th {\n",
       "        text-align: right;\n",
       "    }\n",
       "</style>\n",
       "<table border=\"1\" class=\"dataframe\">\n",
       "  <thead>\n",
       "    <tr style=\"text-align: right;\">\n",
       "      <th></th>\n",
       "      <th>param_C</th>\n",
       "      <th>param_kernel</th>\n",
       "      <th>mean_test_score</th>\n",
       "    </tr>\n",
       "  </thead>\n",
       "  <tbody>\n",
       "    <tr>\n",
       "      <th>0</th>\n",
       "      <td>1</td>\n",
       "      <td>rbf</td>\n",
       "      <td>0.937642</td>\n",
       "    </tr>\n",
       "    <tr>\n",
       "      <th>1</th>\n",
       "      <td>5</td>\n",
       "      <td>rbf</td>\n",
       "      <td>0.937642</td>\n",
       "    </tr>\n",
       "    <tr>\n",
       "      <th>2</th>\n",
       "      <td>10</td>\n",
       "      <td>rbf</td>\n",
       "      <td>0.937642</td>\n",
       "    </tr>\n",
       "  </tbody>\n",
       "</table>\n",
       "</div>"
      ],
      "text/plain": [
       "  param_C param_kernel  mean_test_score\n",
       "0       1          rbf         0.937642\n",
       "1       5          rbf         0.937642\n",
       "2      10          rbf         0.937642"
      ]
     },
     "execution_count": 161,
     "metadata": {},
     "output_type": "execute_result"
    }
   ],
   "source": [
    "svm_clf_df[['param_C','param_kernel','mean_test_score']].sort_values(by='mean_test_score',ascending=False)"
   ]
  },
  {
   "cell_type": "code",
   "execution_count": 184,
   "metadata": {},
   "outputs": [
    {
     "name": "stdout",
     "output_type": "stream",
     "text": [
      "Accuracy:  0.9356867016536291\n"
     ]
    }
   ],
   "source": [
    "svm_clf_pred=svm_clf.predict(h_test)\n",
    "acc = accuracy_score(i_test, svm_clf_pred)\n",
    "print(\"Accuracy: \",acc)\n",
    "grid_arr=array.array('f',)\n",
    "\n",
    "grid_arr.append(acc)\n"
   ]
  },
  {
   "cell_type": "markdown",
   "metadata": {},
   "source": [
    "# KNN USING GRID SEARCHCV"
   ]
  },
  {
   "cell_type": "code",
   "execution_count": 144,
   "metadata": {},
   "outputs": [],
   "source": [
    "knn_clf=GridSearchCV(estimator=KNeighborsClassifier(),param_grid={\n",
    "    \"n_neighbors\":[5,11],\n",
    "    \"metric\":['euclidean','manhattan'],'weights':['uniform','distance']\n",
    "},cv=5,return_train_score=False)"
   ]
  },
  {
   "cell_type": "code",
   "execution_count": 145,
   "metadata": {},
   "outputs": [
    {
     "data": {
      "text/plain": [
       "GridSearchCV(cv=5, error_score='raise-deprecating',\n",
       "             estimator=KNeighborsClassifier(algorithm='auto', leaf_size=30,\n",
       "                                            metric='minkowski',\n",
       "                                            metric_params=None, n_jobs=None,\n",
       "                                            n_neighbors=5, p=2,\n",
       "                                            weights='uniform'),\n",
       "             iid='warn', n_jobs=None,\n",
       "             param_grid={'metric': ['euclidean', 'manhattan'],\n",
       "                         'n_neighbors': [5, 11],\n",
       "                         'weights': ['uniform', 'distance']},\n",
       "             pre_dispatch='2*n_jobs', refit=True, return_train_score=False,\n",
       "             scoring=None, verbose=0)"
      ]
     },
     "execution_count": 145,
     "metadata": {},
     "output_type": "execute_result"
    }
   ],
   "source": [
    "knn_clf.fit(A_train,b_train)"
   ]
  },
  {
   "cell_type": "code",
   "execution_count": 146,
   "metadata": {},
   "outputs": [],
   "source": [
    "knn_clf_df=pd.DataFrame(knn_clf.cv_results_)"
   ]
  },
  {
   "cell_type": "code",
   "execution_count": 147,
   "metadata": {},
   "outputs": [
    {
     "data": {
      "text/html": [
       "<div>\n",
       "<style scoped>\n",
       "    .dataframe tbody tr th:only-of-type {\n",
       "        vertical-align: middle;\n",
       "    }\n",
       "\n",
       "    .dataframe tbody tr th {\n",
       "        vertical-align: top;\n",
       "    }\n",
       "\n",
       "    .dataframe thead th {\n",
       "        text-align: right;\n",
       "    }\n",
       "</style>\n",
       "<table border=\"1\" class=\"dataframe\">\n",
       "  <thead>\n",
       "    <tr style=\"text-align: right;\">\n",
       "      <th></th>\n",
       "      <th>param_n_neighbors</th>\n",
       "      <th>param_metric</th>\n",
       "      <th>param_weights</th>\n",
       "      <th>mean_test_score</th>\n",
       "    </tr>\n",
       "  </thead>\n",
       "  <tbody>\n",
       "    <tr>\n",
       "      <th>2</th>\n",
       "      <td>11</td>\n",
       "      <td>euclidean</td>\n",
       "      <td>uniform</td>\n",
       "      <td>0.310540</td>\n",
       "    </tr>\n",
       "    <tr>\n",
       "      <th>6</th>\n",
       "      <td>11</td>\n",
       "      <td>manhattan</td>\n",
       "      <td>uniform</td>\n",
       "      <td>0.310299</td>\n",
       "    </tr>\n",
       "    <tr>\n",
       "      <th>3</th>\n",
       "      <td>11</td>\n",
       "      <td>euclidean</td>\n",
       "      <td>distance</td>\n",
       "      <td>0.306890</td>\n",
       "    </tr>\n",
       "    <tr>\n",
       "      <th>7</th>\n",
       "      <td>11</td>\n",
       "      <td>manhattan</td>\n",
       "      <td>distance</td>\n",
       "      <td>0.306848</td>\n",
       "    </tr>\n",
       "    <tr>\n",
       "      <th>4</th>\n",
       "      <td>5</td>\n",
       "      <td>manhattan</td>\n",
       "      <td>uniform</td>\n",
       "      <td>0.270366</td>\n",
       "    </tr>\n",
       "    <tr>\n",
       "      <th>0</th>\n",
       "      <td>5</td>\n",
       "      <td>euclidean</td>\n",
       "      <td>uniform</td>\n",
       "      <td>0.270324</td>\n",
       "    </tr>\n",
       "    <tr>\n",
       "      <th>1</th>\n",
       "      <td>5</td>\n",
       "      <td>euclidean</td>\n",
       "      <td>distance</td>\n",
       "      <td>0.269107</td>\n",
       "    </tr>\n",
       "    <tr>\n",
       "      <th>5</th>\n",
       "      <td>5</td>\n",
       "      <td>manhattan</td>\n",
       "      <td>distance</td>\n",
       "      <td>0.269079</td>\n",
       "    </tr>\n",
       "  </tbody>\n",
       "</table>\n",
       "</div>"
      ],
      "text/plain": [
       "  param_n_neighbors param_metric param_weights  mean_test_score\n",
       "2                11    euclidean       uniform         0.310540\n",
       "6                11    manhattan       uniform         0.310299\n",
       "3                11    euclidean      distance         0.306890\n",
       "7                11    manhattan      distance         0.306848\n",
       "4                 5    manhattan       uniform         0.270366\n",
       "0                 5    euclidean       uniform         0.270324\n",
       "1                 5    euclidean      distance         0.269107\n",
       "5                 5    manhattan      distance         0.269079"
      ]
     },
     "execution_count": 147,
     "metadata": {},
     "output_type": "execute_result"
    }
   ],
   "source": [
    "knn_clf_df[['param_n_neighbors','param_metric','param_weights','mean_test_score']].sort_values(by='mean_test_score',ascending=False)"
   ]
  },
  {
   "cell_type": "code",
   "execution_count": 185,
   "metadata": {},
   "outputs": [
    {
     "name": "stdout",
     "output_type": "stream",
     "text": [
      "Accuracy:  0.3085454005347064\n"
     ]
    }
   ],
   "source": [
    "knn_clf_pred=knn_clf.predict(A_test)\n",
    "acc = accuracy_score(b_test, knn_clf_pred)\n",
    "print(\"Accuracy: \",acc)\n",
    "\n",
    "grid_arr.append(accuracy_score(b_test, knn_clf_pred))\n"
   ]
  },
  {
   "cell_type": "markdown",
   "metadata": {},
   "source": [
    "# RANDOM FOREST USING GRID SEARCHCV"
   ]
  },
  {
   "cell_type": "code",
   "execution_count": 121,
   "metadata": {},
   "outputs": [],
   "source": [
    "rf_clf= GridSearchCV(estimator=RandomForestClassifier(),param_grid={\n",
    "   \"n_estimators\" :[200,700],\n",
    "    \"max_features\" : ['auto','sqrt','log2']\n",
    "},cv=5,return_train_score=False)"
   ]
  },
  {
   "cell_type": "code",
   "execution_count": 122,
   "metadata": {},
   "outputs": [
    {
     "data": {
      "text/plain": [
       "GridSearchCV(cv=5, error_score='raise-deprecating',\n",
       "             estimator=RandomForestClassifier(bootstrap=True, class_weight=None,\n",
       "                                              criterion='gini', max_depth=None,\n",
       "                                              max_features='auto',\n",
       "                                              max_leaf_nodes=None,\n",
       "                                              min_impurity_decrease=0.0,\n",
       "                                              min_impurity_split=None,\n",
       "                                              min_samples_leaf=1,\n",
       "                                              min_samples_split=2,\n",
       "                                              min_weight_fraction_leaf=0.0,\n",
       "                                              n_estimators='warn', n_jobs=None,\n",
       "                                              oob_score=False,\n",
       "                                              random_state=None, verbose=0,\n",
       "                                              warm_start=False),\n",
       "             iid='warn', n_jobs=None,\n",
       "             param_grid={'max_features': ['auto', 'sqrt', 'log2'],\n",
       "                         'n_estimators': [200, 700]},\n",
       "             pre_dispatch='2*n_jobs', refit=True, return_train_score=False,\n",
       "             scoring=None, verbose=0)"
      ]
     },
     "execution_count": 122,
     "metadata": {},
     "output_type": "execute_result"
    }
   ],
   "source": [
    "rf_clf.fit(h_train,i_train)"
   ]
  },
  {
   "cell_type": "code",
   "execution_count": 124,
   "metadata": {},
   "outputs": [],
   "source": [
    "rf_clf_df=pd.DataFrame(rf_clf.cv_results_)"
   ]
  },
  {
   "cell_type": "code",
   "execution_count": 125,
   "metadata": {},
   "outputs": [
    {
     "data": {
      "text/html": [
       "<div>\n",
       "<style scoped>\n",
       "    .dataframe tbody tr th:only-of-type {\n",
       "        vertical-align: middle;\n",
       "    }\n",
       "\n",
       "    .dataframe tbody tr th {\n",
       "        vertical-align: top;\n",
       "    }\n",
       "\n",
       "    .dataframe thead th {\n",
       "        text-align: right;\n",
       "    }\n",
       "</style>\n",
       "<table border=\"1\" class=\"dataframe\">\n",
       "  <thead>\n",
       "    <tr style=\"text-align: right;\">\n",
       "      <th></th>\n",
       "      <th>param_n_estimators</th>\n",
       "      <th>param_max_features</th>\n",
       "      <th>mean_test_score</th>\n",
       "    </tr>\n",
       "  </thead>\n",
       "  <tbody>\n",
       "    <tr>\n",
       "      <th>1</th>\n",
       "      <td>700</td>\n",
       "      <td>auto</td>\n",
       "      <td>0.937989</td>\n",
       "    </tr>\n",
       "    <tr>\n",
       "      <th>0</th>\n",
       "      <td>200</td>\n",
       "      <td>auto</td>\n",
       "      <td>0.937927</td>\n",
       "    </tr>\n",
       "    <tr>\n",
       "      <th>2</th>\n",
       "      <td>200</td>\n",
       "      <td>sqrt</td>\n",
       "      <td>0.937927</td>\n",
       "    </tr>\n",
       "    <tr>\n",
       "      <th>3</th>\n",
       "      <td>700</td>\n",
       "      <td>sqrt</td>\n",
       "      <td>0.937927</td>\n",
       "    </tr>\n",
       "    <tr>\n",
       "      <th>4</th>\n",
       "      <td>200</td>\n",
       "      <td>log2</td>\n",
       "      <td>0.937927</td>\n",
       "    </tr>\n",
       "    <tr>\n",
       "      <th>5</th>\n",
       "      <td>700</td>\n",
       "      <td>log2</td>\n",
       "      <td>0.937927</td>\n",
       "    </tr>\n",
       "  </tbody>\n",
       "</table>\n",
       "</div>"
      ],
      "text/plain": [
       "  param_n_estimators param_max_features  mean_test_score\n",
       "1                700               auto         0.937989\n",
       "0                200               auto         0.937927\n",
       "2                200               sqrt         0.937927\n",
       "3                700               sqrt         0.937927\n",
       "4                200               log2         0.937927\n",
       "5                700               log2         0.937927"
      ]
     },
     "execution_count": 125,
     "metadata": {},
     "output_type": "execute_result"
    }
   ],
   "source": [
    "rf_clf_df[['param_n_estimators','param_max_features','mean_test_score']].sort_values(by='mean_test_score',ascending=False)"
   ]
  },
  {
   "cell_type": "code",
   "execution_count": 126,
   "metadata": {},
   "outputs": [],
   "source": [
    "rf_clf_pred=rf_clf.predict(h_test)"
   ]
  },
  {
   "cell_type": "code",
   "execution_count": 186,
   "metadata": {},
   "outputs": [
    {
     "name": "stdout",
     "output_type": "stream",
     "text": [
      "Accuracy:  0.9369739578176057\n"
     ]
    }
   ],
   "source": [
    "acc = accuracy_score(i_test, rf_clf_pred)\n",
    "print(\"Accuracy: \",acc)\n",
    "\n",
    "grid_arr.append(acc)\n"
   ]
  },
  {
   "cell_type": "code",
   "execution_count": 187,
   "metadata": {},
   "outputs": [
    {
     "data": {
      "text/html": [
       "<div>\n",
       "<style scoped>\n",
       "    .dataframe tbody tr th:only-of-type {\n",
       "        vertical-align: middle;\n",
       "    }\n",
       "\n",
       "    .dataframe tbody tr th {\n",
       "        vertical-align: top;\n",
       "    }\n",
       "\n",
       "    .dataframe thead th {\n",
       "        text-align: right;\n",
       "    }\n",
       "</style>\n",
       "<table border=\"1\" class=\"dataframe\">\n",
       "  <thead>\n",
       "    <tr style=\"text-align: right;\">\n",
       "      <th></th>\n",
       "      <th>0</th>\n",
       "    </tr>\n",
       "  </thead>\n",
       "  <tbody>\n",
       "    <tr>\n",
       "      <th>Random Forest</th>\n",
       "      <td>0.936974</td>\n",
       "    </tr>\n",
       "    <tr>\n",
       "      <th>SVM</th>\n",
       "      <td>0.935687</td>\n",
       "    </tr>\n",
       "    <tr>\n",
       "      <th>KNN</th>\n",
       "      <td>0.308545</td>\n",
       "    </tr>\n",
       "  </tbody>\n",
       "</table>\n",
       "</div>"
      ],
      "text/plain": [
       "                      0\n",
       "Random Forest  0.936974\n",
       "SVM            0.935687\n",
       "KNN            0.308545"
      ]
     },
     "execution_count": 187,
     "metadata": {},
     "output_type": "execute_result"
    }
   ],
   "source": [
    "grid_List=['SVM','KNN','Random Forest']\n",
    "grid_df=pd.DataFrame(grid_arr,index=grid_List)\n",
    "grid_df.sort_values(by=0,ascending=False)\n"
   ]
  },
  {
   "cell_type": "markdown",
   "metadata": {},
   "source": [
    "# Voting Classifier"
   ]
  },
  {
   "cell_type": "markdown",
   "metadata": {},
   "source": [
    "A Voting Classifier is a machine learning model that trains on an ensemble of numerous models and predicts an output (class) based on their highest probability of chosen class as the output.It is of two types hard voting and soft voting"
   ]
  },
  {
   "cell_type": "code",
   "execution_count": 129,
   "metadata": {},
   "outputs": [],
   "source": [
    "from sklearn.ensemble import VotingClassifier"
   ]
  },
  {
   "cell_type": "markdown",
   "metadata": {},
   "source": [
    "# SVM"
   ]
  },
  {
   "cell_type": "markdown",
   "metadata": {},
   "source": [
    "# Hard Voting"
   ]
  },
  {
   "cell_type": "markdown",
   "metadata": {},
   "source": [
    "In hard voting, the predicted output class is a class with the highest majority of votes i.e the class which had the highest probability of being predicted by each of the classifiers. Suppose three classifiers predicted the output class(A, A, B), so here the majority predicted A as output. Hence A will be the final prediction."
   ]
  },
  {
   "cell_type": "code",
   "execution_count": 165,
   "metadata": {},
   "outputs": [],
   "source": [
    "svm_voting_clf_hard= VotingClassifier(estimators=[('svm',svm_clf)],voting='hard')"
   ]
  },
  {
   "cell_type": "code",
   "execution_count": 166,
   "metadata": {},
   "outputs": [
    {
     "data": {
      "text/plain": [
       "VotingClassifier(estimators=[('svm',\n",
       "                              GridSearchCV(cv=5,\n",
       "                                           error_score='raise-deprecating',\n",
       "                                           estimator=SVC(C=1.0, cache_size=200,\n",
       "                                                         class_weight=None,\n",
       "                                                         coef0=0.0,\n",
       "                                                         decision_function_shape='ovr',\n",
       "                                                         degree=3, gamma='auto',\n",
       "                                                         kernel='rbf',\n",
       "                                                         max_iter=-1,\n",
       "                                                         probability=True,\n",
       "                                                         random_state=None,\n",
       "                                                         shrinking=True,\n",
       "                                                         tol=0.001,\n",
       "                                                         verbose=False),\n",
       "                                           iid='warn', n_jobs=None,\n",
       "                                           param_grid={'C': [1, 5, 10],\n",
       "                                                       'kernel': ['rbf']},\n",
       "                                           pre_dispatch='2*n_jobs', refit=True,\n",
       "                                           return_train_score=False,\n",
       "                                           scoring=None, verbose=0))],\n",
       "                 flatten_transform=True, n_jobs=None, voting='hard',\n",
       "                 weights=None)"
      ]
     },
     "execution_count": 166,
     "metadata": {},
     "output_type": "execute_result"
    }
   ],
   "source": [
    "svm_voting_clf_hard.fit(h_train,i_train)"
   ]
  },
  {
   "cell_type": "code",
   "execution_count": 167,
   "metadata": {},
   "outputs": [],
   "source": [
    "svm_voting_clf_hard_pred=svm_voting_clf_hard.predict(h_test)"
   ]
  },
  {
   "cell_type": "code",
   "execution_count": 168,
   "metadata": {},
   "outputs": [
    {
     "data": {
      "text/plain": [
       "array([[18472,   302],\n",
       "       [  997,   427]], dtype=int64)"
      ]
     },
     "execution_count": 168,
     "metadata": {},
     "output_type": "execute_result"
    }
   ],
   "source": [
    "cm=confusion_matrix(i_test,svm_voting_clf_hard_pred)\n",
    "cm"
   ]
  },
  {
   "cell_type": "code",
   "execution_count": 188,
   "metadata": {},
   "outputs": [
    {
     "name": "stdout",
     "output_type": "stream",
     "text": [
      "Accuracy:  0.9356867016536291\n"
     ]
    }
   ],
   "source": [
    "acc = accuracy_score(i_test, svm_voting_clf_hard_pred)\n",
    "print(\"Accuracy: \",acc)\n",
    "\n",
    "voting_arr=array.array('f',)\n",
    "voting_arr.append(accuracy_score(i_test, svm_voting_clf_hard_pred))\n"
   ]
  },
  {
   "cell_type": "code",
   "execution_count": 170,
   "metadata": {},
   "outputs": [
    {
     "name": "stdout",
     "output_type": "stream",
     "text": [
      "              precision    recall  f1-score   support\n",
      "\n",
      "           0       0.95      0.98      0.97     18774\n",
      "           1       0.59      0.30      0.40      1424\n",
      "\n",
      "    accuracy                           0.94     20198\n",
      "   macro avg       0.77      0.64      0.68     20198\n",
      "weighted avg       0.92      0.94      0.93     20198\n",
      "\n"
     ]
    }
   ],
   "source": [
    "print(classification_report(i_test, svm_voting_clf_hard_pred))"
   ]
  },
  {
   "cell_type": "markdown",
   "metadata": {},
   "source": [
    "# SOFT VOTING¶"
   ]
  },
  {
   "cell_type": "markdown",
   "metadata": {},
   "source": [
    "In soft voting, the output class is the prediction based on the average of probability given to that class. Suppose given some input to three models, the prediction probability for class A = (0.30, 0.47, 0.53) and B = (0.20, 0.32, 0.40). So the average for class A is 0.4333 and B is 0.3067, the winner is clearly class A because it had the highest probability averaged by each classifier."
   ]
  },
  {
   "cell_type": "code",
   "execution_count": 171,
   "metadata": {},
   "outputs": [],
   "source": [
    "svm_voting_clf_soft= VotingClassifier(estimators=[('svm',svm_clf)],voting='soft')"
   ]
  },
  {
   "cell_type": "code",
   "execution_count": 172,
   "metadata": {},
   "outputs": [
    {
     "data": {
      "text/plain": [
       "VotingClassifier(estimators=[('svm',\n",
       "                              GridSearchCV(cv=5,\n",
       "                                           error_score='raise-deprecating',\n",
       "                                           estimator=SVC(C=1.0, cache_size=200,\n",
       "                                                         class_weight=None,\n",
       "                                                         coef0=0.0,\n",
       "                                                         decision_function_shape='ovr',\n",
       "                                                         degree=3, gamma='auto',\n",
       "                                                         kernel='rbf',\n",
       "                                                         max_iter=-1,\n",
       "                                                         probability=True,\n",
       "                                                         random_state=None,\n",
       "                                                         shrinking=True,\n",
       "                                                         tol=0.001,\n",
       "                                                         verbose=False),\n",
       "                                           iid='warn', n_jobs=None,\n",
       "                                           param_grid={'C': [1, 5, 10],\n",
       "                                                       'kernel': ['rbf']},\n",
       "                                           pre_dispatch='2*n_jobs', refit=True,\n",
       "                                           return_train_score=False,\n",
       "                                           scoring=None, verbose=0))],\n",
       "                 flatten_transform=True, n_jobs=None, voting='soft',\n",
       "                 weights=None)"
      ]
     },
     "execution_count": 172,
     "metadata": {},
     "output_type": "execute_result"
    }
   ],
   "source": [
    "svm_voting_clf_soft.fit(h_train,i_train)"
   ]
  },
  {
   "cell_type": "code",
   "execution_count": 173,
   "metadata": {},
   "outputs": [],
   "source": [
    "svm_voting_clf_soft_pred=svm_voting_clf_soft.predict(h_test)"
   ]
  },
  {
   "cell_type": "code",
   "execution_count": 174,
   "metadata": {},
   "outputs": [
    {
     "data": {
      "text/plain": [
       "array([[18774,     0],\n",
       "       [ 1424,     0]], dtype=int64)"
      ]
     },
     "execution_count": 174,
     "metadata": {},
     "output_type": "execute_result"
    }
   ],
   "source": [
    "cm=confusion_matrix(i_test,svm_voting_clf_soft_pred)\n",
    "cm\n"
   ]
  },
  {
   "cell_type": "code",
   "execution_count": 189,
   "metadata": {},
   "outputs": [
    {
     "name": "stdout",
     "output_type": "stream",
     "text": [
      "Accuracy:  0.9294979700960491\n"
     ]
    }
   ],
   "source": [
    "acc = accuracy_score(i_test, svm_voting_clf_soft_pred)\n",
    "print(\"Accuracy: \",acc)\n",
    "\n",
    "voting_arr.append(acc)\n"
   ]
  },
  {
   "cell_type": "code",
   "execution_count": 176,
   "metadata": {},
   "outputs": [
    {
     "name": "stdout",
     "output_type": "stream",
     "text": [
      "              precision    recall  f1-score   support\n",
      "\n",
      "           0       0.93      1.00      0.96     18774\n",
      "           1       0.00      0.00      0.00      1424\n",
      "\n",
      "    accuracy                           0.93     20198\n",
      "   macro avg       0.46      0.50      0.48     20198\n",
      "weighted avg       0.86      0.93      0.90     20198\n",
      "\n"
     ]
    }
   ],
   "source": [
    "print(classification_report(i_test, svm_voting_clf_soft_pred))"
   ]
  },
  {
   "cell_type": "markdown",
   "metadata": {},
   "source": [
    "# KNN"
   ]
  },
  {
   "cell_type": "markdown",
   "metadata": {},
   "source": [
    "# HARD VOTING"
   ]
  },
  {
   "cell_type": "code",
   "execution_count": 149,
   "metadata": {},
   "outputs": [
    {
     "data": {
      "text/plain": [
       "VotingClassifier(estimators=[('knn',\n",
       "                              GridSearchCV(cv=5,\n",
       "                                           error_score='raise-deprecating',\n",
       "                                           estimator=KNeighborsClassifier(algorithm='auto',\n",
       "                                                                          leaf_size=30,\n",
       "                                                                          metric='minkowski',\n",
       "                                                                          metric_params=None,\n",
       "                                                                          n_jobs=None,\n",
       "                                                                          n_neighbors=5,\n",
       "                                                                          p=2,\n",
       "                                                                          weights='uniform'),\n",
       "                                           iid='warn', n_jobs=None,\n",
       "                                           param_grid={'metric': ['euclidean',\n",
       "                                                                  'manhattan'],\n",
       "                                                       'n_neighbors': [5, 11],\n",
       "                                                       'weights': ['uniform',\n",
       "                                                                   'distance']},\n",
       "                                           pre_dispatch='2*n_jobs', refit=True,\n",
       "                                           return_train_score=False,\n",
       "                                           scoring=None, verbose=0))],\n",
       "                 flatten_transform=True, n_jobs=None, voting='hard',\n",
       "                 weights=None)"
      ]
     },
     "execution_count": 149,
     "metadata": {},
     "output_type": "execute_result"
    }
   ],
   "source": [
    "knn_voting_clf_hard= VotingClassifier(estimators=[('knn',knn_clf)],voting='hard')\n",
    "knn_voting_clf_hard.fit(h_train,i_train)"
   ]
  },
  {
   "cell_type": "code",
   "execution_count": 150,
   "metadata": {},
   "outputs": [
    {
     "data": {
      "text/plain": [
       "array([[18297,   477],\n",
       "       [  904,   520]], dtype=int64)"
      ]
     },
     "execution_count": 150,
     "metadata": {},
     "output_type": "execute_result"
    }
   ],
   "source": [
    "knn_voting_clf_hard_pred=knn_voting_clf_hard.predict(h_test)\n",
    "cm=confusion_matrix(i_test,knn_voting_clf_hard_pred)\n",
    "cm"
   ]
  },
  {
   "cell_type": "code",
   "execution_count": 190,
   "metadata": {},
   "outputs": [
    {
     "name": "stdout",
     "output_type": "stream",
     "text": [
      "Accuracy:  0.9316268937518566\n"
     ]
    }
   ],
   "source": [
    "acc = accuracy_score(i_test, knn_voting_clf_hard_pred)\n",
    "print(\"Accuracy: \",acc)\n",
    "\n",
    "voting_arr.append(acc)\n"
   ]
  },
  {
   "cell_type": "code",
   "execution_count": 152,
   "metadata": {},
   "outputs": [
    {
     "name": "stdout",
     "output_type": "stream",
     "text": [
      "              precision    recall  f1-score   support\n",
      "\n",
      "           0       0.95      0.97      0.96     18774\n",
      "           1       0.52      0.37      0.43      1424\n",
      "\n",
      "    accuracy                           0.93     20198\n",
      "   macro avg       0.74      0.67      0.70     20198\n",
      "weighted avg       0.92      0.93      0.93     20198\n",
      "\n"
     ]
    }
   ],
   "source": [
    "print(classification_report(i_test, knn_voting_clf_hard_pred))"
   ]
  },
  {
   "cell_type": "markdown",
   "metadata": {},
   "source": [
    "# SOFT VOTING"
   ]
  },
  {
   "cell_type": "code",
   "execution_count": 153,
   "metadata": {},
   "outputs": [
    {
     "data": {
      "text/plain": [
       "VotingClassifier(estimators=[('knn',\n",
       "                              GridSearchCV(cv=5,\n",
       "                                           error_score='raise-deprecating',\n",
       "                                           estimator=KNeighborsClassifier(algorithm='auto',\n",
       "                                                                          leaf_size=30,\n",
       "                                                                          metric='minkowski',\n",
       "                                                                          metric_params=None,\n",
       "                                                                          n_jobs=None,\n",
       "                                                                          n_neighbors=5,\n",
       "                                                                          p=2,\n",
       "                                                                          weights='uniform'),\n",
       "                                           iid='warn', n_jobs=None,\n",
       "                                           param_grid={'metric': ['euclidean',\n",
       "                                                                  'manhattan'],\n",
       "                                                       'n_neighbors': [5, 11],\n",
       "                                                       'weights': ['uniform',\n",
       "                                                                   'distance']},\n",
       "                                           pre_dispatch='2*n_jobs', refit=True,\n",
       "                                           return_train_score=False,\n",
       "                                           scoring=None, verbose=0))],\n",
       "                 flatten_transform=True, n_jobs=None, voting='soft',\n",
       "                 weights=None)"
      ]
     },
     "execution_count": 153,
     "metadata": {},
     "output_type": "execute_result"
    }
   ],
   "source": [
    "knn_voting_clf_soft= VotingClassifier(estimators=[('knn',knn_clf)],voting='soft')\n",
    "knn_voting_clf_soft.fit(h_train,i_train)"
   ]
  },
  {
   "cell_type": "code",
   "execution_count": 156,
   "metadata": {},
   "outputs": [
    {
     "data": {
      "text/plain": [
       "array([[18297,   477],\n",
       "       [  904,   520]], dtype=int64)"
      ]
     },
     "execution_count": 156,
     "metadata": {},
     "output_type": "execute_result"
    }
   ],
   "source": [
    "knn_voting_clf_soft_pred=knn_voting_clf_soft.predict(h_test)\n",
    "cm=confusion_matrix(i_test,knn_voting_clf_soft_pred)\n",
    "cm"
   ]
  },
  {
   "cell_type": "code",
   "execution_count": 191,
   "metadata": {},
   "outputs": [
    {
     "name": "stdout",
     "output_type": "stream",
     "text": [
      "Accuracy:  0.9316268937518566\n"
     ]
    }
   ],
   "source": [
    "acc = accuracy_score(i_test, knn_voting_clf_soft_pred)\n",
    "print(\"Accuracy: \",acc)\n",
    "\n",
    "voting_arr.append(acc)\n"
   ]
  },
  {
   "cell_type": "code",
   "execution_count": 158,
   "metadata": {},
   "outputs": [
    {
     "name": "stdout",
     "output_type": "stream",
     "text": [
      "              precision    recall  f1-score   support\n",
      "\n",
      "           0       0.95      0.97      0.96     18774\n",
      "           1       0.52      0.37      0.43      1424\n",
      "\n",
      "    accuracy                           0.93     20198\n",
      "   macro avg       0.74      0.67      0.70     20198\n",
      "weighted avg       0.92      0.93      0.93     20198\n",
      "\n"
     ]
    }
   ],
   "source": [
    "print(classification_report(i_test, knn_voting_clf_soft_pred))"
   ]
  },
  {
   "cell_type": "markdown",
   "metadata": {},
   "source": [
    "# Random Forest"
   ]
  },
  {
   "cell_type": "markdown",
   "metadata": {},
   "source": [
    "# Hard Voting"
   ]
  },
  {
   "cell_type": "code",
   "execution_count": 134,
   "metadata": {},
   "outputs": [
    {
     "data": {
      "text/plain": [
       "VotingClassifier(estimators=[('rf',\n",
       "                              GridSearchCV(cv=5,\n",
       "                                           error_score='raise-deprecating',\n",
       "                                           estimator=RandomForestClassifier(bootstrap=True,\n",
       "                                                                            class_weight=None,\n",
       "                                                                            criterion='gini',\n",
       "                                                                            max_depth=None,\n",
       "                                                                            max_features='auto',\n",
       "                                                                            max_leaf_nodes=None,\n",
       "                                                                            min_impurity_decrease=0.0,\n",
       "                                                                            min_impurity_split=None,\n",
       "                                                                            min_samples_leaf=1,\n",
       "                                                                            min_samples_split=2,\n",
       "                                                                            min_weight_fraction_leaf=0.0,\n",
       "                                                                            n_estimators='warn',\n",
       "                                                                            n_jobs=None,\n",
       "                                                                            oob_score=False,\n",
       "                                                                            random_state=None,\n",
       "                                                                            verbose=0,\n",
       "                                                                            warm_start=False),\n",
       "                                           iid='warn', n_jobs=None,\n",
       "                                           param_grid={'max_features': ['auto',\n",
       "                                                                        'sqrt',\n",
       "                                                                        'log2'],\n",
       "                                                       'n_estimators': [200,\n",
       "                                                                        700]},\n",
       "                                           pre_dispatch='2*n_jobs', refit=True,\n",
       "                                           return_train_score=False,\n",
       "                                           scoring=None, verbose=0))],\n",
       "                 flatten_transform=True, n_jobs=None, voting='hard',\n",
       "                 weights=None)"
      ]
     },
     "execution_count": 134,
     "metadata": {},
     "output_type": "execute_result"
    }
   ],
   "source": [
    "rf_voting_clf_hard=VotingClassifier(estimators=[('rf',rf_clf)],voting='hard')\n",
    "rf_voting_clf_hard.fit(h_train,i_train)"
   ]
  },
  {
   "cell_type": "code",
   "execution_count": 136,
   "metadata": {},
   "outputs": [
    {
     "data": {
      "text/plain": [
       "array([[18401,   373],\n",
       "       [  900,   524]], dtype=int64)"
      ]
     },
     "execution_count": 136,
     "metadata": {},
     "output_type": "execute_result"
    }
   ],
   "source": [
    "rf_voting_clf_hard_pred=rf_voting_clf_hard.predict(h_test)\n",
    "cm=confusion_matrix(i_test,rf_voting_clf_hard_pred)\n",
    "cm"
   ]
  },
  {
   "cell_type": "code",
   "execution_count": 192,
   "metadata": {},
   "outputs": [
    {
     "name": "stdout",
     "output_type": "stream",
     "text": [
      "Accuracy:  0.9369739578176057\n"
     ]
    }
   ],
   "source": [
    "acc=accuracy_score(i_test,rf_voting_clf_hard_pred)\n",
    "print(\"Accuracy: \",acc)\n",
    "\n",
    "voting_arr.append(acc)\n"
   ]
  },
  {
   "cell_type": "markdown",
   "metadata": {},
   "source": [
    "# Soft Voting"
   ]
  },
  {
   "cell_type": "code",
   "execution_count": 139,
   "metadata": {},
   "outputs": [
    {
     "data": {
      "text/plain": [
       "VotingClassifier(estimators=[('rf',\n",
       "                              GridSearchCV(cv=5,\n",
       "                                           error_score='raise-deprecating',\n",
       "                                           estimator=RandomForestClassifier(bootstrap=True,\n",
       "                                                                            class_weight=None,\n",
       "                                                                            criterion='gini',\n",
       "                                                                            max_depth=None,\n",
       "                                                                            max_features='auto',\n",
       "                                                                            max_leaf_nodes=None,\n",
       "                                                                            min_impurity_decrease=0.0,\n",
       "                                                                            min_impurity_split=None,\n",
       "                                                                            min_samples_leaf=1,\n",
       "                                                                            min_samples_split=2,\n",
       "                                                                            min_weight_fraction_leaf=0.0,\n",
       "                                                                            n_estimators='warn',\n",
       "                                                                            n_jobs=None,\n",
       "                                                                            oob_score=False,\n",
       "                                                                            random_state=None,\n",
       "                                                                            verbose=0,\n",
       "                                                                            warm_start=False),\n",
       "                                           iid='warn', n_jobs=None,\n",
       "                                           param_grid={'max_features': ['auto',\n",
       "                                                                        'sqrt',\n",
       "                                                                        'log2'],\n",
       "                                                       'n_estimators': [200,\n",
       "                                                                        700]},\n",
       "                                           pre_dispatch='2*n_jobs', refit=True,\n",
       "                                           return_train_score=False,\n",
       "                                           scoring=None, verbose=0))],\n",
       "                 flatten_transform=True, n_jobs=None, voting='soft',\n",
       "                 weights=None)"
      ]
     },
     "execution_count": 139,
     "metadata": {},
     "output_type": "execute_result"
    }
   ],
   "source": [
    "rf_voting_clf_soft=VotingClassifier(estimators=[('rf',rf_clf)],voting='soft')\n",
    "rf_voting_clf_soft.fit(h_train,i_train)"
   ]
  },
  {
   "cell_type": "code",
   "execution_count": 141,
   "metadata": {},
   "outputs": [
    {
     "data": {
      "text/plain": [
       "array([[18401,   373],\n",
       "       [  900,   524]], dtype=int64)"
      ]
     },
     "execution_count": 141,
     "metadata": {},
     "output_type": "execute_result"
    }
   ],
   "source": [
    "rf_voting_clf_soft_pred=rf_voting_clf_soft.predict(h_test)\n",
    "cm=confusion_matrix(i_test,rf_voting_clf_soft_pred)\n",
    "cm"
   ]
  },
  {
   "cell_type": "code",
   "execution_count": 193,
   "metadata": {},
   "outputs": [
    {
     "name": "stdout",
     "output_type": "stream",
     "text": [
      "Accuracy:  0.9369739578176057\n"
     ]
    }
   ],
   "source": [
    "acc=accuracy_score(i_test,rf_voting_clf_soft_pred)\n",
    "print(\"Accuracy: \",acc)\n",
    "\n",
    "voting_arr.append(acc)\n"
   ]
  },
  {
   "cell_type": "markdown",
   "metadata": {},
   "source": [
    "# VOTING RESULT"
   ]
  },
  {
   "cell_type": "code",
   "execution_count": 194,
   "metadata": {},
   "outputs": [
    {
     "data": {
      "text/html": [
       "<div>\n",
       "<style scoped>\n",
       "    .dataframe tbody tr th:only-of-type {\n",
       "        vertical-align: middle;\n",
       "    }\n",
       "\n",
       "    .dataframe tbody tr th {\n",
       "        vertical-align: top;\n",
       "    }\n",
       "\n",
       "    .dataframe thead th {\n",
       "        text-align: right;\n",
       "    }\n",
       "</style>\n",
       "<table border=\"1\" class=\"dataframe\">\n",
       "  <thead>\n",
       "    <tr style=\"text-align: right;\">\n",
       "      <th></th>\n",
       "      <th>0</th>\n",
       "    </tr>\n",
       "  </thead>\n",
       "  <tbody>\n",
       "    <tr>\n",
       "      <th>RF HARD</th>\n",
       "      <td>0.936974</td>\n",
       "    </tr>\n",
       "    <tr>\n",
       "      <th>RF SOFT</th>\n",
       "      <td>0.936974</td>\n",
       "    </tr>\n",
       "    <tr>\n",
       "      <th>SVM HARD</th>\n",
       "      <td>0.935687</td>\n",
       "    </tr>\n",
       "    <tr>\n",
       "      <th>KNN HARD</th>\n",
       "      <td>0.931627</td>\n",
       "    </tr>\n",
       "    <tr>\n",
       "      <th>KNN SOFT</th>\n",
       "      <td>0.931627</td>\n",
       "    </tr>\n",
       "    <tr>\n",
       "      <th>SVM SOFT</th>\n",
       "      <td>0.929498</td>\n",
       "    </tr>\n",
       "  </tbody>\n",
       "</table>\n",
       "</div>"
      ],
      "text/plain": [
       "                 0\n",
       "RF HARD   0.936974\n",
       "RF SOFT   0.936974\n",
       "SVM HARD  0.935687\n",
       "KNN HARD  0.931627\n",
       "KNN SOFT  0.931627\n",
       "SVM SOFT  0.929498"
      ]
     },
     "execution_count": 194,
     "metadata": {},
     "output_type": "execute_result"
    }
   ],
   "source": [
    "Voting_list=['SVM HARD','SVM SOFT','KNN HARD','KNN SOFT','RF HARD','RF SOFT']\n",
    "voting_df=pd.DataFrame(voting_arr,index=Voting_list)\n",
    "voting_df.sort_values(by=0, ascending=False)"
   ]
  },
  {
   "cell_type": "markdown",
   "metadata": {},
   "source": [
    "# Conclusion"
   ]
  },
  {
   "cell_type": "markdown",
   "metadata": {},
   "source": [
    "We can conclude that polynomial regression is best suited for our regression model based on this dataset.Cross validation also does not effect the results. Rather than increase in accuracy, it get decreased by large percents.\n",
    "\n",
    "In case of our classifier models, Decision tree, logistic regression,random forest, svm and KNN performs very well. All these models have accuracy greater than 90%. . Cross Validation, Grid SearchCV and voting classifier does not affect the output of Random forest and KNN that much but in case of SVM We can conclude that we can use Decision tree, Random Forest or KNN for our future classification needs."
   ]
  }
 ],
 "metadata": {
  "kernelspec": {
   "display_name": "Python 3",
   "language": "python",
   "name": "python3"
  },
  "language_info": {
   "codemirror_mode": {
    "name": "ipython",
    "version": 3
   },
   "file_extension": ".py",
   "mimetype": "text/x-python",
   "name": "python",
   "nbconvert_exporter": "python",
   "pygments_lexer": "ipython3",
   "version": "3.7.7"
  }
 },
 "nbformat": 4,
 "nbformat_minor": 2
}
