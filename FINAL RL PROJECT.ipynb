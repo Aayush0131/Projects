{
 "cells": [
  {
   "cell_type": "markdown",
   "metadata": {},
   "source": [
    "# Implementing Reinforcement Learning algorithms to make game bots\n",
    "\n",
    "### Made by - <br> \n",
    "\n",
    "Aayush Agarwal (18csu004)<br>\n",
    "Bharat Baweja (18csu043)<br>\n",
    "Bharat Kumar Sharma (18csu044)<br>"
   ]
  },
  {
   "cell_type": "markdown",
   "metadata": {},
   "source": [
    "In this project we implemented q learning algorithm for playing frozen lake(8x8) game, deep q learning algorithm for playing Lunar lander game and then we implemented deep q learning algorithm using rl library to compare results of algorithm implemented by us and a proven efficient algorithm. "
   ]
  },
  {
   "cell_type": "markdown",
   "metadata": {},
   "source": [
    "Our main motivation of making such a project was OpenAI gym library where we saw various environments of games that could be used to make a computer bot that can play these games with a good accuracy and can explore and exploit the environment to maximize the reward function."
   ]
  },
  {
   "cell_type": "markdown",
   "metadata": {},
   "source": [
    "# Frozen Lake(8x8)"
   ]
  },
  {
   "cell_type": "markdown",
   "metadata": {},
   "source": [
    "The agent controls the movement of a character in a grid world. Some tiles of the grid in frozen lake are walkable, and others lead to the agent falling into the water. Additionally, the movement direction of the agent is uncertain and only partially depends on the chosen direction. The agent is rewarded for finding a walkable path to a goal tile. \n",
    "There are 4 types of tile - \n",
    "1. S: starting point, safe<br>\n",
    "2. F: frozen surface, safe<br>\n",
    "3. H: hole, fall to your doom<br>\n",
    "4. G: goal, finishing point"
   ]
  },
  {
   "attachments": {
    "image.png": {
     "image/png": "[encoded data removed]"
    }
   },
   "cell_type": "markdown",
   "metadata": {},
   "source": [
    "# Q Learning algorithm\n",
    "\n",
    "Q-Learning is a value-based reinforcement learning algorithm which is used to find the optimal action-selection policy using a Q function. Our goal is to maximize the value function Q. The Q table helps us to find the best action for each state\n",
    "\n",
    "![image.png](attachment:image.png)\n",
    "\n",
    "##### Policy : <br>\n",
    "1. The way the agent behaves in a given time. <br>\n",
    "2. It is a mapping from the states of the environment  to the actions the agent takes in the environment.<br> \n",
    "3. The policy can be a simple function or lookup table in the simplest cases, or it may involve complex function computations. <br> \n",
    "\n",
    "##### Reward function : <br>\n",
    "1. The goal of a reinforcement learning problem. We need to reach the final tile of lake<br>\n",
    "2. On each time step, the action of the agent results on a reward. <br>\n",
    "3. The agent’s final objective is to maximize the total reward it receives. So whenever the agent falls into hole during an episode we give it an negative reward to disuade it from following that action<br>\n",
    "4. The reward thus distinguish between the good and bad action results for the agent. <br>\n",
    "5. In a natural system, we might think of rewards as pleasure and pain experiences.<br>\n",
    "6. The reward is the primary way for impacting the policy; if an action selected by the policy results in a low reward, then the policy can be changed to select some other action in the same situation.<br>\n",
    "\n",
    "##### State\n",
    "The state describes the current situation i.e all the current structure of lake<br>\n",
    "\n",
    "##### Action\n",
    "Action describes the movements and decisions of the agent<br>\n",
    "\n",
    "##### Exploration and Explotation\n",
    "1. An Reinforcement Learning agent will gradually learns the best (or near-best) policy essentially based on trial and error, through random interactions with the  environment and by incorporating the responses of these interactions, in order to improve the overall performance. \n",
    "2. One of the challenges that arise in reinforcement learning, and not in other kinds of learning, is the trade-oﬀ between exploration and exploitation. \n",
    "3. The agent’s actions serve both as a means to explore (learn better strategies) and a way to exploit (greedily use the best available strategy). \n",
    "4. Since exploration is costly in terms of resource, time and opportunity, the agent have to balance between greedily exploiting what he learned so far and choose actions that currently yield the highest reward, and continuously explore the environment to acquire more information to potentially achieve a higher value in the long term.<br>\n",
    "\n",
    "##### Q table\n",
    "Q-Table is just a name for a simple lookup table where we calculate the maximum expected future rewards for action at each state. Each Q-table score will be the maximum expected future reward that the robot will get if it takes that action at that state. The 'q' in q-learning stands for quality. Quality in this case represents how useful a given action is in gaining some future reward.\n"
   ]
  },
  {
   "cell_type": "markdown",
   "metadata": {},
   "source": [
    "### Libraries Imported"
   ]
  },
  {
   "cell_type": "code",
   "execution_count": 1,
   "metadata": {},
   "outputs": [],
   "source": [
    "import numpy as np\n",
    "import gym\n",
    "import random\n",
    "import time\n",
    "from IPython.display import clear_output"
   ]
  },
  {
   "cell_type": "code",
   "execution_count": 2,
   "metadata": {},
   "outputs": [
    {
     "name": "stdout",
     "output_type": "stream",
     "text": [
      "Action space : 4\n",
      "State space :  64\n",
      "Environment type :  Discrete(64)\n"
     ]
    }
   ],
   "source": [
    "# We first make an environment of frozen lake using gym library\n",
    "env = gym.make(\"FrozenLake8x8-v0\")\n",
    "\n",
    "# Action spce the actions our agent can take. In this case up, down, left and right\n",
    "# State space is matrix size of the environment. In this case 8x8=64\n",
    "action_space_size = env.action_space.n\n",
    "state_space_size = env.observation_space.n\n",
    "print(\"Action space :\",action_space_size)\n",
    "print(\"State space : \",state_space_size)\n",
    "print(\"Environment type : \",env.observation_space)"
   ]
  },
  {
   "cell_type": "code",
   "execution_count": 3,
   "metadata": {},
   "outputs": [
    {
     "name": "stdout",
     "output_type": "stream",
     "text": [
      "[[0. 0. 0. 0.]\n",
      " [0. 0. 0. 0.]\n",
      " [0. 0. 0. 0.]\n",
      " [0. 0. 0. 0.]\n",
      " [0. 0. 0. 0.]\n",
      " [0. 0. 0. 0.]\n",
      " [0. 0. 0. 0.]\n",
      " [0. 0. 0. 0.]\n",
      " [0. 0. 0. 0.]\n",
      " [0. 0. 0. 0.]\n",
      " [0. 0. 0. 0.]\n",
      " [0. 0. 0. 0.]\n",
      " [0. 0. 0. 0.]\n",
      " [0. 0. 0. 0.]\n",
      " [0. 0. 0. 0.]\n",
      " [0. 0. 0. 0.]\n",
      " [0. 0. 0. 0.]\n",
      " [0. 0. 0. 0.]\n",
      " [0. 0. 0. 0.]\n",
      " [0. 0. 0. 0.]\n",
      " [0. 0. 0. 0.]\n",
      " [0. 0. 0. 0.]\n",
      " [0. 0. 0. 0.]\n",
      " [0. 0. 0. 0.]\n",
      " [0. 0. 0. 0.]\n",
      " [0. 0. 0. 0.]\n",
      " [0. 0. 0. 0.]\n",
      " [0. 0. 0. 0.]\n",
      " [0. 0. 0. 0.]\n",
      " [0. 0. 0. 0.]\n",
      " [0. 0. 0. 0.]\n",
      " [0. 0. 0. 0.]\n",
      " [0. 0. 0. 0.]\n",
      " [0. 0. 0. 0.]\n",
      " [0. 0. 0. 0.]\n",
      " [0. 0. 0. 0.]\n",
      " [0. 0. 0. 0.]\n",
      " [0. 0. 0. 0.]\n",
      " [0. 0. 0. 0.]\n",
      " [0. 0. 0. 0.]\n",
      " [0. 0. 0. 0.]\n",
      " [0. 0. 0. 0.]\n",
      " [0. 0. 0. 0.]\n",
      " [0. 0. 0. 0.]\n",
      " [0. 0. 0. 0.]\n",
      " [0. 0. 0. 0.]\n",
      " [0. 0. 0. 0.]\n",
      " [0. 0. 0. 0.]\n",
      " [0. 0. 0. 0.]\n",
      " [0. 0. 0. 0.]\n",
      " [0. 0. 0. 0.]\n",
      " [0. 0. 0. 0.]\n",
      " [0. 0. 0. 0.]\n",
      " [0. 0. 0. 0.]\n",
      " [0. 0. 0. 0.]\n",
      " [0. 0. 0. 0.]\n",
      " [0. 0. 0. 0.]\n",
      " [0. 0. 0. 0.]\n",
      " [0. 0. 0. 0.]\n",
      " [0. 0. 0. 0.]\n",
      " [0. 0. 0. 0.]\n",
      " [0. 0. 0. 0.]\n",
      " [0. 0. 0. 0.]\n",
      " [0. 0. 0. 0.]]\n",
      "(64, 4)\n"
     ]
    }
   ],
   "source": [
    "# Make a q table with all elements as zero and size as state space x action_Space\n",
    "q_table = np.zeros((state_space_size, action_space_size))\n",
    "\n",
    "# Number of episodes for which algorithm runs\n",
    "num_episodes = 2_50_000\n",
    "\n",
    "# After how many episodes does the algorithm stops exploitation and does exploration to find a better solution\n",
    "max_steps_per_episode = 400\n",
    "\n",
    "# The learning rate to determine to what extent newly acquired information overrides old information. \n",
    "# A factor of 0 makes the agent learn nothing , while a factor of 1 makes the agent consider only the most recent information. \n",
    "learning_rate = 0.8\n",
    "\n",
    "# The discount factor determines the importance of future rewards. \n",
    "# A factor of 0 will make the agent short-sighted by only considering current rewards (in the update rule above), while a factor of 1 will make it strive for a long-term high reward. \n",
    "discount_rate = 0.99\n",
    "\n",
    "# This exploration rate is the probability that our agent will explore the environment rather than exploit it.\n",
    "exploration_rate =1\n",
    "max_exploration_rate =1\n",
    "min_exploration_rate =0.001\n",
    "exploration_decay_rate = 0.00005\n",
    "print(q_table)\n",
    "print(q_table.shape)"
   ]
  },
  {
   "cell_type": "markdown",
   "metadata": {},
   "source": [
    "## Steps"
   ]
  },
  {
   "cell_type": "markdown",
   "metadata": {},
   "source": [
    "Step 1 : We run the agent for 250000 episdoes to train it for learning to play the game.<br>\n",
    "\n",
    "Step 2 : We give a condition to terminate the episode so that our agent doesnt stuck in 1 episode and it moves ahead after maximum 400 steps <br>\n",
    "\n",
    "Step 3 : Give a exploration condition so that our agent doesn't focus on just 1 winable condition and explores further for a better option.\n",
    "\n",
    "Step 4 : We use env.step(action) function that returns : -<br>\n",
    "\n",
    "1. new state: which represents environments state <br>\n",
    "2. reward:  a float of reward in previous action <br>\n",
    "3. done: when its time to reset the environment or goal achieved<br> \n",
    "4. info: a dict for debugging, it can be used for learning if it contains raw probabilities of environment’s last state.<br>\n",
    "\n",
    "Step 5 : Update the q table according to reward and new state.\n",
    "\n",
    "Step 6 : Update the current new_state and reward list. \n",
    "\n",
    "Step 7 : Update the exploration rate and append the rewards and details. "
   ]
  },
  {
   "cell_type": "code",
   "execution_count": 4,
   "metadata": {},
   "outputs": [
    {
     "name": "stdout",
     "output_type": "stream",
     "text": [
      "Episode Number:  0\n",
      "Episode Number:  10000\n",
      "Episode Number:  20000\n",
      "Episode Number:  30000\n",
      "Episode Number:  40000\n",
      "Episode Number:  50000\n",
      "Episode Number:  60000\n",
      "Episode Number:  70000\n",
      "Episode Number:  80000\n",
      "Episode Number:  90000\n",
      "Episode Number:  100000\n",
      "Episode Number:  110000\n",
      "Episode Number:  120000\n",
      "Episode Number:  130000\n",
      "Episode Number:  140000\n",
      "Episode Number:  150000\n",
      "Episode Number:  160000\n",
      "Episode Number:  170000\n",
      "Episode Number:  180000\n",
      "Episode Number:  190000\n",
      "Episode Number:  200000\n",
      "Episode Number:  210000\n",
      "Episode Number:  220000\n",
      "Episode Number:  230000\n",
      "Episode Number:  240000\n",
      "[[2.28391864e-01 2.25763752e-01 2.26230144e-01 4.09187196e-01]\n",
      " [2.43170075e-01 2.34980225e-01 4.08585111e-01 2.34733715e-01]\n",
      " [2.39926994e-01 2.37262526e-01 2.39592013e-01 4.10551734e-01]\n",
      " [2.57081416e-01 2.50417817e-01 4.15829152e-01 2.57481961e-01]\n",
      " [2.78201862e-01 4.16079428e-01 4.71075035e-01 2.76217696e-01]\n",
      " [2.95754465e-01 4.65685401e-01 2.95820975e-01 2.96902691e-01]\n",
      " [3.12562955e-01 3.15927062e-01 4.99451970e-01 3.12052693e-01]\n",
      " [3.28056170e-01 3.31284917e-01 4.80163922e-01 3.32001697e-01]\n",
      " [1.50839110e-01 1.92379303e-01 2.14360501e-01 4.10016761e-01]\n",
      " [1.70888994e-01 1.93766835e-01 2.16620088e-01 4.16905997e-01]\n",
      " [1.30478301e-01 2.43180964e-01 1.29866756e-01 4.39240107e-01]\n",
      " [7.31587491e-02 2.95449090e-01 1.35997041e-02 4.56505593e-01]\n",
      " [1.66087078e-01 2.13484161e-01 1.83502425e-01 4.31409109e-01]\n",
      " [1.71817888e-01 2.78672005e-01 2.15894956e-01 5.44060327e-01]\n",
      " [2.81902531e-01 2.53922530e-01 2.56501498e-01 5.31454351e-01]\n",
      " [3.17898701e-01 3.30746183e-01 5.12779654e-01 3.39821277e-01]\n",
      " [7.13277736e-02 7.60531696e-02 8.89981997e-02 2.12550179e-01]\n",
      " [7.42219944e-02 1.87060649e-01 2.71403090e-02 4.33842656e-02]\n",
      " [1.93438478e-01 5.12493543e-04 7.46995903e-03 8.90116765e-03]\n",
      " [0.00000000e+00 0.00000000e+00 0.00000000e+00 0.00000000e+00]\n",
      " [3.16766018e-03 4.05747026e-03 3.10156481e-01 5.84078203e-04]\n",
      " [2.25194268e-02 4.07874652e-04 2.02231760e-02 4.42690436e-01]\n",
      " [1.09375813e-01 3.16904379e-01 1.28893250e-01 1.75866571e-01]\n",
      " [2.96456843e-01 3.80249169e-01 6.88008980e-01 3.53568963e-01]\n",
      " [4.75782089e-02 4.91209425e-02 1.55489734e-01 5.07164974e-02]\n",
      " [1.14776588e-02 2.14297010e-01 1.56455420e-02 1.55946863e-02]\n",
      " [2.98107200e-03 3.73150561e-03 2.64431297e-03 4.60964467e-02]\n",
      " [1.41038982e-06 2.39518883e-06 1.14821773e-06 3.34184888e-04]\n",
      " [4.97176071e-02 1.34726247e-05 7.25548109e-04 4.75759075e-04]\n",
      " [0.00000000e+00 0.00000000e+00 0.00000000e+00 0.00000000e+00]\n",
      " [1.70070669e-02 5.22997473e-03 7.99161712e-01 2.81563441e-02]\n",
      " [2.91926645e-01 4.11584972e-01 8.35833682e-01 4.04378884e-01]\n",
      " [1.75481062e-01 4.94999028e-02 4.18506020e-02 1.43048565e-02]\n",
      " [2.68227918e-04 8.54599750e-04 5.89759055e-04 3.38622302e-02]\n",
      " [6.66389174e-05 4.49439385e-06 4.84440473e-08 1.70244647e-05]\n",
      " [0.00000000e+00 0.00000000e+00 0.00000000e+00 0.00000000e+00]\n",
      " [5.19019193e-03 6.64350530e-05 8.25256059e-02 4.03885714e-04]\n",
      " [1.58888448e-03 5.97458117e-02 2.90616256e-03 7.26693609e-04]\n",
      " [2.16240679e-02 9.64193902e-03 1.71774804e-02 4.56050350e-01]\n",
      " [3.99192546e-01 3.84843776e-01 9.40421538e-01 2.13362070e-01]\n",
      " [1.44314246e-01 1.44899458e-02 4.42078053e-02 1.86670325e-02]\n",
      " [0.00000000e+00 0.00000000e+00 0.00000000e+00 0.00000000e+00]\n",
      " [0.00000000e+00 0.00000000e+00 0.00000000e+00 0.00000000e+00]\n",
      " [1.10439454e-07 4.30319129e-07 7.59728106e-03 3.44030382e-09]\n",
      " [9.10588690e-07 1.30931366e-05 6.60391166e-05 5.12155163e-02]\n",
      " [3.96802780e-03 4.43273924e-03 2.52215387e-04 6.13001396e-04]\n",
      " [0.00000000e+00 0.00000000e+00 0.00000000e+00 0.00000000e+00]\n",
      " [2.51239284e-04 1.56234008e-01 9.59086736e-01 1.32423205e-01]\n",
      " [9.92989431e-02 1.25369940e-02 1.24796186e-02 1.40384586e-02]\n",
      " [0.00000000e+00 0.00000000e+00 0.00000000e+00 0.00000000e+00]\n",
      " [4.81822333e-09 6.38768292e-07 9.59339486e-03 8.63605079e-08]\n",
      " [3.17831316e-07 2.90622353e-07 4.78968393e-07 7.07214986e-05]\n",
      " [0.00000000e+00 0.00000000e+00 0.00000000e+00 0.00000000e+00]\n",
      " [4.69168213e-05 1.49170369e-06 1.43863658e-05 4.58487237e-08]\n",
      " [0.00000000e+00 0.00000000e+00 0.00000000e+00 0.00000000e+00]\n",
      " [1.60294178e-01 1.92258113e-01 9.94313173e-01 7.48550773e-01]\n",
      " [7.52821716e-02 1.92194735e-02 2.38630231e-02 2.86762424e-02]\n",
      " [2.40660303e-03 9.02668550e-02 7.24102250e-04 2.17388054e-03]\n",
      " [4.94472374e-02 8.40562009e-04 6.90380770e-04 9.01854440e-05]\n",
      " [0.00000000e+00 0.00000000e+00 0.00000000e+00 0.00000000e+00]\n",
      " [1.80823564e-04 2.18909309e-01 6.93165621e-04 1.08384278e-04]\n",
      " [2.28025474e-01 2.10131123e-01 7.65252043e-01 1.33218055e-01]\n",
      " [3.02102333e-02 9.85049842e-01 1.19338756e-03 1.40609661e-01]\n",
      " [0.00000000e+00 0.00000000e+00 0.00000000e+00 0.00000000e+00]]\n"
     ]
    }
   ],
   "source": [
    "# reward List of all episodes\n",
    "rewards_all_episodes = []\n",
    "\n",
    "details=[]\n",
    "\n",
    "for episode in range(num_episodes):\n",
    "    state=env.reset()\n",
    "    if episode%10000==0: # Prints the episode number after every 10000 episode  \n",
    "        print(\"Episode Number: \",episode)\n",
    "    done=False\n",
    "    rewards_current_episode = 0\n",
    "\n",
    "    for step in range(max_steps_per_episode): \n",
    "        exploration_rate_threshold = random.uniform(0,1)  \n",
    "        if exploration_rate_threshold>exploration_rate: \n",
    "            action = np.argmax(q_table[state,:])\n",
    "        else:\n",
    "            action = env.action_space.sample()\n",
    "            \n",
    "        new_state, reward, done,info = env.step(action)\n",
    "\n",
    "        q_table[state,action] = q_table[state,action] * (1-learning_rate) + \\\n",
    "            learning_rate*(reward + discount_rate * np.max(q_table[new_state,:])) \n",
    "\n",
    "        state = new_state\n",
    "        rewards_current_episode += reward\n",
    "        \n",
    "\n",
    "        if done==True:\n",
    "            break\n",
    "\n",
    "    exploration_rate = min_exploration_rate + (max_exploration_rate-min_exploration_rate)* np.exp(-exploration_decay_rate*episode)  \n",
    "\n",
    "    rewards_all_episodes.append(rewards_current_episode)\n",
    "    details.append([new_state, reward, done,info])\n",
    "\n",
    "\n",
    "rewards_per_thousand_episodes = np.split(np.array(rewards_all_episodes),(num_episodes)/1000)\n",
    "\n",
    "print(q_table)\n",
    "np.savetxt(\"Q_TABLE_FROZENLAKE\",q_table)\n",
    "\n"
   ]
  },
  {
   "cell_type": "markdown",
   "metadata": {},
   "source": [
    "## Testing our model for 3 episodes on the basis of our trained Q table "
   ]
  },
  {
   "cell_type": "code",
   "execution_count": 5,
   "metadata": {},
   "outputs": [
    {
     "name": "stdout",
     "output_type": "stream",
     "text": [
      "  (Right)\n",
      "SFFFFFFF\n",
      "FFFFFFFF\n",
      "FFFHFFFF\n",
      "FFFFFHFF\n",
      "FFFHFFFF\n",
      "FHHFFFHF\n",
      "FHFFHFHF\n",
      "FFFHFFF\u001b[41mG\u001b[0m\n",
      "GOAL REACHED\n"
     ]
    }
   ],
   "source": [
    "for episode in range(3):\n",
    "    state = env.reset()\n",
    "    done=False\n",
    "    print(\"Episode: \", episode+1)\n",
    "    time.sleep(1)\n",
    "\n",
    "    for step in range(max_steps_per_episode):\n",
    "        clear_output(wait=True)\n",
    "        env.render()\n",
    "        time.sleep(0.3)\n",
    "\n",
    "        action= np.argmax(q_table[state,:])\n",
    "        new_state,reward, done, info = env.step(action)\n",
    "\n",
    "        if done:\n",
    "            clear_output(wait=True)\n",
    "            env.render()\n",
    "\n",
    "            if reward==1:\n",
    "                print(\"GOAL REACHED\")\n",
    "                time.sleep(3)\n",
    "            else:\n",
    "                print(\"FELL THROUGH HOLE\")\n",
    "                time.sleep(3)\n",
    "            clear_output(wait=True)\n",
    "            break\n",
    "        state=new_state\n",
    "env.close()"
   ]
  },
  {
   "cell_type": "markdown",
   "metadata": {},
   "source": [
    "# DEEP Q-LEARNING \n",
    "After implementing the q-learning on \"FROZENLAKE 8X8\" game, we moved on to create our deep Q-Learning model on another game named \"Lunar Lander\"\n",
    "\n",
    "## LUNAR LANDER\n",
    "Lunar Lander is a single-player arcade game in the Lunar Lander subgenre. It was developed by Atari, Inc. The player can rotate the module and burn fuel to fire a thruster, attempting to gently land on marked areas. The scenario resets after every successful landing or crash, with new terrain, until no fuel remains.\n",
    "\n",
    "### LANDING AND REWARD POINT\n",
    "In order to safely land a lunar module, it must have a speed near 0 m/s as it touches down on the moon's surface. The module must fire its thrusters as it descends, counteracting the downward acceleration due to gravity and thus reducing its speed as it nears the surface.\n",
    "\n",
    "## TYPES OF ENVIRONMENT\n",
    "LUNAR LANDER game available on two environment<br>\n",
    "1) Discrete Environment<br>\n",
    "2) Contiunous Environment<br>\n",
    "\n",
    "### DISCRETE ENVIRONMENT\n",
    "An environment is said to be discrete if there are a finite number of actions that can be performed within it. Examples: Discrete environment: A game of chess or checkers where there are a set number of moves\n",
    "\n",
    "### CONTINUOUS ENVIRONMENT\n",
    "A Continuous Environment is an environment where the possible choices you can make and things you can sense are infinite. Examples:Taxi driving. There could be a route from to anywhere to anywhere else\n",
    "\n",
    "Both the environments are available in the gym library. Seeing the time and computational power we have, we decided to work on the discrete environment of Lunar Lander game as it is little easy and less time consuming. Having limited number of choices for the bot, it will be easy to implement deep Q-learning. For continuous environments, algorithms such as ACtor and Critic are preferable over Q-learning and Deep Q-learning as these algorithms focus more on policy rather than rewards.\n"
   ]
  },
  {
   "cell_type": "markdown",
   "metadata": {},
   "source": [
    "## Importing Libraries"
   ]
  },
  {
   "cell_type": "code",
   "execution_count": 6,
   "metadata": {},
   "outputs": [],
   "source": [
    "import gym\n",
    "import random\n",
    "from keras import Sequential\n",
    "from collections import deque\n",
    "from keras.layers import Dense\n",
    "from keras.optimizers import Adam\n",
    "import matplotlib.pyplot as plt\n",
    "from keras.activations import relu, linear"
   ]
  },
  {
   "cell_type": "markdown",
   "metadata": {},
   "source": [
    "## Making game environment using gym Library"
   ]
  },
  {
   "cell_type": "code",
   "execution_count": 7,
   "metadata": {},
   "outputs": [],
   "source": [
    "import numpy as np\n",
    "env = gym.make('LunarLander-v2')"
   ]
  },
  {
   "cell_type": "markdown",
   "metadata": {},
   "source": [
    "## Deep Q-Learning \n",
    "The process of Q-Learning creates an exact matrix for the working agent which it can “refer to” to maximize its reward in the long run. Although this approach is not wrong in itself, this is only practical for very small environments and quickly loses it’s feasibility when the number of states and actions in the environment increases.\n",
    "\n",
    "The solution for the above problem comes from the realization that the values in the matrix only have relative importance ie the values only have importance with respect to the other values. Thus, this thinking leads us to Deep Q-Learning which uses a deep neural network to approximate the values. This approximation of values does not hurt as long as the relative importance is preserved.\n",
    "\n",
    "The basic working step for Deep Q-Learning is that the initial state is fed into the neural network and it returns the Q-value of all possible actions as on output."
   ]
  },
  {
   "cell_type": "markdown",
   "metadata": {},
   "source": [
    "## Implementing DQN"
   ]
  },
  {
   "cell_type": "code",
   "execution_count": 8,
   "metadata": {},
   "outputs": [],
   "source": [
    "class DQN:\n",
    "\n",
    "    def __init__(self, action_space, state_space):\n",
    "\n",
    "        self.action_space = action_space\n",
    "        self.state_space = state_space\n",
    "        self.epsilon = 1.0\n",
    "        self.gamma = .99\n",
    "        self.batch_size = 64\n",
    "        self.epsilon_min = .01\n",
    "        self.lr = 0.001\n",
    "        self.epsilon_decay = .996\n",
    "        self.memory = deque(maxlen=1000000)\n",
    "        self.model = self.build_model()\n",
    "\n",
    "    def build_model(self):\n",
    "\n",
    "        model = Sequential()\n",
    "        model.add(Dense(150, input_dim=self.state_space, activation=relu))\n",
    "        model.add(Dense(120, activation=relu))\n",
    "        model.add(Dense(self.action_space, activation=linear))\n",
    "        model.compile(loss='mse', optimizer=Adam(lr=self.lr))\n",
    "        #model.save_weights(\"/dqn_model\")\n",
    "        model.save_weights('./checkpoints/dqn_model')\n",
    "        return model\n",
    "\n",
    "    def remember(self, state, action, reward, next_state, done):\n",
    "        self.memory.append((state, action, reward, next_state, done))\n",
    "\n",
    "    def act(self, state):\n",
    "\n",
    "        if np.random.rand() <= self.epsilon:\n",
    "            return random.randrange(self.action_space)\n",
    "        act_values = self.model.predict(state)\n",
    "        return np.argmax(act_values[0])\n",
    "\n",
    "    def replay(self):\n",
    "\n",
    "        if len(self.memory) < self.batch_size:\n",
    "            return\n",
    "\n",
    "        minibatch = random.sample(self.memory, self.batch_size)\n",
    "        states = np.array([i[0] for i in minibatch])\n",
    "        actions = np.array([i[1] for i in minibatch])\n",
    "        rewards = np.array([i[2] for i in minibatch])\n",
    "        next_states = np.array([i[3] for i in minibatch])\n",
    "        dones = np.array([i[4] for i in minibatch])\n",
    "\n",
    "        states = np.squeeze(states)\n",
    "        next_states = np.squeeze(next_states)\n",
    "\n",
    "        targets = rewards + self.gamma*(np.amax(self.model.predict_on_batch(next_states), axis=1))*(1-dones)\n",
    "        targets_full = self.model.predict_on_batch(states)\n",
    "        ind = np.array([i for i in range(self.batch_size)])\n",
    "        targets_full[[ind], [actions]] = targets\n",
    "\n",
    "        self.model.fit(states, targets_full, epochs=1, verbose=0)\n",
    "        if self.epsilon > self.epsilon_min:\n",
    "            self.epsilon *= self.epsilon_decay\n",
    "\n",
    "\n",
    "def train_dqn(episode):\n",
    "\n",
    "    loss = []\n",
    "    agent = DQN(env.action_space.n, env.observation_space.shape[0])\n",
    "\n",
    "    for e in range(episode):\n",
    "        state = env.reset()\n",
    "        state = np.reshape(state, (1, 8))\n",
    "        score = 0\n",
    "        max_steps = 500\n",
    "        for i in range(max_steps):\n",
    "            action = agent.act(state)\n",
    "            env.render()\n",
    "            next_state, reward, done, _ = env.step(action)\n",
    "            score += reward\n",
    "            next_state = np.reshape(next_state, (1, 8))\n",
    "            agent.remember(state, action, reward, next_state, done)\n",
    "            state = next_state\n",
    "            agent.replay()\n",
    "            if done:\n",
    "                print(\"episode: {}/{}, score: {}\".format(e, episode, score))\n",
    "                break\n",
    "        loss.append(score)\n",
    "\n",
    "        # Average score of last 100 episode\n",
    "        is_solved = np.mean(loss[-100:])\n",
    "        if is_solved > 200:\n",
    "            print('\\n Task Completed! \\n')\n",
    "            break\n",
    "        print(\"Average over last 100 episode: {0:.2f} \\n\".format(is_solved))\n",
    "    agent.save_weights(\"dqn_scratch\")\n",
    "    return loss\n",
    "\n"
   ]
  },
  {
   "cell_type": "code",
   "execution_count": 9,
   "metadata": {},
   "outputs": [
    {
     "data": {
      "text/plain": [
       "\"\\nif __name__ == '__main__':\\n    episodes = 250\\n    loss = train_dqn(episodes)\\n    plt.plot([i+1 for i in range(0, len(loss), 2)], loss[::2])\\n    plt.show()\\n    \""
      ]
     },
     "execution_count": 9,
     "metadata": {},
     "output_type": "execute_result"
    }
   ],
   "source": [
    "'''\n",
    "if __name__ == '__main__':\n",
    "    episodes = 250\n",
    "    loss = train_dqn(episodes)\n",
    "    plt.plot([i+1 for i in range(0, len(loss), 2)], loss[::2])\n",
    "    plt.show()\n",
    "    '''"
   ]
  },
  {
   "attachments": {
    "image.png": {
     "image/png": "[encoded data removed]"
    }
   },
   "cell_type": "markdown",
   "metadata": {},
   "source": [
    "## Graph for score per episodes\n",
    "![image.png](attachment:image.png)"
   ]
  },
  {
   "cell_type": "markdown",
   "metadata": {},
   "source": [
    "## Keras-RL DQN\n",
    "After implementing our own deep Q-learning model, we tried to do the same thing using keras-rl library to see the difference between efficiency and the time taken by the both the algorithms.\n",
    "\n",
    "## Keras-RL library\n",
    "keras-rl implements some state-of-the art deep reinforcement learning algorithms in Python and seamlessly integrates with the deep learning library Keras. Furthermore, keras-rl works with OpenAI Gym out of the box. This means that evaluating and playing around with different algorithms is easy. Of course you can extend keras-rl according to your own needs. You can use built-in Keras callbacks and metrics or define your own. Even more so, it is easy to implement your own environments and even algorithms by simply extending some simple abstract classes."
   ]
  },
  {
   "cell_type": "markdown",
   "metadata": {},
   "source": [
    "We implement the same model on the same game to check out the difference between the our algorithm and the keras-rl algorithm.\n",
    "## Importing Libraries"
   ]
  },
  {
   "cell_type": "code",
   "execution_count": 10,
   "metadata": {},
   "outputs": [],
   "source": [
    "import numpy as np \n",
    "import gym \n",
    "from keras.models import Sequential \n",
    "from keras.layers import Dense, Activation, Flatten \n",
    "from keras.optimizers import Adam \n",
    "from keras.activations import relu,linear\n",
    "from keras.callbacks import EarlyStopping \n",
    "from rl.agents.dqn import DQNAgent \n",
    "from rl.policy import EpsGreedyQPolicy \n",
    "from rl.memory import SequentialMemory \n",
    "import keras"
   ]
  },
  {
   "cell_type": "markdown",
   "metadata": {},
   "source": [
    "## Making game Environment"
   ]
  },
  {
   "cell_type": "code",
   "execution_count": 11,
   "metadata": {},
   "outputs": [],
   "source": [
    "env = gym.make('LunarLander-v2')"
   ]
  },
  {
   "cell_type": "markdown",
   "metadata": {},
   "source": [
    "Since the game mode is discrete, their are only 4 actions i.e. up,right,down and left"
   ]
  },
  {
   "cell_type": "code",
   "execution_count": 12,
   "metadata": {},
   "outputs": [
    {
     "name": "stdout",
     "output_type": "stream",
     "text": [
      "4\n"
     ]
    }
   ],
   "source": [
    "n_actions = env.action_space.n \n",
    "print(n_actions)"
   ]
  },
  {
   "cell_type": "markdown",
   "metadata": {},
   "source": [
    "## Creating Model"
   ]
  },
  {
   "cell_type": "code",
   "execution_count": 13,
   "metadata": {},
   "outputs": [],
   "source": [
    "model = Sequential()\n",
    "model.add(Flatten(input_shape=(1,) + env.observation_space.shape))\n",
    "model.add(Dense(150, input_dim= env.observation_space.shape[0], activation=relu))\n",
    "model.add(Dense(120, activation=relu))\n",
    "model.add(Dense(env.action_space.n, activation=linear))\n",
    "model.compile(loss='mse', optimizer='Adam')"
   ]
  },
  {
   "cell_type": "markdown",
   "metadata": {},
   "source": [
    "## Setting up hyperparameters\n",
    "\n"
   ]
  },
  {
   "cell_type": "code",
   "execution_count": 14,
   "metadata": {},
   "outputs": [],
   "source": [
    "memory = SequentialMemory(limit=1000000, window_length=1) #taking number of episodes max. limit as 10 lacs\n",
    "policy = EpsGreedyQPolicy() #Epsilon greedy policy is a way of selecting random actions with uniform distribution from a set of available actions.\n",
    "earlystop = EarlyStopping(monitor = 'episode_reward', min_delta=.1, patience=5, verbose=1, mode='auto') \n",
    "#Early stopping is designed to monitor the generalization error of one model and stop training when generalization error begins to degrade\n",
    "callbacks = [earlystop] \n",
    "nb_steps_warmup = 1000 \n",
    "target_model_update = .2 # Updating our target model after every 2 steps\n",
    "gamma = .99 \n",
    "lr = .0001 \n",
    "training_steps = 400000 \n",
    "epochs = training_steps/1000 \n",
    "decay = float(lr/epochs) "
   ]
  },
  {
   "cell_type": "markdown",
   "metadata": {},
   "source": [
    "## Training the model"
   ]
  },
  {
   "cell_type": "code",
   "execution_count": 15,
   "metadata": {},
   "outputs": [],
   "source": [
    "dqn = DQNAgent(model=model, nb_actions=n_actions,memory=memory, nb_steps_warmup=nb_steps_warmup, target_model_update = target_model_update, policy=policy, gamma = gamma)\n",
    "dqn.compile(Adam(lr=lr), metrics=['mae']) # Train model \n",
    "#dqn.fit(env, nb_steps=training_steps, visualize=False, verbose=1) # After training is done, we save the final weights. \n",
    "dqn.save_weights('dqn_{}_weights.h5f'.format('new_keras_rl'), overwrite=True)"
   ]
  },
  {
   "cell_type": "markdown",
   "metadata": {},
   "source": [
    "## Testing the model"
   ]
  },
  {
   "cell_type": "code",
   "execution_count": 18,
   "metadata": {},
   "outputs": [
    {
     "name": "stdout",
     "output_type": "stream",
     "text": [
      "Testing for 10 episodes ...\n",
      "WARNING:tensorflow:From D:\\Softwares\\ANACONDA\\lib\\site-packages\\tensorflow\\python\\keras\\engine\\training_v1.py:2070: Model.state_updates (from tensorflow.python.keras.engine.training) is deprecated and will be removed in a future version.\n",
      "Instructions for updating:\n",
      "This property should not be used in TensorFlow 2.0, as updates are applied automatically.\n",
      "Episode 1: reward: 176.569, steps: 529\n",
      "Episode 2: reward: 117.437, steps: 727\n",
      "Episode 3: reward: 152.412, steps: 774\n",
      "Episode 4: reward: 177.295, steps: 624\n",
      "Episode 5: reward: 143.889, steps: 634\n",
      "Episode 6: reward: 147.400, steps: 1000\n",
      "Episode 7: reward: 210.199, steps: 472\n",
      "Episode 8: reward: 126.067, steps: 750\n",
      "Episode 9: reward: 222.746, steps: 888\n",
      "Episode 10: reward: 179.223, steps: 449\n"
     ]
    },
    {
     "data": {
      "text/plain": [
       "<tensorflow.python.keras.callbacks.History at 0x1cf6fc31cd0>"
      ]
     },
     "execution_count": 18,
     "metadata": {},
     "output_type": "execute_result"
    }
   ],
   "source": [
    "memory = SequentialMemory(limit=75000, window_length=1) \n",
    "policy = EpsGreedyQPolicy() \n",
    "dqn = DQNAgent(model=model, nb_actions=n_actions, memory=memory,target_model_update = .2, nb_steps_warmup=10000, policy=policy) \n",
    "dqn.compile(Adam(lr=.0001), metrics=['mae']) \n",
    "dqn.load_weights('dqn_{}_weights.h5f'.format('keras-rl')) \n",
    "dqn.test(env, nb_episodes=10, visualize=True)"
   ]
  },
  {
   "cell_type": "markdown",
   "metadata": {},
   "source": [
    "## Differences in both the algorithms\n",
    "The main difference we see in working with both of our algorithms is that keras-rl is highly optimized with various in-built hyperparameters. <br>\n",
    "The keras-rl took way less time and give some better results <br>\n",
    "In less time and less number of episodes, the keras-rl algorithm performed way better than expected\n"
   ]
  },
  {
   "cell_type": "code",
   "execution_count": null,
   "metadata": {},
   "outputs": [],
   "source": []
  }
 ],
 "metadata": {
  "kernelspec": {
   "display_name": "Python 3",
   "language": "python",
   "name": "python3"
  },
  "language_info": {
   "codemirror_mode": {
    "name": "ipython",
    "version": 3
   },
   "file_extension": ".py",
   "mimetype": "text/x-python",
   "name": "python",
   "nbconvert_exporter": "python",
   "pygments_lexer": "ipython3",
   "version": "3.7.7"
  }
 },
 "nbformat": 4,
 "nbformat_minor": 4
}
