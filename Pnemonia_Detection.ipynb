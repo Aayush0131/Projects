{
  "nbformat": 4,
  "nbformat_minor": 0,
  "metadata": {
    "accelerator": "GPU",
    "colab": {
      "name": "Pnemonia_Detection.ipynb",
      "provenance": [],
      "collapsed_sections": []
    },
    "kernelspec": {
      "display_name": "Python 3",
      "language": "python",
      "name": "python3"
    },
    "language_info": {
      "codemirror_mode": {
        "name": "ipython",
        "version": 3
      },
      "file_extension": ".py",
      "mimetype": "text/x-python",
      "name": "python",
      "nbconvert_exporter": "python",
      "pygments_lexer": "ipython3",
      "version": "3.7.7"
    }
  },
  "cells": [
    {
      "cell_type": "code",
      "metadata": {
        "colab": {
          "base_uri": "https://localhost:8080/",
          "height": 71
        },
        "id": "PY_779SZ6HTD",
        "outputId": "61ce269a-cd15-44ec-caa8-310d6cea6078"
      },
      "source": [
        "import glob\n",
        "import h5py\n",
        "import shutil\n",
        "\n",
        "import numpy as np # linear algebra\n",
        "import pandas as pd # data processing, CSV file I/O (e.g. pd.read_csv)\n",
        "import seaborn as sns\n",
        "import matplotlib.pyplot as plt\n",
        "import matplotlib.image as mimg\n",
        "from pathlib import Path\n",
        "from keras.models import Sequential, Model\n",
        "from keras.applications.vgg16 import VGG16, preprocess_input\n",
        "from keras.preprocessing.image import ImageDataGenerator,load_img, img_to_array\n",
        "from keras.models import Sequential\n",
        "from keras.layers import Conv2D, MaxPooling2D, Dense, Dropout, Input, Flatten, SeparableConv2D\n",
        "from keras.layers import GlobalMaxPooling2D\n",
        "from keras.layers.normalization import BatchNormalization\n",
        "from keras.layers.merge import Concatenate\n",
        "from keras.models import Model\n",
        "from keras.optimizers import Adam, SGD, RMSprop\n",
        "from keras.callbacks import ModelCheckpoint, Callback, EarlyStopping\n",
        "from keras.utils import to_categorical\n",
        "from mlxtend.plotting import plot_confusion_matrix\n",
        "from sklearn.metrics import confusion_matrix\n",
        "from keras.callbacks import ReduceLROnPlateau\n",
        "import cv2\n",
        "from keras import backend as K\n",
        "color = sns.color_palette()\n",
        "%matplotlib inline\n",
        "import os\n",
        "import tensorflow as tf\n",
        "import imgaug as aug"
      ],
      "execution_count": null,
      "outputs": [
        {
          "output_type": "stream",
          "text": [
            "/usr/local/lib/python3.6/dist-packages/statsmodels/tools/_testing.py:19: FutureWarning: pandas.util.testing is deprecated. Use the functions in the public API at pandas.testing instead.\n",
            "  import pandas.util.testing as tm\n"
          ],
          "name": "stderr"
        }
      ]
    },
    {
      "cell_type": "code",
      "metadata": {
        "id": "T66zbV2S8djJ"
      },
      "source": [
        "os.environ['PYTHONHASHSEED'] = '0'\n",
        "\n",
        "# Set the numpy seed\n",
        "np.random.seed(111)\n",
        "\n",
        "# Disable multi-threading in tensorflow ops\n",
        "session_conf = tf.compat.v1.ConfigProto(intra_op_parallelism_threads=1, inter_op_parallelism_threads=1)\n",
        "\n",
        "# Set the random seed in tensorflow at graph level\n",
        "tf.compat.v1.set_random_seed(111)\n",
        "\n",
        "# Define a tensorflow session with above session configs\n",
        "sess = tf.compat.v1.Session(graph=tf.compat.v1.get_default_graph(), config=session_conf)\n",
        "\n",
        "# Set the session in keras\n",
        "tf.compat.v1.keras.backend.set_session(sess)\n",
        "\n",
        "# Make the augmentation sequence deterministic\n",
        "aug.seed(111)"
      ],
      "execution_count": null,
      "outputs": []
    },
    {
      "cell_type": "code",
      "metadata": {
        "colab": {
          "base_uri": "https://localhost:8080/",
          "height": 34
        },
        "id": "WB6bIFVpChR2",
        "outputId": "71073e01-63f7-461a-c9f0-d94d8c70859b"
      },
      "source": [
        "train_datagen = ImageDataGenerator(rotation_range = 30,zoom_range = 0.2,width_shift_range=0.1,  height_shift_range=0.1,  horizontal_flip = True)\n",
        "\n",
        "train_generator = train_datagen.flow_from_directory(\n",
        "        '/content/drive/My Drive/Colab_Notebooks/chest_xray/train',\n",
        "        target_size=(150, 150),\n",
        "        class_mode='binary')"
      ],
      "execution_count": null,
      "outputs": [
        {
          "output_type": "stream",
          "text": [
            "Found 5216 images belonging to 2 classes.\n"
          ],
          "name": "stdout"
        }
      ]
    },
    {
      "cell_type": "code",
      "metadata": {
        "colab": {
          "base_uri": "https://localhost:8080/",
          "height": 34
        },
        "id": "TgxXDgdFHAIR",
        "outputId": "3ea9e0c5-9c28-41e7-808a-3454daa488cf"
      },
      "source": [
        "valid_datagen = ImageDataGenerator()\n",
        "\n",
        "valid_generator = train_datagen.flow_from_directory(\n",
        "        '/content/drive/My Drive/Colab_Notebooks/chest_xray/val',\n",
        "        target_size=(150, 150),\n",
        "        class_mode='binary')"
      ],
      "execution_count": null,
      "outputs": [
        {
          "output_type": "stream",
          "text": [
            "Found 16 images belonging to 2 classes.\n"
          ],
          "name": "stdout"
        }
      ]
    },
    {
      "cell_type": "code",
      "metadata": {
        "id": "85OXzuR5dxJ4"
      },
      "source": [
        "def build_model():\n",
        "    input_img = Input(shape=(150,150,3), name='ImageInput')\n",
        "    x = Conv2D(32, (3,3), activation='relu', padding='same')(input_img)\n",
        "    x = BatchNormalization()(x)\n",
        "    x = MaxPooling2D((2,2), strides=2,padding='same')(x)\n",
        "    \n",
        "    x = Conv2D(64, (3,3), activation='relu', padding='same')(x)\n",
        "    x = Dropout(0.1)(x)\n",
        "    x = BatchNormalization()(x)\n",
        "    x = MaxPooling2D((2,2), strides=2,padding='same')(x)\n",
        "\n",
        "    x = Conv2D(64, (3,3), activation='relu', padding='same')(x)\n",
        "    x = SeparableConv2D(128, (2,2), activation='relu', padding='same')(x)\n",
        "    x = MaxPooling2D((2,2),strides=2,padding='same')(x)\n",
        "    \n",
        "\n",
        "    x = Conv2D(128, (3,3), activation='relu', padding='same')(x)\n",
        "    x = Dropout(0.2)(x)\n",
        "    x = BatchNormalization()(x)\n",
        "    x = MaxPooling2D((2,2), strides=2,padding='same')(x)\n",
        "    \n",
        "    x = Conv2D(256, (3,3), activation='relu', padding='same')(x)\n",
        "    x = Dropout(0.2)(x)\n",
        "    x = BatchNormalization()(x)\n",
        "    x = MaxPooling2D((2,2), strides=2,padding='same')(x)\n",
        "        \n",
        "    \n",
        "    x = Flatten()(x)\n",
        "    x = Dense(128, activation='relu')(x)\n",
        "    x = Dropout(0.2)(x)\n",
        "    x = Dense(units=1, activation='sigmoid')(x)\n",
        "\n",
        "    \n",
        "    model = Model(inputs=input_img, outputs=x)\n",
        "    return model\n",
        "\n",
        "\n"
      ],
      "execution_count": null,
      "outputs": []
    },
    {
      "cell_type": "code",
      "metadata": {
        "colab": {
          "base_uri": "https://localhost:8080/",
          "height": 935
        },
        "id": "EVYtdkfe0Ow6",
        "outputId": "9d0a0580-273a-491c-d373-9d8a9f2f8b2c"
      },
      "source": [
        "model =  build_model()\n",
        "model.summary()"
      ],
      "execution_count": null,
      "outputs": [
        {
          "output_type": "stream",
          "text": [
            "Model: \"functional_1\"\n",
            "_________________________________________________________________\n",
            "Layer (type)                 Output Shape              Param #   \n",
            "=================================================================\n",
            "ImageInput (InputLayer)      [(None, 150, 150, 3)]     0         \n",
            "_________________________________________________________________\n",
            "conv2d (Conv2D)              (None, 150, 150, 32)      896       \n",
            "_________________________________________________________________\n",
            "batch_normalization (BatchNo (None, 150, 150, 32)      128       \n",
            "_________________________________________________________________\n",
            "max_pooling2d (MaxPooling2D) (None, 75, 75, 32)        0         \n",
            "_________________________________________________________________\n",
            "conv2d_1 (Conv2D)            (None, 75, 75, 64)        18496     \n",
            "_________________________________________________________________\n",
            "dropout (Dropout)            (None, 75, 75, 64)        0         \n",
            "_________________________________________________________________\n",
            "batch_normalization_1 (Batch (None, 75, 75, 64)        256       \n",
            "_________________________________________________________________\n",
            "max_pooling2d_1 (MaxPooling2 (None, 38, 38, 64)        0         \n",
            "_________________________________________________________________\n",
            "conv2d_2 (Conv2D)            (None, 38, 38, 64)        36928     \n",
            "_________________________________________________________________\n",
            "separable_conv2d (SeparableC (None, 38, 38, 128)       8576      \n",
            "_________________________________________________________________\n",
            "max_pooling2d_2 (MaxPooling2 (None, 19, 19, 128)       0         \n",
            "_________________________________________________________________\n",
            "conv2d_3 (Conv2D)            (None, 19, 19, 128)       147584    \n",
            "_________________________________________________________________\n",
            "dropout_1 (Dropout)          (None, 19, 19, 128)       0         \n",
            "_________________________________________________________________\n",
            "batch_normalization_2 (Batch (None, 19, 19, 128)       512       \n",
            "_________________________________________________________________\n",
            "max_pooling2d_3 (MaxPooling2 (None, 10, 10, 128)       0         \n",
            "_________________________________________________________________\n",
            "conv2d_4 (Conv2D)            (None, 10, 10, 256)       295168    \n",
            "_________________________________________________________________\n",
            "dropout_2 (Dropout)          (None, 10, 10, 256)       0         \n",
            "_________________________________________________________________\n",
            "batch_normalization_3 (Batch (None, 10, 10, 256)       1024      \n",
            "_________________________________________________________________\n",
            "max_pooling2d_4 (MaxPooling2 (None, 5, 5, 256)         0         \n",
            "_________________________________________________________________\n",
            "flatten (Flatten)            (None, 6400)              0         \n",
            "_________________________________________________________________\n",
            "dense (Dense)                (None, 128)               819328    \n",
            "_________________________________________________________________\n",
            "dropout_3 (Dropout)          (None, 128)               0         \n",
            "_________________________________________________________________\n",
            "dense_1 (Dense)              (None, 1)                 129       \n",
            "=================================================================\n",
            "Total params: 1,329,025\n",
            "Trainable params: 1,328,065\n",
            "Non-trainable params: 960\n",
            "_________________________________________________________________\n"
          ],
          "name": "stdout"
        }
      ]
    },
    {
      "cell_type": "code",
      "metadata": {
        "colab": {
          "base_uri": "https://localhost:8080/",
          "height": 120
        },
        "id": "rkEccU5q0QsN",
        "outputId": "b0e64efd-c4c6-4671-cf60-6c3bd7ae9a46"
      },
      "source": [
        "\n",
        "f = h5py.File('/content/drive/My Drive/Colab_Notebooks/chest_xray/vgg16_weights_tf_dim_ordering_tf_kernels_notop.h5', 'r')\n",
        "\n",
        "# Select the layers for which you want to set weight.\n",
        "\n",
        "w,b = f['block1_conv1']['block1_conv1_W_1:0'], f['block1_conv1']['block1_conv1_b_1:0']\n",
        "model.layers[1].set_weights = [w,b]\n",
        "\n",
        "w,b = f['block1_conv2']['block1_conv2_W_1:0'], f['block1_conv2']['block1_conv2_b_1:0']\n",
        "model.layers[2].set_weights = [w,b]\n",
        "\n",
        "w,b = f['block2_conv1']['block2_conv1_W_1:0'], f['block2_conv1']['block2_conv1_b_1:0']\n",
        "model.layers[4].set_weights = [w,b]\n",
        "\n",
        "w,b = f['block2_conv2']['block2_conv2_W_1:0'], f['block2_conv2']['block2_conv2_b_1:0']\n",
        "model.layers[5].set_weights = [w,b]\n",
        "\n",
        "f.close()\n",
        "model.summary()\n",
        " "
      ],
      "execution_count": null,
      "outputs": [
        {
          "output_type": "execute_result",
          "data": {
            "application/vnd.google.colaboratory.intrinsic+json": {
              "type": "string"
            },
            "text/plain": [
              "\"\\nf = h5py.File('/content/drive/My Drive/Colab_Notebooks/chest_xray/vgg16_weights_tf_dim_ordering_tf_kernels_notop.h5', 'r')\\n\\n# Select the layers for which you want to set weight.\\n\\nw,b = f['block1_conv1']['block1_conv1_W_1:0'], f['block1_conv1']['block1_conv1_b_1:0']\\nmodel.layers[1].set_weights = [w,b]\\n\\nw,b = f['block1_conv2']['block1_conv2_W_1:0'], f['block1_conv2']['block1_conv2_b_1:0']\\nmodel.layers[2].set_weights = [w,b]\\n\\nw,b = f['block2_conv1']['block2_conv1_W_1:0'], f['block2_conv1']['block2_conv1_b_1:0']\\nmodel.layers[4].set_weights = [w,b]\\n\\nw,b = f['block2_conv2']['block2_conv2_W_1:0'], f['block2_conv2']['block2_conv2_b_1:0']\\nmodel.layers[5].set_weights = [w,b]\\n\\nf.close()\\nmodel.summary()\\n\""
            ]
          },
          "metadata": {
            "tags": []
          },
          "execution_count": 50
        }
      ]
    },
    {
      "cell_type": "code",
      "metadata": {
        "id": "rVsugVjSidJi"
      },
      "source": [
        "opt = Adam()\n",
        "learning_rate_reduction = ReduceLROnPlateau(monitor='val_accuracy', patience = 2, verbose=1,factor=0.3, min_lr=0.000001)\n",
        "model.compile(loss='binary_crossentropy', metrics=['accuracy'],optimizer=opt)"
      ],
      "execution_count": null,
      "outputs": []
    },
    {
      "cell_type": "code",
      "metadata": {
        "colab": {
          "base_uri": "https://localhost:8080/",
          "height": 666
        },
        "id": "9l3iz1YneBwh",
        "outputId": "e98a524a-6eae-4c64-86f2-14567aa543dc"
      },
      "source": [
        "history = model.fit_generator(train_generator,epochs = 12 ,steps_per_epoch=163,validation_data = valid_generator,callbacks=[learning_rate_reduction])                  "
      ],
      "execution_count": null,
      "outputs": [
        {
          "output_type": "stream",
          "text": [
            "WARNING:tensorflow:From <ipython-input-10-9f0b348c77c0>:1: Model.fit_generator (from tensorflow.python.keras.engine.training) is deprecated and will be removed in a future version.\n",
            "Instructions for updating:\n",
            "Please use Model.fit, which supports generators.\n",
            "Epoch 1/12\n",
            "163/163 [==============================] - 2432s 15s/step - loss: 0.3888 - accuracy: 0.8738 - val_loss: 0.8286 - val_accuracy: 0.6250\n",
            "Epoch 2/12\n",
            "163/163 [==============================] - 77s 470ms/step - loss: 0.1808 - accuracy: 0.9310 - val_loss: 0.7449 - val_accuracy: 0.5625\n",
            "Epoch 3/12\n",
            "163/163 [==============================] - ETA: 0s - loss: 0.1573 - accuracy: 0.9400\n",
            "Epoch 00003: ReduceLROnPlateau reducing learning rate to 0.0003000000142492354.\n",
            "163/163 [==============================] - 77s 475ms/step - loss: 0.1573 - accuracy: 0.9400 - val_loss: 4.7926 - val_accuracy: 0.5000\n",
            "Epoch 4/12\n",
            "163/163 [==============================] - 78s 478ms/step - loss: 0.1224 - accuracy: 0.9559 - val_loss: 2.2319 - val_accuracy: 0.5000\n",
            "Epoch 5/12\n",
            "163/163 [==============================] - ETA: 0s - loss: 0.1073 - accuracy: 0.9611\n",
            "Epoch 00005: ReduceLROnPlateau reducing learning rate to 9.000000427477062e-05.\n",
            "163/163 [==============================] - 78s 476ms/step - loss: 0.1073 - accuracy: 0.9611 - val_loss: 0.6688 - val_accuracy: 0.6250\n",
            "Epoch 6/12\n",
            "163/163 [==============================] - 78s 478ms/step - loss: 0.0939 - accuracy: 0.9686 - val_loss: 0.5996 - val_accuracy: 0.6875\n",
            "Epoch 7/12\n",
            "163/163 [==============================] - 79s 484ms/step - loss: 0.0815 - accuracy: 0.9703 - val_loss: 2.5596 - val_accuracy: 0.5000\n",
            "Epoch 8/12\n",
            "163/163 [==============================] - ETA: 0s - loss: 0.0827 - accuracy: 0.9714\n",
            "Epoch 00008: ReduceLROnPlateau reducing learning rate to 2.700000040931627e-05.\n",
            "163/163 [==============================] - 79s 482ms/step - loss: 0.0827 - accuracy: 0.9714 - val_loss: 2.0333 - val_accuracy: 0.5000\n",
            "Epoch 9/12\n",
            "163/163 [==============================] - 77s 473ms/step - loss: 0.0774 - accuracy: 0.9737 - val_loss: 0.5279 - val_accuracy: 0.6875\n",
            "Epoch 10/12\n",
            "163/163 [==============================] - ETA: 0s - loss: 0.0731 - accuracy: 0.9734\n",
            "Epoch 00010: ReduceLROnPlateau reducing learning rate to 8.100000013655517e-06.\n",
            "163/163 [==============================] - 78s 477ms/step - loss: 0.0731 - accuracy: 0.9734 - val_loss: 1.2640 - val_accuracy: 0.6250\n",
            "Epoch 11/12\n",
            "163/163 [==============================] - 77s 473ms/step - loss: 0.0726 - accuracy: 0.9755 - val_loss: 1.1428 - val_accuracy: 0.5625\n",
            "Epoch 12/12\n",
            "163/163 [==============================] - ETA: 0s - loss: 0.0720 - accuracy: 0.9728\n",
            "Epoch 00012: ReduceLROnPlateau reducing learning rate to 2.429999949526973e-06.\n",
            "163/163 [==============================] - 76s 465ms/step - loss: 0.0720 - accuracy: 0.9728 - val_loss: 0.9966 - val_accuracy: 0.6875\n"
          ],
          "name": "stdout"
        }
      ]
    },
    {
      "cell_type": "code",
      "metadata": {
        "colab": {
          "base_uri": "https://localhost:8080/",
          "height": 34
        },
        "id": "4IGV_B3h4MIJ",
        "outputId": "cfd2576c-d496-48d7-c940-099f27c7db3e"
      },
      "source": [
        "test_datagen = ImageDataGenerator()\n",
        "\n",
        "test_generator = test_datagen.flow_from_directory(\n",
        "        '/content/drive/My Drive/Colab_Notebooks/chest_xray/test',\n",
        "        target_size=(150, 150),\n",
        "        class_mode='binary')"
      ],
      "execution_count": null,
      "outputs": [
        {
          "output_type": "stream",
          "text": [
            "Found 624 images belonging to 2 classes.\n"
          ],
          "name": "stdout"
        }
      ]
    },
    {
      "cell_type": "code",
      "metadata": {
        "colab": {
          "base_uri": "https://localhost:8080/",
          "height": 68
        },
        "id": "aP2czVxXCFje",
        "outputId": "3e35fd64-0d3e-4507-c6b0-bc6920509497"
      },
      "source": [
        "test_loss, test_score = model.evaluate(test_generator, batch_size=32)\n",
        "print(\"Loss on test set: \", test_loss)\n",
        "print(\"Accuracy on test set: \", test_score)"
      ],
      "execution_count": null,
      "outputs": [
        {
          "output_type": "stream",
          "text": [
            "20/20 [==============================] - 275s 14s/step - loss: 0.4192 - accuracy: 0.9135\n",
            "Loss on test set:  0.41915056109428406\n",
            "Accuracy on test set:  0.9134615659713745\n"
          ],
          "name": "stdout"
        }
      ]
    },
    {
      "cell_type": "code",
      "metadata": {
        "colab": {
          "base_uri": "https://localhost:8080/",
          "height": 68
        },
        "id": "J9b83O_nmG4C",
        "outputId": "480d817f-7b24-4cdc-a9d0-f07f8cf5a857"
      },
      "source": [
        "test_loss, test_score = model.evaluate(test_generator, batch_size=32)\n",
        "print(\"Loss on test set: \", test_loss)\n",
        "print(\"Accuracy on test set: \", test_score)"
      ],
      "execution_count": null,
      "outputs": [
        {
          "output_type": "stream",
          "text": [
            "20/20 [==============================] - 196s 10s/step - loss: 2.2998 - accuracy: 0.7067\n",
            "Loss on test set:  2.2997562885284424\n",
            "Accuracy on test set:  0.7067307829856873\n"
          ],
          "name": "stdout"
        }
      ]
    },
    {
      "cell_type": "code",
      "metadata": {
        "colab": {
          "base_uri": "https://localhost:8080/",
          "height": 513
        },
        "id": "PWFEXtFsm-6T",
        "outputId": "ec480f71-201a-4fea-8091-13408b7c98ac"
      },
      "source": [
        "epochs = [i for i in range(12)]\n",
        "fig , ax = plt.subplots(1,2)\n",
        "train_acc = history.history['accuracy']\n",
        "train_loss = history.history['loss']\n",
        "val_acc = history.history['val_accuracy']\n",
        "val_loss = history.history['val_loss']\n",
        "fig.set_size_inches(15,8)\n",
        "\n",
        "ax[0].plot(epochs , train_acc , 'go-' , label = 'Training Accuracy')\n",
        "ax[0].plot(epochs , val_acc , 'ro-' , label = 'Validation Accuracy')\n",
        "ax[0].set_title('Training & Validation Accuracy')\n",
        "ax[0].legend()\n",
        "ax[0].set_xlabel(\"Epochs\")\n",
        "ax[0].set_ylabel(\"Accuracy\")\n",
        "\n",
        "ax[1].plot(epochs , train_loss , 'g-o' , label = 'Training Loss')\n",
        "ax[1].plot(epochs , val_loss , 'r-o' , label = 'Validation Loss')\n",
        "ax[1].set_title('Testing Accuracy & Loss')\n",
        "ax[1].legend()\n",
        "ax[1].set_xlabel(\"Epochs\")\n",
        "ax[1].set_ylabel(\"Training & Validation Loss\")\n",
        "plt.show()"
      ],
      "execution_count": null,
      "outputs": [
        {
          "output_type": "display_data",
          "data": {
            "image/png": "[encoded data removed]",
            "text/plain": [
              "<Figure size 1080x576 with 2 Axes>"
            ]
          },
          "metadata": {
            "tags": [],
            "needs_background": "light"
          }
        }
      ]
    },
    {
      "cell_type": "code",
      "metadata": {
        "id": "HkMBVfgYqAmV"
      },
      "source": [
        ""
      ],
      "execution_count": null,
      "outputs": []
    }
  ]
}