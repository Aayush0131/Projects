{
 "cells": [
  {
   "cell_type": "markdown",
   "metadata": {},
   "source": [
    "# India Trade"
   ]
  },
  {
   "cell_type": "markdown",
   "metadata": {},
   "source": [
    "World trade has expanded rapidly over the past decades. An important factor contributing to the growth in trade has been the periodic rounds of successful multilateral trade negotiations which have led to a considerable reduction in tariffs on goods crossing national borders.\n",
    "\n",
    "India has entered into trading agreements with various countries of the world with the objective of boosting its external trade. Foreign Trade Policy of India has always focused on substantially increasing the country's share of global merchandise trade. Accordingly the Government of India has been taking various steps towards boosting its trade with the rest of the world by adopting policies and procedures which would help to increase and facilitate both exports and imports with the other countries of the world. To facilitate and thereby increase external trade activities with the rest of the world, the Department of Commerce, Government of India has developed this web portal."
   ]
  },
  {
   "cell_type": "code",
   "execution_count": 1,
   "metadata": {},
   "outputs": [],
   "source": [
    "%matplotlib inline\n",
    "\n",
    "import numpy as np\n",
    "import seaborn as sns\n",
    "\n",
    "import matplotlib.pyplot as plt\n",
    "import pandas as pd\n",
    "\n",
    "import first\n",
    "import analytic\n",
    "\n",
    "import thinkstats2\n",
    "import thinkplot\n",
    "\n",
    "from IPython.core import page\n",
    "page.page = print"
   ]
  },
  {
   "cell_type": "code",
   "execution_count": 2,
   "metadata": {},
   "outputs": [],
   "source": [
    "export_india=pd.read_csv(\"2018-2010_export.csv\")"
   ]
  },
  {
   "cell_type": "code",
   "execution_count": 3,
   "metadata": {},
   "outputs": [],
   "source": [
    "import_india=pd.read_csv(\"2018-2010_import.csv\")"
   ]
  },
  {
   "cell_type": "code",
   "execution_count": 4,
   "metadata": {},
   "outputs": [
    {
     "data": {
      "text/html": [
       "<div>\n",
       "<style scoped>\n",
       "    .dataframe tbody tr th:only-of-type {\n",
       "        vertical-align: middle;\n",
       "    }\n",
       "\n",
       "    .dataframe tbody tr th {\n",
       "        vertical-align: top;\n",
       "    }\n",
       "\n",
       "    .dataframe thead th {\n",
       "        text-align: right;\n",
       "    }\n",
       "</style>\n",
       "<table border=\"1\" class=\"dataframe\">\n",
       "  <thead>\n",
       "    <tr style=\"text-align: right;\">\n",
       "      <th></th>\n",
       "      <th>HSCode</th>\n",
       "      <th>Commodity</th>\n",
       "      <th>value</th>\n",
       "      <th>country</th>\n",
       "      <th>year</th>\n",
       "    </tr>\n",
       "  </thead>\n",
       "  <tbody>\n",
       "    <tr>\n",
       "      <th>0</th>\n",
       "      <td>5</td>\n",
       "      <td>PRODUCTS OF ANIMAL ORIGIN, NOT ELSEWHERE SPECI...</td>\n",
       "      <td>0.00</td>\n",
       "      <td>AFGHANISTAN TIS</td>\n",
       "      <td>2018</td>\n",
       "    </tr>\n",
       "    <tr>\n",
       "      <th>1</th>\n",
       "      <td>7</td>\n",
       "      <td>EDIBLE VEGETABLES AND CERTAIN ROOTS AND TUBERS.</td>\n",
       "      <td>12.38</td>\n",
       "      <td>AFGHANISTAN TIS</td>\n",
       "      <td>2018</td>\n",
       "    </tr>\n",
       "    <tr>\n",
       "      <th>2</th>\n",
       "      <td>8</td>\n",
       "      <td>EDIBLE FRUIT AND NUTS; PEEL OR CITRUS FRUIT OR...</td>\n",
       "      <td>268.60</td>\n",
       "      <td>AFGHANISTAN TIS</td>\n",
       "      <td>2018</td>\n",
       "    </tr>\n",
       "    <tr>\n",
       "      <th>3</th>\n",
       "      <td>9</td>\n",
       "      <td>COFFEE, TEA, MATE AND SPICES.</td>\n",
       "      <td>35.48</td>\n",
       "      <td>AFGHANISTAN TIS</td>\n",
       "      <td>2018</td>\n",
       "    </tr>\n",
       "    <tr>\n",
       "      <th>4</th>\n",
       "      <td>11</td>\n",
       "      <td>PRODUCTS OF THE MILLING INDUSTRY; MALT; STARCH...</td>\n",
       "      <td>NaN</td>\n",
       "      <td>AFGHANISTAN TIS</td>\n",
       "      <td>2018</td>\n",
       "    </tr>\n",
       "  </tbody>\n",
       "</table>\n",
       "</div>"
      ],
      "text/plain": [
       "   HSCode                                          Commodity   value  \\\n",
       "0       5  PRODUCTS OF ANIMAL ORIGIN, NOT ELSEWHERE SPECI...    0.00   \n",
       "1       7    EDIBLE VEGETABLES AND CERTAIN ROOTS AND TUBERS.   12.38   \n",
       "2       8  EDIBLE FRUIT AND NUTS; PEEL OR CITRUS FRUIT OR...  268.60   \n",
       "3       9                      COFFEE, TEA, MATE AND SPICES.   35.48   \n",
       "4      11  PRODUCTS OF THE MILLING INDUSTRY; MALT; STARCH...     NaN   \n",
       "\n",
       "           country  year  \n",
       "0  AFGHANISTAN TIS  2018  \n",
       "1  AFGHANISTAN TIS  2018  \n",
       "2  AFGHANISTAN TIS  2018  \n",
       "3  AFGHANISTAN TIS  2018  \n",
       "4  AFGHANISTAN TIS  2018  "
      ]
     },
     "execution_count": 4,
     "metadata": {},
     "output_type": "execute_result"
    }
   ],
   "source": [
    "import_india.head()"
   ]
  },
  {
   "cell_type": "code",
   "execution_count": 5,
   "metadata": {},
   "outputs": [
    {
     "data": {
      "text/html": [
       "<div>\n",
       "<style scoped>\n",
       "    .dataframe tbody tr th:only-of-type {\n",
       "        vertical-align: middle;\n",
       "    }\n",
       "\n",
       "    .dataframe tbody tr th {\n",
       "        vertical-align: top;\n",
       "    }\n",
       "\n",
       "    .dataframe thead th {\n",
       "        text-align: right;\n",
       "    }\n",
       "</style>\n",
       "<table border=\"1\" class=\"dataframe\">\n",
       "  <thead>\n",
       "    <tr style=\"text-align: right;\">\n",
       "      <th></th>\n",
       "      <th>HSCode</th>\n",
       "      <th>Commodity</th>\n",
       "      <th>value</th>\n",
       "      <th>country</th>\n",
       "      <th>year</th>\n",
       "    </tr>\n",
       "  </thead>\n",
       "  <tbody>\n",
       "    <tr>\n",
       "      <th>0</th>\n",
       "      <td>2</td>\n",
       "      <td>MEAT AND EDIBLE MEAT OFFAL.</td>\n",
       "      <td>0.18</td>\n",
       "      <td>AFGHANISTAN TIS</td>\n",
       "      <td>2018</td>\n",
       "    </tr>\n",
       "    <tr>\n",
       "      <th>1</th>\n",
       "      <td>3</td>\n",
       "      <td>FISH AND CRUSTACEANS, MOLLUSCS AND OTHER AQUAT...</td>\n",
       "      <td>0.00</td>\n",
       "      <td>AFGHANISTAN TIS</td>\n",
       "      <td>2018</td>\n",
       "    </tr>\n",
       "    <tr>\n",
       "      <th>2</th>\n",
       "      <td>4</td>\n",
       "      <td>DAIRY PRODUCE; BIRDS' EGGS; NATURAL HONEY; EDI...</td>\n",
       "      <td>12.48</td>\n",
       "      <td>AFGHANISTAN TIS</td>\n",
       "      <td>2018</td>\n",
       "    </tr>\n",
       "    <tr>\n",
       "      <th>3</th>\n",
       "      <td>6</td>\n",
       "      <td>LIVE TREES AND OTHER PLANTS; BULBS; ROOTS AND ...</td>\n",
       "      <td>0.00</td>\n",
       "      <td>AFGHANISTAN TIS</td>\n",
       "      <td>2018</td>\n",
       "    </tr>\n",
       "    <tr>\n",
       "      <th>4</th>\n",
       "      <td>7</td>\n",
       "      <td>EDIBLE VEGETABLES AND CERTAIN ROOTS AND TUBERS.</td>\n",
       "      <td>1.89</td>\n",
       "      <td>AFGHANISTAN TIS</td>\n",
       "      <td>2018</td>\n",
       "    </tr>\n",
       "  </tbody>\n",
       "</table>\n",
       "</div>"
      ],
      "text/plain": [
       "   HSCode                                          Commodity  value  \\\n",
       "0       2                        MEAT AND EDIBLE MEAT OFFAL.   0.18   \n",
       "1       3  FISH AND CRUSTACEANS, MOLLUSCS AND OTHER AQUAT...   0.00   \n",
       "2       4  DAIRY PRODUCE; BIRDS' EGGS; NATURAL HONEY; EDI...  12.48   \n",
       "3       6  LIVE TREES AND OTHER PLANTS; BULBS; ROOTS AND ...   0.00   \n",
       "4       7    EDIBLE VEGETABLES AND CERTAIN ROOTS AND TUBERS.   1.89   \n",
       "\n",
       "           country  year  \n",
       "0  AFGHANISTAN TIS  2018  \n",
       "1  AFGHANISTAN TIS  2018  \n",
       "2  AFGHANISTAN TIS  2018  \n",
       "3  AFGHANISTAN TIS  2018  \n",
       "4  AFGHANISTAN TIS  2018  "
      ]
     },
     "execution_count": 5,
     "metadata": {},
     "output_type": "execute_result"
    }
   ],
   "source": [
    "export_india.head()"
   ]
  },
  {
   "cell_type": "code",
   "execution_count": 6,
   "metadata": {},
   "outputs": [
    {
     "name": "stdout",
     "output_type": "stream",
     "text": [
      "<class 'pandas.core.frame.DataFrame'>\n",
      "RangeIndex: 76124 entries, 0 to 76123\n",
      "Data columns (total 5 columns):\n",
      "HSCode       76124 non-null int64\n",
      "Commodity    76124 non-null object\n",
      "value        64536 non-null float64\n",
      "country      76124 non-null object\n",
      "year         76124 non-null int64\n",
      "dtypes: float64(1), int64(2), object(2)\n",
      "memory usage: 2.9+ MB\n"
     ]
    }
   ],
   "source": [
    "import_india.info()"
   ]
  },
  {
   "cell_type": "code",
   "execution_count": 7,
   "metadata": {},
   "outputs": [
    {
     "name": "stdout",
     "output_type": "stream",
     "text": [
      "<class 'pandas.core.frame.DataFrame'>\n",
      "RangeIndex: 137023 entries, 0 to 137022\n",
      "Data columns (total 5 columns):\n",
      "HSCode       137023 non-null int64\n",
      "Commodity    137023 non-null object\n",
      "value        122985 non-null float64\n",
      "country      137023 non-null object\n",
      "year         137023 non-null int64\n",
      "dtypes: float64(1), int64(2), object(2)\n",
      "memory usage: 5.2+ MB\n"
     ]
    }
   ],
   "source": [
    "export_india.info()"
   ]
  },
  {
   "cell_type": "code",
   "execution_count": 8,
   "metadata": {},
   "outputs": [
    {
     "data": {
      "text/html": [
       "<div>\n",
       "<style scoped>\n",
       "    .dataframe tbody tr th:only-of-type {\n",
       "        vertical-align: middle;\n",
       "    }\n",
       "\n",
       "    .dataframe tbody tr th {\n",
       "        vertical-align: top;\n",
       "    }\n",
       "\n",
       "    .dataframe thead th {\n",
       "        text-align: right;\n",
       "    }\n",
       "</style>\n",
       "<table border=\"1\" class=\"dataframe\">\n",
       "  <thead>\n",
       "    <tr style=\"text-align: right;\">\n",
       "      <th></th>\n",
       "      <th>HSCode</th>\n",
       "      <th>value</th>\n",
       "      <th>year</th>\n",
       "    </tr>\n",
       "  </thead>\n",
       "  <tbody>\n",
       "    <tr>\n",
       "      <th>count</th>\n",
       "      <td>76124.000000</td>\n",
       "      <td>64536.000000</td>\n",
       "      <td>76124.000000</td>\n",
       "    </tr>\n",
       "    <tr>\n",
       "      <th>mean</th>\n",
       "      <td>53.905023</td>\n",
       "      <td>62.361425</td>\n",
       "      <td>2014.018299</td>\n",
       "    </tr>\n",
       "    <tr>\n",
       "      <th>std</th>\n",
       "      <td>27.546852</td>\n",
       "      <td>666.327177</td>\n",
       "      <td>2.579385</td>\n",
       "    </tr>\n",
       "    <tr>\n",
       "      <th>min</th>\n",
       "      <td>1.000000</td>\n",
       "      <td>0.000000</td>\n",
       "      <td>2010.000000</td>\n",
       "    </tr>\n",
       "    <tr>\n",
       "      <th>25%</th>\n",
       "      <td>30.000000</td>\n",
       "      <td>0.030000</td>\n",
       "      <td>2012.000000</td>\n",
       "    </tr>\n",
       "    <tr>\n",
       "      <th>50%</th>\n",
       "      <td>54.000000</td>\n",
       "      <td>0.370000</td>\n",
       "      <td>2014.000000</td>\n",
       "    </tr>\n",
       "    <tr>\n",
       "      <th>75%</th>\n",
       "      <td>78.000000</td>\n",
       "      <td>4.780000</td>\n",
       "      <td>2016.000000</td>\n",
       "    </tr>\n",
       "    <tr>\n",
       "      <th>max</th>\n",
       "      <td>99.000000</td>\n",
       "      <td>32781.570000</td>\n",
       "      <td>2018.000000</td>\n",
       "    </tr>\n",
       "  </tbody>\n",
       "</table>\n",
       "</div>"
      ],
      "text/plain": [
       "             HSCode         value          year\n",
       "count  76124.000000  64536.000000  76124.000000\n",
       "mean      53.905023     62.361425   2014.018299\n",
       "std       27.546852    666.327177      2.579385\n",
       "min        1.000000      0.000000   2010.000000\n",
       "25%       30.000000      0.030000   2012.000000\n",
       "50%       54.000000      0.370000   2014.000000\n",
       "75%       78.000000      4.780000   2016.000000\n",
       "max       99.000000  32781.570000   2018.000000"
      ]
     },
     "execution_count": 8,
     "metadata": {},
     "output_type": "execute_result"
    }
   ],
   "source": [
    "import_india.describe()"
   ]
  },
  {
   "cell_type": "code",
   "execution_count": 9,
   "metadata": {},
   "outputs": [
    {
     "data": {
      "text/html": [
       "<div>\n",
       "<style scoped>\n",
       "    .dataframe tbody tr th:only-of-type {\n",
       "        vertical-align: middle;\n",
       "    }\n",
       "\n",
       "    .dataframe tbody tr th {\n",
       "        vertical-align: top;\n",
       "    }\n",
       "\n",
       "    .dataframe thead th {\n",
       "        text-align: right;\n",
       "    }\n",
       "</style>\n",
       "<table border=\"1\" class=\"dataframe\">\n",
       "  <thead>\n",
       "    <tr style=\"text-align: right;\">\n",
       "      <th></th>\n",
       "      <th>HSCode</th>\n",
       "      <th>value</th>\n",
       "      <th>year</th>\n",
       "    </tr>\n",
       "  </thead>\n",
       "  <tbody>\n",
       "    <tr>\n",
       "      <th>count</th>\n",
       "      <td>137023.000000</td>\n",
       "      <td>122985.000000</td>\n",
       "      <td>137023.000000</td>\n",
       "    </tr>\n",
       "    <tr>\n",
       "      <th>mean</th>\n",
       "      <td>51.330302</td>\n",
       "      <td>21.567829</td>\n",
       "      <td>2014.056304</td>\n",
       "    </tr>\n",
       "    <tr>\n",
       "      <th>std</th>\n",
       "      <td>28.018026</td>\n",
       "      <td>229.701279</td>\n",
       "      <td>2.580160</td>\n",
       "    </tr>\n",
       "    <tr>\n",
       "      <th>min</th>\n",
       "      <td>1.000000</td>\n",
       "      <td>0.000000</td>\n",
       "      <td>2010.000000</td>\n",
       "    </tr>\n",
       "    <tr>\n",
       "      <th>25%</th>\n",
       "      <td>28.000000</td>\n",
       "      <td>0.030000</td>\n",
       "      <td>2012.000000</td>\n",
       "    </tr>\n",
       "    <tr>\n",
       "      <th>50%</th>\n",
       "      <td>52.000000</td>\n",
       "      <td>0.360000</td>\n",
       "      <td>2014.000000</td>\n",
       "    </tr>\n",
       "    <tr>\n",
       "      <th>75%</th>\n",
       "      <td>74.000000</td>\n",
       "      <td>3.770000</td>\n",
       "      <td>2016.000000</td>\n",
       "    </tr>\n",
       "    <tr>\n",
       "      <th>max</th>\n",
       "      <td>99.000000</td>\n",
       "      <td>19805.170000</td>\n",
       "      <td>2018.000000</td>\n",
       "    </tr>\n",
       "  </tbody>\n",
       "</table>\n",
       "</div>"
      ],
      "text/plain": [
       "              HSCode          value           year\n",
       "count  137023.000000  122985.000000  137023.000000\n",
       "mean       51.330302      21.567829    2014.056304\n",
       "std        28.018026     229.701279       2.580160\n",
       "min         1.000000       0.000000    2010.000000\n",
       "25%        28.000000       0.030000    2012.000000\n",
       "50%        52.000000       0.360000    2014.000000\n",
       "75%        74.000000       3.770000    2016.000000\n",
       "max        99.000000   19805.170000    2018.000000"
      ]
     },
     "execution_count": 9,
     "metadata": {},
     "output_type": "execute_result"
    }
   ],
   "source": [
    "export_india.describe()"
   ]
  },
  {
   "cell_type": "code",
   "execution_count": 10,
   "metadata": {},
   "outputs": [
    {
     "data": {
      "text/plain": [
       "(76124, 5)"
      ]
     },
     "execution_count": 10,
     "metadata": {},
     "output_type": "execute_result"
    }
   ],
   "source": [
    "import_india.shape"
   ]
  },
  {
   "cell_type": "code",
   "execution_count": 11,
   "metadata": {},
   "outputs": [
    {
     "data": {
      "text/plain": [
       "(137023, 5)"
      ]
     },
     "execution_count": 11,
     "metadata": {},
     "output_type": "execute_result"
    }
   ],
   "source": [
    "export_india.shape"
   ]
  },
  {
   "cell_type": "code",
   "execution_count": 12,
   "metadata": {},
   "outputs": [
    {
     "data": {
      "text/plain": [
       "HSCode                               99\n",
       "Commodity    ZINC AND ARTICLES THEREOF.\n",
       "value                           32781.6\n",
       "country                        ZIMBABWE\n",
       "year                               2018\n",
       "dtype: object"
      ]
     },
     "execution_count": 12,
     "metadata": {},
     "output_type": "execute_result"
    }
   ],
   "source": [
    "import_india.max()"
   ]
  },
  {
   "cell_type": "code",
   "execution_count": 13,
   "metadata": {},
   "outputs": [
    {
     "data": {
      "text/plain": [
       "HSCode                                              1\n",
       "Commodity    AIRCRAFT, SPACECRAFT, AND PARTS THEREOF.\n",
       "value                                               0\n",
       "country                               AFGHANISTAN TIS\n",
       "year                                             2010\n",
       "dtype: object"
      ]
     },
     "execution_count": 13,
     "metadata": {},
     "output_type": "execute_result"
    }
   ],
   "source": [
    "import_india.min()"
   ]
  },
  {
   "cell_type": "code",
   "execution_count": 14,
   "metadata": {},
   "outputs": [
    {
     "data": {
      "text/plain": [
       "HSCode                               99\n",
       "Commodity    ZINC AND ARTICLES THEREOF.\n",
       "value                           19805.2\n",
       "country                        ZIMBABWE\n",
       "year                               2018\n",
       "dtype: object"
      ]
     },
     "execution_count": 14,
     "metadata": {},
     "output_type": "execute_result"
    }
   ],
   "source": [
    "export_india.max()"
   ]
  },
  {
   "cell_type": "code",
   "execution_count": 15,
   "metadata": {},
   "outputs": [
    {
     "data": {
      "text/plain": [
       "HSCode                                              1\n",
       "Commodity    AIRCRAFT, SPACECRAFT, AND PARTS THEREOF.\n",
       "value                                               0\n",
       "country                               AFGHANISTAN TIS\n",
       "year                                             2010\n",
       "dtype: object"
      ]
     },
     "execution_count": 15,
     "metadata": {},
     "output_type": "execute_result"
    }
   ],
   "source": [
    "export_india.min()"
   ]
  },
  {
   "cell_type": "code",
   "execution_count": 16,
   "metadata": {},
   "outputs": [
    {
     "data": {
      "text/plain": [
       "HSCode           0\n",
       "Commodity        0\n",
       "value        11588\n",
       "country          0\n",
       "year             0\n",
       "dtype: int64"
      ]
     },
     "execution_count": 16,
     "metadata": {},
     "output_type": "execute_result"
    }
   ],
   "source": [
    "import_india.isnull().sum()"
   ]
  },
  {
   "cell_type": "code",
   "execution_count": 17,
   "metadata": {},
   "outputs": [
    {
     "data": {
      "text/plain": [
       "HSCode           0\n",
       "Commodity        0\n",
       "value        14038\n",
       "country          0\n",
       "year             0\n",
       "dtype: int64"
      ]
     },
     "execution_count": 17,
     "metadata": {},
     "output_type": "execute_result"
    }
   ],
   "source": [
    "export_india.isnull().sum()"
   ]
  },
  {
   "cell_type": "code",
   "execution_count": 18,
   "metadata": {},
   "outputs": [
    {
     "data": {
      "text/html": [
       "<div>\n",
       "<style scoped>\n",
       "    .dataframe tbody tr th:only-of-type {\n",
       "        vertical-align: middle;\n",
       "    }\n",
       "\n",
       "    .dataframe tbody tr th {\n",
       "        vertical-align: top;\n",
       "    }\n",
       "\n",
       "    .dataframe thead th {\n",
       "        text-align: right;\n",
       "    }\n",
       "</style>\n",
       "<table border=\"1\" class=\"dataframe\">\n",
       "  <thead>\n",
       "    <tr style=\"text-align: right;\">\n",
       "      <th></th>\n",
       "      <th>Commodity</th>\n",
       "    </tr>\n",
       "  </thead>\n",
       "  <tbody>\n",
       "    <tr>\n",
       "      <th>ELECTRICAL MACHINERY AND EQUIPMENT AND PARTS THEREOF; SOUND RECORDERS AND REPRODUCERS, TELEVISION IMAGE AND SOUND RECORDERS AND REPRODUCERS,AND PARTS.</th>\n",
       "      <td>1778</td>\n",
       "    </tr>\n",
       "    <tr>\n",
       "      <th>NUCLEAR REACTORS, BOILERS, MACHINERY AND MECHANICAL APPLIANCES; PARTS THEREOF.</th>\n",
       "      <td>1711</td>\n",
       "    </tr>\n",
       "    <tr>\n",
       "      <th>MISCELLANEOUS GOODS.</th>\n",
       "      <td>1533</td>\n",
       "    </tr>\n",
       "    <tr>\n",
       "      <th>PLASTIC AND ARTICLES THEREOF.</th>\n",
       "      <td>1525</td>\n",
       "    </tr>\n",
       "    <tr>\n",
       "      <th>IRON AND STEEL</th>\n",
       "      <td>1502</td>\n",
       "    </tr>\n",
       "    <tr>\n",
       "      <th>OPTICAL, PHOTOGRAPHIC CINEMATOGRAPHIC MEASURING, CHECKING PRECISION, MEDICAL OR SURGICAL INST. AND APPARATUS PARTS AND ACCESSORIES THEREOF;</th>\n",
       "      <td>1418</td>\n",
       "    </tr>\n",
       "    <tr>\n",
       "      <th>ALUMINIUM AND ARTICLES THEREOF.</th>\n",
       "      <td>1405</td>\n",
       "    </tr>\n",
       "    <tr>\n",
       "      <th>ARTICLES OF IRON OR STEEL</th>\n",
       "      <td>1329</td>\n",
       "    </tr>\n",
       "    <tr>\n",
       "      <th>COPPER AND ARTICLES THEREOF.</th>\n",
       "      <td>1245</td>\n",
       "    </tr>\n",
       "    <tr>\n",
       "      <th>RUBBER AND ARTICLES THEREOF.</th>\n",
       "      <td>1207</td>\n",
       "    </tr>\n",
       "  </tbody>\n",
       "</table>\n",
       "</div>"
      ],
      "text/plain": [
       "                                                    Commodity\n",
       "ELECTRICAL MACHINERY AND EQUIPMENT AND PARTS TH...       1778\n",
       "NUCLEAR REACTORS, BOILERS, MACHINERY AND MECHAN...       1711\n",
       "MISCELLANEOUS GOODS.                                     1533\n",
       "PLASTIC AND ARTICLES THEREOF.                            1525\n",
       "IRON AND STEEL                                           1502\n",
       "OPTICAL, PHOTOGRAPHIC CINEMATOGRAPHIC MEASURING...       1418\n",
       "ALUMINIUM AND ARTICLES THEREOF.                          1405\n",
       "ARTICLES OF IRON OR STEEL                                1329\n",
       "COPPER AND ARTICLES THEREOF.                             1245\n",
       "RUBBER AND ARTICLES THEREOF.                             1207"
      ]
     },
     "execution_count": 18,
     "metadata": {},
     "output_type": "execute_result"
    }
   ],
   "source": [
    "df = pd.DataFrame(import_india['Commodity'].value_counts())\n",
    "df.head(10)"
   ]
  },
  {
   "cell_type": "code",
   "execution_count": 19,
   "metadata": {},
   "outputs": [
    {
     "data": {
      "text/plain": [
       "76124"
      ]
     },
     "execution_count": 19,
     "metadata": {},
     "output_type": "execute_result"
    }
   ],
   "source": [
    "import_india['Commodity'].value_counts().sum()"
   ]
  },
  {
   "cell_type": "code",
   "execution_count": 20,
   "metadata": {},
   "outputs": [
    {
     "data": {
      "text/html": [
       "<div>\n",
       "<style scoped>\n",
       "    .dataframe tbody tr th:only-of-type {\n",
       "        vertical-align: middle;\n",
       "    }\n",
       "\n",
       "    .dataframe tbody tr th {\n",
       "        vertical-align: top;\n",
       "    }\n",
       "\n",
       "    .dataframe thead th {\n",
       "        text-align: right;\n",
       "    }\n",
       "</style>\n",
       "<table border=\"1\" class=\"dataframe\">\n",
       "  <thead>\n",
       "    <tr style=\"text-align: right;\">\n",
       "      <th></th>\n",
       "      <th>Commodity</th>\n",
       "    </tr>\n",
       "  </thead>\n",
       "  <tbody>\n",
       "    <tr>\n",
       "      <th>ELECTRICAL MACHINERY AND EQUIPMENT AND PARTS THEREOF; SOUND RECORDERS AND REPRODUCERS, TELEVISION IMAGE AND SOUND RECORDERS AND REPRODUCERS,AND PARTS.</th>\n",
       "      <td>1963</td>\n",
       "    </tr>\n",
       "    <tr>\n",
       "      <th>NUCLEAR REACTORS, BOILERS, MACHINERY AND MECHANICAL APPLIANCES; PARTS THEREOF.</th>\n",
       "      <td>1945</td>\n",
       "    </tr>\n",
       "    <tr>\n",
       "      <th>OPTICAL, PHOTOGRAPHIC CINEMATOGRAPHIC MEASURING, CHECKING PRECISION, MEDICAL OR SURGICAL INST. AND APPARATUS PARTS AND ACCESSORIES THEREOF;</th>\n",
       "      <td>1917</td>\n",
       "    </tr>\n",
       "    <tr>\n",
       "      <th>PHARMACEUTICAL PRODUCTS</th>\n",
       "      <td>1916</td>\n",
       "    </tr>\n",
       "    <tr>\n",
       "      <th>ARTICLES OF APPAREL AND CLOTHING ACCESSORIES, NOT KNITTED OR CROCHETED.</th>\n",
       "      <td>1907</td>\n",
       "    </tr>\n",
       "    <tr>\n",
       "      <th>ARTICLES OF IRON OR STEEL</th>\n",
       "      <td>1880</td>\n",
       "    </tr>\n",
       "    <tr>\n",
       "      <th>PLASTIC AND ARTICLES THEREOF.</th>\n",
       "      <td>1872</td>\n",
       "    </tr>\n",
       "    <tr>\n",
       "      <th>VEHICLES OTHER THAN RAILWAY OR TRAMWAY ROLLING STOCK, AND PARTS AND ACCESSORIES THEREOF.</th>\n",
       "      <td>1866</td>\n",
       "    </tr>\n",
       "    <tr>\n",
       "      <th>OTHER MADE UP TEXTILE ARTICLES; SETS; WORN CLOTHING AND WORN TEXTILE ARTICLES; RAGS</th>\n",
       "      <td>1865</td>\n",
       "    </tr>\n",
       "    <tr>\n",
       "      <th>MISCELLANEOUS GOODS.</th>\n",
       "      <td>1856</td>\n",
       "    </tr>\n",
       "  </tbody>\n",
       "</table>\n",
       "</div>"
      ],
      "text/plain": [
       "                                                    Commodity\n",
       "ELECTRICAL MACHINERY AND EQUIPMENT AND PARTS TH...       1963\n",
       "NUCLEAR REACTORS, BOILERS, MACHINERY AND MECHAN...       1945\n",
       "OPTICAL, PHOTOGRAPHIC CINEMATOGRAPHIC MEASURING...       1917\n",
       "PHARMACEUTICAL PRODUCTS                                  1916\n",
       "ARTICLES OF APPAREL AND CLOTHING ACCESSORIES, N...       1907\n",
       "ARTICLES OF IRON OR STEEL                                1880\n",
       "PLASTIC AND ARTICLES THEREOF.                            1872\n",
       "VEHICLES OTHER THAN RAILWAY OR TRAMWAY ROLLING ...       1866\n",
       "OTHER MADE UP TEXTILE ARTICLES; SETS; WORN CLOT...       1865\n",
       "MISCELLANEOUS GOODS.                                     1856"
      ]
     },
     "execution_count": 20,
     "metadata": {},
     "output_type": "execute_result"
    }
   ],
   "source": [
    "df1 = pd.DataFrame(export_india['Commodity'].value_counts())\n",
    "df1.head(10)"
   ]
  },
  {
   "cell_type": "code",
   "execution_count": 21,
   "metadata": {},
   "outputs": [
    {
     "data": {
      "text/plain": [
       "137023"
      ]
     },
     "execution_count": 21,
     "metadata": {},
     "output_type": "execute_result"
    }
   ],
   "source": [
    "export_india['Commodity'].value_counts().sum()"
   ]
  },
  {
   "cell_type": "code",
   "execution_count": 22,
   "metadata": {},
   "outputs": [
    {
     "name": "stdout",
     "output_type": "stream",
     "text": [
      "No of Country where we are importing Comodities are 242\n",
      "No of Country where we are Exporting Comodities are 248\n"
     ]
    }
   ],
   "source": [
    "print(\"No of Country where we are importing Comodities are \"+str(len(import_india['country'].unique())))\n",
    "print(\"No of Country where we are Exporting Comodities are \"+str(len(export_india['country'].unique())))"
   ]
  },
  {
   "cell_type": "code",
   "execution_count": 212,
   "metadata": {},
   "outputs": [],
   "source": [
    "\n",
    "df3 = import_india.groupby('year').agg({'value':'sum'})\n",
    "\n",
    "df4 = export_india.groupby('year').agg({'value':'sum'})\n",
    "\n",
    "\n",
    "exp_year = export_india.groupby('year').agg({'value': 'sum'})\n",
    "exp_year = exp_year.rename(columns={'value': 'Export'})\n",
    "\n",
    "imp_year = import_india.groupby('year').agg({'value': 'sum'})\n",
    "imp_year = imp_year.rename(columns={'value': 'Import'})\n",
    "\n",
    "'''Calculating the growth of export and import'''\n",
    "exp_year['Growth Rate(E)'] = exp_year.pct_change()\n",
    "imp_year['Growth Rate(I)'] = imp_year.pct_change()\n",
    "\n",
    "'''Calculating trade deficit'''\n",
    "total_year = pd.concat([exp_year, imp_year], axis = 1)\n",
    "total_year['Trade Deficit'] = exp_year.Export - imp_year.Import"
   ]
  },
  {
   "cell_type": "code",
   "execution_count": 165,
   "metadata": {},
   "outputs": [
    {
     "data": {
      "text/html": [
       "<div>\n",
       "<style scoped>\n",
       "    .dataframe tbody tr th:only-of-type {\n",
       "        vertical-align: middle;\n",
       "    }\n",
       "\n",
       "    .dataframe tbody tr th {\n",
       "        vertical-align: top;\n",
       "    }\n",
       "\n",
       "    .dataframe thead th {\n",
       "        text-align: right;\n",
       "    }\n",
       "</style>\n",
       "<table border=\"1\" class=\"dataframe\">\n",
       "  <thead>\n",
       "    <tr style=\"text-align: right;\">\n",
       "      <th></th>\n",
       "      <th>Export</th>\n",
       "      <th>Growth Rate(E)</th>\n",
       "      <th>Import</th>\n",
       "      <th>Growth Rate(I)</th>\n",
       "      <th>Trade Deficit</th>\n",
       "    </tr>\n",
       "    <tr>\n",
       "      <th>year</th>\n",
       "      <th></th>\n",
       "      <th></th>\n",
       "      <th></th>\n",
       "      <th></th>\n",
       "      <th></th>\n",
       "    </tr>\n",
       "  </thead>\n",
       "  <tbody>\n",
       "    <tr>\n",
       "      <th>2010</th>\n",
       "      <td>249801.18</td>\n",
       "      <td>NaN</td>\n",
       "      <td>369762.25</td>\n",
       "      <td>NaN</td>\n",
       "      <td>-119961.07</td>\n",
       "    </tr>\n",
       "    <tr>\n",
       "      <th>2011</th>\n",
       "      <td>305948.28</td>\n",
       "      <td>0.224767</td>\n",
       "      <td>489311.81</td>\n",
       "      <td>0.323315</td>\n",
       "      <td>-183363.53</td>\n",
       "    </tr>\n",
       "    <tr>\n",
       "      <th>2012</th>\n",
       "      <td>300384.32</td>\n",
       "      <td>-0.018186</td>\n",
       "      <td>490730.07</td>\n",
       "      <td>0.002898</td>\n",
       "      <td>-190345.75</td>\n",
       "    </tr>\n",
       "    <tr>\n",
       "      <th>2013</th>\n",
       "      <td>314388.61</td>\n",
       "      <td>0.046621</td>\n",
       "      <td>450192.99</td>\n",
       "      <td>-0.082606</td>\n",
       "      <td>-135804.38</td>\n",
       "    </tr>\n",
       "    <tr>\n",
       "      <th>2014</th>\n",
       "      <td>310321.02</td>\n",
       "      <td>-0.012938</td>\n",
       "      <td>448026.63</td>\n",
       "      <td>-0.004812</td>\n",
       "      <td>-137705.61</td>\n",
       "    </tr>\n",
       "    <tr>\n",
       "      <th>2015</th>\n",
       "      <td>262274.30</td>\n",
       "      <td>-0.154829</td>\n",
       "      <td>412537.53</td>\n",
       "      <td>-0.079212</td>\n",
       "      <td>-150263.23</td>\n",
       "    </tr>\n",
       "    <tr>\n",
       "      <th>2016</th>\n",
       "      <td>275835.27</td>\n",
       "      <td>0.051705</td>\n",
       "      <td>384350.29</td>\n",
       "      <td>-0.068326</td>\n",
       "      <td>-108515.02</td>\n",
       "    </tr>\n",
       "    <tr>\n",
       "      <th>2017</th>\n",
       "      <td>303507.85</td>\n",
       "      <td>0.100323</td>\n",
       "      <td>465574.02</td>\n",
       "      <td>0.211327</td>\n",
       "      <td>-162066.17</td>\n",
       "    </tr>\n",
       "    <tr>\n",
       "      <th>2018</th>\n",
       "      <td>330058.64</td>\n",
       "      <td>0.087480</td>\n",
       "      <td>514071.33</td>\n",
       "      <td>0.104167</td>\n",
       "      <td>-184012.69</td>\n",
       "    </tr>\n",
       "  </tbody>\n",
       "</table>\n",
       "</div>"
      ],
      "text/plain": [
       "         Export  Growth Rate(E)     Import  Growth Rate(I)  Trade Deficit\n",
       "year                                                                     \n",
       "2010  249801.18             NaN  369762.25             NaN     -119961.07\n",
       "2011  305948.28        0.224767  489311.81        0.323315     -183363.53\n",
       "2012  300384.32       -0.018186  490730.07        0.002898     -190345.75\n",
       "2013  314388.61        0.046621  450192.99       -0.082606     -135804.38\n",
       "2014  310321.02       -0.012938  448026.63       -0.004812     -137705.61\n",
       "2015  262274.30       -0.154829  412537.53       -0.079212     -150263.23\n",
       "2016  275835.27        0.051705  384350.29       -0.068326     -108515.02\n",
       "2017  303507.85        0.100323  465574.02        0.211327     -162066.17\n",
       "2018  330058.64        0.087480  514071.33        0.104167     -184012.69"
      ]
     },
     "execution_count": 165,
     "metadata": {},
     "output_type": "execute_result"
    }
   ],
   "source": [
    "total_year"
   ]
  },
  {
   "cell_type": "markdown",
   "metadata": {},
   "source": [
    "- Trade deficit in 2010 -          119961.07 \n",
    "- Trade deficit in 2018 -          698084.02\n",
    "- increase in deficit in 9 years - 578122.95"
   ]
  },
  {
   "cell_type": "code",
   "execution_count": 27,
   "metadata": {},
   "outputs": [
    {
     "data": {
      "text/html": [
       "<div>\n",
       "<style scoped>\n",
       "    .dataframe tbody tr th:only-of-type {\n",
       "        vertical-align: middle;\n",
       "    }\n",
       "\n",
       "    .dataframe tbody tr th {\n",
       "        vertical-align: top;\n",
       "    }\n",
       "\n",
       "    .dataframe thead th {\n",
       "        text-align: right;\n",
       "    }\n",
       "</style>\n",
       "<table border=\"1\" class=\"dataframe\">\n",
       "  <thead>\n",
       "    <tr style=\"text-align: right;\">\n",
       "      <th></th>\n",
       "      <th>Export</th>\n",
       "      <th>Growth Rate(E)</th>\n",
       "      <th>Import</th>\n",
       "      <th>Growth Rate(I)</th>\n",
       "      <th>Trade Deficit</th>\n",
       "    </tr>\n",
       "  </thead>\n",
       "  <tbody>\n",
       "    <tr>\n",
       "      <th>count</th>\n",
       "      <td>9.000000</td>\n",
       "      <td>8.000000</td>\n",
       "      <td>9.000000</td>\n",
       "      <td>8.000000</td>\n",
       "      <td>9.000000</td>\n",
       "    </tr>\n",
       "    <tr>\n",
       "      <th>mean</th>\n",
       "      <td>294724.385556</td>\n",
       "      <td>0.040618</td>\n",
       "      <td>447172.991111</td>\n",
       "      <td>0.050844</td>\n",
       "      <td>-152448.605556</td>\n",
       "    </tr>\n",
       "    <tr>\n",
       "      <th>std</th>\n",
       "      <td>26318.974416</td>\n",
       "      <td>0.109777</td>\n",
       "      <td>49542.234081</td>\n",
       "      <td>0.149838</td>\n",
       "      <td>29507.365644</td>\n",
       "    </tr>\n",
       "    <tr>\n",
       "      <th>min</th>\n",
       "      <td>249801.180000</td>\n",
       "      <td>-0.154829</td>\n",
       "      <td>369762.250000</td>\n",
       "      <td>-0.082606</td>\n",
       "      <td>-190345.750000</td>\n",
       "    </tr>\n",
       "    <tr>\n",
       "      <th>25%</th>\n",
       "      <td>275835.270000</td>\n",
       "      <td>-0.014250</td>\n",
       "      <td>412537.530000</td>\n",
       "      <td>-0.071048</td>\n",
       "      <td>-183363.530000</td>\n",
       "    </tr>\n",
       "    <tr>\n",
       "      <th>50%</th>\n",
       "      <td>303507.850000</td>\n",
       "      <td>0.049163</td>\n",
       "      <td>450192.990000</td>\n",
       "      <td>-0.000957</td>\n",
       "      <td>-150263.230000</td>\n",
       "    </tr>\n",
       "    <tr>\n",
       "      <th>75%</th>\n",
       "      <td>310321.020000</td>\n",
       "      <td>0.090691</td>\n",
       "      <td>489311.810000</td>\n",
       "      <td>0.130957</td>\n",
       "      <td>-135804.380000</td>\n",
       "    </tr>\n",
       "    <tr>\n",
       "      <th>max</th>\n",
       "      <td>330058.640000</td>\n",
       "      <td>0.224767</td>\n",
       "      <td>514071.330000</td>\n",
       "      <td>0.323315</td>\n",
       "      <td>-108515.020000</td>\n",
       "    </tr>\n",
       "  </tbody>\n",
       "</table>\n",
       "</div>"
      ],
      "text/plain": [
       "              Export  Growth Rate(E)         Import  Growth Rate(I)  \\\n",
       "count       9.000000        8.000000       9.000000        8.000000   \n",
       "mean   294724.385556        0.040618  447172.991111        0.050844   \n",
       "std     26318.974416        0.109777   49542.234081        0.149838   \n",
       "min    249801.180000       -0.154829  369762.250000       -0.082606   \n",
       "25%    275835.270000       -0.014250  412537.530000       -0.071048   \n",
       "50%    303507.850000        0.049163  450192.990000       -0.000957   \n",
       "75%    310321.020000        0.090691  489311.810000        0.130957   \n",
       "max    330058.640000        0.224767  514071.330000        0.323315   \n",
       "\n",
       "       Trade Deficit  \n",
       "count       9.000000  \n",
       "mean  -152448.605556  \n",
       "std     29507.365644  \n",
       "min   -190345.750000  \n",
       "25%   -183363.530000  \n",
       "50%   -150263.230000  \n",
       "75%   -135804.380000  \n",
       "max   -108515.020000  "
      ]
     },
     "execution_count": 27,
     "metadata": {},
     "output_type": "execute_result"
    }
   ],
   "source": [
    "total_year.describe()"
   ]
  },
  {
   "cell_type": "code",
   "execution_count": 111,
   "metadata": {},
   "outputs": [],
   "source": [
    "exp_country = export_india.groupby('country').agg({'value':'sum'})\n",
    "exp_country = exp_country.rename(columns={'value': 'Export'})\n",
    "exp_country = exp_country.sort_values(by = 'Export', ascending = False)\n",
    "exp_country = exp_country[:20]\n",
    "\n",
    "imp_country = import_india.groupby('country').agg({'value':'sum'})\n",
    "imp_country = imp_country.rename(columns={'value': 'Import'})\n",
    "imp_country = imp_country.sort_values(by = 'Import', ascending = False)\n",
    "imp_country = imp_country[:20]"
   ]
  },
  {
   "cell_type": "code",
   "execution_count": 112,
   "metadata": {},
   "outputs": [
    {
     "data": {
      "text/html": [
       "<div>\n",
       "<style scoped>\n",
       "    .dataframe tbody tr th:only-of-type {\n",
       "        vertical-align: middle;\n",
       "    }\n",
       "\n",
       "    .dataframe tbody tr th {\n",
       "        vertical-align: top;\n",
       "    }\n",
       "\n",
       "    .dataframe thead th {\n",
       "        text-align: right;\n",
       "    }\n",
       "</style>\n",
       "<table border=\"1\" class=\"dataframe\">\n",
       "  <thead>\n",
       "    <tr style=\"text-align: right;\">\n",
       "      <th></th>\n",
       "      <th>Export</th>\n",
       "      <th>Import</th>\n",
       "      <th>Trade_Deficit</th>\n",
       "    </tr>\n",
       "  </thead>\n",
       "  <tbody>\n",
       "    <tr>\n",
       "      <th>U S A</th>\n",
       "      <td>360609.57</td>\n",
       "      <td>219276.66</td>\n",
       "      <td>141332.91</td>\n",
       "    </tr>\n",
       "    <tr>\n",
       "      <th>U ARAB EMTS</th>\n",
       "      <td>289374.88</td>\n",
       "      <td>256286.08</td>\n",
       "      <td>33088.80</td>\n",
       "    </tr>\n",
       "    <tr>\n",
       "      <th>HONG KONG</th>\n",
       "      <td>115693.35</td>\n",
       "      <td>83542.74</td>\n",
       "      <td>32150.61</td>\n",
       "    </tr>\n",
       "    <tr>\n",
       "      <th>SINGAPORE</th>\n",
       "      <td>101679.70</td>\n",
       "      <td>75043.09</td>\n",
       "      <td>26636.61</td>\n",
       "    </tr>\n",
       "    <tr>\n",
       "      <th>BELGIUM</th>\n",
       "      <td>53969.10</td>\n",
       "      <td>90213.86</td>\n",
       "      <td>-36244.76</td>\n",
       "    </tr>\n",
       "    <tr>\n",
       "      <th>MALAYSIA</th>\n",
       "      <td>43377.70</td>\n",
       "      <td>84142.18</td>\n",
       "      <td>-40764.48</td>\n",
       "    </tr>\n",
       "    <tr>\n",
       "      <th>JAPAN</th>\n",
       "      <td>47822.15</td>\n",
       "      <td>96004.66</td>\n",
       "      <td>-48182.51</td>\n",
       "    </tr>\n",
       "    <tr>\n",
       "      <th>GERMANY</th>\n",
       "      <td>68855.45</td>\n",
       "      <td>119664.64</td>\n",
       "      <td>-50809.19</td>\n",
       "    </tr>\n",
       "    <tr>\n",
       "      <th>INDONESIA</th>\n",
       "      <td>42148.84</td>\n",
       "      <td>128164.40</td>\n",
       "      <td>-86015.56</td>\n",
       "    </tr>\n",
       "    <tr>\n",
       "      <th>SAUDI ARAB</th>\n",
       "      <td>65995.99</td>\n",
       "      <td>241554.99</td>\n",
       "      <td>-175559.00</td>\n",
       "    </tr>\n",
       "    <tr>\n",
       "      <th>CHINA P RP</th>\n",
       "      <td>121806.00</td>\n",
       "      <td>532177.51</td>\n",
       "      <td>-410371.51</td>\n",
       "    </tr>\n",
       "  </tbody>\n",
       "</table>\n",
       "</div>"
      ],
      "text/plain": [
       "                Export     Import  Trade_Deficit\n",
       "U S A        360609.57  219276.66      141332.91\n",
       "U ARAB EMTS  289374.88  256286.08       33088.80\n",
       "HONG KONG    115693.35   83542.74       32150.61\n",
       "SINGAPORE    101679.70   75043.09       26636.61\n",
       "BELGIUM       53969.10   90213.86      -36244.76\n",
       "MALAYSIA      43377.70   84142.18      -40764.48\n",
       "JAPAN         47822.15   96004.66      -48182.51\n",
       "GERMANY       68855.45  119664.64      -50809.19\n",
       "INDONESIA     42148.84  128164.40      -86015.56\n",
       "SAUDI ARAB    65995.99  241554.99     -175559.00\n",
       "CHINA P RP   121806.00  532177.51     -410371.51"
      ]
     },
     "execution_count": 112,
     "metadata": {},
     "output_type": "execute_result"
    }
   ],
   "source": [
    "'''Calculating trade deficit'''\n",
    "total_country = pd.concat([exp_country, imp_country], axis = 1,sort=False)\n",
    "total_country['Trade_Deficit'] = exp_country.Export - imp_country.Import\n",
    "total_country = total_country.sort_values(by = 'Trade_Deficit', ascending = False)\n",
    "total_country = total_country[:11]\n",
    "total_country\n"
   ]
  },
  {
   "cell_type": "code",
   "execution_count": 30,
   "metadata": {},
   "outputs": [
    {
     "data": {
      "text/html": [
       "<div>\n",
       "<style scoped>\n",
       "    .dataframe tbody tr th:only-of-type {\n",
       "        vertical-align: middle;\n",
       "    }\n",
       "\n",
       "    .dataframe tbody tr th {\n",
       "        vertical-align: top;\n",
       "    }\n",
       "\n",
       "    .dataframe thead th {\n",
       "        text-align: right;\n",
       "    }\n",
       "</style>\n",
       "<table border=\"1\" class=\"dataframe\">\n",
       "  <thead>\n",
       "    <tr style=\"text-align: right;\">\n",
       "      <th></th>\n",
       "      <th>Export</th>\n",
       "      <th>Import</th>\n",
       "      <th>Trade_Deficit</th>\n",
       "    </tr>\n",
       "  </thead>\n",
       "  <tbody>\n",
       "    <tr>\n",
       "      <th>count</th>\n",
       "      <td>11.000000</td>\n",
       "      <td>11.000000</td>\n",
       "      <td>11.000000</td>\n",
       "    </tr>\n",
       "    <tr>\n",
       "      <th>mean</th>\n",
       "      <td>119212.066364</td>\n",
       "      <td>175097.346364</td>\n",
       "      <td>-55885.280000</td>\n",
       "    </tr>\n",
       "    <tr>\n",
       "      <th>std</th>\n",
       "      <td>106754.450973</td>\n",
       "      <td>136333.624619</td>\n",
       "      <td>142464.448162</td>\n",
       "    </tr>\n",
       "    <tr>\n",
       "      <th>min</th>\n",
       "      <td>42148.840000</td>\n",
       "      <td>75043.090000</td>\n",
       "      <td>-410371.510000</td>\n",
       "    </tr>\n",
       "    <tr>\n",
       "      <th>25%</th>\n",
       "      <td>50895.625000</td>\n",
       "      <td>87178.020000</td>\n",
       "      <td>-68412.375000</td>\n",
       "    </tr>\n",
       "    <tr>\n",
       "      <th>50%</th>\n",
       "      <td>68855.450000</td>\n",
       "      <td>119664.640000</td>\n",
       "      <td>-40764.480000</td>\n",
       "    </tr>\n",
       "    <tr>\n",
       "      <th>75%</th>\n",
       "      <td>118749.675000</td>\n",
       "      <td>230415.825000</td>\n",
       "      <td>29393.610000</td>\n",
       "    </tr>\n",
       "    <tr>\n",
       "      <th>max</th>\n",
       "      <td>360609.570000</td>\n",
       "      <td>532177.510000</td>\n",
       "      <td>141332.910000</td>\n",
       "    </tr>\n",
       "  </tbody>\n",
       "</table>\n",
       "</div>"
      ],
      "text/plain": [
       "              Export         Import  Trade_Deficit\n",
       "count      11.000000      11.000000      11.000000\n",
       "mean   119212.066364  175097.346364  -55885.280000\n",
       "std    106754.450973  136333.624619  142464.448162\n",
       "min     42148.840000   75043.090000 -410371.510000\n",
       "25%     50895.625000   87178.020000  -68412.375000\n",
       "50%     68855.450000  119664.640000  -40764.480000\n",
       "75%    118749.675000  230415.825000   29393.610000\n",
       "max    360609.570000  532177.510000  141332.910000"
      ]
     },
     "execution_count": 30,
     "metadata": {},
     "output_type": "execute_result"
    }
   ],
   "source": [
    "total_country.describe()"
   ]
  },
  {
   "cell_type": "code",
   "execution_count": 31,
   "metadata": {},
   "outputs": [
    {
     "data": {
      "text/plain": [
       "<matplotlib.axes._subplots.AxesSubplot at 0x1700eb185f8>"
      ]
     },
     "execution_count": 31,
     "metadata": {},
     "output_type": "execute_result"
    },
    {
     "data": {
      "image/png": "[encoded data removed]",
      "text/plain": [
       "<Figure size 432x288 with 1 Axes>"
      ]
     },
     "metadata": {
      "needs_background": "light"
     },
     "output_type": "display_data"
    }
   ],
   "source": [
    "total_country.plot.bar(stacked=True)"
   ]
  },
  {
   "cell_type": "code",
   "execution_count": 32,
   "metadata": {},
   "outputs": [
    {
     "data": {
      "text/plain": [
       "<matplotlib.axes._subplots.AxesSubplot at 0x1700e1d67b8>"
      ]
     },
     "execution_count": 32,
     "metadata": {},
     "output_type": "execute_result"
    },
    {
     "data": {
      "image/png": "[encoded data removed]",
      "text/plain": [
       "<Figure size 1296x576 with 1 Axes>"
      ]
     },
     "metadata": {
      "needs_background": "light"
     },
     "output_type": "display_data"
    }
   ],
   "source": [
    "plt.figure(figsize=(18,8))\n",
    "sns.barplot(total_country.index,total_country.Trade_Deficit,palette='plasma')"
   ]
  },
  {
   "cell_type": "code",
   "execution_count": 33,
   "metadata": {},
   "outputs": [
    {
     "data": {
      "text/plain": [
       "<matplotlib.axes._subplots.AxesSubplot at 0x1700f1c2630>"
      ]
     },
     "execution_count": 33,
     "metadata": {},
     "output_type": "execute_result"
    },
    {
     "data": {
      "image/png": "[encoded data removed]",
      "text/plain": [
       "<Figure size 720x432 with 1 Axes>"
      ]
     },
     "metadata": {
      "needs_background": "light"
     },
     "output_type": "display_data"
    }
   ],
   "source": [
    "df3 = import_india.groupby('year').agg({'value':'sum'})\n",
    "plt.figure(figsize=(10,6))\n",
    "sns.barplot(df3.index,df3.value,palette='plasma')\n",
    "# Yearly import"
   ]
  },
  {
   "cell_type": "code",
   "execution_count": 34,
   "metadata": {},
   "outputs": [
    {
     "data": {
      "text/plain": [
       "<matplotlib.axes._subplots.AxesSubplot at 0x1700f1c2668>"
      ]
     },
     "execution_count": 34,
     "metadata": {},
     "output_type": "execute_result"
    },
    {
     "data": {
      "image/png": "[encoded data removed]",
      "text/plain": [
       "<Figure size 720x432 with 1 Axes>"
      ]
     },
     "metadata": {
      "needs_background": "light"
     },
     "output_type": "display_data"
    }
   ],
   "source": [
    "df4 = export_india.groupby('year').agg({'value':'sum'})\n",
    "plt.figure(figsize=(10,6))\n",
    "sns.barplot(df4.index,df4.value,palette='plasma')\n",
    "# Yearly Export"
   ]
  },
  {
   "cell_type": "code",
   "execution_count": 35,
   "metadata": {},
   "outputs": [
    {
     "data": {
      "image/png": "[encoded data removed]",
      "text/plain": [
       "<Figure size 576x360 with 1 Axes>"
      ]
     },
     "metadata": {
      "needs_background": "light"
     },
     "output_type": "display_data"
    }
   ],
   "source": [
    "plt.figure(figsize= (8,5))\n",
    "sns.lineplot(x='year',y='value', data=import_india, label='Imports')\n",
    "sns.lineplot(x='year',y='value', data=export_india, label='Exports')\n",
    "plt.title('Values of Indian imports and exports', fontsize=16)\n",
    "plt.xlabel('Year')\n",
    "plt.ylabel('Value in million US$')\n",
    "plt.show()"
   ]
  },
  {
   "cell_type": "code",
   "execution_count": 36,
   "metadata": {},
   "outputs": [
    {
     "data": {
      "text/plain": [
       "['AFGHANISTAN TIS',\n",
       " 'ALBANIA',\n",
       " 'ALGERIA',\n",
       " 'AMERI SAMOA',\n",
       " 'ANDORRA',\n",
       " 'ANGOLA',\n",
       " 'ANGUILLA',\n",
       " 'ANTARTICA',\n",
       " 'ANTIGUA',\n",
       " 'ARGENTINA',\n",
       " 'ARMENIA',\n",
       " 'ARUBA',\n",
       " 'AUSTRALIA',\n",
       " 'AUSTRIA',\n",
       " 'AZERBAIJAN',\n",
       " 'BAHAMAS',\n",
       " 'BAHARAIN IS',\n",
       " 'BANGLADESH PR',\n",
       " 'BARBADOS',\n",
       " 'BELARUS',\n",
       " 'BELGIUM',\n",
       " 'BELIZE',\n",
       " 'BENIN',\n",
       " 'BERMUDA',\n",
       " 'BHUTAN',\n",
       " 'BOLIVIA',\n",
       " 'BOSNIA-HRZGOVIN',\n",
       " 'BOTSWANA',\n",
       " 'BR VIRGN IS',\n",
       " 'BRAZIL',\n",
       " 'BRUNEI',\n",
       " 'BULGARIA',\n",
       " 'BURKINA FASO',\n",
       " 'BURUNDI',\n",
       " 'C AFRI REP',\n",
       " 'CAMBODIA',\n",
       " 'CAMEROON',\n",
       " 'CANADA',\n",
       " 'CAPE VERDE IS',\n",
       " 'CAYMAN IS',\n",
       " 'CHAD',\n",
       " 'CHILE',\n",
       " 'CHINA P RP',\n",
       " 'CHRISTMAS IS.',\n",
       " 'COCOS IS',\n",
       " 'COLOMBIA',\n",
       " 'COMOROS',\n",
       " 'CONGO D. REP.',\n",
       " 'CONGO P REP',\n",
       " 'COOK IS',\n",
       " 'COSTA RICA',\n",
       " \"COTE D' IVOIRE\",\n",
       " 'CROATIA',\n",
       " 'CUBA',\n",
       " 'CYPRUS',\n",
       " 'CZECH REPUBLIC',\n",
       " 'DENMARK',\n",
       " 'DJIBOUTI',\n",
       " 'DOMINIC REP',\n",
       " 'DOMINICA',\n",
       " 'ECUADOR',\n",
       " 'EGYPT A RP',\n",
       " 'EL SALVADOR',\n",
       " 'EQUTL GUINEA',\n",
       " 'ERITREA',\n",
       " 'ESTONIA',\n",
       " 'ETHIOPIA',\n",
       " 'FAROE IS.',\n",
       " 'FIJI IS',\n",
       " 'FINLAND',\n",
       " 'FR GUIANA',\n",
       " 'FR POLYNESIA',\n",
       " 'FRANCE',\n",
       " 'GABON',\n",
       " 'GAMBIA',\n",
       " 'GEORGIA',\n",
       " 'GERMANY',\n",
       " 'GHANA',\n",
       " 'GIBRALTAR',\n",
       " 'GREECE',\n",
       " 'GREENLAND',\n",
       " 'GRENADA',\n",
       " 'GUADELOUPE',\n",
       " 'GUAM',\n",
       " 'GUATEMALA',\n",
       " 'GUERNSEY',\n",
       " 'GUINEA',\n",
       " 'GUINEA BISSAU',\n",
       " 'GUYANA',\n",
       " 'HAITI',\n",
       " 'HONDURAS',\n",
       " 'HONG KONG',\n",
       " 'HUNGARY',\n",
       " 'ICELAND',\n",
       " 'INDONESIA',\n",
       " 'IRAN',\n",
       " 'IRAQ',\n",
       " 'IRELAND',\n",
       " 'ISRAEL',\n",
       " 'ITALY',\n",
       " 'JAMAICA',\n",
       " 'JAPAN',\n",
       " 'JERSEY         ',\n",
       " 'JORDAN',\n",
       " 'KAZAKHSTAN',\n",
       " 'KENYA',\n",
       " 'KIRIBATI REP',\n",
       " 'KOREA DP RP',\n",
       " 'KOREA RP',\n",
       " 'KUWAIT',\n",
       " 'KYRGHYZSTAN',\n",
       " 'LAO PD RP',\n",
       " 'LATVIA',\n",
       " 'LEBANON',\n",
       " 'LESOTHO',\n",
       " 'LIBERIA',\n",
       " 'LIBYA',\n",
       " 'LIECHTENSTEIN',\n",
       " 'LITHUANIA',\n",
       " 'LUXEMBOURG',\n",
       " 'MACAO',\n",
       " 'MACEDONIA',\n",
       " 'MADAGASCAR',\n",
       " 'MALAWI',\n",
       " 'MALAYSIA',\n",
       " 'MALDIVES',\n",
       " 'MALI',\n",
       " 'MALTA',\n",
       " 'MARSHALL ISLAND',\n",
       " 'MARTINIQUE',\n",
       " 'MAURITANIA',\n",
       " 'MAURITIUS',\n",
       " 'MAYOTTE',\n",
       " 'MEXICO',\n",
       " 'MOLDOVA',\n",
       " 'MONACO',\n",
       " 'MONGOLIA',\n",
       " 'MONTENEGRO',\n",
       " 'MONTSERRAT',\n",
       " 'MOROCCO',\n",
       " 'MOZAMBIQUE',\n",
       " 'MYANMAR',\n",
       " 'N. MARIANA IS.',\n",
       " 'NAMIBIA',\n",
       " 'NAURU RP',\n",
       " 'NEPAL',\n",
       " 'NETHERLAND',\n",
       " 'NETHERLANDANTIL',\n",
       " 'NEW CALEDONIA',\n",
       " 'NEW ZEALAND',\n",
       " 'NICARAGUA',\n",
       " 'NIGER',\n",
       " 'NIGERIA',\n",
       " 'NIUE IS',\n",
       " 'NORFOLK IS',\n",
       " 'NORWAY',\n",
       " 'OMAN',\n",
       " 'PAKISTAN IR',\n",
       " 'PALAU',\n",
       " 'PANAMA REPUBLIC',\n",
       " 'PAPUA N GNA',\n",
       " 'PARAGUAY',\n",
       " 'PERU',\n",
       " 'PHILIPPINES',\n",
       " 'PITCAIRN IS.',\n",
       " 'POLAND',\n",
       " 'PORTUGAL',\n",
       " 'PUERTO RICO',\n",
       " 'QATAR',\n",
       " 'REUNION',\n",
       " 'ROMANIA',\n",
       " 'RUSSIA',\n",
       " 'RWANDA',\n",
       " 'SAMOA',\n",
       " 'SAN MARINO',\n",
       " 'SAO TOME',\n",
       " 'SAUDI ARAB',\n",
       " 'SENEGAL',\n",
       " 'SERBIA',\n",
       " 'SEYCHELLES',\n",
       " 'SIERRA LEONE',\n",
       " 'SINGAPORE',\n",
       " 'SLOVAK REP',\n",
       " 'SLOVENIA',\n",
       " 'SOLOMON IS',\n",
       " 'SOMALIA',\n",
       " 'SOUTH AFRICA',\n",
       " 'SOUTH SUDAN ',\n",
       " 'SPAIN',\n",
       " 'SRI LANKA DSR',\n",
       " 'ST HELENA',\n",
       " 'ST KITT N A',\n",
       " 'ST LUCIA',\n",
       " 'ST VINCENT',\n",
       " 'STATE OF PALEST',\n",
       " 'SUDAN',\n",
       " 'SURINAME',\n",
       " 'SWAZILAND',\n",
       " 'SWEDEN',\n",
       " 'SWITZERLAND',\n",
       " 'SYRIA',\n",
       " 'TAIWAN',\n",
       " 'TAJIKISTAN',\n",
       " 'TANZANIA REP',\n",
       " 'THAILAND',\n",
       " 'TIMOR LESTE',\n",
       " 'TOGO',\n",
       " 'TOKELAU IS',\n",
       " 'TONGA',\n",
       " 'TRINIDAD',\n",
       " 'TUNISIA',\n",
       " 'TURKEY',\n",
       " 'TURKMENISTAN',\n",
       " 'TURKS C IS',\n",
       " 'TUVALU',\n",
       " 'U ARAB EMTS',\n",
       " 'U K',\n",
       " 'U S A',\n",
       " 'UGANDA',\n",
       " 'UKRAINE',\n",
       " 'UNSPECIFIED',\n",
       " 'URUGUAY',\n",
       " 'US MINOR OUTLYING ISLANDS               ',\n",
       " 'UZBEKISTAN',\n",
       " 'VANUATU REP',\n",
       " 'VATICAN CITY',\n",
       " 'VENEZUELA',\n",
       " 'VIETNAM SOC REP',\n",
       " 'VIRGIN IS US',\n",
       " 'WALLIS F IS',\n",
       " 'YEMEN REPUBLC',\n",
       " 'ZAMBIA',\n",
       " 'ZIMBABWE',\n",
       " 'HEARD MACDONALD',\n",
       " 'PANAMA C Z',\n",
       " 'FALKLAND IS',\n",
       " 'FR S ANT TR',\n",
       " 'ST PIERRE',\n",
       " 'UNION OF SERBIA & MONTENEGRO',\n",
       " 'MICRONESIA',\n",
       " 'PACIFIC IS',\n",
       " 'CHANNEL IS']"
      ]
     },
     "execution_count": 36,
     "metadata": {},
     "output_type": "execute_result"
    }
   ],
   "source": [
    "country_list=list(import_india.country.unique())\n",
    "country_list"
   ]
  },
  {
   "cell_type": "code",
   "execution_count": 37,
   "metadata": {},
   "outputs": [
    {
     "data": {
      "text/html": [
       "<div>\n",
       "<style scoped>\n",
       "    .dataframe tbody tr th:only-of-type {\n",
       "        vertical-align: middle;\n",
       "    }\n",
       "\n",
       "    .dataframe tbody tr th {\n",
       "        vertical-align: top;\n",
       "    }\n",
       "\n",
       "    .dataframe thead th {\n",
       "        text-align: right;\n",
       "    }\n",
       "</style>\n",
       "<table border=\"1\" class=\"dataframe\">\n",
       "  <thead>\n",
       "    <tr style=\"text-align: right;\">\n",
       "      <th></th>\n",
       "      <th>country</th>\n",
       "      <th>total_imports</th>\n",
       "    </tr>\n",
       "  </thead>\n",
       "  <tbody>\n",
       "    <tr>\n",
       "      <th>0</th>\n",
       "      <td>AFGHANISTAN TIS</td>\n",
       "      <td>2686.62</td>\n",
       "    </tr>\n",
       "    <tr>\n",
       "      <th>1</th>\n",
       "      <td>ALBANIA</td>\n",
       "      <td>524.18</td>\n",
       "    </tr>\n",
       "    <tr>\n",
       "      <th>2</th>\n",
       "      <td>ALGERIA</td>\n",
       "      <td>10185.73</td>\n",
       "    </tr>\n",
       "    <tr>\n",
       "      <th>3</th>\n",
       "      <td>AMERI SAMOA</td>\n",
       "      <td>5.82</td>\n",
       "    </tr>\n",
       "    <tr>\n",
       "      <th>4</th>\n",
       "      <td>ANDORRA</td>\n",
       "      <td>5.45</td>\n",
       "    </tr>\n",
       "  </tbody>\n",
       "</table>\n",
       "</div>"
      ],
      "text/plain": [
       "           country  total_imports\n",
       "0  AFGHANISTAN TIS        2686.62\n",
       "1          ALBANIA         524.18\n",
       "2          ALGERIA       10185.73\n",
       "3      AMERI SAMOA           5.82\n",
       "4          ANDORRA           5.45"
      ]
     },
     "execution_count": 37,
     "metadata": {},
     "output_type": "execute_result"
    }
   ],
   "source": [
    "country_group=import_india.groupby('country')\n",
    "ls=[]\n",
    "for country_name in country_list:\n",
    "    ls.append([country_name, country_group.get_group(str(country_name)).value.sum() ])\n",
    "\n",
    "total = pd.DataFrame(ls, columns = ['country', 'total_imports'])\n",
    "total.head()"
   ]
  },
  {
   "cell_type": "code",
   "execution_count": 38,
   "metadata": {},
   "outputs": [
    {
     "data": {
      "text/html": [
       "<div>\n",
       "<style scoped>\n",
       "    .dataframe tbody tr th:only-of-type {\n",
       "        vertical-align: middle;\n",
       "    }\n",
       "\n",
       "    .dataframe tbody tr th {\n",
       "        vertical-align: top;\n",
       "    }\n",
       "\n",
       "    .dataframe thead th {\n",
       "        text-align: right;\n",
       "    }\n",
       "</style>\n",
       "<table border=\"1\" class=\"dataframe\">\n",
       "  <thead>\n",
       "    <tr style=\"text-align: right;\">\n",
       "      <th></th>\n",
       "      <th>country</th>\n",
       "      <th>total_imports</th>\n",
       "    </tr>\n",
       "  </thead>\n",
       "  <tbody>\n",
       "    <tr>\n",
       "      <th>241</th>\n",
       "      <td>CHANNEL IS</td>\n",
       "      <td>0.0</td>\n",
       "    </tr>\n",
       "  </tbody>\n",
       "</table>\n",
       "</div>"
      ],
      "text/plain": [
       "        country  total_imports\n",
       "241  CHANNEL IS            0.0"
      ]
     },
     "execution_count": 38,
     "metadata": {},
     "output_type": "execute_result"
    }
   ],
   "source": [
    "total.loc[total.total_imports==0]"
   ]
  },
  {
   "cell_type": "code",
   "execution_count": 200,
   "metadata": {},
   "outputs": [
    {
     "data": {
      "text/plain": [
       "<matplotlib.axes._subplots.AxesSubplot at 0x1701d745630>"
      ]
     },
     "execution_count": 200,
     "metadata": {},
     "output_type": "execute_result"
    },
    {
     "data": {
      "image/png": "[encoded data removed]",
      "text/plain": [
       "<Figure size 1080x576 with 2 Axes>"
      ]
     },
     "metadata": {},
     "output_type": "display_data"
    }
   ],
   "source": [
    "fig,ax = plt.subplots(1,2,figsize=(15,8))\n",
    "ax[0].set_title('Pie plot for export data country wise')\n",
    "total_country['Export'].plot.pie(autopct='%.1f%%',shadow=True, ax= ax[0])\n",
    "plt.title('Pie plot for import data country wise')\n",
    "total_country['Import'].plot.pie(autopct='%.1f%%',shadow=True, ax= ax[1])"
   ]
  },
  {
   "cell_type": "code",
   "execution_count": 39,
   "metadata": {},
   "outputs": [
    {
     "data": {
      "text/plain": [
       "Text(0.5, 1.0, 'LARGEST IMPORTERS TO INDIA 2010-2018')"
      ]
     },
     "execution_count": 39,
     "metadata": {},
     "output_type": "execute_result"
    },
    {
     "data": {
      "image/png": "[encoded data removed]",
      "text/plain": [
       "<Figure size 576x360 with 1 Axes>"
      ]
     },
     "metadata": {
      "needs_background": "light"
     },
     "output_type": "display_data"
    }
   ],
   "source": [
    "largest_importers_dataframe=total.nlargest(5,['total_imports'])\n",
    "largest_importers_dataframe['total_imports']=largest_importers_dataframe['total_imports']/1000 # to convert value of import from MILLION $ to BILLION $\n",
    "\n",
    "plt.figure(figsize=(8,5))\n",
    "sns.set_style('whitegrid')\n",
    "largest_importers_bar=sns.barplot(x=largest_importers_dataframe['country'],y=largest_importers_dataframe['total_imports'])\n",
    "plt.xlabel('COUNTRIES',size=18)\n",
    "plt.ylabel('Total Imports in Billion $',size=18)\n",
    "plt.title('LARGEST IMPORTERS TO INDIA 2010-2018',SIZE=20)"
   ]
  },
  {
   "cell_type": "code",
   "execution_count": 40,
   "metadata": {},
   "outputs": [
    {
     "data": {
      "text/plain": [
       "Text(0.5, 1.0, 'LARGEST EXPORTERS OF INDIA 2010-2018')"
      ]
     },
     "execution_count": 40,
     "metadata": {},
     "output_type": "execute_result"
    },
    {
     "data": {
      "image/png": "[encoded data removed]",
      "text/plain": [
       "<Figure size 576x360 with 1 Axes>"
      ]
     },
     "metadata": {},
     "output_type": "display_data"
    }
   ],
   "source": [
    "country_export_list=list(export_india.country.unique())\n",
    "export_india.loc[export_india.country=='UNSPECIFIED']\n",
    "\n",
    "country_export_group=export_india.groupby('country')\n",
    "ls=[]\n",
    "for country_name in country_export_list:\n",
    "    ls.append([country_name, country_export_group.get_group(str(country_name)).value.sum() ])\n",
    "\n",
    "total_exports = pd.DataFrame(ls, columns = ['country', 'total_exports']) \n",
    "# total_exports.sort_values(by='total_exports',ascending=0)\n",
    "\n",
    "\n",
    "total_exports.loc[total_exports.total_exports==0]\n",
    "\n",
    "largest_exporters_dataframe=total_exports.nlargest(5,['total_exports'])\n",
    "largest_exporters_dataframe['total_exports']=largest_exporters_dataframe['total_exports']/1000\n",
    "\n",
    "plt.figure(figsize=(8,5))\n",
    "sns.set_style('whitegrid')\n",
    "largest_exporters_bar=sns.barplot(x=largest_exporters_dataframe['country'],y=largest_exporters_dataframe['total_exports'])\n",
    "plt.xlabel('COUNTRIES',size=13)\n",
    "plt.ylabel('Total exports in Billion $',size=13)\n",
    "plt.title('LARGEST EXPORTERS OF INDIA 2010-2018',SIZE=20)"
   ]
  },
  {
   "cell_type": "code",
   "execution_count": 41,
   "metadata": {},
   "outputs": [
    {
     "data": {
      "image/png": "[encoded data removed]",
      "text/plain": [
       "<Figure size 432x288 with 1 Axes>"
      ]
     },
     "metadata": {},
     "output_type": "display_data"
    }
   ],
   "source": [
    "y = list(df.Commodity) \n",
    "plt.boxplot(y) \n",
    "plt.show() "
   ]
  },
  {
   "cell_type": "code",
   "execution_count": 42,
   "metadata": {},
   "outputs": [
    {
     "data": {
      "text/html": [
       "<div>\n",
       "<style scoped>\n",
       "    .dataframe tbody tr th:only-of-type {\n",
       "        vertical-align: middle;\n",
       "    }\n",
       "\n",
       "    .dataframe tbody tr th {\n",
       "        vertical-align: top;\n",
       "    }\n",
       "\n",
       "    .dataframe thead th {\n",
       "        text-align: right;\n",
       "    }\n",
       "</style>\n",
       "<table border=\"1\" class=\"dataframe\">\n",
       "  <thead>\n",
       "    <tr style=\"text-align: right;\">\n",
       "      <th></th>\n",
       "      <th></th>\n",
       "      <th>HSCode</th>\n",
       "      <th>value</th>\n",
       "      <th>year</th>\n",
       "    </tr>\n",
       "    <tr>\n",
       "      <th>Commodity</th>\n",
       "      <th>country</th>\n",
       "      <th></th>\n",
       "      <th></th>\n",
       "      <th></th>\n",
       "    </tr>\n",
       "  </thead>\n",
       "  <tbody>\n",
       "    <tr>\n",
       "      <th rowspan=\"30\" valign=\"top\">AIRCRAFT, SPACECRAFT, AND PARTS THEREOF.</th>\n",
       "      <th>AFGHANISTAN TIS</th>\n",
       "      <td>88.0</td>\n",
       "      <td>1.645714</td>\n",
       "      <td>2014.000000</td>\n",
       "    </tr>\n",
       "    <tr>\n",
       "      <th>ALGERIA</th>\n",
       "      <td>88.0</td>\n",
       "      <td>1.932000</td>\n",
       "      <td>2014.714286</td>\n",
       "    </tr>\n",
       "    <tr>\n",
       "      <th>ANGOLA</th>\n",
       "      <td>88.0</td>\n",
       "      <td>0.000000</td>\n",
       "      <td>2010.500000</td>\n",
       "    </tr>\n",
       "    <tr>\n",
       "      <th>ARGENTINA</th>\n",
       "      <td>88.0</td>\n",
       "      <td>0.005000</td>\n",
       "      <td>2014.000000</td>\n",
       "    </tr>\n",
       "    <tr>\n",
       "      <th>ARMENIA</th>\n",
       "      <td>88.0</td>\n",
       "      <td>0.000000</td>\n",
       "      <td>2013.500000</td>\n",
       "    </tr>\n",
       "    <tr>\n",
       "      <th>AUSTRALIA</th>\n",
       "      <td>88.0</td>\n",
       "      <td>5.230000</td>\n",
       "      <td>2014.000000</td>\n",
       "    </tr>\n",
       "    <tr>\n",
       "      <th>AUSTRIA</th>\n",
       "      <td>88.0</td>\n",
       "      <td>7.325556</td>\n",
       "      <td>2014.000000</td>\n",
       "    </tr>\n",
       "    <tr>\n",
       "      <th>AZERBAIJAN</th>\n",
       "      <td>88.0</td>\n",
       "      <td>0.006667</td>\n",
       "      <td>2014.500000</td>\n",
       "    </tr>\n",
       "    <tr>\n",
       "      <th>BAHAMAS</th>\n",
       "      <td>88.0</td>\n",
       "      <td>57.890000</td>\n",
       "      <td>2011.500000</td>\n",
       "    </tr>\n",
       "    <tr>\n",
       "      <th>BAHARAIN IS</th>\n",
       "      <td>88.0</td>\n",
       "      <td>1.070000</td>\n",
       "      <td>2014.000000</td>\n",
       "    </tr>\n",
       "    <tr>\n",
       "      <th>BANGLADESH PR</th>\n",
       "      <td>88.0</td>\n",
       "      <td>0.522222</td>\n",
       "      <td>2014.000000</td>\n",
       "    </tr>\n",
       "    <tr>\n",
       "      <th>BELARUS</th>\n",
       "      <td>88.0</td>\n",
       "      <td>25.130000</td>\n",
       "      <td>2013.500000</td>\n",
       "    </tr>\n",
       "    <tr>\n",
       "      <th>BELGIUM</th>\n",
       "      <td>88.0</td>\n",
       "      <td>5.517778</td>\n",
       "      <td>2014.000000</td>\n",
       "    </tr>\n",
       "    <tr>\n",
       "      <th>BENIN</th>\n",
       "      <td>88.0</td>\n",
       "      <td>0.000000</td>\n",
       "      <td>2014.333333</td>\n",
       "    </tr>\n",
       "    <tr>\n",
       "      <th>BHUTAN</th>\n",
       "      <td>88.0</td>\n",
       "      <td>0.568750</td>\n",
       "      <td>2014.000000</td>\n",
       "    </tr>\n",
       "    <tr>\n",
       "      <th>BOTSWANA</th>\n",
       "      <td>88.0</td>\n",
       "      <td>0.440000</td>\n",
       "      <td>2014.000000</td>\n",
       "    </tr>\n",
       "    <tr>\n",
       "      <th>BRAZIL</th>\n",
       "      <td>88.0</td>\n",
       "      <td>2.843333</td>\n",
       "      <td>2014.000000</td>\n",
       "    </tr>\n",
       "    <tr>\n",
       "      <th>BRUNEI</th>\n",
       "      <td>88.0</td>\n",
       "      <td>0.033333</td>\n",
       "      <td>2013.500000</td>\n",
       "    </tr>\n",
       "    <tr>\n",
       "      <th>BULGARIA</th>\n",
       "      <td>88.0</td>\n",
       "      <td>23.502500</td>\n",
       "      <td>2015.166667</td>\n",
       "    </tr>\n",
       "    <tr>\n",
       "      <th>BURKINA FASO</th>\n",
       "      <td>88.0</td>\n",
       "      <td>NaN</td>\n",
       "      <td>2010.000000</td>\n",
       "    </tr>\n",
       "    <tr>\n",
       "      <th>CAMBODIA</th>\n",
       "      <td>88.0</td>\n",
       "      <td>0.200000</td>\n",
       "      <td>2011.500000</td>\n",
       "    </tr>\n",
       "    <tr>\n",
       "      <th>CAMEROON</th>\n",
       "      <td>88.0</td>\n",
       "      <td>NaN</td>\n",
       "      <td>2010.000000</td>\n",
       "    </tr>\n",
       "    <tr>\n",
       "      <th>CANADA</th>\n",
       "      <td>88.0</td>\n",
       "      <td>18.037778</td>\n",
       "      <td>2014.000000</td>\n",
       "    </tr>\n",
       "    <tr>\n",
       "      <th>CHAD</th>\n",
       "      <td>88.0</td>\n",
       "      <td>0.060000</td>\n",
       "      <td>2011.666667</td>\n",
       "    </tr>\n",
       "    <tr>\n",
       "      <th>CHILE</th>\n",
       "      <td>88.0</td>\n",
       "      <td>0.032857</td>\n",
       "      <td>2014.000000</td>\n",
       "    </tr>\n",
       "    <tr>\n",
       "      <th>CHINA P RP</th>\n",
       "      <td>88.0</td>\n",
       "      <td>79.366667</td>\n",
       "      <td>2014.000000</td>\n",
       "    </tr>\n",
       "    <tr>\n",
       "      <th>COLOMBIA</th>\n",
       "      <td>88.0</td>\n",
       "      <td>0.015000</td>\n",
       "      <td>2013.666667</td>\n",
       "    </tr>\n",
       "    <tr>\n",
       "      <th>CONGO D. REP.</th>\n",
       "      <td>88.0</td>\n",
       "      <td>0.016667</td>\n",
       "      <td>2014.800000</td>\n",
       "    </tr>\n",
       "    <tr>\n",
       "      <th>CONGO P REP</th>\n",
       "      <td>88.0</td>\n",
       "      <td>0.394000</td>\n",
       "      <td>2013.500000</td>\n",
       "    </tr>\n",
       "    <tr>\n",
       "      <th>COSTA RICA</th>\n",
       "      <td>88.0</td>\n",
       "      <td>0.140000</td>\n",
       "      <td>2018.000000</td>\n",
       "    </tr>\n",
       "    <tr>\n",
       "      <th>...</th>\n",
       "      <th>...</th>\n",
       "      <td>...</td>\n",
       "      <td>...</td>\n",
       "      <td>...</td>\n",
       "    </tr>\n",
       "    <tr>\n",
       "      <th rowspan=\"30\" valign=\"top\">ZINC AND ARTICLES THEREOF.</th>\n",
       "      <th>SOMALIA</th>\n",
       "      <td>79.0</td>\n",
       "      <td>0.000000</td>\n",
       "      <td>2013.500000</td>\n",
       "    </tr>\n",
       "    <tr>\n",
       "      <th>SOUTH AFRICA</th>\n",
       "      <td>79.0</td>\n",
       "      <td>8.762222</td>\n",
       "      <td>2014.000000</td>\n",
       "    </tr>\n",
       "    <tr>\n",
       "      <th>SPAIN</th>\n",
       "      <td>79.0</td>\n",
       "      <td>0.368889</td>\n",
       "      <td>2014.000000</td>\n",
       "    </tr>\n",
       "    <tr>\n",
       "      <th>SRI LANKA DSR</th>\n",
       "      <td>79.0</td>\n",
       "      <td>1.157778</td>\n",
       "      <td>2014.000000</td>\n",
       "    </tr>\n",
       "    <tr>\n",
       "      <th>SUDAN</th>\n",
       "      <td>79.0</td>\n",
       "      <td>0.033333</td>\n",
       "      <td>2014.000000</td>\n",
       "    </tr>\n",
       "    <tr>\n",
       "      <th>SURINAME</th>\n",
       "      <td>79.0</td>\n",
       "      <td>0.000000</td>\n",
       "      <td>2015.500000</td>\n",
       "    </tr>\n",
       "    <tr>\n",
       "      <th>SWEDEN</th>\n",
       "      <td>79.0</td>\n",
       "      <td>1.094444</td>\n",
       "      <td>2014.000000</td>\n",
       "    </tr>\n",
       "    <tr>\n",
       "      <th>SWITZERLAND</th>\n",
       "      <td>79.0</td>\n",
       "      <td>0.050000</td>\n",
       "      <td>2014.000000</td>\n",
       "    </tr>\n",
       "    <tr>\n",
       "      <th>SYRIA</th>\n",
       "      <td>79.0</td>\n",
       "      <td>0.000000</td>\n",
       "      <td>2011.000000</td>\n",
       "    </tr>\n",
       "    <tr>\n",
       "      <th>TAIWAN</th>\n",
       "      <td>79.0</td>\n",
       "      <td>68.031111</td>\n",
       "      <td>2014.000000</td>\n",
       "    </tr>\n",
       "    <tr>\n",
       "      <th>TANZANIA REP</th>\n",
       "      <td>79.0</td>\n",
       "      <td>3.804444</td>\n",
       "      <td>2014.000000</td>\n",
       "    </tr>\n",
       "    <tr>\n",
       "      <th>THAILAND</th>\n",
       "      <td>79.0</td>\n",
       "      <td>15.955556</td>\n",
       "      <td>2014.000000</td>\n",
       "    </tr>\n",
       "    <tr>\n",
       "      <th>TOGO</th>\n",
       "      <td>79.0</td>\n",
       "      <td>0.000000</td>\n",
       "      <td>2015.250000</td>\n",
       "    </tr>\n",
       "    <tr>\n",
       "      <th>TRINIDAD</th>\n",
       "      <td>79.0</td>\n",
       "      <td>0.028750</td>\n",
       "      <td>2014.000000</td>\n",
       "    </tr>\n",
       "    <tr>\n",
       "      <th>TUNISIA</th>\n",
       "      <td>79.0</td>\n",
       "      <td>0.327500</td>\n",
       "      <td>2014.000000</td>\n",
       "    </tr>\n",
       "    <tr>\n",
       "      <th>TURKEY</th>\n",
       "      <td>79.0</td>\n",
       "      <td>6.683333</td>\n",
       "      <td>2014.000000</td>\n",
       "    </tr>\n",
       "    <tr>\n",
       "      <th>U ARAB EMTS</th>\n",
       "      <td>79.0</td>\n",
       "      <td>40.566667</td>\n",
       "      <td>2014.000000</td>\n",
       "    </tr>\n",
       "    <tr>\n",
       "      <th>U K</th>\n",
       "      <td>79.0</td>\n",
       "      <td>0.353333</td>\n",
       "      <td>2014.000000</td>\n",
       "    </tr>\n",
       "    <tr>\n",
       "      <th>U S A</th>\n",
       "      <td>79.0</td>\n",
       "      <td>9.637778</td>\n",
       "      <td>2014.000000</td>\n",
       "    </tr>\n",
       "    <tr>\n",
       "      <th>UGANDA</th>\n",
       "      <td>79.0</td>\n",
       "      <td>4.328889</td>\n",
       "      <td>2014.000000</td>\n",
       "    </tr>\n",
       "    <tr>\n",
       "      <th>UKRAINE</th>\n",
       "      <td>79.0</td>\n",
       "      <td>0.000000</td>\n",
       "      <td>2010.500000</td>\n",
       "    </tr>\n",
       "    <tr>\n",
       "      <th>UNION OF SERBIA &amp; MONTENEGRO</th>\n",
       "      <td>79.0</td>\n",
       "      <td>2.725000</td>\n",
       "      <td>2012.000000</td>\n",
       "    </tr>\n",
       "    <tr>\n",
       "      <th>UNSPECIFIED</th>\n",
       "      <td>79.0</td>\n",
       "      <td>0.330000</td>\n",
       "      <td>2012.500000</td>\n",
       "    </tr>\n",
       "    <tr>\n",
       "      <th>URUGUAY</th>\n",
       "      <td>79.0</td>\n",
       "      <td>NaN</td>\n",
       "      <td>2016.000000</td>\n",
       "    </tr>\n",
       "    <tr>\n",
       "      <th>UZBEKISTAN</th>\n",
       "      <td>79.0</td>\n",
       "      <td>0.164286</td>\n",
       "      <td>2014.000000</td>\n",
       "    </tr>\n",
       "    <tr>\n",
       "      <th>VENEZUELA</th>\n",
       "      <td>79.0</td>\n",
       "      <td>0.000000</td>\n",
       "      <td>2013.000000</td>\n",
       "    </tr>\n",
       "    <tr>\n",
       "      <th>VIETNAM SOC REP</th>\n",
       "      <td>79.0</td>\n",
       "      <td>6.065556</td>\n",
       "      <td>2014.000000</td>\n",
       "    </tr>\n",
       "    <tr>\n",
       "      <th>YEMEN REPUBLC</th>\n",
       "      <td>79.0</td>\n",
       "      <td>0.006000</td>\n",
       "      <td>2014.375000</td>\n",
       "    </tr>\n",
       "    <tr>\n",
       "      <th>ZAMBIA</th>\n",
       "      <td>79.0</td>\n",
       "      <td>0.005000</td>\n",
       "      <td>2014.714286</td>\n",
       "    </tr>\n",
       "    <tr>\n",
       "      <th>ZIMBABWE</th>\n",
       "      <td>79.0</td>\n",
       "      <td>0.000000</td>\n",
       "      <td>2014.428571</td>\n",
       "    </tr>\n",
       "  </tbody>\n",
       "</table>\n",
       "<p>18477 rows × 3 columns</p>\n",
       "</div>"
      ],
      "text/plain": [
       "                                                                       HSCode  \\\n",
       "Commodity                                country                                \n",
       "AIRCRAFT, SPACECRAFT, AND PARTS THEREOF. AFGHANISTAN TIS                 88.0   \n",
       "                                         ALGERIA                         88.0   \n",
       "                                         ANGOLA                          88.0   \n",
       "                                         ARGENTINA                       88.0   \n",
       "                                         ARMENIA                         88.0   \n",
       "                                         AUSTRALIA                       88.0   \n",
       "                                         AUSTRIA                         88.0   \n",
       "                                         AZERBAIJAN                      88.0   \n",
       "                                         BAHAMAS                         88.0   \n",
       "                                         BAHARAIN IS                     88.0   \n",
       "                                         BANGLADESH PR                   88.0   \n",
       "                                         BELARUS                         88.0   \n",
       "                                         BELGIUM                         88.0   \n",
       "                                         BENIN                           88.0   \n",
       "                                         BHUTAN                          88.0   \n",
       "                                         BOTSWANA                        88.0   \n",
       "                                         BRAZIL                          88.0   \n",
       "                                         BRUNEI                          88.0   \n",
       "                                         BULGARIA                        88.0   \n",
       "                                         BURKINA FASO                    88.0   \n",
       "                                         CAMBODIA                        88.0   \n",
       "                                         CAMEROON                        88.0   \n",
       "                                         CANADA                          88.0   \n",
       "                                         CHAD                            88.0   \n",
       "                                         CHILE                           88.0   \n",
       "                                         CHINA P RP                      88.0   \n",
       "                                         COLOMBIA                        88.0   \n",
       "                                         CONGO D. REP.                   88.0   \n",
       "                                         CONGO P REP                     88.0   \n",
       "                                         COSTA RICA                      88.0   \n",
       "...                                                                       ...   \n",
       "ZINC AND ARTICLES THEREOF.               SOMALIA                         79.0   \n",
       "                                         SOUTH AFRICA                    79.0   \n",
       "                                         SPAIN                           79.0   \n",
       "                                         SRI LANKA DSR                   79.0   \n",
       "                                         SUDAN                           79.0   \n",
       "                                         SURINAME                        79.0   \n",
       "                                         SWEDEN                          79.0   \n",
       "                                         SWITZERLAND                     79.0   \n",
       "                                         SYRIA                           79.0   \n",
       "                                         TAIWAN                          79.0   \n",
       "                                         TANZANIA REP                    79.0   \n",
       "                                         THAILAND                        79.0   \n",
       "                                         TOGO                            79.0   \n",
       "                                         TRINIDAD                        79.0   \n",
       "                                         TUNISIA                         79.0   \n",
       "                                         TURKEY                          79.0   \n",
       "                                         U ARAB EMTS                     79.0   \n",
       "                                         U K                             79.0   \n",
       "                                         U S A                           79.0   \n",
       "                                         UGANDA                          79.0   \n",
       "                                         UKRAINE                         79.0   \n",
       "                                         UNION OF SERBIA & MONTENEGRO    79.0   \n",
       "                                         UNSPECIFIED                     79.0   \n",
       "                                         URUGUAY                         79.0   \n",
       "                                         UZBEKISTAN                      79.0   \n",
       "                                         VENEZUELA                       79.0   \n",
       "                                         VIETNAM SOC REP                 79.0   \n",
       "                                         YEMEN REPUBLC                   79.0   \n",
       "                                         ZAMBIA                          79.0   \n",
       "                                         ZIMBABWE                        79.0   \n",
       "\n",
       "                                                                           value  \\\n",
       "Commodity                                country                                   \n",
       "AIRCRAFT, SPACECRAFT, AND PARTS THEREOF. AFGHANISTAN TIS                1.645714   \n",
       "                                         ALGERIA                        1.932000   \n",
       "                                         ANGOLA                         0.000000   \n",
       "                                         ARGENTINA                      0.005000   \n",
       "                                         ARMENIA                        0.000000   \n",
       "                                         AUSTRALIA                      5.230000   \n",
       "                                         AUSTRIA                        7.325556   \n",
       "                                         AZERBAIJAN                     0.006667   \n",
       "                                         BAHAMAS                       57.890000   \n",
       "                                         BAHARAIN IS                    1.070000   \n",
       "                                         BANGLADESH PR                  0.522222   \n",
       "                                         BELARUS                       25.130000   \n",
       "                                         BELGIUM                        5.517778   \n",
       "                                         BENIN                          0.000000   \n",
       "                                         BHUTAN                         0.568750   \n",
       "                                         BOTSWANA                       0.440000   \n",
       "                                         BRAZIL                         2.843333   \n",
       "                                         BRUNEI                         0.033333   \n",
       "                                         BULGARIA                      23.502500   \n",
       "                                         BURKINA FASO                        NaN   \n",
       "                                         CAMBODIA                       0.200000   \n",
       "                                         CAMEROON                            NaN   \n",
       "                                         CANADA                        18.037778   \n",
       "                                         CHAD                           0.060000   \n",
       "                                         CHILE                          0.032857   \n",
       "                                         CHINA P RP                    79.366667   \n",
       "                                         COLOMBIA                       0.015000   \n",
       "                                         CONGO D. REP.                  0.016667   \n",
       "                                         CONGO P REP                    0.394000   \n",
       "                                         COSTA RICA                     0.140000   \n",
       "...                                                                          ...   \n",
       "ZINC AND ARTICLES THEREOF.               SOMALIA                        0.000000   \n",
       "                                         SOUTH AFRICA                   8.762222   \n",
       "                                         SPAIN                          0.368889   \n",
       "                                         SRI LANKA DSR                  1.157778   \n",
       "                                         SUDAN                          0.033333   \n",
       "                                         SURINAME                       0.000000   \n",
       "                                         SWEDEN                         1.094444   \n",
       "                                         SWITZERLAND                    0.050000   \n",
       "                                         SYRIA                          0.000000   \n",
       "                                         TAIWAN                        68.031111   \n",
       "                                         TANZANIA REP                   3.804444   \n",
       "                                         THAILAND                      15.955556   \n",
       "                                         TOGO                           0.000000   \n",
       "                                         TRINIDAD                       0.028750   \n",
       "                                         TUNISIA                        0.327500   \n",
       "                                         TURKEY                         6.683333   \n",
       "                                         U ARAB EMTS                   40.566667   \n",
       "                                         U K                            0.353333   \n",
       "                                         U S A                          9.637778   \n",
       "                                         UGANDA                         4.328889   \n",
       "                                         UKRAINE                        0.000000   \n",
       "                                         UNION OF SERBIA & MONTENEGRO   2.725000   \n",
       "                                         UNSPECIFIED                    0.330000   \n",
       "                                         URUGUAY                             NaN   \n",
       "                                         UZBEKISTAN                     0.164286   \n",
       "                                         VENEZUELA                      0.000000   \n",
       "                                         VIETNAM SOC REP                6.065556   \n",
       "                                         YEMEN REPUBLC                  0.006000   \n",
       "                                         ZAMBIA                         0.005000   \n",
       "                                         ZIMBABWE                       0.000000   \n",
       "\n",
       "                                                                              year  \n",
       "Commodity                                country                                    \n",
       "AIRCRAFT, SPACECRAFT, AND PARTS THEREOF. AFGHANISTAN TIS               2014.000000  \n",
       "                                         ALGERIA                       2014.714286  \n",
       "                                         ANGOLA                        2010.500000  \n",
       "                                         ARGENTINA                     2014.000000  \n",
       "                                         ARMENIA                       2013.500000  \n",
       "                                         AUSTRALIA                     2014.000000  \n",
       "                                         AUSTRIA                       2014.000000  \n",
       "                                         AZERBAIJAN                    2014.500000  \n",
       "                                         BAHAMAS                       2011.500000  \n",
       "                                         BAHARAIN IS                   2014.000000  \n",
       "                                         BANGLADESH PR                 2014.000000  \n",
       "                                         BELARUS                       2013.500000  \n",
       "                                         BELGIUM                       2014.000000  \n",
       "                                         BENIN                         2014.333333  \n",
       "                                         BHUTAN                        2014.000000  \n",
       "                                         BOTSWANA                      2014.000000  \n",
       "                                         BRAZIL                        2014.000000  \n",
       "                                         BRUNEI                        2013.500000  \n",
       "                                         BULGARIA                      2015.166667  \n",
       "                                         BURKINA FASO                  2010.000000  \n",
       "                                         CAMBODIA                      2011.500000  \n",
       "                                         CAMEROON                      2010.000000  \n",
       "                                         CANADA                        2014.000000  \n",
       "                                         CHAD                          2011.666667  \n",
       "                                         CHILE                         2014.000000  \n",
       "                                         CHINA P RP                    2014.000000  \n",
       "                                         COLOMBIA                      2013.666667  \n",
       "                                         CONGO D. REP.                 2014.800000  \n",
       "                                         CONGO P REP                   2013.500000  \n",
       "                                         COSTA RICA                    2018.000000  \n",
       "...                                                                            ...  \n",
       "ZINC AND ARTICLES THEREOF.               SOMALIA                       2013.500000  \n",
       "                                         SOUTH AFRICA                  2014.000000  \n",
       "                                         SPAIN                         2014.000000  \n",
       "                                         SRI LANKA DSR                 2014.000000  \n",
       "                                         SUDAN                         2014.000000  \n",
       "                                         SURINAME                      2015.500000  \n",
       "                                         SWEDEN                        2014.000000  \n",
       "                                         SWITZERLAND                   2014.000000  \n",
       "                                         SYRIA                         2011.000000  \n",
       "                                         TAIWAN                        2014.000000  \n",
       "                                         TANZANIA REP                  2014.000000  \n",
       "                                         THAILAND                      2014.000000  \n",
       "                                         TOGO                          2015.250000  \n",
       "                                         TRINIDAD                      2014.000000  \n",
       "                                         TUNISIA                       2014.000000  \n",
       "                                         TURKEY                        2014.000000  \n",
       "                                         U ARAB EMTS                   2014.000000  \n",
       "                                         U K                           2014.000000  \n",
       "                                         U S A                         2014.000000  \n",
       "                                         UGANDA                        2014.000000  \n",
       "                                         UKRAINE                       2010.500000  \n",
       "                                         UNION OF SERBIA & MONTENEGRO  2012.000000  \n",
       "                                         UNSPECIFIED                   2012.500000  \n",
       "                                         URUGUAY                       2016.000000  \n",
       "                                         UZBEKISTAN                    2014.000000  \n",
       "                                         VENEZUELA                     2013.000000  \n",
       "                                         VIETNAM SOC REP               2014.000000  \n",
       "                                         YEMEN REPUBLC                 2014.375000  \n",
       "                                         ZAMBIA                        2014.714286  \n",
       "                                         ZIMBABWE                      2014.428571  \n",
       "\n",
       "[18477 rows x 3 columns]"
      ]
     },
     "execution_count": 42,
     "metadata": {},
     "output_type": "execute_result"
    }
   ],
   "source": [
    "export_india.groupby(['Commodity', 'country']).mean() "
   ]
  },
  {
   "cell_type": "code",
   "execution_count": 43,
   "metadata": {},
   "outputs": [
    {
     "data": {
      "text/html": [
       "<div>\n",
       "<style scoped>\n",
       "    .dataframe tbody tr th:only-of-type {\n",
       "        vertical-align: middle;\n",
       "    }\n",
       "\n",
       "    .dataframe tbody tr th {\n",
       "        vertical-align: top;\n",
       "    }\n",
       "\n",
       "    .dataframe thead th {\n",
       "        text-align: right;\n",
       "    }\n",
       "</style>\n",
       "<table border=\"1\" class=\"dataframe\">\n",
       "  <thead>\n",
       "    <tr style=\"text-align: right;\">\n",
       "      <th></th>\n",
       "      <th></th>\n",
       "      <th>HSCode</th>\n",
       "      <th>value</th>\n",
       "      <th>year</th>\n",
       "    </tr>\n",
       "    <tr>\n",
       "      <th>Commodity</th>\n",
       "      <th>country</th>\n",
       "      <th></th>\n",
       "      <th></th>\n",
       "      <th></th>\n",
       "    </tr>\n",
       "  </thead>\n",
       "  <tbody>\n",
       "    <tr>\n",
       "      <th rowspan=\"30\" valign=\"top\">AIRCRAFT, SPACECRAFT, AND PARTS THEREOF.</th>\n",
       "      <th>AFGHANISTAN TIS</th>\n",
       "      <td>88.0</td>\n",
       "      <td>0.120000</td>\n",
       "      <td>2012.500000</td>\n",
       "    </tr>\n",
       "    <tr>\n",
       "      <th>AMERI SAMOA</th>\n",
       "      <td>88.0</td>\n",
       "      <td>0.000000</td>\n",
       "      <td>2016.500000</td>\n",
       "    </tr>\n",
       "    <tr>\n",
       "      <th>ANTARTICA</th>\n",
       "      <td>88.0</td>\n",
       "      <td>NaN</td>\n",
       "      <td>2010.000000</td>\n",
       "    </tr>\n",
       "    <tr>\n",
       "      <th>AUSTRALIA</th>\n",
       "      <td>88.0</td>\n",
       "      <td>1.334000</td>\n",
       "      <td>2014.100000</td>\n",
       "    </tr>\n",
       "    <tr>\n",
       "      <th>AUSTRIA</th>\n",
       "      <td>88.0</td>\n",
       "      <td>8.877000</td>\n",
       "      <td>2014.100000</td>\n",
       "    </tr>\n",
       "    <tr>\n",
       "      <th>BAHARAIN IS</th>\n",
       "      <td>88.0</td>\n",
       "      <td>1.319000</td>\n",
       "      <td>2014.100000</td>\n",
       "    </tr>\n",
       "    <tr>\n",
       "      <th>BANGLADESH PR</th>\n",
       "      <td>88.0</td>\n",
       "      <td>34.896667</td>\n",
       "      <td>2014.400000</td>\n",
       "    </tr>\n",
       "    <tr>\n",
       "      <th>BELARUS</th>\n",
       "      <td>88.0</td>\n",
       "      <td>0.000000</td>\n",
       "      <td>2014.000000</td>\n",
       "    </tr>\n",
       "    <tr>\n",
       "      <th>BELGIUM</th>\n",
       "      <td>88.0</td>\n",
       "      <td>0.747000</td>\n",
       "      <td>2014.100000</td>\n",
       "    </tr>\n",
       "    <tr>\n",
       "      <th>BHUTAN</th>\n",
       "      <td>88.0</td>\n",
       "      <td>0.015000</td>\n",
       "      <td>2015.833333</td>\n",
       "    </tr>\n",
       "    <tr>\n",
       "      <th>BOSNIA-HRZGOVIN</th>\n",
       "      <td>88.0</td>\n",
       "      <td>0.010000</td>\n",
       "      <td>2013.500000</td>\n",
       "    </tr>\n",
       "    <tr>\n",
       "      <th>BRAZIL</th>\n",
       "      <td>88.0</td>\n",
       "      <td>69.950000</td>\n",
       "      <td>2014.100000</td>\n",
       "    </tr>\n",
       "    <tr>\n",
       "      <th>BULGARIA</th>\n",
       "      <td>88.0</td>\n",
       "      <td>0.028333</td>\n",
       "      <td>2013.625000</td>\n",
       "    </tr>\n",
       "    <tr>\n",
       "      <th>CANADA</th>\n",
       "      <td>88.0</td>\n",
       "      <td>241.564444</td>\n",
       "      <td>2014.000000</td>\n",
       "    </tr>\n",
       "    <tr>\n",
       "      <th>CHILE</th>\n",
       "      <td>88.0</td>\n",
       "      <td>5.070000</td>\n",
       "      <td>2013.000000</td>\n",
       "    </tr>\n",
       "    <tr>\n",
       "      <th>CHINA P RP</th>\n",
       "      <td>88.0</td>\n",
       "      <td>12.238889</td>\n",
       "      <td>2014.000000</td>\n",
       "    </tr>\n",
       "    <tr>\n",
       "      <th>COLOMBIA</th>\n",
       "      <td>88.0</td>\n",
       "      <td>0.010000</td>\n",
       "      <td>2018.000000</td>\n",
       "    </tr>\n",
       "    <tr>\n",
       "      <th>CONGO P REP</th>\n",
       "      <td>88.0</td>\n",
       "      <td>0.050000</td>\n",
       "      <td>2011.500000</td>\n",
       "    </tr>\n",
       "    <tr>\n",
       "      <th>COSTA RICA</th>\n",
       "      <td>88.0</td>\n",
       "      <td>0.005000</td>\n",
       "      <td>2013.500000</td>\n",
       "    </tr>\n",
       "    <tr>\n",
       "      <th>CROATIA</th>\n",
       "      <td>88.0</td>\n",
       "      <td>0.030000</td>\n",
       "      <td>2011.500000</td>\n",
       "    </tr>\n",
       "    <tr>\n",
       "      <th>CUBA</th>\n",
       "      <td>88.0</td>\n",
       "      <td>0.000000</td>\n",
       "      <td>2016.000000</td>\n",
       "    </tr>\n",
       "    <tr>\n",
       "      <th>CZECH REPUBLIC</th>\n",
       "      <td>88.0</td>\n",
       "      <td>0.235556</td>\n",
       "      <td>2014.000000</td>\n",
       "    </tr>\n",
       "    <tr>\n",
       "      <th>DENMARK</th>\n",
       "      <td>88.0</td>\n",
       "      <td>2.947778</td>\n",
       "      <td>2014.000000</td>\n",
       "    </tr>\n",
       "    <tr>\n",
       "      <th>DOMINICA</th>\n",
       "      <td>88.0</td>\n",
       "      <td>0.020000</td>\n",
       "      <td>2011.500000</td>\n",
       "    </tr>\n",
       "    <tr>\n",
       "      <th>ECUADOR</th>\n",
       "      <td>88.0</td>\n",
       "      <td>0.016667</td>\n",
       "      <td>2012.500000</td>\n",
       "    </tr>\n",
       "    <tr>\n",
       "      <th>EGYPT A RP</th>\n",
       "      <td>88.0</td>\n",
       "      <td>0.035000</td>\n",
       "      <td>2011.000000</td>\n",
       "    </tr>\n",
       "    <tr>\n",
       "      <th>EL SALVADOR</th>\n",
       "      <td>88.0</td>\n",
       "      <td>0.000000</td>\n",
       "      <td>2016.500000</td>\n",
       "    </tr>\n",
       "    <tr>\n",
       "      <th>ESTONIA</th>\n",
       "      <td>88.0</td>\n",
       "      <td>0.020000</td>\n",
       "      <td>2013.750000</td>\n",
       "    </tr>\n",
       "    <tr>\n",
       "      <th>ETHIOPIA</th>\n",
       "      <td>88.0</td>\n",
       "      <td>0.000000</td>\n",
       "      <td>2011.500000</td>\n",
       "    </tr>\n",
       "    <tr>\n",
       "      <th>FINLAND</th>\n",
       "      <td>88.0</td>\n",
       "      <td>10.971250</td>\n",
       "      <td>2014.000000</td>\n",
       "    </tr>\n",
       "    <tr>\n",
       "      <th>...</th>\n",
       "      <th>...</th>\n",
       "      <td>...</td>\n",
       "      <td>...</td>\n",
       "      <td>...</td>\n",
       "    </tr>\n",
       "    <tr>\n",
       "      <th rowspan=\"30\" valign=\"top\">ZINC AND ARTICLES THEREOF.</th>\n",
       "      <th>RWANDA</th>\n",
       "      <td>79.0</td>\n",
       "      <td>0.010000</td>\n",
       "      <td>2013.500000</td>\n",
       "    </tr>\n",
       "    <tr>\n",
       "      <th>SAUDI ARAB</th>\n",
       "      <td>79.0</td>\n",
       "      <td>10.051111</td>\n",
       "      <td>2014.000000</td>\n",
       "    </tr>\n",
       "    <tr>\n",
       "      <th>SENEGAL</th>\n",
       "      <td>79.0</td>\n",
       "      <td>0.055000</td>\n",
       "      <td>2014.428571</td>\n",
       "    </tr>\n",
       "    <tr>\n",
       "      <th>SIERRA LEONE</th>\n",
       "      <td>79.0</td>\n",
       "      <td>0.090000</td>\n",
       "      <td>2010.500000</td>\n",
       "    </tr>\n",
       "    <tr>\n",
       "      <th>SINGAPORE</th>\n",
       "      <td>79.0</td>\n",
       "      <td>4.285556</td>\n",
       "      <td>2014.000000</td>\n",
       "    </tr>\n",
       "    <tr>\n",
       "      <th>SLOVENIA</th>\n",
       "      <td>79.0</td>\n",
       "      <td>0.096667</td>\n",
       "      <td>2014.000000</td>\n",
       "    </tr>\n",
       "    <tr>\n",
       "      <th>SOUTH AFRICA</th>\n",
       "      <td>79.0</td>\n",
       "      <td>1.540000</td>\n",
       "      <td>2014.000000</td>\n",
       "    </tr>\n",
       "    <tr>\n",
       "      <th>SPAIN</th>\n",
       "      <td>79.0</td>\n",
       "      <td>11.681111</td>\n",
       "      <td>2014.000000</td>\n",
       "    </tr>\n",
       "    <tr>\n",
       "      <th>SRI LANKA DSR</th>\n",
       "      <td>79.0</td>\n",
       "      <td>0.267500</td>\n",
       "      <td>2014.000000</td>\n",
       "    </tr>\n",
       "    <tr>\n",
       "      <th>SUDAN</th>\n",
       "      <td>79.0</td>\n",
       "      <td>0.212500</td>\n",
       "      <td>2014.000000</td>\n",
       "    </tr>\n",
       "    <tr>\n",
       "      <th>SWAZILAND</th>\n",
       "      <td>79.0</td>\n",
       "      <td>0.125000</td>\n",
       "      <td>2017.000000</td>\n",
       "    </tr>\n",
       "    <tr>\n",
       "      <th>SWEDEN</th>\n",
       "      <td>79.0</td>\n",
       "      <td>0.285556</td>\n",
       "      <td>2014.000000</td>\n",
       "    </tr>\n",
       "    <tr>\n",
       "      <th>SWITZERLAND</th>\n",
       "      <td>79.0</td>\n",
       "      <td>0.963333</td>\n",
       "      <td>2014.000000</td>\n",
       "    </tr>\n",
       "    <tr>\n",
       "      <th>TAIWAN</th>\n",
       "      <td>79.0</td>\n",
       "      <td>2.121111</td>\n",
       "      <td>2014.000000</td>\n",
       "    </tr>\n",
       "    <tr>\n",
       "      <th>TANZANIA REP</th>\n",
       "      <td>79.0</td>\n",
       "      <td>0.355556</td>\n",
       "      <td>2014.000000</td>\n",
       "    </tr>\n",
       "    <tr>\n",
       "      <th>THAILAND</th>\n",
       "      <td>79.0</td>\n",
       "      <td>6.863333</td>\n",
       "      <td>2014.000000</td>\n",
       "    </tr>\n",
       "    <tr>\n",
       "      <th>TOGO</th>\n",
       "      <td>79.0</td>\n",
       "      <td>0.136667</td>\n",
       "      <td>2014.000000</td>\n",
       "    </tr>\n",
       "    <tr>\n",
       "      <th>TUNISIA</th>\n",
       "      <td>79.0</td>\n",
       "      <td>0.492222</td>\n",
       "      <td>2014.000000</td>\n",
       "    </tr>\n",
       "    <tr>\n",
       "      <th>TURKEY</th>\n",
       "      <td>79.0</td>\n",
       "      <td>1.903333</td>\n",
       "      <td>2014.000000</td>\n",
       "    </tr>\n",
       "    <tr>\n",
       "      <th>U ARAB EMTS</th>\n",
       "      <td>79.0</td>\n",
       "      <td>55.464444</td>\n",
       "      <td>2014.000000</td>\n",
       "    </tr>\n",
       "    <tr>\n",
       "      <th>U K</th>\n",
       "      <td>79.0</td>\n",
       "      <td>4.643333</td>\n",
       "      <td>2014.000000</td>\n",
       "    </tr>\n",
       "    <tr>\n",
       "      <th>U S A</th>\n",
       "      <td>79.0</td>\n",
       "      <td>22.505556</td>\n",
       "      <td>2014.000000</td>\n",
       "    </tr>\n",
       "    <tr>\n",
       "      <th>UKRAINE</th>\n",
       "      <td>79.0</td>\n",
       "      <td>0.260000</td>\n",
       "      <td>2010.500000</td>\n",
       "    </tr>\n",
       "    <tr>\n",
       "      <th>UNSPECIFIED</th>\n",
       "      <td>79.0</td>\n",
       "      <td>2.040000</td>\n",
       "      <td>2014.000000</td>\n",
       "    </tr>\n",
       "    <tr>\n",
       "      <th>URUGUAY</th>\n",
       "      <td>79.0</td>\n",
       "      <td>0.087500</td>\n",
       "      <td>2014.000000</td>\n",
       "    </tr>\n",
       "    <tr>\n",
       "      <th>US MINOR OUTLYING ISLANDS</th>\n",
       "      <td>79.0</td>\n",
       "      <td>0.000000</td>\n",
       "      <td>2018.000000</td>\n",
       "    </tr>\n",
       "    <tr>\n",
       "      <th>UZBEKISTAN</th>\n",
       "      <td>79.0</td>\n",
       "      <td>2.732000</td>\n",
       "      <td>2014.285714</td>\n",
       "    </tr>\n",
       "    <tr>\n",
       "      <th>VENEZUELA</th>\n",
       "      <td>79.0</td>\n",
       "      <td>0.666667</td>\n",
       "      <td>2014.000000</td>\n",
       "    </tr>\n",
       "    <tr>\n",
       "      <th>VIETNAM SOC REP</th>\n",
       "      <td>79.0</td>\n",
       "      <td>3.490000</td>\n",
       "      <td>2014.000000</td>\n",
       "    </tr>\n",
       "    <tr>\n",
       "      <th>YEMEN REPUBLC</th>\n",
       "      <td>79.0</td>\n",
       "      <td>0.067500</td>\n",
       "      <td>2012.000000</td>\n",
       "    </tr>\n",
       "  </tbody>\n",
       "</table>\n",
       "<p>11818 rows × 3 columns</p>\n",
       "</div>"
      ],
      "text/plain": [
       "                                                                                   HSCode  \\\n",
       "Commodity                                country                                            \n",
       "AIRCRAFT, SPACECRAFT, AND PARTS THEREOF. AFGHANISTAN TIS                             88.0   \n",
       "                                         AMERI SAMOA                                 88.0   \n",
       "                                         ANTARTICA                                   88.0   \n",
       "                                         AUSTRALIA                                   88.0   \n",
       "                                         AUSTRIA                                     88.0   \n",
       "                                         BAHARAIN IS                                 88.0   \n",
       "                                         BANGLADESH PR                               88.0   \n",
       "                                         BELARUS                                     88.0   \n",
       "                                         BELGIUM                                     88.0   \n",
       "                                         BHUTAN                                      88.0   \n",
       "                                         BOSNIA-HRZGOVIN                             88.0   \n",
       "                                         BRAZIL                                      88.0   \n",
       "                                         BULGARIA                                    88.0   \n",
       "                                         CANADA                                      88.0   \n",
       "                                         CHILE                                       88.0   \n",
       "                                         CHINA P RP                                  88.0   \n",
       "                                         COLOMBIA                                    88.0   \n",
       "                                         CONGO P REP                                 88.0   \n",
       "                                         COSTA RICA                                  88.0   \n",
       "                                         CROATIA                                     88.0   \n",
       "                                         CUBA                                        88.0   \n",
       "                                         CZECH REPUBLIC                              88.0   \n",
       "                                         DENMARK                                     88.0   \n",
       "                                         DOMINICA                                    88.0   \n",
       "                                         ECUADOR                                     88.0   \n",
       "                                         EGYPT A RP                                  88.0   \n",
       "                                         EL SALVADOR                                 88.0   \n",
       "                                         ESTONIA                                     88.0   \n",
       "                                         ETHIOPIA                                    88.0   \n",
       "                                         FINLAND                                     88.0   \n",
       "...                                                                                   ...   \n",
       "ZINC AND ARTICLES THEREOF.               RWANDA                                      79.0   \n",
       "                                         SAUDI ARAB                                  79.0   \n",
       "                                         SENEGAL                                     79.0   \n",
       "                                         SIERRA LEONE                                79.0   \n",
       "                                         SINGAPORE                                   79.0   \n",
       "                                         SLOVENIA                                    79.0   \n",
       "                                         SOUTH AFRICA                                79.0   \n",
       "                                         SPAIN                                       79.0   \n",
       "                                         SRI LANKA DSR                               79.0   \n",
       "                                         SUDAN                                       79.0   \n",
       "                                         SWAZILAND                                   79.0   \n",
       "                                         SWEDEN                                      79.0   \n",
       "                                         SWITZERLAND                                 79.0   \n",
       "                                         TAIWAN                                      79.0   \n",
       "                                         TANZANIA REP                                79.0   \n",
       "                                         THAILAND                                    79.0   \n",
       "                                         TOGO                                        79.0   \n",
       "                                         TUNISIA                                     79.0   \n",
       "                                         TURKEY                                      79.0   \n",
       "                                         U ARAB EMTS                                 79.0   \n",
       "                                         U K                                         79.0   \n",
       "                                         U S A                                       79.0   \n",
       "                                         UKRAINE                                     79.0   \n",
       "                                         UNSPECIFIED                                 79.0   \n",
       "                                         URUGUAY                                     79.0   \n",
       "                                         US MINOR OUTLYING ISLANDS                   79.0   \n",
       "                                         UZBEKISTAN                                  79.0   \n",
       "                                         VENEZUELA                                   79.0   \n",
       "                                         VIETNAM SOC REP                             79.0   \n",
       "                                         YEMEN REPUBLC                               79.0   \n",
       "\n",
       "                                                                                        value  \\\n",
       "Commodity                                country                                                \n",
       "AIRCRAFT, SPACECRAFT, AND PARTS THEREOF. AFGHANISTAN TIS                             0.120000   \n",
       "                                         AMERI SAMOA                                 0.000000   \n",
       "                                         ANTARTICA                                        NaN   \n",
       "                                         AUSTRALIA                                   1.334000   \n",
       "                                         AUSTRIA                                     8.877000   \n",
       "                                         BAHARAIN IS                                 1.319000   \n",
       "                                         BANGLADESH PR                              34.896667   \n",
       "                                         BELARUS                                     0.000000   \n",
       "                                         BELGIUM                                     0.747000   \n",
       "                                         BHUTAN                                      0.015000   \n",
       "                                         BOSNIA-HRZGOVIN                             0.010000   \n",
       "                                         BRAZIL                                     69.950000   \n",
       "                                         BULGARIA                                    0.028333   \n",
       "                                         CANADA                                    241.564444   \n",
       "                                         CHILE                                       5.070000   \n",
       "                                         CHINA P RP                                 12.238889   \n",
       "                                         COLOMBIA                                    0.010000   \n",
       "                                         CONGO P REP                                 0.050000   \n",
       "                                         COSTA RICA                                  0.005000   \n",
       "                                         CROATIA                                     0.030000   \n",
       "                                         CUBA                                        0.000000   \n",
       "                                         CZECH REPUBLIC                              0.235556   \n",
       "                                         DENMARK                                     2.947778   \n",
       "                                         DOMINICA                                    0.020000   \n",
       "                                         ECUADOR                                     0.016667   \n",
       "                                         EGYPT A RP                                  0.035000   \n",
       "                                         EL SALVADOR                                 0.000000   \n",
       "                                         ESTONIA                                     0.020000   \n",
       "                                         ETHIOPIA                                    0.000000   \n",
       "                                         FINLAND                                    10.971250   \n",
       "...                                                                                       ...   \n",
       "ZINC AND ARTICLES THEREOF.               RWANDA                                      0.010000   \n",
       "                                         SAUDI ARAB                                 10.051111   \n",
       "                                         SENEGAL                                     0.055000   \n",
       "                                         SIERRA LEONE                                0.090000   \n",
       "                                         SINGAPORE                                   4.285556   \n",
       "                                         SLOVENIA                                    0.096667   \n",
       "                                         SOUTH AFRICA                                1.540000   \n",
       "                                         SPAIN                                      11.681111   \n",
       "                                         SRI LANKA DSR                               0.267500   \n",
       "                                         SUDAN                                       0.212500   \n",
       "                                         SWAZILAND                                   0.125000   \n",
       "                                         SWEDEN                                      0.285556   \n",
       "                                         SWITZERLAND                                 0.963333   \n",
       "                                         TAIWAN                                      2.121111   \n",
       "                                         TANZANIA REP                                0.355556   \n",
       "                                         THAILAND                                    6.863333   \n",
       "                                         TOGO                                        0.136667   \n",
       "                                         TUNISIA                                     0.492222   \n",
       "                                         TURKEY                                      1.903333   \n",
       "                                         U ARAB EMTS                                55.464444   \n",
       "                                         U K                                         4.643333   \n",
       "                                         U S A                                      22.505556   \n",
       "                                         UKRAINE                                     0.260000   \n",
       "                                         UNSPECIFIED                                 2.040000   \n",
       "                                         URUGUAY                                     0.087500   \n",
       "                                         US MINOR OUTLYING ISLANDS                   0.000000   \n",
       "                                         UZBEKISTAN                                  2.732000   \n",
       "                                         VENEZUELA                                   0.666667   \n",
       "                                         VIETNAM SOC REP                             3.490000   \n",
       "                                         YEMEN REPUBLC                               0.067500   \n",
       "\n",
       "                                                                                          year  \n",
       "Commodity                                country                                                \n",
       "AIRCRAFT, SPACECRAFT, AND PARTS THEREOF. AFGHANISTAN TIS                           2012.500000  \n",
       "                                         AMERI SAMOA                               2016.500000  \n",
       "                                         ANTARTICA                                 2010.000000  \n",
       "                                         AUSTRALIA                                 2014.100000  \n",
       "                                         AUSTRIA                                   2014.100000  \n",
       "                                         BAHARAIN IS                               2014.100000  \n",
       "                                         BANGLADESH PR                             2014.400000  \n",
       "                                         BELARUS                                   2014.000000  \n",
       "                                         BELGIUM                                   2014.100000  \n",
       "                                         BHUTAN                                    2015.833333  \n",
       "                                         BOSNIA-HRZGOVIN                           2013.500000  \n",
       "                                         BRAZIL                                    2014.100000  \n",
       "                                         BULGARIA                                  2013.625000  \n",
       "                                         CANADA                                    2014.000000  \n",
       "                                         CHILE                                     2013.000000  \n",
       "                                         CHINA P RP                                2014.000000  \n",
       "                                         COLOMBIA                                  2018.000000  \n",
       "                                         CONGO P REP                               2011.500000  \n",
       "                                         COSTA RICA                                2013.500000  \n",
       "                                         CROATIA                                   2011.500000  \n",
       "                                         CUBA                                      2016.000000  \n",
       "                                         CZECH REPUBLIC                            2014.000000  \n",
       "                                         DENMARK                                   2014.000000  \n",
       "                                         DOMINICA                                  2011.500000  \n",
       "                                         ECUADOR                                   2012.500000  \n",
       "                                         EGYPT A RP                                2011.000000  \n",
       "                                         EL SALVADOR                               2016.500000  \n",
       "                                         ESTONIA                                   2013.750000  \n",
       "                                         ETHIOPIA                                  2011.500000  \n",
       "                                         FINLAND                                   2014.000000  \n",
       "...                                                                                        ...  \n",
       "ZINC AND ARTICLES THEREOF.               RWANDA                                    2013.500000  \n",
       "                                         SAUDI ARAB                                2014.000000  \n",
       "                                         SENEGAL                                   2014.428571  \n",
       "                                         SIERRA LEONE                              2010.500000  \n",
       "                                         SINGAPORE                                 2014.000000  \n",
       "                                         SLOVENIA                                  2014.000000  \n",
       "                                         SOUTH AFRICA                              2014.000000  \n",
       "                                         SPAIN                                     2014.000000  \n",
       "                                         SRI LANKA DSR                             2014.000000  \n",
       "                                         SUDAN                                     2014.000000  \n",
       "                                         SWAZILAND                                 2017.000000  \n",
       "                                         SWEDEN                                    2014.000000  \n",
       "                                         SWITZERLAND                               2014.000000  \n",
       "                                         TAIWAN                                    2014.000000  \n",
       "                                         TANZANIA REP                              2014.000000  \n",
       "                                         THAILAND                                  2014.000000  \n",
       "                                         TOGO                                      2014.000000  \n",
       "                                         TUNISIA                                   2014.000000  \n",
       "                                         TURKEY                                    2014.000000  \n",
       "                                         U ARAB EMTS                               2014.000000  \n",
       "                                         U K                                       2014.000000  \n",
       "                                         U S A                                     2014.000000  \n",
       "                                         UKRAINE                                   2010.500000  \n",
       "                                         UNSPECIFIED                               2014.000000  \n",
       "                                         URUGUAY                                   2014.000000  \n",
       "                                         US MINOR OUTLYING ISLANDS                 2018.000000  \n",
       "                                         UZBEKISTAN                                2014.285714  \n",
       "                                         VENEZUELA                                 2014.000000  \n",
       "                                         VIETNAM SOC REP                           2014.000000  \n",
       "                                         YEMEN REPUBLC                             2012.000000  \n",
       "\n",
       "[11818 rows x 3 columns]"
      ]
     },
     "execution_count": 43,
     "metadata": {},
     "output_type": "execute_result"
    }
   ],
   "source": [
    "import_india.groupby(['Commodity', 'country']).mean() "
   ]
  },
  {
   "cell_type": "code",
   "execution_count": 44,
   "metadata": {},
   "outputs": [
    {
     "data": {
      "text/plain": [
       "U ARAB EMTS      882\n",
       "GERMANY          881\n",
       "NEPAL            881\n",
       "U S A            881\n",
       "SRI LANKA DSR    880\n",
       "U K              880\n",
       "MALAYSIA         880\n",
       "SINGAPORE        879\n",
       "CHINA P RP       877\n",
       "SAUDI ARAB       877\n",
       "Name: country, dtype: int64"
      ]
     },
     "execution_count": 44,
     "metadata": {},
     "output_type": "execute_result"
    }
   ],
   "source": [
    "export_india[\"country\"].value_counts().head(10)"
   ]
  },
  {
   "cell_type": "code",
   "execution_count": 46,
   "metadata": {},
   "outputs": [
    {
     "data": {
      "text/plain": [
       "BELGIUM       953\n",
       "AUSTRALIA     920\n",
       "U S A         880\n",
       "GERMANY       874\n",
       "ITALY         873\n",
       "U K           872\n",
       "BRAZIL        871\n",
       "CHINA P RP    870\n",
       "FRANCE        867\n",
       "AUSTRIA       864\n",
       "Name: country, dtype: int64"
      ]
     },
     "execution_count": 46,
     "metadata": {},
     "output_type": "execute_result"
    }
   ],
   "source": [
    "import_india[\"country\"].value_counts().head(10)"
   ]
  },
  {
   "cell_type": "code",
   "execution_count": 47,
   "metadata": {},
   "outputs": [
    {
     "data": {
      "image/png": "[encoded data removed]",
      "text/plain": [
       "<Figure size 432x288 with 1 Axes>"
      ]
     },
     "metadata": {},
     "output_type": "display_data"
    }
   ],
   "source": [
    "plt.hist(import_india['year'])\n",
    "plt.show()"
   ]
  },
  {
   "cell_type": "code",
   "execution_count": 48,
   "metadata": {},
   "outputs": [
    {
     "data": {
      "image/png": "[encoded data removed]",
      "text/plain": [
       "<Figure size 432x288 with 1 Axes>"
      ]
     },
     "metadata": {},
     "output_type": "display_data"
    }
   ],
   "source": [
    "plt.hist(export_india['year'])\n",
    "plt.show()"
   ]
  },
  {
   "cell_type": "code",
   "execution_count": 49,
   "metadata": {},
   "outputs": [
    {
     "data": {
      "text/plain": [
       "<matplotlib.axes._subplots.AxesSubplot at 0x1700e9ad8d0>"
      ]
     },
     "execution_count": 49,
     "metadata": {},
     "output_type": "execute_result"
    },
    {
     "data": {
      "image/png": "[encoded data removed]",
      "text/plain": [
       "<Figure size 432x288 with 1 Axes>"
      ]
     },
     "metadata": {},
     "output_type": "display_data"
    }
   ],
   "source": [
    "sns.kdeplot(import_india['year'])"
   ]
  },
  {
   "cell_type": "code",
   "execution_count": 50,
   "metadata": {},
   "outputs": [
    {
     "data": {
      "text/plain": [
       "<matplotlib.axes._subplots.AxesSubplot at 0x1700ea1ae48>"
      ]
     },
     "execution_count": 50,
     "metadata": {},
     "output_type": "execute_result"
    },
    {
     "data": {
      "image/png": "[encoded data removed]",
      "text/plain": [
       "<Figure size 432x288 with 1 Axes>"
      ]
     },
     "metadata": {},
     "output_type": "display_data"
    }
   ],
   "source": [
    "sns.kdeplot(export_india['year'])"
   ]
  },
  {
   "cell_type": "code",
   "execution_count": 51,
   "metadata": {},
   "outputs": [
    {
     "data": {
      "text/plain": [
       "<seaborn.axisgrid.JointGrid at 0x1700eaaf128>"
      ]
     },
     "execution_count": 51,
     "metadata": {},
     "output_type": "execute_result"
    },
    {
     "data": {
      "image/png": "[encoded data removed]",
      "text/plain": [
       "<Figure size 432x432 with 3 Axes>"
      ]
     },
     "metadata": {},
     "output_type": "display_data"
    }
   ],
   "source": [
    "sns.jointplot(x='year',y='value',data=import_india,kind='scatter')"
   ]
  },
  {
   "cell_type": "code",
   "execution_count": 52,
   "metadata": {},
   "outputs": [
    {
     "data": {
      "text/plain": [
       "<seaborn.axisgrid.JointGrid at 0x1700f0b17f0>"
      ]
     },
     "execution_count": 52,
     "metadata": {},
     "output_type": "execute_result"
    },
    {
     "data": {
      "image/png": "[encoded data removed]",
      "text/plain": [
       "<Figure size 432x432 with 3 Axes>"
      ]
     },
     "metadata": {},
     "output_type": "display_data"
    }
   ],
   "source": [
    "sns.jointplot(x='year',y='value',data=export_india,kind='scatter')"
   ]
  },
  {
   "cell_type": "code",
   "execution_count": 53,
   "metadata": {},
   "outputs": [
    {
     "name": "stderr",
     "output_type": "stream",
     "text": [
      "C:\\Users\\admin\\Anaconda3\\lib\\site-packages\\numpy\\lib\\histograms.py:824: RuntimeWarning: invalid value encountered in greater_equal\n",
      "  keep = (tmp_a >= first_edge)\n",
      "C:\\Users\\admin\\Anaconda3\\lib\\site-packages\\numpy\\lib\\histograms.py:825: RuntimeWarning: invalid value encountered in less_equal\n",
      "  keep &= (tmp_a <= last_edge)\n"
     ]
    },
    {
     "data": {
      "text/plain": [
       "<seaborn.axisgrid.PairGrid at 0x1700f5192e8>"
      ]
     },
     "execution_count": 53,
     "metadata": {},
     "output_type": "execute_result"
    },
    {
     "data": {
      "image/png": "[encoded data removed]",
      "text/plain": [
       "<Figure size 540x540 with 12 Axes>"
      ]
     },
     "metadata": {},
     "output_type": "display_data"
    }
   ],
   "source": [
    "sns.pairplot(import_india)"
   ]
  },
  {
   "cell_type": "code",
   "execution_count": 54,
   "metadata": {},
   "outputs": [
    {
     "data": {
      "text/plain": [
       "<seaborn.axisgrid.PairGrid at 0x1700f8fe080>"
      ]
     },
     "execution_count": 54,
     "metadata": {},
     "output_type": "execute_result"
    },
    {
     "data": {
      "image/png": "[encoded data removed]",
      "text/plain": [
       "<Figure size 540x540 with 12 Axes>"
      ]
     },
     "metadata": {},
     "output_type": "display_data"
    }
   ],
   "source": [
    "sns.pairplot(export_india)"
   ]
  },
  {
   "cell_type": "code",
   "execution_count": 55,
   "metadata": {},
   "outputs": [
    {
     "data": {
      "text/plain": [
       "<matplotlib.axes._subplots.AxesSubplot at 0x17012852f28>"
      ]
     },
     "execution_count": 55,
     "metadata": {},
     "output_type": "execute_result"
    },
    {
     "data": {
      "image/png": "[encoded data removed]",
      "text/plain": [
       "<Figure size 432x288 with 2 Axes>"
      ]
     },
     "metadata": {},
     "output_type": "display_data"
    }
   ],
   "source": [
    "sns.heatmap(total_country,cmap='magma',linecolor='white',linewidths=1)"
   ]
  },
  {
   "cell_type": "markdown",
   "metadata": {},
   "source": [
    "## PDF"
   ]
  },
  {
   "cell_type": "code",
   "execution_count": 213,
   "metadata": {},
   "outputs": [],
   "source": [
    "total_year['Export']=total_year['Export']/1000\n",
    "total_year['Import']=total_year['Import']/1000"
   ]
  },
  {
   "cell_type": "code",
   "execution_count": 214,
   "metadata": {},
   "outputs": [
    {
     "data": {
      "text/html": [
       "<div>\n",
       "<style scoped>\n",
       "    .dataframe tbody tr th:only-of-type {\n",
       "        vertical-align: middle;\n",
       "    }\n",
       "\n",
       "    .dataframe tbody tr th {\n",
       "        vertical-align: top;\n",
       "    }\n",
       "\n",
       "    .dataframe thead th {\n",
       "        text-align: right;\n",
       "    }\n",
       "</style>\n",
       "<table border=\"1\" class=\"dataframe\">\n",
       "  <thead>\n",
       "    <tr style=\"text-align: right;\">\n",
       "      <th></th>\n",
       "      <th>Export</th>\n",
       "      <th>Growth Rate(E)</th>\n",
       "      <th>Import</th>\n",
       "      <th>Growth Rate(I)</th>\n",
       "      <th>Trade Deficit</th>\n",
       "    </tr>\n",
       "    <tr>\n",
       "      <th>year</th>\n",
       "      <th></th>\n",
       "      <th></th>\n",
       "      <th></th>\n",
       "      <th></th>\n",
       "      <th></th>\n",
       "    </tr>\n",
       "  </thead>\n",
       "  <tbody>\n",
       "    <tr>\n",
       "      <th>2010</th>\n",
       "      <td>249.80118</td>\n",
       "      <td>NaN</td>\n",
       "      <td>369.76225</td>\n",
       "      <td>NaN</td>\n",
       "      <td>-119961.07</td>\n",
       "    </tr>\n",
       "    <tr>\n",
       "      <th>2011</th>\n",
       "      <td>305.94828</td>\n",
       "      <td>0.224767</td>\n",
       "      <td>489.31181</td>\n",
       "      <td>0.323315</td>\n",
       "      <td>-183363.53</td>\n",
       "    </tr>\n",
       "    <tr>\n",
       "      <th>2012</th>\n",
       "      <td>300.38432</td>\n",
       "      <td>-0.018186</td>\n",
       "      <td>490.73007</td>\n",
       "      <td>0.002898</td>\n",
       "      <td>-190345.75</td>\n",
       "    </tr>\n",
       "    <tr>\n",
       "      <th>2013</th>\n",
       "      <td>314.38861</td>\n",
       "      <td>0.046621</td>\n",
       "      <td>450.19299</td>\n",
       "      <td>-0.082606</td>\n",
       "      <td>-135804.38</td>\n",
       "    </tr>\n",
       "    <tr>\n",
       "      <th>2014</th>\n",
       "      <td>310.32102</td>\n",
       "      <td>-0.012938</td>\n",
       "      <td>448.02663</td>\n",
       "      <td>-0.004812</td>\n",
       "      <td>-137705.61</td>\n",
       "    </tr>\n",
       "    <tr>\n",
       "      <th>2015</th>\n",
       "      <td>262.27430</td>\n",
       "      <td>-0.154829</td>\n",
       "      <td>412.53753</td>\n",
       "      <td>-0.079212</td>\n",
       "      <td>-150263.23</td>\n",
       "    </tr>\n",
       "    <tr>\n",
       "      <th>2016</th>\n",
       "      <td>275.83527</td>\n",
       "      <td>0.051705</td>\n",
       "      <td>384.35029</td>\n",
       "      <td>-0.068326</td>\n",
       "      <td>-108515.02</td>\n",
       "    </tr>\n",
       "    <tr>\n",
       "      <th>2017</th>\n",
       "      <td>303.50785</td>\n",
       "      <td>0.100323</td>\n",
       "      <td>465.57402</td>\n",
       "      <td>0.211327</td>\n",
       "      <td>-162066.17</td>\n",
       "    </tr>\n",
       "    <tr>\n",
       "      <th>2018</th>\n",
       "      <td>330.05864</td>\n",
       "      <td>0.087480</td>\n",
       "      <td>514.07133</td>\n",
       "      <td>0.104167</td>\n",
       "      <td>-184012.69</td>\n",
       "    </tr>\n",
       "  </tbody>\n",
       "</table>\n",
       "</div>"
      ],
      "text/plain": [
       "         Export  Growth Rate(E)     Import  Growth Rate(I)  Trade Deficit\n",
       "year                                                                     \n",
       "2010  249.80118             NaN  369.76225             NaN     -119961.07\n",
       "2011  305.94828        0.224767  489.31181        0.323315     -183363.53\n",
       "2012  300.38432       -0.018186  490.73007        0.002898     -190345.75\n",
       "2013  314.38861        0.046621  450.19299       -0.082606     -135804.38\n",
       "2014  310.32102       -0.012938  448.02663       -0.004812     -137705.61\n",
       "2015  262.27430       -0.154829  412.53753       -0.079212     -150263.23\n",
       "2016  275.83527        0.051705  384.35029       -0.068326     -108515.02\n",
       "2017  303.50785        0.100323  465.57402        0.211327     -162066.17\n",
       "2018  330.05864        0.087480  514.07133        0.104167     -184012.69"
      ]
     },
     "execution_count": 214,
     "metadata": {},
     "output_type": "execute_result"
    }
   ],
   "source": [
    "total_year"
   ]
  },
  {
   "cell_type": "code",
   "execution_count": 172,
   "metadata": {},
   "outputs": [],
   "source": [
    "mean=total_year['Export'].mean()"
   ]
  },
  {
   "cell_type": "code",
   "execution_count": 173,
   "metadata": {},
   "outputs": [],
   "source": [
    "std=total_year['Export'].std()"
   ]
  },
  {
   "cell_type": "code",
   "execution_count": 174,
   "metadata": {},
   "outputs": [],
   "source": [
    "pdf = thinkstats2.NormalPdf(mean, std)"
   ]
  },
  {
   "cell_type": "code",
   "execution_count": 175,
   "metadata": {},
   "outputs": [
    {
     "data": {
      "text/plain": [
       "0.009193774829194364"
      ]
     },
     "execution_count": 175,
     "metadata": {},
     "output_type": "execute_result"
    }
   ],
   "source": [
    "pdf.Density(mean + std)"
   ]
  },
  {
   "cell_type": "code",
   "execution_count": 176,
   "metadata": {},
   "outputs": [
    {
     "data": {
      "image/png": "[encoded data removed]",
      "text/plain": [
       "<Figure size 432x288 with 1 Axes>"
      ]
     },
     "metadata": {},
     "output_type": "display_data"
    }
   ],
   "source": [
    "thinkplot.Pdf(pdf, label='normal')\n",
    "thinkplot.Config(xlabel='x', ylabel='PDF', xlim=[200,400])"
   ]
  },
  {
   "cell_type": "code",
   "execution_count": 219,
   "metadata": {},
   "outputs": [],
   "source": [
    "mean2=total_year['Import'].mean()"
   ]
  },
  {
   "cell_type": "code",
   "execution_count": 220,
   "metadata": {},
   "outputs": [],
   "source": [
    "std2=total_year['Import'].std()"
   ]
  },
  {
   "cell_type": "code",
   "execution_count": 221,
   "metadata": {},
   "outputs": [],
   "source": [
    "pdf = thinkstats2.NormalPdf(mean, std)"
   ]
  },
  {
   "cell_type": "code",
   "execution_count": 222,
   "metadata": {},
   "outputs": [
    {
     "data": {
      "text/plain": [
       "0.009193774829194364"
      ]
     },
     "execution_count": 222,
     "metadata": {},
     "output_type": "execute_result"
    }
   ],
   "source": [
    "pdf.Density(mean + std)"
   ]
  },
  {
   "cell_type": "code",
   "execution_count": 223,
   "metadata": {},
   "outputs": [
    {
     "data": {
      "image/png": "[encoded data removed]",
      "text/plain": [
       "<Figure size 432x288 with 1 Axes>"
      ]
     },
     "metadata": {},
     "output_type": "display_data"
    }
   ],
   "source": [
    "thinkplot.Pdf(pdf, label='normal')\n",
    "thinkplot.Config(xlabel='x', ylabel='PDF', xlim=[200,400])"
   ]
  },
  {
   "cell_type": "markdown",
   "metadata": {},
   "source": [
    "## PMF"
   ]
  },
  {
   "cell_type": "code",
   "execution_count": 177,
   "metadata": {},
   "outputs": [],
   "source": [
    "pmf = pdf.MakePmf()"
   ]
  },
  {
   "cell_type": "code",
   "execution_count": 178,
   "metadata": {
    "scrolled": true
   },
   "outputs": [
    {
     "data": {
      "image/png": "[encoded data removed]",
      "text/plain": [
       "<Figure size 432x288 with 1 Axes>"
      ]
     },
     "metadata": {},
     "output_type": "display_data"
    }
   ],
   "source": [
    "thinkplot.Pmf(pmf, label='normal')\n",
    "thinkplot.Config(xlabel='x', ylabel='PMF', xlim=[200, 400])"
   ]
  },
  {
   "cell_type": "code",
   "execution_count": 201,
   "metadata": {},
   "outputs": [
    {
     "data": {
      "text/plain": [
       "year\n",
       "2010   -0.119961\n",
       "2011   -0.183364\n",
       "2012   -0.190346\n",
       "2013   -0.135804\n",
       "2014   -0.137706\n",
       "2015   -0.150263\n",
       "2016   -0.108515\n",
       "2017   -0.162066\n",
       "2018   -0.184013\n",
       "Name: Trade Deficit, dtype: float64"
      ]
     },
     "execution_count": 201,
     "metadata": {},
     "output_type": "execute_result"
    }
   ],
   "source": [
    "total_year['Trade Deficit']=total_year['Trade Deficit']/1000\n",
    "total_year['Trade Deficit']"
   ]
  },
  {
   "cell_type": "code",
   "execution_count": 203,
   "metadata": {},
   "outputs": [
    {
     "data": {
      "image/png": "[encoded data removed]",
      "text/plain": [
       "<Figure size 432x288 with 1 Axes>"
      ]
     },
     "metadata": {},
     "output_type": "display_data"
    }
   ],
   "source": [
    "hist_total_year = thinkstats2.Hist(total_year['Trade Deficit'])\n",
    "n = hist_total_year.Total()\n",
    "pmf = hist_total_year.Copy()\n",
    "for x, freq in hist_total_year.Items():\n",
    "    pmf[x] = freq / n\n",
    "thinkplot.Hist(pmf)\n",
    "thinkplot.Config(xlabel='', ylabel='PMF')\n",
    "plt.title('PMF');"
   ]
  },
  {
   "cell_type": "code",
   "execution_count": 135,
   "metadata": {
    "scrolled": true
   },
   "outputs": [
    {
     "data": {
      "image/png": "[encoded data removed]",
      "text/plain": [
       "<Figure size 432x288 with 1 Axes>"
      ]
     },
     "metadata": {},
     "output_type": "display_data"
    }
   ],
   "source": [
    "hist_year = thinkstats2.Hist(import_india['year'])\n",
    "n = hist_year.Total()\n",
    "pmf = hist_year.Copy()\n",
    "for x, freq in hist_year.Items():\n",
    "    pmf[x] = freq / n\n",
    "thinkplot.Hist(pmf)\n",
    "thinkplot.Config(xlabel='', ylabel='PMF')\n",
    "plt.title('PMF');"
   ]
  },
  {
   "cell_type": "code",
   "execution_count": 119,
   "metadata": {},
   "outputs": [
    {
     "data": {
      "image/png": "[encoded data removed]",
      "text/plain": [
       "<Figure size 432x288 with 1 Axes>"
      ]
     },
     "metadata": {},
     "output_type": "display_data"
    }
   ],
   "source": [
    "hist_year = thinkstats2.Hist(export_india['year'])\n",
    "n = hist_year.Total()\n",
    "pmf = hist_year.Copy()\n",
    "for x, freq in hist_year.Items():\n",
    "    pmf[x] = freq / n\n",
    "thinkplot.Hist(pmf)\n",
    "thinkplot.Config(xlabel='', ylabel='PMF')\n",
    "plt.title('PMF');"
   ]
  },
  {
   "cell_type": "markdown",
   "metadata": {},
   "source": [
    "## CDF"
   ]
  },
  {
   "cell_type": "code",
   "execution_count": 192,
   "metadata": {},
   "outputs": [
    {
     "data": {
      "image/png": "[encoded data removed]",
      "text/plain": [
       "<Figure size 432x288 with 1 Axes>"
      ]
     },
     "metadata": {},
     "output_type": "display_data"
    }
   ],
   "source": [
    "import_india_cdf = thinkstats2.Cdf(total_year['Trade Deficit'])\n",
    "thinkplot.Cdf(import_india_cdf)\n",
    "plt.title('Import CDF');"
   ]
  },
  {
   "cell_type": "code",
   "execution_count": 138,
   "metadata": {},
   "outputs": [
    {
     "data": {
      "image/png": "[encoded data removed]",
      "text/plain": [
       "<Figure size 432x288 with 1 Axes>"
      ]
     },
     "metadata": {},
     "output_type": "display_data"
    }
   ],
   "source": [
    "import_india_cdf = thinkstats2.Cdf(import_india['year'])\n",
    "thinkplot.Cdf(import_india_cdf)\n",
    "plt.title('Import CDF');"
   ]
  },
  {
   "cell_type": "code",
   "execution_count": 139,
   "metadata": {},
   "outputs": [
    {
     "data": {
      "image/png": "[encoded data removed]",
      "text/plain": [
       "<Figure size 432x288 with 1 Axes>"
      ]
     },
     "metadata": {},
     "output_type": "display_data"
    }
   ],
   "source": [
    "export_india_cdf = thinkstats2.Cdf(export_india['year'])\n",
    "thinkplot.Cdf(export_india_cdf)\n",
    "plt.title('export CDF');"
   ]
  },
  {
   "cell_type": "code",
   "execution_count": 141,
   "metadata": {},
   "outputs": [
    {
     "data": {
      "text/plain": [
       "Text(0.5, 1.0, 'export CDF')"
      ]
     },
     "execution_count": 141,
     "metadata": {},
     "output_type": "execute_result"
    },
    {
     "data": {
      "image/png": "[encoded data removed]",
      "text/plain": [
       "<Figure size 432x288 with 1 Axes>"
      ]
     },
     "metadata": {},
     "output_type": "display_data"
    }
   ],
   "source": [
    "country_cdf = thinkstats2.Cdf(total_country['Export'])\n",
    "thinkplot.Cdf(country_cdf)\n",
    "plt.title('export CDF')"
   ]
  },
  {
   "cell_type": "code",
   "execution_count": 142,
   "metadata": {},
   "outputs": [
    {
     "data": {
      "text/plain": [
       "Text(0.5, 1.0, 'export CDF')"
      ]
     },
     "execution_count": 142,
     "metadata": {},
     "output_type": "execute_result"
    },
    {
     "data": {
      "image/png": "[encoded data removed]",
      "text/plain": [
       "<Figure size 432x288 with 1 Axes>"
      ]
     },
     "metadata": {},
     "output_type": "display_data"
    }
   ],
   "source": [
    "country_cdf = thinkstats2.Cdf(total_year['Export'])\n",
    "thinkplot.Cdf(country_cdf)\n",
    "plt.title('export CDF')"
   ]
  },
  {
   "cell_type": "code",
   "execution_count": 60,
   "metadata": {},
   "outputs": [
    {
     "data": {
      "text/plain": [
       "\"\\nheatmap_import=import_india.pivot_table(values='value',index='year',columns='Commodity')\\nsns.heatmap(heatmap_import)\\n\""
      ]
     },
     "execution_count": 60,
     "metadata": {},
     "output_type": "execute_result"
    }
   ],
   "source": [
    "'''\n",
    "heatmap_import=import_india.pivot_table(values='value',index='year',columns='Commodity')\n",
    "sns.heatmap(heatmap_import)\n",
    "'''"
   ]
  },
  {
   "cell_type": "code",
   "execution_count": 122,
   "metadata": {},
   "outputs": [
    {
     "data": {
      "image/png": "[encoded data removed]",
      "text/plain": [
       "<Figure size 432x288 with 1 Axes>"
      ]
     },
     "metadata": {},
     "output_type": "display_data"
    }
   ],
   "source": [
    "x = import_india['year']\n",
    "num_bins = 5\n",
    "n, bins, patches = plt.hist(x, num_bins, facecolor='blue', alpha=0.5)\n",
    "plt.show()"
   ]
  },
  {
   "cell_type": "code",
   "execution_count": 123,
   "metadata": {},
   "outputs": [
    {
     "data": {
      "image/png": "[encoded data removed]",
      "text/plain": [
       "<Figure size 432x288 with 3 Axes>"
      ]
     },
     "metadata": {},
     "output_type": "display_data"
    }
   ],
   "source": [
    "uniform_data =import_india.groupby(['year', 'country']).mean() \n",
    "ax = sns.heatmap(uniform_data, vmin=0, vmax=1)\n",
    "df = pd.DataFrame(import_india['country'].value_counts())\n",
    "df4=df.head(10)\n",
    "ax = sns.heatmap(df4)"
   ]
  },
  {
   "cell_type": "markdown",
   "metadata": {},
   "source": [
    "## Skew"
   ]
  },
  {
   "cell_type": "code",
   "execution_count": 124,
   "metadata": {},
   "outputs": [
    {
     "data": {
      "text/plain": [
       "HSCode    -0.102728\n",
       "value     25.042942\n",
       "year      -0.006756\n",
       "dtype: float64"
      ]
     },
     "execution_count": 124,
     "metadata": {},
     "output_type": "execute_result"
    }
   ],
   "source": [
    "import_india.skew()"
   ]
  },
  {
   "cell_type": "code",
   "execution_count": 125,
   "metadata": {},
   "outputs": [
    {
     "data": {
      "text/plain": [
       "HSCode    -0.012066\n",
       "value     41.755700\n",
       "year      -0.021451\n",
       "dtype: float64"
      ]
     },
     "execution_count": 125,
     "metadata": {},
     "output_type": "execute_result"
    }
   ],
   "source": [
    "export_india.skew()"
   ]
  },
  {
   "cell_type": "code",
   "execution_count": 126,
   "metadata": {},
   "outputs": [
    {
     "data": {
      "text/html": [
       "<div>\n",
       "<style scoped>\n",
       "    .dataframe tbody tr th:only-of-type {\n",
       "        vertical-align: middle;\n",
       "    }\n",
       "\n",
       "    .dataframe tbody tr th {\n",
       "        vertical-align: top;\n",
       "    }\n",
       "\n",
       "    .dataframe thead th {\n",
       "        text-align: right;\n",
       "    }\n",
       "</style>\n",
       "<table border=\"1\" class=\"dataframe\">\n",
       "  <thead>\n",
       "    <tr style=\"text-align: right;\">\n",
       "      <th></th>\n",
       "      <th>Export</th>\n",
       "      <th>Import</th>\n",
       "      <th>Trade_Deficit</th>\n",
       "    </tr>\n",
       "    <tr>\n",
       "      <th>year</th>\n",
       "      <th></th>\n",
       "      <th></th>\n",
       "      <th></th>\n",
       "    </tr>\n",
       "  </thead>\n",
       "  <tbody>\n",
       "    <tr>\n",
       "      <th>2010</th>\n",
       "      <td>25291.56</td>\n",
       "      <td>20050.41</td>\n",
       "      <td>5241.15</td>\n",
       "    </tr>\n",
       "    <tr>\n",
       "      <th>2011</th>\n",
       "      <td>34741.33</td>\n",
       "      <td>23454.64</td>\n",
       "      <td>11286.69</td>\n",
       "    </tr>\n",
       "    <tr>\n",
       "      <th>2012</th>\n",
       "      <td>36154.88</td>\n",
       "      <td>25204.39</td>\n",
       "      <td>10950.49</td>\n",
       "    </tr>\n",
       "    <tr>\n",
       "      <th>2013</th>\n",
       "      <td>39141.81</td>\n",
       "      <td>22504.79</td>\n",
       "      <td>16637.02</td>\n",
       "    </tr>\n",
       "    <tr>\n",
       "      <th>2014</th>\n",
       "      <td>42448.30</td>\n",
       "      <td>21814.27</td>\n",
       "      <td>20634.03</td>\n",
       "    </tr>\n",
       "    <tr>\n",
       "      <th>2015</th>\n",
       "      <td>40335.68</td>\n",
       "      <td>21781.06</td>\n",
       "      <td>18554.62</td>\n",
       "    </tr>\n",
       "    <tr>\n",
       "      <th>2016</th>\n",
       "      <td>42211.96</td>\n",
       "      <td>22307.18</td>\n",
       "      <td>19904.78</td>\n",
       "    </tr>\n",
       "    <tr>\n",
       "      <th>2017</th>\n",
       "      <td>47878.17</td>\n",
       "      <td>26610.72</td>\n",
       "      <td>21267.45</td>\n",
       "    </tr>\n",
       "    <tr>\n",
       "      <th>2018</th>\n",
       "      <td>52405.88</td>\n",
       "      <td>35549.20</td>\n",
       "      <td>16856.68</td>\n",
       "    </tr>\n",
       "  </tbody>\n",
       "</table>\n",
       "</div>"
      ],
      "text/plain": [
       "        Export    Import  Trade_Deficit\n",
       "year                                   \n",
       "2010  25291.56  20050.41        5241.15\n",
       "2011  34741.33  23454.64       11286.69\n",
       "2012  36154.88  25204.39       10950.49\n",
       "2013  39141.81  22504.79       16637.02\n",
       "2014  42448.30  21814.27       20634.03\n",
       "2015  40335.68  21781.06       18554.62\n",
       "2016  42211.96  22307.18       19904.78\n",
       "2017  47878.17  26610.72       21267.45\n",
       "2018  52405.88  35549.20       16856.68"
      ]
     },
     "execution_count": 126,
     "metadata": {},
     "output_type": "execute_result"
    }
   ],
   "source": [
    "US_export=export_india[export_india['country']=='U S A']\n",
    "USyear_export=US_export.groupby('year').agg({'value':'sum'})\n",
    "USyear_export=USyear_export.rename(columns={'value': 'Export'})\n",
    "\n",
    "\n",
    "US_import=import_india[import_india['country']=='U S A']\n",
    "USyear_import=US_import.groupby('year').agg({'value':'sum'})\n",
    "USyear_import=USyear_import.rename(columns={'value': 'Import'})\n",
    "\n",
    "US_deficit = pd.concat([USyear_export, USyear_import], axis = 1,sort=False)\n",
    "US_deficit['Trade_Deficit'] = USyear_export.Export - USyear_import.Import\n",
    "US_deficit"
   ]
  },
  {
   "cell_type": "code",
   "execution_count": 127,
   "metadata": {},
   "outputs": [
    {
     "data": {
      "text/plain": [
       "<matplotlib.axes._subplots.AxesSubplot at 0x1701d1e0240>"
      ]
     },
     "execution_count": 127,
     "metadata": {},
     "output_type": "execute_result"
    },
    {
     "data": {
      "image/png": "[encoded data removed]",
      "text/plain": [
       "<Figure size 432x288 with 1 Axes>"
      ]
     },
     "metadata": {},
     "output_type": "display_data"
    }
   ],
   "source": [
    "US_deficit.plot.bar()"
   ]
  },
  {
   "cell_type": "code",
   "execution_count": 128,
   "metadata": {},
   "outputs": [
    {
     "data": {
      "text/html": [
       "<div>\n",
       "<style scoped>\n",
       "    .dataframe tbody tr th:only-of-type {\n",
       "        vertical-align: middle;\n",
       "    }\n",
       "\n",
       "    .dataframe tbody tr th {\n",
       "        vertical-align: top;\n",
       "    }\n",
       "\n",
       "    .dataframe thead th {\n",
       "        text-align: right;\n",
       "    }\n",
       "</style>\n",
       "<table border=\"1\" class=\"dataframe\">\n",
       "  <thead>\n",
       "    <tr style=\"text-align: right;\">\n",
       "      <th></th>\n",
       "      <th>Export</th>\n",
       "      <th>Import</th>\n",
       "      <th>Trade_Deficit</th>\n",
       "    </tr>\n",
       "  </thead>\n",
       "  <tbody>\n",
       "    <tr>\n",
       "      <th>U S A</th>\n",
       "      <td>360609.57</td>\n",
       "      <td>219276.66</td>\n",
       "      <td>141332.91</td>\n",
       "    </tr>\n",
       "    <tr>\n",
       "      <th>U ARAB EMTS</th>\n",
       "      <td>289374.88</td>\n",
       "      <td>256286.08</td>\n",
       "      <td>33088.80</td>\n",
       "    </tr>\n",
       "    <tr>\n",
       "      <th>HONG KONG</th>\n",
       "      <td>115693.35</td>\n",
       "      <td>83542.74</td>\n",
       "      <td>32150.61</td>\n",
       "    </tr>\n",
       "    <tr>\n",
       "      <th>SINGAPORE</th>\n",
       "      <td>101679.70</td>\n",
       "      <td>75043.09</td>\n",
       "      <td>26636.61</td>\n",
       "    </tr>\n",
       "    <tr>\n",
       "      <th>BELGIUM</th>\n",
       "      <td>53969.10</td>\n",
       "      <td>90213.86</td>\n",
       "      <td>-36244.76</td>\n",
       "    </tr>\n",
       "    <tr>\n",
       "      <th>MALAYSIA</th>\n",
       "      <td>43377.70</td>\n",
       "      <td>84142.18</td>\n",
       "      <td>-40764.48</td>\n",
       "    </tr>\n",
       "    <tr>\n",
       "      <th>JAPAN</th>\n",
       "      <td>47822.15</td>\n",
       "      <td>96004.66</td>\n",
       "      <td>-48182.51</td>\n",
       "    </tr>\n",
       "    <tr>\n",
       "      <th>GERMANY</th>\n",
       "      <td>68855.45</td>\n",
       "      <td>119664.64</td>\n",
       "      <td>-50809.19</td>\n",
       "    </tr>\n",
       "    <tr>\n",
       "      <th>INDONESIA</th>\n",
       "      <td>42148.84</td>\n",
       "      <td>128164.40</td>\n",
       "      <td>-86015.56</td>\n",
       "    </tr>\n",
       "    <tr>\n",
       "      <th>SAUDI ARAB</th>\n",
       "      <td>65995.99</td>\n",
       "      <td>241554.99</td>\n",
       "      <td>-175559.00</td>\n",
       "    </tr>\n",
       "    <tr>\n",
       "      <th>CHINA P RP</th>\n",
       "      <td>121806.00</td>\n",
       "      <td>532177.51</td>\n",
       "      <td>-410371.51</td>\n",
       "    </tr>\n",
       "  </tbody>\n",
       "</table>\n",
       "</div>"
      ],
      "text/plain": [
       "                Export     Import  Trade_Deficit\n",
       "U S A        360609.57  219276.66      141332.91\n",
       "U ARAB EMTS  289374.88  256286.08       33088.80\n",
       "HONG KONG    115693.35   83542.74       32150.61\n",
       "SINGAPORE    101679.70   75043.09       26636.61\n",
       "BELGIUM       53969.10   90213.86      -36244.76\n",
       "MALAYSIA      43377.70   84142.18      -40764.48\n",
       "JAPAN         47822.15   96004.66      -48182.51\n",
       "GERMANY       68855.45  119664.64      -50809.19\n",
       "INDONESIA     42148.84  128164.40      -86015.56\n",
       "SAUDI ARAB    65995.99  241554.99     -175559.00\n",
       "CHINA P RP   121806.00  532177.51     -410371.51"
      ]
     },
     "execution_count": 128,
     "metadata": {},
     "output_type": "execute_result"
    }
   ],
   "source": [
    "total_country"
   ]
  },
  {
   "cell_type": "raw",
   "metadata": {},
   "source": [
    "HYPOTHESIS \n",
    "\n",
    "kya country ka export bhadega ki nahin 2019 mein\n",
    "kya country ka import bhadega ki nahin 2019 mein\n",
    "kya trade deficit bhadega ki nahin\n"
   ]
  },
  {
   "cell_type": "code",
   "execution_count": 129,
   "metadata": {},
   "outputs": [
    {
     "data": {
      "text/plain": [
       "year\n",
       "2010    25291.56\n",
       "2011    34741.33\n",
       "2012    36154.88\n",
       "2013    39141.81\n",
       "2014    42448.30\n",
       "2015    40335.68\n",
       "2016    42211.96\n",
       "2017    47878.17\n",
       "2018    52405.88\n",
       "Name: Export, dtype: float64"
      ]
     },
     "execution_count": 129,
     "metadata": {},
     "output_type": "execute_result"
    }
   ],
   "source": [
    "US_deficit['Export']"
   ]
  },
  {
   "cell_type": "code",
   "execution_count": null,
   "metadata": {},
   "outputs": [],
   "source": [
    "\n",
    "    "
   ]
  },
  {
   "cell_type": "markdown",
   "metadata": {},
   "source": [
    "# Hypotesis"
   ]
  },
  {
   "cell_type": "markdown",
   "metadata": {},
   "source": [
    "# Hypotesis Test On basis of goods imported by india\n",
    "## 1. Decide on the hypotesis\n",
    "### null hypotesis is :- experts claim that out of total goods imported in india 2.3% belong to ELECTRICAL MACHINERY AND EQUIPMENT\n",
    "### Alternate hypotesis is :- less than 2.3 % belong to  ELECTRICAL MACHINERY AND EQUIPMENT\n",
    "#### H0: p = 0.023\n",
    "#### H1: p < 0.023\n",
    "## 2. Choose the test statistics\n",
    "### If we use X to represent the amount of proucts  in the sample, this means that we can use X as our test statistic. There are 76124 products in the sample , and the probability of success was 0.02. As X follows a binomial distribution, this means that the test statistic is actually:\n",
    "### X ~ B(76124, 0.023) \n",
    "### So our test statistic is  X ~ B(76124, 0.023) \n",
    "## 3. Determine the Critical Region\n",
    "### Let’s use a significance level of 5% in our hypothesis test. \n",
    "### α = 0.05\n",
    "## In this we will use lower one - tailed test \n",
    "## 4. Finding the p- value\n",
    "## 4.1 Using Discreet Sampling"
   ]
  },
  {
   "cell_type": "code",
   "execution_count": 69,
   "metadata": {},
   "outputs": [
    {
     "data": {
      "image/png": "[encoded data removed]",
      "text/plain": [
       "<Figure size 432x288 with 1 Axes>"
      ]
     },
     "metadata": {},
     "output_type": "display_data"
    }
   ],
   "source": [
    "n3, p3 = 76124, .023  # number of trials, probability of each trial\n",
    "sample_binomial3 = np.random.binomial(n3, p3, 1000)\n",
    "binomial_cdf3 = thinkstats2.Cdf(sample_binomial3)\n",
    "thinkplot.Cdf(binomial_cdf3)\n",
    "thinkplot.axvline(1778)\n",
    "\n"
   ]
  },
  {
   "cell_type": "code",
   "execution_count": 70,
   "metadata": {},
   "outputs": [
    {
     "data": {
      "text/plain": [
       "0.732"
      ]
     },
     "execution_count": 70,
     "metadata": {},
     "output_type": "execute_result"
    }
   ],
   "source": [
    "binomial_cdf3.Prob(1778)"
   ]
  },
  {
   "cell_type": "markdown",
   "metadata": {},
   "source": [
    "## 4.2 Analytic"
   ]
  },
  {
   "cell_type": "code",
   "execution_count": 72,
   "metadata": {},
   "outputs": [
    {
     "data": {
      "text/plain": [
       "0.7487662903519748"
      ]
     },
     "execution_count": 72,
     "metadata": {},
     "output_type": "execute_result"
    }
   ],
   "source": [
    "from scipy.stats import binom\n",
    "binom.cdf(1778, n3, p3, loc=0)"
   ]
  },
  {
   "cell_type": "markdown",
   "metadata": {},
   "source": [
    "## 4.3 Chi Squared test for proportion"
   ]
  },
  {
   "cell_type": "code",
   "execution_count": 193,
   "metadata": {},
   "outputs": [],
   "source": [
    "from scipy.stats import bernoulli\n",
    "\n",
    "\n",
    "class PropChiTest(thinkstats2.HypothesisTest):\n",
    "\n",
    "    def TestStatistic(self, data):    \n",
    "        observed = data\n",
    "        n = sum(observed)\n",
    "        \n",
    "        expected = [0.023 * n, (1-0.023)*n]\n",
    "        \n",
    "        test_stat = sum((observed - np.array(expected))**2 / expected) # chi squared statistic\n",
    "        return test_stat\n",
    "\n",
    "    # generate samples under null model\n",
    "    \n",
    "    def RunModel(self): \n",
    "        observed = self.data\n",
    "        n = sum(observed)\n",
    "        \n",
    "        sample_bernoulli = bernoulli.rvs(0.023, size=n)\n",
    "        \n",
    "        sample_success = sum(sample_bernoulli)\n",
    "        sample_failure = n - sample_success\n",
    "        \n",
    "        data = sample_success, sample_failure\n",
    "        \n",
    "        return data\n",
    "\n",
    "    def PValue(self, iters=1000):\n",
    "        \"\"\"Computes the distribution of the test statistic and p-value.\n",
    "\n",
    "        iters: number of iterations\n",
    "\n",
    "        returns: float p-value\n",
    "        \"\"\"\n",
    "        self.test_stats = [self.TestStatistic(self.RunModel()) \n",
    "                           for _ in range(iters)]\n",
    "        self.test_cdf = thinkstats2.Cdf(self.test_stats)\n",
    "\n",
    "        # note >= replaced by <= since any patiends cured less than the rate in the original sample\n",
    "        # counts as evidence against the null hypothesis. if 11 / 15 cured is undesirable\n",
    "        # then 10 / 15 cured is worse and is a stonger evidence against the null hypothesis\n",
    "        count = sum(1 for x in self.test_stats if x <= self.actual) \n",
    "        return count / iters"
   ]
  },
  {
   "cell_type": "code",
   "execution_count": 194,
   "metadata": {},
   "outputs": [
    {
     "data": {
      "text/plain": [
       "0.491"
      ]
     },
     "execution_count": 194,
     "metadata": {},
     "output_type": "execute_result"
    }
   ],
   "source": [
    "data = 1778,74346\n",
    "ct = PropChiTest(data)\n",
    "pvalue = ct.PValue()\n",
    "pvalue"
   ]
  },
  {
   "cell_type": "markdown",
   "metadata": {},
   "source": [
    "## Step 5: Is the sample result in the critical region?\n",
    "\n",
    "Now that we’ve found the p-value, we can use it to see whether the result\n",
    "from our sample falls within the critical region. If it does, then we’ll have\n",
    "sufficient evidence to reject the claims of the experts .\n",
    "\n",
    "Our critical region is the lower tail of the probability distribution, and\n",
    "we’re using a significance level of 5%. This means that we can reject the\n",
    "null hypothesis if our p-value is less that 0.05. As our p-value is 0.732, this\n",
    "means that that out of total goods imported in india 2% belong to ELECTRICAL MACHINERY AND EQUIPMENT\n",
    "does not fall within the critical region.\n",
    "\n",
    "\n",
    "## Step 6: Make your decision\n",
    "\n",
    "We’ve now reached the final step of the hypothesis test. We can decide\n",
    "whether to accept the null hypothesis, or reject it in favor of the alternative.\n",
    "\n",
    "The p-value of the hypothesis test falls just outside the critical region of\n",
    "the test. This means that there isn’t sufficient evidence to reject the null\n",
    "hypothesis. In other words:\n",
    "\n",
    "We accept the claims of the experts."
   ]
  },
  {
   "cell_type": "markdown",
   "metadata": {},
   "source": [
    "# Hypotesis Test On basis of goods exported by india\n",
    "## 1. Decide on the hypotesis\n",
    "### null hypotesis is :- experts claim that out of total goods exported by  india the  1.1% belong to NUCLEAR REACTORS, BOILERS, MACHINERY AND MECHANICAL APPLIANCES\n",
    "### Alternate hypotesis is :- more than 1.1 % belong to  NUCLEAR REACTORS, BOILERS, MACHINERY AND MECHANICAL APPLIANCES\n",
    "#### H0: p = 0.011\n",
    "#### H1: p > 0.011\n",
    "## 2. Choose the test statistics\n",
    "### If we use X to represent the amount of proucts  in the sample, this means that we can use X as our test statistic. There are 137023 products in the sample , and the probability of success was 0.011. As X follows a binomial distribution, this means that the test statistic is actually:\n",
    "### X ~ B(137023, 0.011) \n",
    "### So our test statistic is  X ~ B(137023, 0.011) \n",
    "## 3. Determine the Critical Region\n",
    "### Let’s use a significance level of 90% in our hypothesis test. if it falls within the top 90% of the critical region we will not reject null hypotesis if it fall above the 90% we will reject null hypotesis \n",
    "### α = 90%\n",
    "## In this we will use upper one - tailed test \n",
    "## 4. Finding the p- value\n",
    "## 4.1 Using Discreet Sampling"
   ]
  },
  {
   "cell_type": "code",
   "execution_count": 195,
   "metadata": {},
   "outputs": [
    {
     "data": {
      "image/png": "[encoded data removed]",
      "text/plain": [
       "<Figure size 432x288 with 1 Axes>"
      ]
     },
     "metadata": {},
     "output_type": "display_data"
    }
   ],
   "source": [
    "n4, p4 = 137023, .011  # number of trials, probability of each trial\n",
    "sample_binomial4 = np.random.binomial(n4, p4, 1000)\n",
    "binomial_cdf4 = thinkstats2.Cdf(sample_binomial4)\n",
    "thinkplot.Cdf(binomial_cdf4)\n",
    "thinkplot.axvline(1945)\n",
    "\n"
   ]
  },
  {
   "cell_type": "code",
   "execution_count": 196,
   "metadata": {},
   "outputs": [
    {
     "data": {
      "text/plain": [
       "1.0"
      ]
     },
     "execution_count": 196,
     "metadata": {},
     "output_type": "execute_result"
    }
   ],
   "source": [
    "binomial_cdf4.Prob(1945)"
   ]
  },
  {
   "cell_type": "markdown",
   "metadata": {},
   "source": [
    "## 4.2 Analytic"
   ]
  },
  {
   "cell_type": "code",
   "execution_count": 197,
   "metadata": {},
   "outputs": [
    {
     "data": {
      "text/plain": [
       "0.9999999999999999"
      ]
     },
     "execution_count": 197,
     "metadata": {},
     "output_type": "execute_result"
    }
   ],
   "source": [
    "from scipy.stats import binom\n",
    "binom.cdf(1945, n4, p4, loc=0)"
   ]
  },
  {
   "cell_type": "markdown",
   "metadata": {},
   "source": [
    "## 4.3 Chi Squared test for proportion"
   ]
  },
  {
   "cell_type": "code",
   "execution_count": 198,
   "metadata": {},
   "outputs": [],
   "source": [
    "from scipy.stats import bernoulli\n",
    "\n",
    "\n",
    "class PropChiTest(thinkstats2.HypothesisTest):\n",
    "\n",
    "    def TestStatistic(self, data):    \n",
    "        observed = data\n",
    "        n = sum(observed)\n",
    "        \n",
    "        expected = [0.011 * n, (1-0.011)*n]\n",
    "        \n",
    "        test_stat = sum((observed - np.array(expected))**2 / expected) # chi squared statistic\n",
    "        return test_stat\n",
    "\n",
    "    # generate samples under null model\n",
    "    \n",
    "    def RunModel(self): \n",
    "        observed = self.data\n",
    "        n = sum(observed)\n",
    "        \n",
    "        sample_bernoulli = bernoulli.rvs(0.011, size=n)\n",
    "        \n",
    "        sample_success = sum(sample_bernoulli)\n",
    "        sample_failure = n - sample_success\n",
    "        \n",
    "        data = sample_success, sample_failure\n",
    "        \n",
    "        return data\n",
    "\n",
    "    def PValue(self, iters=1000):\n",
    "        \"\"\"Computes the distribution of the test statistic and p-value.\n",
    "\n",
    "        iters: number of iterations\n",
    "\n",
    "        returns: float p-value\n",
    "        \"\"\"\n",
    "        self.test_stats = [self.TestStatistic(self.RunModel()) \n",
    "                           for _ in range(iters)]\n",
    "        self.test_cdf = thinkstats2.Cdf(self.test_stats)\n",
    "\n",
    "        # note >= replaced by <= since any patiends cured less than the rate in the original sample\n",
    "        # counts as evidence against the null hypothesis. if 11 / 15 cured is undesirable\n",
    "        # then 10 / 15 cured is worse and is a stonger evidence against the null hypothesis\n",
    "        count = sum(1 for x in self.test_stats if x <= self.actual) \n",
    "        return count / iters"
   ]
  },
  {
   "cell_type": "code",
   "execution_count": 199,
   "metadata": {},
   "outputs": [
    {
     "data": {
      "text/plain": [
       "1.0"
      ]
     },
     "execution_count": 199,
     "metadata": {},
     "output_type": "execute_result"
    }
   ],
   "source": [
    "data = 1945,135078\n",
    "ct = PropChiTest(data)\n",
    "pvalue = ct.PValue()\n",
    "pvalue"
   ]
  },
  {
   "cell_type": "markdown",
   "metadata": {},
   "source": [
    "## Step 5: Is the sample result in the critical region?\n",
    "\n",
    "Now that we’ve found the p-value, we can use it to see whether the result\n",
    "from our sample falls within the critical region. If it does, then we’ll have\n",
    "sufficient evidence to reject the claims of the experts .\n",
    "\n",
    "Our critical region is the lower tail of the probability distribution, and\n",
    "we’re using a significance level of 90%. This means that we can reject the\n",
    "null hypothesis if our p-value is more  than 0.9. As our p-value is 1.0, this\n",
    "means that that out of total goods imported in india 1.1% belong to NUCLEAR REACTORS, BOILERS, MACHINERY AND MECHANICAL APPLIANCES\n",
    "does not fall within the critical region.\n",
    "\n",
    "\n",
    "## Step 6: Make your decision\n",
    "\n",
    "We’ve now reached the final step of the hypothesis test. We can decide\n",
    "whether to accept the null hypothesis, or reject it in favor of the alternative.\n",
    "\n",
    "The p-value of the hypothesis test falls  inside the critical region of\n",
    "the test. This means that there is sufficient evidence to reject the null\n",
    "hypothesis. In other words:\n",
    "\n",
    "We reject the claims of the experts."
   ]
  },
  {
   "cell_type": "code",
   "execution_count": null,
   "metadata": {},
   "outputs": [],
   "source": []
  }
 ],
 "metadata": {
  "kernelspec": {
   "display_name": "Python 3",
   "language": "python",
   "name": "python3"
  },
  "language_info": {
   "codemirror_mode": {
    "name": "ipython",
    "version": 3
   },
   "file_extension": ".py",
   "mimetype": "text/x-python",
   "name": "python",
   "nbconvert_exporter": "python",
   "pygments_lexer": "ipython3",
   "version": "3.7.7"
  }
 },
 "nbformat": 4,
 "nbformat_minor": 2
}
